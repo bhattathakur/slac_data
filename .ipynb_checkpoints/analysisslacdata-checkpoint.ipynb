{
 "cells": [
  {
   "cell_type": "code",
   "execution_count": null,
   "id": "3521780c-3b3e-4297-9255-ba1320abc8d3",
   "metadata": {},
   "outputs": [],
   "source": [
    "import uproot\n",
    "import matplotlib.pyplot as plt\n",
    "import pandas as pd"
   ]
  },
  {
   "cell_type": "code",
   "execution_count": null,
   "id": "29df850c-291f-4f66-9a3b-fb89eae8214a",
   "metadata": {},
   "outputs": [],
   "source": [
    "file='Example_Bi212_pos648.5_0_-1022.6_seed1.nEXOevents.root'\n",
    "suffix=\":Event/Sim/SimEvent/SimEvent\"\n"
   ]
  },
  {
   "cell_type": "code",
   "execution_count": null,
   "id": "8b4c306e-0885-4bb5-b87c-173082550982",
   "metadata": {},
   "outputs": [],
   "source": [
    "file1=f'{file}{suffix}'\n",
    "file1"
   ]
  },
  {
   "cell_type": "code",
   "execution_count": null,
   "id": "a50e078f-588a-4fde-813b-237706eeb1ec",
   "metadata": {},
   "outputs": [],
   "source": [
    "f=uproot.open(file1)"
   ]
  },
  {
   "cell_type": "code",
   "execution_count": null,
   "id": "5d14a2a5-8601-4cdb-a4e6-d5fbb4bc3eb5",
   "metadata": {},
   "outputs": [],
   "source": [
    "f.values()"
   ]
  },
  {
   "cell_type": "code",
   "execution_count": null,
   "id": "817e3252-d786-48d8-a2c0-f38955f13810",
   "metadata": {},
   "outputs": [],
   "source": [
    "f.keys()"
   ]
  },
  {
   "cell_type": "code",
   "execution_count": null,
   "id": "35c9f380-dc02-41f7-86a4-fbdfc033c668",
   "metadata": {},
   "outputs": [],
   "source": [
    "req_list=f.keys()[4:]\n",
    "req_list"
   ]
  },
  {
   "cell_type": "code",
   "execution_count": null,
   "id": "6c884c01-2e2b-470f-986e-373209f14452",
   "metadata": {},
   "outputs": [],
   "source": [
    "df=f.arrays(req_list,library='pd')\n",
    "df.head()"
   ]
  },
  {
   "cell_type": "code",
   "execution_count": null,
   "id": "5714a24f-2f5d-4db3-8a7a-83cc63c3f6cd",
   "metadata": {},
   "outputs": [],
   "source": [
    "df.columns"
   ]
  },
  {
   "cell_type": "code",
   "execution_count": null,
   "id": "1bd83152-bd71-4f28-9c48-26892259f5bb",
   "metadata": {},
   "outputs": [],
   "source": [
    "#coordinates of event vertex\n",
    "gen=['fGenX','fGenY','fGenZ']\n",
    "df[gen]\n"
   ]
  },
  {
   "cell_type": "code",
   "execution_count": null,
   "id": "2bf8fe23-8f63-421f-ab07-4c0c2845cd05",
   "metadata": {},
   "outputs": [],
   "source": [
    "fig = plt.figure(figsize=(20,15))\n",
    "ax = fig.add_subplot(projection='3d')\n",
    "ax.scatter(df['fGenX'],df['fGenY'],df['fGenZ'],color='r')\n",
    "ax.set_xlabel('fGenX');ax.set_ylabel('fGenY');ax.set_zlabel('fGenZ')\n",
    "plt.show()"
   ]
  },
  {
   "cell_type": "code",
   "execution_count": null,
   "id": "2bc11663-1f75-4096-b459-535a5d7106fe",
   "metadata": {},
   "outputs": [],
   "source": [
    "df['fGenParticleID'].value_counts()#.dropna().value_counts()"
   ]
  },
  {
   "cell_type": "code",
   "execution_count": null,
   "id": "356e006e-39f0-4394-903c-353aed08deee",
   "metadata": {},
   "outputs": [],
   "source": [
    "df['fGenParticleID'].to_list()"
   ]
  },
  {
   "cell_type": "code",
   "execution_count": null,
   "id": "5e83e220-e45c-4893-84a7-a01a2ff2d3c9",
   "metadata": {},
   "outputs": [],
   "source": [
    "df['fGenParticleID'].unique"
   ]
  },
  {
   "cell_type": "code",
   "execution_count": null,
   "id": "9e5ccdc2-8cd8-401a-b903-1498296d29cb",
   "metadata": {},
   "outputs": [],
   "source": [
    "from collections import Counter\n",
    "from  itertools import chain\n",
    "df_genparticle=pd.Series(Counter(chain(df.fGenParticleID)))\n",
    "dfgen=df_genparticle.to_frame()\n",
    "#dfgen=dfgen.rename(columns=['count'])\n",
    "#df_genparticle.rename(columns=['iso','count'])\n",
    "dfgen.columns=['num'];#dfgen.index='iso'"
   ]
  },
  {
   "cell_type": "code",
   "execution_count": null,
   "id": "2d8f6022-2635-4e7f-8e5e-e4c26b549695",
   "metadata": {},
   "outputs": [],
   "source": [
    "dfgen.plot(kind='bar')"
   ]
  },
  {
   "cell_type": "code",
   "execution_count": null,
   "id": "4f0fa438-b2c0-4af4-a1af-b72eeb8ecfc0",
   "metadata": {},
   "outputs": [],
   "source": []
  },
  {
   "cell_type": "code",
   "execution_count": null,
   "id": "c6caea3a-c96d-4649-a75c-e86828588c35",
   "metadata": {},
   "outputs": [],
   "source": [
    "selection='fXpos'\n",
    "x=df[selection]\n",
    "for y in x:\n",
    "    print(f\"length of y[0] {len(y[0])}\")\n",
    "    print(f\"y[0] values {y[0]}\")\n"
   ]
  },
  {
   "cell_type": "code",
   "execution_count": null,
   "id": "6808eabe-78d0-4e00-b5bb-9aee1316de49",
   "metadata": {},
   "outputs": [],
   "source": [
    "selection='fYpos'\n",
    "y=df[selection]\n",
    "y"
   ]
  },
  {
   "cell_type": "code",
   "execution_count": null,
   "id": "608426f2-fa86-4d20-b273-a60deab9471e",
   "metadata": {},
   "outputs": [],
   "source": [
    "selection='fZpos'\n",
    "z=df[selection]\n",
    "z"
   ]
  },
  {
   "cell_type": "code",
   "execution_count": null,
   "id": "3863bb44-9539-45c5-a86e-8857f654563b",
   "metadata": {},
   "outputs": [],
   "source": []
  },
  {
   "cell_type": "code",
   "execution_count": null,
   "id": "446da45f-1049-44b2-b7df-89d125f26f12",
   "metadata": {},
   "outputs": [],
   "source": []
  }
 ],
 "metadata": {
  "kernelspec": {
   "display_name": "Python 3 (ipykernel)",
   "language": "python",
   "name": "python3"
  },
  "language_info": {
   "codemirror_mode": {
    "name": "ipython",
    "version": 3
   },
   "file_extension": ".py",
   "mimetype": "text/x-python",
   "name": "python",
   "nbconvert_exporter": "python",
   "pygments_lexer": "ipython3",
   "version": "3.10.6"
  }
 },
 "nbformat": 4,
 "nbformat_minor": 5
}
