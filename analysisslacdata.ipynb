{
 "cells": [
  {
   "cell_type": "code",
   "execution_count": null,
   "id": "3521780c-3b3e-4297-9255-ba1320abc8d3",
   "metadata": {},
   "outputs": [],
   "source": [
    "import uproot\n",
    "import matplotlib.pyplot as plt\n",
    "import pandas as pd\n",
    "import numpy as np\n",
    "from matplotlib import rcParams\n",
    "import seaborn as sns\n",
    "import scienceplots\n",
    "sns.set(font_scale=1.0)\n",
    "sns.set_style('white')\n",
    "#plt.style.use('fivethirtyeight') # fivethirtyeight is name of styl\n",
    "#plt.style.use(['science','no-latex'])\n",
    "#comparing the result in this presentation slide 4\n",
    "#https://docs.google.com/presentation/d/14KgpLBpJwNQH5tjEczl9tPkInSiKkJtjgqBPWSyoXok/edit#slide=id.g1b79411b324_0_80"
   ]
  },
  {
   "cell_type": "code",
   "execution_count": null,
   "id": "c89201de-ecd6-47f1-bee1-2c3f708e1a4d",
   "metadata": {},
   "outputs": [],
   "source": [
    "rcParams.update({'figure.autolayout':True})\n",
    "rcParams.update({'figure.figsize':[12,8]})\n",
    "plt.rcParams['legend.fontsize'] = 12"
   ]
  },
  {
   "cell_type": "markdown",
   "id": "f11380ce-2c65-4399-ad69-101d7b9c7f09",
   "metadata": {},
   "source": [
    "# HELPER FUNCTION"
   ]
  },
  {
   "cell_type": "code",
   "execution_count": null,
   "id": "c3e52e79-8fcb-4d3b-ad29-0e6c91db178f",
   "metadata": {},
   "outputs": [],
   "source": [
    "def my_plotter(ax,ene,weight,label_value,yscale,xlabel='Energy [keV]',ylabel='Counts',iso=\"Th228\"):\n",
    "    \"\"\"\n",
    "    A helper function to make a graph\n",
    "\n",
    "    Parameters\n",
    "    ----------\n",
    "    ax : Axes\n",
    "        The axes to draw to\n",
    "\n",
    "    data1 : array\n",
    "       The x data\n",
    "\n",
    "    data2 : array\n",
    "       The y data\n",
    "\n",
    "    param_dict : dict\n",
    "       Dictionary of keyword arguments to pass to ax.plot\n",
    "\n",
    "    Returns\n",
    "    -------\n",
    "    out : list\n",
    "        list of artists added\n",
    "    \"\"\"\n",
    "    out=ax.hist(ene, bins=200, histtype=u'step', weights=weight, density=True, label=label_value)\n",
    "    ax.set_xlabel(xlabel)\n",
    "    ax.set_ylabel(ylabel)\n",
    "    ax.set_yscale(yscale)\n",
    "    ax.set_title(f\"Energy PDF for SS events  for {iso}\")\n",
    "    ax.legend()\n",
    "    \n",
    "    return out"
   ]
  },
  {
   "cell_type": "code",
   "execution_count": null,
   "id": "09d00b1e-a662-4734-aaf9-529d468224c1",
   "metadata": {},
   "outputs": [],
   "source": [
    "#input the root file and ouput the filtered dataframe\n",
    "#apply_filter='passed_z_thresh & passed_xy_thresh & (n_x_ch_abovenoise>0) & (n_y_ch_abovenoise>0) & (m_nOPCal< (1.064*m_nQ+703)) & (m_nOPCal> (0.644*m_nQ-2411)) & (~NESTBugFound) & (m_DNNvalue>0.85) & (standoff > 100)'\n",
    "\n",
    "def get_filtered(file,apply_filter,use_filter=\"True\"):\n",
    "    f=uproot.open(file+':tree')\n",
    "    df=f.arrays(f.keys(),library='pd')\n",
    "    if use_filter:return df.query(apply_filter).reset_index(drop=True)\n",
    "    return df.query('energy<3000').reset_index(drop=True)\n",
    "    \n",
    "    \n"
   ]
  },
  {
   "cell_type": "code",
   "execution_count": null,
   "id": "82aa8d04-eb5f-49e1-ae20-af0b427e43a5",
   "metadata": {},
   "outputs": [],
   "source": [
    "# returns the plot for the isotopes in the given dataframe \n",
    "def plot_isotopes(df,df_label=\"PX\",scale_kind=\"log\"):\n",
    "    #isotopes=df.isotope.unique()\n",
    "    ra224_df=df.query('isotope==1')\n",
    "    pb212_df=df.query('isotope==2')\n",
    "    bi212_df=df.query('isotope==3')\n",
    "    tl208_df=df.query('isotope==4')\n",
    "    \n",
    "    ra224_energy,ra224_weight=ra224_df.energy,ra224_df.weight\n",
    "    pb212_energy,pb212_weight=pb212_df.energy,pb212_df.weight\n",
    "    bi212_energy,bi212_weight=bi212_df.energy,bi212_df.weight\n",
    "    tl208_energy,tl208_weight=tl208_df.energy,tl208_df.weight\n",
    "    \n",
    "    fig, ax = plt.subplots(1, 1,figsize=(6,4))\n",
    "    my_plotter(ax,ra224_energy,ra224_weight,df_label+\" Ra224\",scale_kind)\n",
    "    my_plotter(ax,pb212_energy,pb212_weight,df_label+\" Pb212\",scale_kind)\n",
    "    my_plotter(ax,bi212_energy,bi212_weight,df_label+\" Bi212\",scale_kind)\n",
    "    my_plotter(ax,tl208_energy,tl208_weight,df_label+\" Tl208\",scale_kind)\n",
    "    plt.show()\n",
    "    "
   ]
  },
  {
   "cell_type": "markdown",
   "id": "e87e8911-355b-46fb-94f2-c9cae2985c69",
   "metadata": {},
   "source": [
    "# ROOT DATA FILES"
   ]
  },
  {
   "cell_type": "code",
   "execution_count": null,
   "id": "362f7a5a-ce66-4a8a-91d8-bbccd2c54656",
   "metadata": {},
   "outputs": [],
   "source": [
    "#give the name of rootfile\n",
    "#th228_px='/home/thakur/slac_data/PXE05M/PXE05M_Th228_pos648.5_0_-1022.6.root'\n",
    "th228_all='/home/thakur/slac_data/th228/th228_Th228_all.root'\n",
    "#th228_all='/home/thakur/slac_data/v3th228/v3th228_Th228_all.root'\n",
    "# th228_nx='/home/thakur/slac_data/NX1M/NX1M_Th228_pos-648.5_0_-1022.6.root'\n",
    "# th228_py='/home/thakur/slac_data/PY1M/PY1M_Th228_pos0_648.5_-1022.6.root'\n",
    "# th228_ny='/home/thakur/slac_data/NY1M/NY1M_Th228_pos0_-648.5_-1022.6.root'\n",
    "# th228_pz='/home/thakur/slac_data/PZ1M/PZ1M_Th228_pos0_0_-299.1245.root'\n",
    "# th228_nz='/home/thakur/slac_data/NZ1M/NZ1M_Th228_pos0_0_-1746.0755.root'"
   ]
  },
  {
   "cell_type": "markdown",
   "id": "c17de0ad-d709-4a4d-a0fa-6245c1399b97",
   "metadata": {},
   "source": [
    "# WITHOUT FILTER"
   ]
  },
  {
   "cell_type": "code",
   "execution_count": null,
   "id": "4c66e51f-311e-4c61-a0a1-9c222303e097",
   "metadata": {},
   "outputs": [],
   "source": [
    "non_filtered_th228=get_filtered(th228_all,dec102020_filter,use_filter=False)\n",
    "# non_filtered_th228_nx=get_filtered(th228_nx,dec102020_filter,use_filter=False)\n",
    "# non_filtered_th228_py=get_filtered(th228_py,dec102020_filter,use_filter=False)\n",
    "# non_filtered_th228_ny=get_filtered(th228_ny,dec102020_filter,use_filter=False)\n",
    "# non_filtered_th228_pz=get_filtered(th228_pz,dec102020_filter,use_filter=False)\n",
    "# non_filtered_th228_nz=get_filtered(th228_nz,dec102020_filter,use_filter=False)\n",
    "non_filtered_th228"
   ]
  },
  {
   "cell_type": "code",
   "execution_count": null,
   "id": "57852bdb-c4c6-4f96-8478-79773b384491",
   "metadata": {},
   "outputs": [],
   "source": [
    "non_filtered_th228.head()"
   ]
  },
  {
   "cell_type": "code",
   "execution_count": null,
   "id": "a3b5df33-8765-411f-bc1a-a5bc459760f1",
   "metadata": {},
   "outputs": [],
   "source": [
    "non_filtered_th228.columns"
   ]
  },
  {
   "cell_type": "markdown",
   "id": "477e3eda-e0a5-482a-8022-7a8f61c37b93",
   "metadata": {},
   "source": [
    "# FILTER"
   ]
  },
  {
   "cell_type": "code",
   "execution_count": null,
   "id": "4929dd3a-e7a8-4f68-b02b-572d063be2a0",
   "metadata": {},
   "outputs": [],
   "source": [
    "#input the root file and ouput the filtered dataframe\n",
    "#apply_filter='passed_z_thresh & passed_xy_thresh & (n_x_ch_abovenoise>0) & (n_y_ch_abovenoise>0) & (m_nOPCal< (1.064*m_nQ+703)) & (m_nOPCal> (0.644*m_nQ-2411)) & (~NESTBugFound) & (m_DNNvalue>0.85) & (standoff > 100)'\n",
    "\n",
    "\n",
    "dec102020_filter='(standoff>100) & passed_xy_thresh & passed_z_thresh & (n_x_ch_abovenoise > 0) & (n_y_ch_abovenoise > 0) & (m_nOPCal < (1.077 * m_nQ + 313)) & (m_nOPCal > (0.597 * m_nQ - 216)) & ~NESTBugFound & ~NearAnodeBugFound & m_DNNvalue>0.85'\n",
    "jason_filter='''\n",
    "(standoff>100) &\\\n",
    "m_DNNvalue>0.85 &\\\n",
    "passed_xy_thresh &\\\n",
    "passed_z_thresh &\\\n",
    "(n_x_ch_abovenoise > 0) &\\\n",
    "(n_y_ch_abovenoise > 0) &\\\n",
    "(m_nOPCal < (1.077 * m_nQ + 313)) &\\\n",
    "(m_nOPCal > (0.597 * m_nQ - 216))&\\\n",
    "(abs(energy-2614)<10)\n",
    "'''\n",
    "# & ~NESTBugFound & ~NearAnodeBugFound' & (abs(energy-2614)<10)'''\n"
   ]
  },
  {
   "cell_type": "code",
   "execution_count": null,
   "id": "4f22b9cb-ec86-4d59-a095-84f88788d781",
   "metadata": {},
   "outputs": [],
   "source": [
    " #this is the filter used by jason\n",
    "check=(\n",
    "(non_filtered_th228['standoff']>100)\\\n",
    "& (non_filtered_th228['m_DNNvalue']>0.850)\\\n",
    "& (non_filtered_th228['n_x_ch_abovenoise']>0)\\\n",
    "& (non_filtered_th228['n_y_ch_abovenoise']>0)\\\n",
    "& (non_filtered_th228['passed_xy_thresh']==1)\\\n",
    "& (non_filtered_th228['passed_z_thresh']==1)\\\n",
    "& (non_filtered_th228['m_nOPCal']<(1.077*non_filtered_th228['m_nQ']+313))\\\n",
    "& (non_filtered_th228['m_nOPCal']>(0.597*non_filtered_th228['m_nQ']-216))\\\n",
    "& (abs(non_filtered_th228['energy']-2614)<10)\n",
    "  )"
   ]
  },
  {
   "cell_type": "code",
   "execution_count": null,
   "id": "238bf632-cfbd-4a7d-967a-7149719aec77",
   "metadata": {},
   "outputs": [],
   "source": [
    "non_filtered_th228_filtered=non_filtered_th228[check]\n",
    "non_filtered_th228_filtered"
   ]
  },
  {
   "cell_type": "code",
   "execution_count": null,
   "id": "93610a55-80d4-4902-8e98-3d5e4d795833",
   "metadata": {},
   "outputs": [],
   "source": [
    "#total events in g4 tree without application of any cuts\n",
    "events_in_g4tree=non_filtered_th228.shape[0]\n",
    "events_in_g4tree"
   ]
  },
  {
   "cell_type": "markdown",
   "id": "a7f87f65-2190-4ae0-8439-50d77e635dd1",
   "metadata": {},
   "source": [
    "# $\\alpha$, $\\gamma$ and $A$\n",
    "$ \\alpha = \\frac{\\text{events in g4tree}}{\\text{total number of simulations}} $\n",
    "- Need to track the empty root files for some lower rate isotopes\n"
   ]
  },
  {
   "cell_type": "markdown",
   "id": "aa499f27-f99b-47b7-bc22-b755168f4dcb",
   "metadata": {},
   "source": [
    "$ R(A)= \\gamma A (1+\\alpha A t ) e^{-\\alpha A t}$\n",
    "- $\\alpha $ ratio of good events\n",
    "- $\\gamma$ SS events\n",
    "- t electron life time ($10e3$)"
   ]
  },
  {
   "cell_type": "markdown",
   "id": "14834c5a-b53f-4001-b6ff-6a55cf5741f8",
   "metadata": {},
   "source": [
    "$ A=\\frac{1+\\sqrt{5}}{2\\times \\alpha \\times t}=\\frac{1.618}{\\alpha \\times t}$"
   ]
  },
  {
   "cell_type": "code",
   "execution_count": null,
   "id": "12be059a-0fac-4215-ba6a-9bfe1b50cc65",
   "metadata": {},
   "outputs": [],
   "source": [
    "t=10e3\n",
    "#good_files=174;events_per_file=20_000\n",
    "total_simulations=1000_000\n",
    "#total_simulations=good_files*events_per_file\n",
    "print(f\"Events in g4tree : {events_in_g4tree:.3f}\")\n",
    "print(f\"Total simulations: {total_simulations:.3f}\")\n",
    "\n",
    "alpha=events_in_g4tree/total_simulations\n",
    "A=1.618/(alpha*t)\n",
    "\n",
    "print(f\"Alpha            : {alpha:.3f}\")\n",
    "print(f\"A                : {A:.3f}\")"
   ]
  },
  {
   "cell_type": "code",
   "execution_count": null,
   "id": "40c6beaa-5203-489b-827f-fb11918aadd9",
   "metadata": {},
   "outputs": [],
   "source": [
    "#unique isotopes\n",
    "list_iso=non_filtered_th228.isotope.unique()\n",
    "list_iso\n"
   ]
  },
  {
   "cell_type": "code",
   "execution_count": null,
   "id": "3726d58e-6990-4f6f-8d1e-0433305acaac",
   "metadata": {},
   "outputs": [],
   "source": [
    "#number of individual isotopes in the g4 tree without any application of cuts\n",
    "non_iso=non_filtered_th228.isotope.value_counts().to_list()[::-1]\n",
    "non_iso"
   ]
  },
  {
   "cell_type": "code",
   "execution_count": null,
   "id": "4157059d-c1b1-4a80-8554-1cfbf823b8e7",
   "metadata": {},
   "outputs": [],
   "source": [
    "isotopes=['Th228','Ra224','Pb212','Bi212','Tl208']\n",
    "isotopes"
   ]
  },
  {
   "cell_type": "code",
   "execution_count": null,
   "id": "197378df-37db-4ecc-8c53-5025f4d8fbbd",
   "metadata": {},
   "outputs": [],
   "source": [
    "#isotope coutns before the cut\n",
    "raw_counts_df=pd.DataFrame(non_filtered_th228.isotope.value_counts().reset_index().values,columns=['isonum','raw_counts'])\\\n",
    ".sort_values(by=['isonum'])\\\n",
    ".reset_index(drop=True)\n",
    "\n",
    "raw_counts_df[\"isotopes\"]=raw_counts_df.isonum.apply(lambda x:isotopes[x-1])\n",
    "raw_counts_df=raw_counts_df[['isonum','isotopes','raw_counts']]\n",
    "#raw_counts.index=raw_counts.isotopes\n",
    "#print(raw_counts.to_string())\n",
    "raw_counts_df"
   ]
  },
  {
   "cell_type": "code",
   "execution_count": null,
   "id": "5d6758cc-fd93-449a-b6c2-83bc25341e02",
   "metadata": {},
   "outputs": [],
   "source": [
    "# this information is taken from jaons's slide 5 (https://docs.google.com/presentation/d/14KgpLBpJwNQH5tjEczl9tPkInSiKkJtjgqBPWSyoXok/edit#slide=id.p)\n",
    "jason_deposited=[0,27,238,7352,192258]"
   ]
  },
  {
   "cell_type": "code",
   "execution_count": null,
   "id": "b7fbfdce-28ec-41ed-9803-f124efed994c",
   "metadata": {},
   "outputs": [],
   "source": [
    "df_deposited=pd.DataFrame({\"my_result\":non_iso,\"jason's_result\":jason_deposited},index=isotopes)"
   ]
  },
  {
   "cell_type": "code",
   "execution_count": null,
   "id": "0762bb96-13af-4007-8989-f0a9f0228e75",
   "metadata": {},
   "outputs": [],
   "source": [
    "df_deposited"
   ]
  },
  {
   "cell_type": "markdown",
   "id": "f135113d-6f25-4e1d-9b7c-5d5afabba96e",
   "metadata": {},
   "source": [
    "# Deposited number of isotopes agree"
   ]
  },
  {
   "cell_type": "code",
   "execution_count": null,
   "id": "fa697fb0-6aff-4b65-82db-0ab88f668a0d",
   "metadata": {},
   "outputs": [],
   "source": [
    "skipEThreshold=100\n",
    "plt.figure(figsize=(6,4))\n",
    "ax=df_deposited.plot.bar()\n",
    "for c in ax.containers:\n",
    "    # set the bar label\n",
    "    ax.bar_label(c, fmt='%.0f', label_type='edge')\n",
    "plt.xlabel('ISOTOPES')\n",
    "plt.title(f'Isotope counts in g4tree for 1M Th228 at all positions for skipEThreshold: {skipEThreshold} keV')\n",
    "plt.ylabel('COUNTS')\n",
    "plt.yscale('log')\n",
    "#plt.savefig(f'g4tree_isotopes_bothskipEThreshold: {skipEThreshold}.pdf')\n",
    "plt.show()"
   ]
  },
  {
   "cell_type": "code",
   "execution_count": null,
   "id": "680a51fa-08c4-4715-9b03-62f3a244bc1d",
   "metadata": {},
   "outputs": [],
   "source": [
    "iso_br=[1,1,1,1,0.3594] #branching ratios of Th228 to other isotopes\n"
   ]
  },
  {
   "cell_type": "code",
   "execution_count": null,
   "id": "f067142d-9537-475f-86db-398131c3c5a2",
   "metadata": {},
   "outputs": [],
   "source": [
    "iso_product=[a*b for a,b in zip(non_iso,iso_br)]\n",
    "sum(iso_product)"
   ]
  },
  {
   "cell_type": "code",
   "execution_count": null,
   "id": "5c7b0617-7188-4839-8749-4ec23822f74f",
   "metadata": {},
   "outputs": [],
   "source": [
    "#number of isotope counts in the cut result\n",
    "#after check cut above\n",
    "df_check_cut=non_filtered_th228[check]\n",
    "df_check_cut"
   ]
  },
  {
   "cell_type": "code",
   "execution_count": null,
   "id": "a8c8ed0f-a85c-408a-b9e6-2d5d9031a599",
   "metadata": {},
   "outputs": [],
   "source": [
    "#same result with query function\n",
    "df_check_query=non_filtered_th228.query(jason_filter)\n",
    "df_check_query"
   ]
  },
  {
   "cell_type": "code",
   "execution_count": null,
   "id": "230cdead-b736-4c9c-843e-e9bba805225a",
   "metadata": {},
   "outputs": [],
   "source": [
    "#good (Tl208 2.6 MeV) isotopes counts\n",
    "df_check_cut.isotope.value_counts()"
   ]
  },
  {
   "cell_type": "code",
   "execution_count": null,
   "id": "6505a640-a4f7-471d-8e03-d5e697999d7c",
   "metadata": {},
   "outputs": [],
   "source": [
    "#good counts dataframe\n",
    "#isotope coutns before the cut\n",
    "good_counts_df=pd.DataFrame(df_check_cut.isotope.value_counts().reset_index().values,columns=['isonum','good_counts'])\\\n",
    ".sort_values(by=['isonum'])\\\n",
    ".reset_index(drop=True)\n",
    "\n",
    "good_counts_df[\"isotopes\"]=good_counts_df.isonum.apply(lambda x:isotopes[x-1])\n",
    "good_counts_df=good_counts_df[['isonum','isotopes','good_counts']]\n",
    "#raw_counts.index=raw_counts.isotopes\n",
    "#print(raw_counts.to_string())\n",
    "good_counts_df"
   ]
  },
  {
   "cell_type": "code",
   "execution_count": null,
   "id": "a8b8d5f0-d213-426c-b595-98d124e31d55",
   "metadata": {},
   "outputs": [],
   "source": [
    "#combining raw and good counts daa frames\n",
    "combined_counts_df=raw_counts_df.merge(good_counts_df,how='left')\n",
    "combined_counts_df=combined_counts_df[['isotopes','raw_counts','good_counts']]\n",
    "combined_counts_df"
   ]
  },
  {
   "cell_type": "code",
   "execution_count": null,
   "id": "ada700cc-1f97-4339-9424-a2d37750337a",
   "metadata": {},
   "outputs": [],
   "source": [
    "sim_num=1000_000\n",
    "combined_counts_df.insert(loc=1,column=\"sim_events\",value=5*[sim_num])\n",
    "combined_counts_df"
   ]
  },
  {
   "cell_type": "code",
   "execution_count": null,
   "id": "b18dca17-ec97-4548-9563-42ae9f4a977f",
   "metadata": {},
   "outputs": [],
   "source": [
    "#adding alpha columns\n",
    "#alpha=events_in_g4tree/total_simulations\n",
    "combined_counts_df['alpha']=combined_counts_df['raw_counts']/combined_counts_df['sim_events']\n",
    "combined_counts_df"
   ]
  },
  {
   "cell_type": "code",
   "execution_count": null,
   "id": "14cbf239-5e4c-441c-bdae-e872f543f1e6",
   "metadata": {},
   "outputs": [],
   "source": [
    "#adding gamma column\n",
    "#gamma is the good_counts or ss events to the total simulations\n",
    "combined_counts_df['gamma']=combined_counts_df['good_counts']/combined_counts_df['sim_events']\n",
    "combined_counts_df"
   ]
  },
  {
   "cell_type": "code",
   "execution_count": null,
   "id": "4089bfd9-0362-4dc2-8f60-cca47916deae",
   "metadata": {},
   "outputs": [],
   "source": [
    "#adding branching ratio\n",
    "combined_counts_df['branching_ratio']=iso_br\n",
    "combined_counts_df.fillna(0,inplace=True)          #replacing NaN with 0\n",
    "combined_counts_df "
   ]
  },
  {
   "cell_type": "code",
   "execution_count": null,
   "id": "70c0d002-0d3d-4eea-bb4f-bf18c621f81f",
   "metadata": {},
   "outputs": [],
   "source": [
    "#zip and sum and adding a new row\n",
    "raw_br=sum([a*b for a,b in zip(combined_counts_df.raw_counts,combined_counts_df.branching_ratio)])\n",
    "good_br=sum([a*b for a,b in zip(combined_counts_df.good_counts,combined_counts_df.branching_ratio)])\n",
    "alpha_br=sum([a*b for a,b in zip(combined_counts_df.alpha,combined_counts_df.branching_ratio)])\n",
    "gamma_br=sum([a*b for a,b in zip(combined_counts_df.gamma,combined_counts_df.branching_ratio)])\n",
    "\n",
    "#adding a row\n",
    "combined_counts_df.loc[len(combined_counts_df.index)]=['Th228_Chain',1000000,raw_br,good_br,alpha_br,gamma_br,1]"
   ]
  },
  {
   "cell_type": "code",
   "execution_count": null,
   "id": "2d3d5675-17ba-40b1-81ce-e7c3181755f5",
   "metadata": {},
   "outputs": [],
   "source": [
    "#final table\n",
    "combined_counts_df.rename(columns={\"isotopes\":\"sources\",\"raw_counts\":\"deposited\"},inplace=True)\n",
    "combined_counts_df"
   ]
  },
  {
   "cell_type": "code",
   "execution_count": null,
   "id": "db5d5e95-6772-4ad3-9913-9132b5dea5e8",
   "metadata": {},
   "outputs": [],
   "source": [
    "print(f\"\"\"\n",
    "=================================== SUMMARY TABLE =======================================\n",
    "\n",
    "{combined_counts_df.to_string()}\n",
    "\n",
    "=========================================================================================\n",
    "\"\"\")"
   ]
  },
  {
   "cell_type": "markdown",
   "id": "ad711508-b88b-48bf-8a9a-e47605eb129c",
   "metadata": {},
   "source": [
    "# Rate Estimation"
   ]
  },
  {
   "cell_type": "code",
   "execution_count": null,
   "id": "daf71b8d-3a0b-4a20-b257-4cc7e77dfdea",
   "metadata": {},
   "outputs": [],
   "source": [
    "#for Th228_Chain\n",
    "# alpha=alpha_br;gamma=gamma_br;t=10e3;\n",
    "# alpha=0.0767\n",
    "# gamma=3.3e-5\n",
    "gamma=1.99e-5\n",
    "alpha=4.63e-1\n",
    "t=1e-3\n",
    "A=1.618/(alpha*t)\n",
    "\n",
    "print(f\"\"\"\n",
    "alpha: {alpha:e}\n",
    "gamma: {gamma:e}\n",
    "t    : {t:e}\n",
    "A    : {A:e}\n",
    "       \"\"\")"
   ]
  },
  {
   "cell_type": "code",
   "execution_count": null,
   "id": "4236a936-56e6-4878-b741-51edc600032f",
   "metadata": {},
   "outputs": [],
   "source": [
    "# import numpy as np\n",
    "# (1+numpy.sqrt(5))/(2*alpha*t)"
   ]
  },
  {
   "cell_type": "markdown",
   "id": "4d0df5d6-f5cd-40bc-b53c-95df25625e3f",
   "metadata": {},
   "source": [
    "$ R(A)= \\gamma A (1+\\alpha A t ) e^{-\\alpha A t}$\n",
    "- $\\alpha $ ratio of good events\n",
    "- $\\gamma$ SS events\n",
    "- t electron life time ($10e3$)"
   ]
  },
  {
   "cell_type": "code",
   "execution_count": null,
   "id": "cfcc495e-9a44-4f51-8ea0-6150fe34f8db",
   "metadata": {},
   "outputs": [],
   "source": [
    "# #R(A) calculaitons\n",
    "# import math\n",
    "# R_A=gamma*A*(1+alpha*A*t)*math.exp(-alpha*A*t)\n",
    "# print(f\"R_A: {R_A}\")"
   ]
  },
  {
   "cell_type": "code",
   "execution_count": null,
   "id": "927533da-98f0-42b6-ba5a-73612027fb7e",
   "metadata": {},
   "outputs": [],
   "source": [
    "# #R(A) calculaitons\n",
    "# import math\n",
    "# def get_R_A(A):\n",
    "#     R=gamma*A*(1+alpha*A*t)*math.exp(-alpha*A*t)\n",
    "#     if R<R_A:print(\"less!\")\n",
    "#     else:print(f\"R_A: {R}\")"
   ]
  },
  {
   "cell_type": "code",
   "execution_count": null,
   "id": "8fc28696-9332-4215-ab61-fa10ed35f6f9",
   "metadata": {},
   "outputs": [],
   "source": [
    "# x=np.arange(500)\n",
    "# for i in x:\n",
    "#     get_R_A(i)\n",
    "#\n",
    "#t=10e3/1000\n",
    "t=1e-3 # the electron lifetime in simulation is 10^4 us\n",
    "#t1=1e-2\n",
    "alpha=0.0767\n",
    "gamma=3.3e-5\n",
    "# alpha=0.069\n",
    "# gamma=1.29e-7\n",
    "#x=np.arange(50)  #x in kBq\n",
    "A_min=1.618/(alpha*t)\n",
    "\n",
    "A_optimal=(1+np.sqrt(5))/(2*alpha*t)     \n",
    "\n",
    "\n",
    "print(f\"Optimal source strength : {A_optimal/1000:0.2f} kBq\\n\")\n",
    "print(f\"A_min                   : {A_min/1000:0.2f} kBq\\n\")\n",
    "\n",
    "x_range_max=50\n",
    "x=np.linspace(1,x_range_max,5000)\n",
    "#y=[gamma*i*(1+alpha*i*t)*np.exp(-alpha*i*t) for i in x*1000]\n",
    "y=np.array([gamma*i*np.exp(-alpha*i*t) for i in x*1000])#x is multiplied by 1000 to change to Bq\n",
    "#y_max=np.max(y)\n",
    "arg_y_max=np.argmax(y)\n",
    "arg_y_min=np.argmin(y)\n",
    "\n",
    "y_max=y[arg_y_max]\n",
    "y_min=y[arg_y_min]\n",
    "\n",
    "# print(f\"A_min                   : {A_min:0.2f}\")\n",
    "# print(f\"A_max_index             : {arg_max:0.2f}\")\n",
    "# print(f\"A_max                   : {y_max:0.2f}\")\n",
    "# print(f\"Min_rate                : {y[arg_y_min]:0.2f} Hz ({y[arg_max]*60:0.2f} Evetns/min)\")\n",
    "#print(f\"Activity for Max Rate   : {x[arg_max]:0.2f} kBq\\n\")\n",
    "print(f\"Max_rate                : {y_max:0.2f} Hz ({y_max*60:0.1f} Evetns/min)\")\n",
    "print(f\"Activity for Max Rate   : {x[arg_y_max]:0.2f} kBq\\n\")\n",
    "\n",
    "#plt.axvline(x=A,color='r',linestyle='--')\n",
    "plt.xlabel('Activity [kBq]')\n",
    "plt.ylabel('Rate [Hz]')\n",
    "plt.grid()\n",
    "plt.plot(x,y)\n",
    "plt.show()"
   ]
  },
  {
   "cell_type": "markdown",
   "id": "565152c9-777d-489d-b80d-6b6152e855f3",
   "metadata": {},
   "source": [
    "# [plot on the slide 1/16](https://nexowiki.llnl.gov/images/d/dd/171212-extcal-calib.pdf)"
   ]
  },
  {
   "cell_type": "code",
   "execution_count": null,
   "id": "5c9624c7-d8f7-4dce-aa9e-69dbd680345a",
   "metadata": {},
   "outputs": [],
   "source": [
    "\n",
    "#t=10e3/1000\n",
    "t=1e-3 # the electron lifetime in simulation is 10^4 us\n",
    "alpha=4.63e-1\n",
    "beta=2.10e-2\n",
    "gamma=1.99e-5\n",
    "\n",
    "\n",
    "# A_optimal=(1+np.sqrt(5))/(2*alpha*t)\n",
    "\n",
    "\n",
    "# print(f\"Optimal source strength : {A_optimal:0.2f} Bq\")\n",
    "\n",
    "x_range_max=10_000\n",
    "x=np.linspace(1,x_range_max,5000)                    #defination of x\n",
    "\n",
    "y1=np.array([gamma*i*np.exp(-beta*i*t) for i in x])\n",
    "\n",
    "y2=np.array([gamma*i*np.exp(-alpha*i*t) for i in x])      #x is multiplied by 1000 to change to Bq\n",
    "y3=np.array([gamma*i*(1+alpha*i*t)*np.exp(-alpha*i*t) for i in x])\n",
    "#y_max=np.max(y)\n",
    "arg_y_max=np.argmax(y)\n",
    "arg_y_min=np.argmin(y)\n",
    "\n",
    "y_max=y[arg_y_max]\n",
    "y_min=y[arg_y_min]\n",
    "\n",
    "# # print(f\"A_min                   : {A_min:0.2f}\")\n",
    "# # print(f\"A_max_index             : {arg_max:0.2f}\")\n",
    "# # print(f\"A_max                   : {y_max:0.2f}\")\n",
    "# # print(f\"Min_rate                : {y[arg_y_min]:0.2f} Hz ({y[arg_max]*60:0.2f} Evetns/min)\")\n",
    "# #print(f\"Activity for Max Rate   : {x[arg_max]:0.2f} kBq\\n\")\n",
    "# print(f\"Max_rate                : {y_max:0.5f} Hz ({y_max*60:0.3f} Evetns/min)\")\n",
    "# print(f\"Activity for Max Rate   : {x[arg_y_max]:0.3f} kBq\\n\")\n",
    "\n",
    "fig,axs=plt.subplots(2)\n",
    "\n",
    "legends=[fr'1 deep + $\\geq$ 1 deep','1 deep + $\\geq$ 1 shallow','1 deep + $\\geq$ 2 shallow']\n",
    "axs[0].plot(x,y1,'b',label=legends[0])\n",
    "axs[0].plot(x,y2,'r',label=legends[1])\n",
    "axs[0].plot(x,y3,'pink',label=legends[2])\n",
    "axs[0].set_xlabel('Activity [kBq]')\n",
    "axs[0].set_ylabel('Rate [Hz]')\n",
    "axs[0].grid()\n",
    "axs[0].legend()\n",
    "\n",
    "axs[1].plot(x,1/y1*1/60,'b',label=legends[0])\n",
    "axs[1].plot(x,1/y2*1/60,'r',label=legends[1])\n",
    "axs[1].plot(x,1/y3*1/60,'pink',label=legends[2])\n",
    "axs[1].set_xlabel('Activity [kBq]')\n",
    "axs[1].set_ylabel('Time [s]')\n",
    "axs[1].set_yscale('log')\n",
    "axs[1].grid()\n",
    "axs[1].legend()\n",
    "#plt.plot(x,1/y3)\n",
    "plt.show()"
   ]
  },
  {
   "cell_type": "code",
   "execution_count": null,
   "id": "bbd5c867-9a2a-41f6-b038-e1abdab1b0ad",
   "metadata": {},
   "outputs": [],
   "source": [
    "y1"
   ]
  },
  {
   "cell_type": "code",
   "execution_count": null,
   "id": "20f02be2-ab91-45bd-b6b8-18378636f47c",
   "metadata": {},
   "outputs": [],
   "source": [
    "1/y1"
   ]
  },
  {
   "cell_type": "code",
   "execution_count": null,
   "id": "46eb43c4-84ae-4be7-b3b7-c80128f38d58",
   "metadata": {},
   "outputs": [],
   "source": [
    "1/y1*1/60"
   ]
  },
  {
   "cell_type": "code",
   "execution_count": null,
   "id": "4e6f1387-e265-40ea-9ae5-9963d4dc6f38",
   "metadata": {},
   "outputs": [],
   "source": [
    "1/(1.98995821e-05*60)"
   ]
  },
  {
   "cell_type": "markdown",
   "id": "50a09e73-f9e3-4521-b88c-022fb3c0b345",
   "metadata": {},
   "source": [
    "# Deposited Events plot without B.R. considerations"
   ]
  },
  {
   "cell_type": "code",
   "execution_count": null,
   "id": "a61f6806-b5f2-49ff-aa74-f8b4accf2983",
   "metadata": {},
   "outputs": [],
   "source": [
    "iso=['Th228','Ra224','Pb212','Bi212','Tl208']\n",
    "col=['r','y','b','k','c']\n",
    "for i in [1,2,3,4,5]:\n",
    "    #print(non_filtered_th228_px.head())\n",
    "    df_new=non_filtered_th228[non_filtered_th228.isotope==i]\n",
    "    if df_new.empty:continue\n",
    "    #print(df_new.head())\n",
    "    px_energy=df_new.energy;\n",
    "    plt.hist(px_energy,200,density=False,histtype='step',alpha=0.95,label=iso[i-1],color=col[i-1])\n",
    "    plt.yscale('log')\n",
    "    plt.xlabel('Energy [keV]')\n",
    "    plt.ylabel('Raw count ')\n",
    "    plt.legend()\n",
    "plt.title(\"Deposited Counts vs Energy for Th228 at all positions (No B.R. consideration)\")\n",
    "plt.show()"
   ]
  },
  {
   "cell_type": "markdown",
   "id": "202a3095-d79e-4e20-95b9-79383030f97d",
   "metadata": {},
   "source": [
    "# Deposited Events plot without with B.R. considerations"
   ]
  },
  {
   "cell_type": "code",
   "execution_count": null,
   "id": "5641ea8b-92e5-492b-a996-251991de78d8",
   "metadata": {},
   "outputs": [],
   "source": [
    "iso=['Th228','Ra224','Pb212','Bi212','Tl208']\n",
    "col=['r','y','b','k','c']\n",
    "for i in [1,2,3,4,5]:\n",
    "    #print(non_filtered_th228_px.head())\n",
    "    df_new=non_filtered_th228[non_filtered_th228.isotope==i]\n",
    "    if df_new.empty:continue\n",
    "    #print(df_new.head())\n",
    "    px_energy=df_new.energy;\n",
    "    plt.hist(px_energy,200,density=False,histtype='step',weights=df_new.weight,alpha=0.95,label=iso[i-1],color=col[i-1])\n",
    "    plt.yscale('log')\n",
    "    plt.xlabel('Energy [keV]')\n",
    "    plt.ylabel('G4tree counts ')\n",
    "    plt.legend()\n",
    "plt.title(\"Deposited Counts vs Energy for Th228 at all positions (B.R. consideration)\")\n",
    "plt.show()"
   ]
  },
  {
   "cell_type": "markdown",
   "id": "843bbff1-b015-4e98-989c-c6aa80d656a6",
   "metadata": {},
   "source": [
    "# SS (GOOD EVENTS) without B.R."
   ]
  },
  {
   "cell_type": "code",
   "execution_count": null,
   "id": "82d56d5f-7119-4f15-8525-88a540cfe446",
   "metadata": {},
   "outputs": [],
   "source": [
    "iso=['Th228','Ra224','Pb212','Bi212','Tl208']\n",
    "col=['r','y','b','k','c']\n",
    "for i in [1,2,3,4,5]:\n",
    "    #print(non_filtered_th228_px.head())\n",
    "    df_new=df_check_cut[df_check_cut.isotope==i]\n",
    "    if df_new.empty:continue\n",
    "    #print(df_new.head())\n",
    "    px_energy=df_new.energy;\n",
    "    plt.hist(px_energy,20,density=False,histtype='step',alpha=0.95,label=iso[i-1],color=col[i-1])\n",
    "    plt.yscale('log')\n",
    "    plt.xlabel('Energy [keV]')\n",
    "    plt.ylabel('G4tree counts ')\n",
    "    plt.legend()\n",
    "plt.title(\"Good Counts vs Energy for Th228 at all positions (No B.R. consideration)\")\n",
    "plt.show()"
   ]
  },
  {
   "cell_type": "markdown",
   "id": "b0c90bc2-47e1-457c-a716-68dbfb202c7c",
   "metadata": {},
   "source": [
    "# SS (GOOD EVENTS) with B.R."
   ]
  },
  {
   "cell_type": "code",
   "execution_count": null,
   "id": "49c07725-1762-4421-be51-0b36e0fdd4c6",
   "metadata": {},
   "outputs": [],
   "source": [
    "iso=['Th228','Ra224','Pb212','Bi212','Tl208']\n",
    "col=['r','y','b','k','c']\n",
    "for i in [1,2,3,4,5]:\n",
    "    #print(non_filtered_th228_px.head())\n",
    "    df_new=df_check_cut[df_check_cut.isotope==i]\n",
    "    if df_new.empty:continue\n",
    "    #print(df_new.head())\n",
    "    px_energy=df_new.energy;\n",
    "    plt.hist(px_energy,5,density=False,histtype='step',weights=df_new.weight,alpha=0.95,label=iso[i-1],color=col[i-1])\n",
    "    plt.yscale('log')\n",
    "    plt.xlabel('Energy [keV]')\n",
    "    plt.ylabel('Raw count ')\n",
    "    plt.legend()\n",
    "plt.title(\"Good Counts vs Energy for Th228 at all positions (No B.R. consideration)\")\n",
    "plt.show()"
   ]
  },
  {
   "cell_type": "code",
   "execution_count": null,
   "id": "a6e1fb45-12fc-4df4-a5c8-4274d56755b2",
   "metadata": {},
   "outputs": [],
   "source": []
  },
  {
   "cell_type": "markdown",
   "id": "7ac22530-b368-4607-9ded-7a0b885348be",
   "metadata": {},
   "source": [
    "# DEC 2020 CUT"
   ]
  },
  {
   "cell_type": "code",
   "execution_count": null,
   "id": "201c4e8b-da45-4f44-8a1a-1931c1757115",
   "metadata": {},
   "outputs": [],
   "source": [
    "#filtered values\n",
    "fil_th228=get_filtered(th228_all,dec102020_filter)\n",
    "#fil_th228=get_filtered(th228_all,jason_filter)\n",
    "\n",
    "#(abs(fil_th228['energy']-2614)<10).sum()"
   ]
  },
  {
   "cell_type": "code",
   "execution_count": null,
   "id": "cddeb458-e9c0-441a-a66f-d7c268dfabd6",
   "metadata": {},
   "outputs": [],
   "source": [
    "fil_th228.isotope.value_counts()"
   ]
  },
  {
   "cell_type": "code",
   "execution_count": null,
   "id": "4a5cc027-82f3-4cd0-b5ec-d9d3c3f81a3e",
   "metadata": {},
   "outputs": [],
   "source": [
    "good_events=fil_th228.shape[0]\n",
    "print(f\"good events: {good_events}\")\n",
    "gamma=good_events/total_simulations\n",
    "print(f\"gamma: {gamma:e}\")"
   ]
  },
  {
   "cell_type": "code",
   "execution_count": null,
   "id": "277d2459-d817-4ab9-a240-2619bbd7575d",
   "metadata": {},
   "outputs": [],
   "source": [
    "px_energy,px_weight=non_filtered_th228.energy,non_filtered_th228.weight\n",
    "# nx_energy,nx_weight=non_filtered_th228_nx.energy,non_filtered_th228_nx.weight\n",
    "# py_energy,py_weight=non_filtered_th228_py.energy,non_filtered_th228_py.weight\n",
    "# ny_energy,ny_weight=non_filtered_th228_ny.energy,non_filtered_th228_ny.weight\n",
    "# pz_energy,pz_weight=non_filtered_th228_pz.energy,non_filtered_th228_pz.weight\n",
    "# nz_energy,nz_weight=non_filtered_th228_nz.energy,non_filtered_th228_nz.weight"
   ]
  },
  {
   "cell_type": "code",
   "execution_count": null,
   "id": "44e62a8f-1af4-4200-b171-aa0d5b3f2f84",
   "metadata": {},
   "outputs": [],
   "source": [
    "non_filtered_th228.head()"
   ]
  },
  {
   "cell_type": "code",
   "execution_count": null,
   "id": "8037124f-78b1-4bdb-9171-107b8ad87352",
   "metadata": {},
   "outputs": [],
   "source": [
    "px_energy.min(),px_energy.max(),len(px_energy)"
   ]
  },
  {
   "cell_type": "code",
   "execution_count": null,
   "id": "0ba9239f-cc98-40a4-8e76-fc9a60ca45a0",
   "metadata": {},
   "outputs": [],
   "source": [
    "plt.hist(px_energy,200,density=False,histtype='step',facecolor='g',alpha=0.75)\n",
    "plt.xlabel('Energy [keV]')\n",
    "plt.ylabel('Raw count ')\n",
    "plt.show()"
   ]
  },
  {
   "cell_type": "code",
   "execution_count": null,
   "id": "54b2c223-fa41-4829-9a12-bf4175a289cd",
   "metadata": {},
   "outputs": [],
   "source": [
    "#with dec2020 cut\n",
    "iso=['th228','ra224','pb212','bi212','tl208']\n",
    "col=['r','y','y','k','c']\n",
    "filtered_th228=get_filtered(th228_all,dec102020_filter)\n",
    "print(f\"Total rows: {filtered_th228.shape[0]}\")\n",
    "for i in [1,2,3,4,5]:\n",
    "    #print(non_filtered_th228_px.head())\n",
    "    df_new=filtered_th228[filtered_th228.isotope==i]\n",
    "    if df_new.empty:continue\n",
    "    #print(df_new.head())\n",
    "    px_energy=df_new.energy;weight=df_new.weight\n",
    "    plt.hist(px_energy,2037,density=False,weights=weight,histtype='step',alpha=0.95,label=iso[i-1],color=col[i-1])\n",
    "    plt.yscale('log')\n",
    "    plt.xlabel('Energy [keV]')\n",
    "    plt.ylabel('Raw count ')\n",
    "    plt.legend()\n",
    "plt.title(\"SS Energy for Th228 at all positions\")\n",
    "plt.show()"
   ]
  },
  {
   "cell_type": "code",
   "execution_count": null,
   "id": "6ad9cd07-31ee-4580-805b-4368f35bcb4b",
   "metadata": {},
   "outputs": [],
   "source": [
    "#with the filter used by Jason\n",
    "iso=['th228','ra224','pb212','bi212','tl208']\n",
    "col=['r','y','y','k','c']\n",
    "filtered_th228=get_filtered(th228_all,jason_filter)\n",
    "print(f\"Total rows: {filtered_th228.shape[0]}\")\n",
    "for i in [1,2,3,4,5]:\n",
    "    #print(non_filtered_th228_px.head())\n",
    "    df_new=filtered_th228[filtered_th228.isotope==i]\n",
    "    if df_new.empty:continue\n",
    "    #print(df_new.head())\n",
    "    px_energy=df_new.energy;weight=df_new.weight\n",
    "    plt.hist(px_energy,534,density=True,weights=weight,histtype='step',alpha=0.95,label=iso[i-1],color=col[i-1])\n",
    "    plt.yscale('log')\n",
    "    plt.xlabel('Energy [keV]')\n",
    "    plt.ylabel('Raw count ')\n",
    "    plt.legend()\n",
    "plt.title(\"SS Energy for Th228 at all positions\")\n",
    "plt.show()"
   ]
  },
  {
   "cell_type": "code",
   "execution_count": null,
   "id": "3b941f1e-8dfd-4cb0-bff6-6916ad7c8829",
   "metadata": {},
   "outputs": [],
   "source": [
    "####### ################################## STOP HERE FOR NOW"
   ]
  },
  {
   "cell_type": "code",
   "execution_count": null,
   "id": "a8899a0d-d158-449d-a1c5-5369735fdf50",
   "metadata": {},
   "outputs": [],
   "source": [
    "filtered_th228_px=get_filtered(th228_px,dec102020_filter)\n",
    "filtered_th228_px.head()\n",
    "# filtered_th228_nx=get_filtered(th228_nx,dec102020_filter)\n",
    "# filtered_th228_py=get_filtered(th228_py,dec102020_filter)\n",
    "# filtered_th228_ny=get_filtered(th228_ny,dec102020_filter)\n",
    "# filtered_th228_pz=get_filtered(th228_pz,dec102020_filter)\n",
    "# filtered_th228_nz=get_filtered(th228_nz,dec102020_filter)"
   ]
  },
  {
   "cell_type": "code",
   "execution_count": null,
   "id": "e9e8d5ab-ddde-450f-bc5f-f1945687d590",
   "metadata": {},
   "outputs": [],
   "source": [
    "# #total=10**6\n",
    "# #fig, ax = plt.subplots(1, 1,figsize=(10,6))\n",
    "# plt.plot(px_energy)\n",
    "# #my_plotter(ax,px_energy,px_weight*total,\"PX\",\"log\")\n",
    "# # my_plotter(ax,nx_energy,nx_weight,\"NX\",\"log\")\n",
    "# # my_plotter(ax,py_energy,py_weight,\"PY\",\"log\")\n",
    "# # my_plotter(ax,ny_energy,ny_weight,\"NY\",\"log\")\n",
    "# # #plt.xlim(0,5000)\n",
    "# plt.grid()\n",
    "# #plt.savefig(\"rawlogxy.pdf\")\n",
    "# plt.show()"
   ]
  },
  {
   "cell_type": "markdown",
   "id": "626f59cc-1ff9-4798-bca9-8a720448a68f",
   "metadata": {},
   "source": [
    "# WITH FILTER"
   ]
  },
  {
   "cell_type": "code",
   "execution_count": null,
   "id": "a46eb444-fa6f-4524-8224-3c003a40d1dd",
   "metadata": {},
   "outputs": [],
   "source": [
    "plot_isotopes(non_filtered_th228_px)"
   ]
  },
  {
   "cell_type": "code",
   "execution_count": null,
   "id": "2826a60a-b620-4d84-96a9-baf69ebb7054",
   "metadata": {},
   "outputs": [],
   "source": []
  },
  {
   "cell_type": "code",
   "execution_count": null,
   "id": "50daa08e-c983-4644-8005-b88ff5550ed0",
   "metadata": {},
   "outputs": [],
   "source": [
    "filtered_th228_px=get_filtered(th228_px,dec102020_filter)\n",
    "# filtered_th228_nx=get_filtered(th228_nx,dec102020_filter)\n",
    "# filtered_th228_py=get_filtered(th228_py,dec102020_filter)\n",
    "# filtered_th228_ny=get_filtered(th228_ny,dec102020_filter)\n",
    "# filtered_th228_pz=get_filtered(th228_pz,dec102020_filter)\n",
    "# filtered_th228_nz=get_filtered(th228_nz,dec102020_filter)"
   ]
  },
  {
   "cell_type": "code",
   "execution_count": null,
   "id": "aeae1886-ced7-4f2e-9281-9dac364ffc62",
   "metadata": {},
   "outputs": [],
   "source": [
    "filtered_th228_px.head()"
   ]
  },
  {
   "cell_type": "code",
   "execution_count": null,
   "id": "2f98a0ac-299d-40f3-8454-12f0407f7624",
   "metadata": {},
   "outputs": [],
   "source": [
    "choose_list=[non_filtered_th228_px]#,non_filtered_th228_nx,non_filtered_th228_py,non_filtered_th228_ny,non_filtered_th228_pz,non_filtered_th228_nz]\n",
    "for i in choose_list:\n",
    "    print(f\"{get_rows(i)}\")"
   ]
  },
  {
   "cell_type": "code",
   "execution_count": null,
   "id": "27b2d7a6-75e2-489a-979b-fea343fe4946",
   "metadata": {},
   "outputs": [],
   "source": [
    "for i in [filtered_th228_px,filtered_th228_nx,filtered_th228_py,filtered_th228_ny,filtered_th228_pz,filtered_th228_nz]:\n",
    "    print(f\"{get_rows(i)}\")"
   ]
  },
  {
   "cell_type": "code",
   "execution_count": null,
   "id": "bbdcbee0-593e-4de9-887c-2bad2c5f1f1e",
   "metadata": {},
   "outputs": [],
   "source": [
    "# for i in ['p','n']:\n",
    "#     for j in ['x','y']:\n",
    "#         df_name=f'filtered_th228_{i}{j}'\n",
    "#         print(f\"df name :{df_name}\")\n",
    "        \n",
    "# #filtered_th228_py.shape"
   ]
  },
  {
   "cell_type": "code",
   "execution_count": null,
   "id": "a8febd3d-d038-4d24-8744-b0589e44c5e9",
   "metadata": {},
   "outputs": [],
   "source": [
    "px_energy,px_weight=filtered_th228_px.energy,filtered_th228_px.weight\n",
    "# nx_energy,nx_weight=filtered_th228_nx.energy,filtered_th228_nx.weight\n",
    "# py_energy,py_weight=filtered_th228_py.energy,filtered_th228_py.weight\n",
    "# ny_energy,ny_weight=filtered_th228_ny.energy,filtered_th228_ny.weight\n",
    "# pz_energy,pz_weight=filtered_th228_pz.energy,filtered_th228_pz.weight\n",
    "# nz_energy,nz_weight=filtered_th228_nz.energy,filtered_th228_nz.weight"
   ]
  },
  {
   "cell_type": "code",
   "execution_count": null,
   "id": "4ffe4adc-2d04-41b4-8feb-6b1e3549cfd2",
   "metadata": {},
   "outputs": [],
   "source": [
    "#filtered_th228_pz.columns"
   ]
  },
  {
   "cell_type": "code",
   "execution_count": null,
   "id": "f52b1c9a-9a2f-4f8d-8b79-b48740c83fd7",
   "metadata": {},
   "outputs": [],
   "source": [
    "\n",
    "fig, ax = plt.subplots(1, 1,figsize=(10,6))\n",
    "my_plotter(ax,px_energy,px_weight,\"PX\",\"log\")\n",
    "# my_plotter(ax,nx_energy,nx_weight,\"NX\",\"log\")\n",
    "# my_plotter(ax,py_energy,py_weight,\"PY\",\"log\")\n",
    "# my_plotter(ax,ny_energy,ny_weight,\"NY\",\"log\")\n",
    "plt.grid()\n",
    "#plt.savefig(\"logxy.pdf\")\n",
    "plt.show()"
   ]
  },
  {
   "cell_type": "code",
   "execution_count": null,
   "id": "f1aa5ac2-96ab-4394-b453-d31e29388d35",
   "metadata": {},
   "outputs": [],
   "source": [
    "\n",
    "# fig, ax = plt.subplots(1, 1,figsize=(10,6))\n",
    "# my_plotter(ax,pz_energy,pz_weight,\"PZ\",\"log\")\n",
    "# my_plotter(ax,nz_energy,nz_weight,\"NZ\",\"log\")\n",
    "# plt.grid()\n",
    "# #plt.savefig(\"logz.pdf\")\n",
    "# plt.show()"
   ]
  },
  {
   "cell_type": "code",
   "execution_count": null,
   "id": "e6cf8b98-ab2c-4e06-9dcf-2d932125b1c7",
   "metadata": {},
   "outputs": [],
   "source": [
    "\n",
    "fig, ax = plt.subplots(1, 1,figsize=(10,6))\n",
    "my_plotter(ax,px_energy,px_weight,\"PX\",\"log\")\n",
    "my_plotter(ax,nx_energy,nx_weight,\"NX\",\"log\")\n",
    "my_plotter(ax,py_energy,py_weight,\"PY\",\"log\")\n",
    "my_plotter(ax,ny_energy,ny_weight,\"NY\",\"log\")\n",
    "my_plotter(ax,pz_energy,pz_weight,\"PZ\",\"log\")\n",
    "my_plotter(ax,nz_energy,nz_weight,\"NZ\",\"log\")\n",
    "plt.grid()\n",
    "plt.savefig(\"logxyz.pdf\")\n",
    "plt.show()"
   ]
  },
  {
   "cell_type": "code",
   "execution_count": null,
   "id": "a12dc294-8ca0-472b-a26f-8dc287ec8afd",
   "metadata": {},
   "outputs": [],
   "source": [
    "\n",
    "fig, ax = plt.subplots(1, 1,figsize=(10,6))\n",
    "my_plotter(ax,px_energy,px_weight,\"PX\",\"linear\")\n",
    "my_plotter(ax,nx_energy,nx_weight,\"NX\",\"linear\")\n",
    "my_plotter(ax,py_energy,py_weight,\"PY\",\"linear\")\n",
    "my_plotter(ax,ny_energy,ny_weight,\"NY\",\"linear\")\n",
    "plt.grid()\n",
    "plt.savefig(\"linearxy.pdf\")\n",
    "plt.show()"
   ]
  },
  {
   "cell_type": "code",
   "execution_count": null,
   "id": "4ee84e7f-a165-4d55-8933-a3e21d389cbe",
   "metadata": {},
   "outputs": [],
   "source": [
    "\n",
    "fig, ax = plt.subplots(1, 1,figsize=(10,6))\n",
    "my_plotter(ax,pz_energy,pz_weight,\"PZ\",\"linear\")\n",
    "my_plotter(ax,nz_energy,nz_weight,\"NZ\",\"linear\")\n",
    "plt.grid()\n",
    "plt.savefig(\"linearz.pdf\")\n",
    "plt.show()"
   ]
  },
  {
   "cell_type": "code",
   "execution_count": null,
   "id": "c3d22d2d-9740-4968-aabc-9eef508738cc",
   "metadata": {},
   "outputs": [],
   "source": [
    "scale_kind='linear'\n",
    "fig, ax = plt.subplots(1, 1,figsize=(10,6))\n",
    "my_plotter(ax,px_energy,px_weight,\"PX\",scale_kind)\n",
    "my_plotter(ax,nx_energy,nx_weight,\"NX\",scale_kind)\n",
    "my_plotter(ax,py_energy,py_weight,\"PY\",scale_kind)\n",
    "my_plotter(ax,ny_energy,ny_weight,\"NY\",scale_kind)\n",
    "my_plotter(ax,pz_energy,pz_weight,\"PZ\",scale_kind)\n",
    "my_plotter(ax,nz_energy,nz_weight,\"NZ\",scale_kind)\n",
    "plt.grid()\n",
    "plt.savefig(\"linearxyz.pdf\")\n",
    "plt.show()"
   ]
  },
  {
   "cell_type": "markdown",
   "id": "7a9c727c-69b2-474d-b919-16a8f2d48f3c",
   "metadata": {},
   "source": [
    "# ISOTOPES"
   ]
  },
  {
   "cell_type": "code",
   "execution_count": null,
   "id": "9d331e83-f831-4f6b-b4e4-09aa02811efa",
   "metadata": {},
   "outputs": [],
   "source": [
    "#unique isotopes\n",
    "filtered_th228_px.isotope.nunique()"
   ]
  },
  {
   "cell_type": "code",
   "execution_count": null,
   "id": "85152bff-d5de-449d-91cb-96ddc54771a1",
   "metadata": {},
   "outputs": [],
   "source": [
    "#value counts\n",
    "filtered_th228_px.isotope.value_counts()"
   ]
  },
  {
   "cell_type": "code",
   "execution_count": null,
   "id": "beb791a5-03e8-40ee-a67f-b411a8f5b8cc",
   "metadata": {},
   "outputs": [],
   "source": [
    "#dataframe for isotopes\n",
    "filtered_th228_px_bi212=filtered_th228_px.query('isotope==1')\n",
    "filtered_th228_px_tl208=filtered_th228_px.query('isotope==2')"
   ]
  },
  {
   "cell_type": "code",
   "execution_count": null,
   "id": "3c1225b6-fd5c-4e6c-8ae2-cffa1f5c5c68",
   "metadata": {},
   "outputs": [],
   "source": [
    "px_energy_bi212,px_weight_bi212=filtered_th228_px_bi212.energy,filtered_th228_px_bi212.weight\n",
    "px_energy_tl208,px_weight_tl208=filtered_th228_px_tl208.energy,filtered_th228_px_tl208.weight\n",
    "# nx_energy,nx_weight=filtered_th228_nx.energy,filtered_th228_nx.weight\n",
    "# py_energy,py_weight=filtered_th228_py.energy,filtered_th228_py.weight\n",
    "# ny_energy,ny_weight=filtered_th228_ny.energy,filtered_th228_ny.weight"
   ]
  },
  {
   "cell_type": "code",
   "execution_count": null,
   "id": "ec3ff980-79d8-4db9-93ac-0fe5e0ce9e93",
   "metadata": {},
   "outputs": [],
   "source": [
    "\n",
    "fig, ax = plt.subplots(1, 1,figsize=(10,6))\n",
    "my_plotter(ax,px_energy_bi212,px_weight_bi212,\"PX-Bi212\",\"log\")\n",
    "my_plotter(ax,px_energy_tl208,px_weight_tl208,\"PX-Tl208\",\"log\")\n",
    "# my_plotter(ax,nx_energy,nx_weight,\"NX\",\"log\")\n",
    "# my_plotter(ax,py_energy,py_weight,\"PY\",\"log\")\n",
    "# my_plotter(ax,ny_energy,ny_weight,\"NY\",\"log\")\n",
    "plt.grid()\n",
    "#plt.savefig(\"log.pdf\")\n",
    "plt.show()"
   ]
  },
  {
   "cell_type": "code",
   "execution_count": null,
   "id": "9f05cf5a-373d-4e38-8c59-1fbcc9510c29",
   "metadata": {},
   "outputs": [],
   "source": [
    "sc='linear'\n",
    "fig, ax = plt.subplots(1, 1,figsize=(6,4))\n",
    "my_plotter(ax,px_energy_bi212,px_weight_bi212,\"PX-Bi212\",sc)\n",
    "my_plotter(ax,px_energy_tl208,px_weight_tl208,\"PX-Tl208\",sc)\n",
    "# my_plotter(ax,nx_energy,nx_weight,\"NX\",\"log\")\n",
    "# my_plotter(ax,py_energy,py_weight,\"PY\",\"log\")\n",
    "# my_plotter(ax,ny_energy,ny_weight,\"NY\",\"log\")\n",
    "plt.grid()\n",
    "#plt.savefig(\"log.pdf\")\n",
    "plt.show()"
   ]
  },
  {
   "cell_type": "code",
   "execution_count": null,
   "id": "205ce6bd-8948-4976-a491-c551ce283782",
   "metadata": {},
   "outputs": [],
   "source": [
    "plot_isotopes(filtered_th228_px,'PX')\n",
    "plot_isotopes(filtered_th228_nx,'NX')\n",
    "plot_isotopes(filtered_th228_py,'PY')\n",
    "plot_isotopes(filtered_th228_ny,'NY')"
   ]
  },
  {
   "cell_type": "code",
   "execution_count": null,
   "id": "29df850c-291f-4f66-9a3b-fb89eae8214a",
   "metadata": {},
   "outputs": [],
   "source": [
    "# file='Example_Bi212_pos648.5_0_-1022.6_seed1.nEXOevents.root'\n",
    "# suffix=\":Event/Sim/SimEvent/SimEvent\"\n",
    "root='/home/thakur/slac_data/PX1M/'"
   ]
  },
  {
   "cell_type": "code",
   "execution_count": null,
   "id": "9d4adc5a-f083-45fc-99df-bea25d9c1a8b",
   "metadata": {},
   "outputs": [],
   "source": [
    "file='PX1M_Th228_pos648.5_0_-1022.6.root'+':tree'"
   ]
  },
  {
   "cell_type": "code",
   "execution_count": null,
   "id": "8b4c306e-0885-4bb5-b87c-173082550982",
   "metadata": {},
   "outputs": [],
   "source": [
    "file1=root+file\n",
    "file1"
   ]
  },
  {
   "cell_type": "code",
   "execution_count": null,
   "id": "a50e078f-588a-4fde-813b-237706eeb1ec",
   "metadata": {},
   "outputs": [],
   "source": [
    "f=uproot.open(file1)"
   ]
  },
  {
   "cell_type": "code",
   "execution_count": null,
   "id": "5d14a2a5-8601-4cdb-a4e6-d5fbb4bc3eb5",
   "metadata": {},
   "outputs": [],
   "source": [
    "f.values()"
   ]
  },
  {
   "cell_type": "code",
   "execution_count": null,
   "id": "817e3252-d786-48d8-a2c0-f38955f13810",
   "metadata": {},
   "outputs": [],
   "source": [
    "f.keys()"
   ]
  },
  {
   "cell_type": "code",
   "execution_count": null,
   "id": "80b4a14f-8f8d-4dce-999d-55549fcfd7df",
   "metadata": {},
   "outputs": [],
   "source": [
    "f.show()"
   ]
  },
  {
   "cell_type": "code",
   "execution_count": null,
   "id": "14e25ff1-f124-4ef8-8031-32ffb65e7187",
   "metadata": {},
   "outputs": [],
   "source": [
    "df=f.arrays(f.keys(),library='pd')"
   ]
  },
  {
   "cell_type": "code",
   "execution_count": null,
   "id": "0c185102-4bf9-46c7-abd8-652f573fa447",
   "metadata": {},
   "outputs": [],
   "source": [
    "df"
   ]
  },
  {
   "cell_type": "code",
   "execution_count": null,
   "id": "516d6178-030d-475f-8d69-c1ac393eb48b",
   "metadata": {},
   "outputs": [],
   "source": [
    "df.columns.values"
   ]
  },
  {
   "cell_type": "code",
   "execution_count": null,
   "id": "ac51e1c2-9457-4152-b97c-c31424b6c5da",
   "metadata": {},
   "outputs": [],
   "source": [
    "apply_filter='passed_z_thresh & passed_xy_thresh & (n_x_ch_abovenoise>0) & (n_y_ch_abovenoise>0) & (m_nOPCal< (1.064*m_nQ+703)) & (m_nOPCal> (0.644*m_nQ-2411)) & (~NESTBugFound) & (m_DNNvalue>0.85) & (standoff > 100)'\n",
    "#app='(m_nOPCal< (1.064*m_nQ+703))'"
   ]
  },
  {
   "cell_type": "code",
   "execution_count": null,
   "id": "7985043d-335e-40e2-8c98-18981e1f6d9d",
   "metadata": {},
   "outputs": [],
   "source": [
    "df_filtered=df.query(apply_filter).reset_index(drop=True)"
   ]
  },
  {
   "cell_type": "code",
   "execution_count": null,
   "id": "e507daa8-38dd-401b-a0f7-c7673985a0fb",
   "metadata": {},
   "outputs": [],
   "source": [
    "df_filtered"
   ]
  },
  {
   "cell_type": "code",
   "execution_count": null,
   "id": "d4e3d416-ba33-471b-9e1a-5e7cf9945106",
   "metadata": {},
   "outputs": [],
   "source": [
    "ene, weight = df_filtered.energy,df_filtered.weight\n",
    "component='energy'\n",
    "isotope='Th228'\n",
    "location='PX'\n",
    "plt.hist(ene, bins=200, histtype=u'step', weights=weight, density=True, label=component)\n",
    "plt.yscale(\"log\")\n",
    "plt.ylabel(\"Counts\")\n",
    "plt.xlabel(\"Energy [keV]\")\n",
    "plt.title(f\"{isotope} [{location}] Energy PDF for SS events in the inner 2000 kg\")\n",
    "plt.legend()\n",
    "plt.show()"
   ]
  },
  {
   "cell_type": "code",
   "execution_count": null,
   "id": "7ffe4860-2968-4718-9f8e-6ff79df85e65",
   "metadata": {},
   "outputs": [],
   "source": [
    "ene, weight = df_filtered.energy,df_filtered.weight\n",
    "component='energy'\n",
    "isotope='Th228'\n",
    "location='PX'\n",
    "plt.hist(ene, bins=200, histtype=u'step', weights=weight, density=True, label=component)\n",
    "plt.yscale(\"log\")\n",
    "plt.ylabel(\"Counts\")\n",
    "plt.xlabel(\"Energy [keV]\")\n",
    "plt.title(f\"{isotope} [{location}] Energy PDF for SS events in the inner 2000 kg\")\n",
    "plt.legend()\n",
    "plt.show()"
   ]
  },
  {
   "cell_type": "code",
   "execution_count": null,
   "id": "c9edcfdc-38fa-48b7-a5bc-a21052511dc7",
   "metadata": {},
   "outputs": [],
   "source": [
    "ene, weight = df_filtered.energy,df_filtered.weight\n",
    "fig, ax = plt.subplots(1, 1,figsize=(10,6))\n",
    "my_plotter(ax,ene,weight,\"PX\")\n",
    "plt.show()"
   ]
  },
  {
   "cell_type": "code",
   "execution_count": null,
   "id": "387ff4f4-715a-45ed-ad00-4760a7ba8e72",
   "metadata": {},
   "outputs": [],
   "source": [
    "# fil='sel_filter = (passed_xy_thresh & passed_z_thresh & (n_x_ch_abovenoise > 0) & (n_y_ch_abovenoise > 0)& (m_nOPCal < 1.064 * m_nQ + 703) & (m_nOPC\n",
    "# al > 0.644 * m_nQ - 2411) & (~NESTBugFound)\n",
    "# & (m_DNNvalue>0.85) & (standoff > 100))'"
   ]
  },
  {
   "cell_type": "code",
   "execution_count": null,
   "id": "88a3283c-5722-4f0e-ad93-78144dc0b5af",
   "metadata": {},
   "outputs": [],
   "source": [
    "en=df.energy.values\n",
    "en"
   ]
  },
  {
   "cell_type": "code",
   "execution_count": null,
   "id": "318416c2-045c-4f76-9449-d0b283aa0825",
   "metadata": {},
   "outputs": [],
   "source": [
    "# plt.hist(en,density=1,bins=500)\n",
    "# plt.show()"
   ]
  },
  {
   "cell_type": "code",
   "execution_count": null,
   "id": "3aef76c1-1ea5-4238-9933-254d28a385c8",
   "metadata": {},
   "outputs": [],
   "source": [
    "df.query('3000>energy>2000')['energy']"
   ]
  },
  {
   "cell_type": "code",
   "execution_count": null,
   "id": "2c1eab97-bc92-4354-a3df-f092972fe87f",
   "metadata": {},
   "outputs": [],
   "source": [
    "energy=f.arrays([\"energy\"],library='np')"
   ]
  },
  {
   "cell_type": "code",
   "execution_count": null,
   "id": "512af190-e1a2-4d06-8a65-650797ccaded",
   "metadata": {},
   "outputs": [],
   "source": [
    "energy"
   ]
  },
  {
   "cell_type": "code",
   "execution_count": null,
   "id": "2bf8fe23-8f63-421f-ab07-4c0c2845cd05",
   "metadata": {},
   "outputs": [],
   "source": [
    "fig = plt.figure(figsize=(20,15))\n",
    "ax = fig.add_subplot(projection='3d')\n",
    "ax.scatter(df['fGenX'],df['fGenY'],df['fGenZ'],color='r')\n",
    "ax.set_xlabel('fGenX');ax.set_ylabel('fGenY');ax.set_zlabel('fGenZ')\n",
    "plt.show()"
   ]
  },
  {
   "cell_type": "code",
   "execution_count": null,
   "id": "2bc11663-1f75-4096-b459-535a5d7106fe",
   "metadata": {},
   "outputs": [],
   "source": [
    "df['fGenParticleID'].value_counts()#.dropna().value_counts()"
   ]
  },
  {
   "cell_type": "code",
   "execution_count": null,
   "id": "356e006e-39f0-4394-903c-353aed08deee",
   "metadata": {},
   "outputs": [],
   "source": [
    "df['fGenParticleID'].to_list()"
   ]
  },
  {
   "cell_type": "code",
   "execution_count": null,
   "id": "5e83e220-e45c-4893-84a7-a01a2ff2d3c9",
   "metadata": {},
   "outputs": [],
   "source": [
    "df['fGenParticleID'].unique"
   ]
  },
  {
   "cell_type": "code",
   "execution_count": null,
   "id": "9e5ccdc2-8cd8-401a-b903-1498296d29cb",
   "metadata": {},
   "outputs": [],
   "source": [
    "from collections import Counter\n",
    "from  itertools import chain\n",
    "df_genparticle=pd.Series(Counter(chain(df.fGenParticleID)))\n",
    "dfgen=df_genparticle.to_frame()\n",
    "#dfgen=dfgen.rename(columns=['count'])\n",
    "#df_genparticle.rename(columns=['iso','count'])\n",
    "dfgen.columns=['num'];#dfgen.index='iso'"
   ]
  },
  {
   "cell_type": "code",
   "execution_count": null,
   "id": "2d8f6022-2635-4e7f-8e5e-e4c26b549695",
   "metadata": {},
   "outputs": [],
   "source": [
    "dfgen.plot(kind='bar')"
   ]
  },
  {
   "cell_type": "code",
   "execution_count": null,
   "id": "4f0fa438-b2c0-4af4-a1af-b72eeb8ecfc0",
   "metadata": {},
   "outputs": [],
   "source": []
  },
  {
   "cell_type": "code",
   "execution_count": null,
   "id": "c6caea3a-c96d-4649-a75c-e86828588c35",
   "metadata": {},
   "outputs": [],
   "source": [
    "selection='fXpos'\n",
    "x=df[selection]\n",
    "for y in x:\n",
    "    print(f\"length of y[0] {len(y[0])}\")\n",
    "    print(f\"y[0] values {y[0]}\")\n"
   ]
  },
  {
   "cell_type": "code",
   "execution_count": null,
   "id": "6808eabe-78d0-4e00-b5bb-9aee1316de49",
   "metadata": {},
   "outputs": [],
   "source": [
    "selection='fYpos'\n",
    "y=df[selection]\n",
    "y"
   ]
  },
  {
   "cell_type": "code",
   "execution_count": null,
   "id": "608426f2-fa86-4d20-b273-a60deab9471e",
   "metadata": {},
   "outputs": [],
   "source": [
    "selection='fZpos'\n",
    "z=df[selection]\n",
    "z"
   ]
  },
  {
   "cell_type": "code",
   "execution_count": null,
   "id": "3863bb44-9539-45c5-a86e-8857f654563b",
   "metadata": {},
   "outputs": [],
   "source": []
  },
  {
   "cell_type": "code",
   "execution_count": null,
   "id": "446da45f-1049-44b2-b7df-89d125f26f12",
   "metadata": {},
   "outputs": [],
   "source": []
  }
 ],
 "metadata": {
  "kernelspec": {
   "display_name": "Python 3 (ipykernel)",
   "language": "python",
   "name": "python3"
  },
  "language_info": {
   "codemirror_mode": {
    "name": "ipython",
    "version": 3
   },
   "file_extension": ".py",
   "mimetype": "text/x-python",
   "name": "python",
   "nbconvert_exporter": "python",
   "pygments_lexer": "ipython3",
   "version": "3.10.6"
  }
 },
 "nbformat": 4,
 "nbformat_minor": 5
}
