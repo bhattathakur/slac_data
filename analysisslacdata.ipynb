{
 "cells": [
  {
   "cell_type": "code",
   "execution_count": null,
   "id": "3521780c-3b3e-4297-9255-ba1320abc8d3",
   "metadata": {},
   "outputs": [],
   "source": [
    "import uproot\n",
    "import matplotlib.pyplot as plt\n",
    "import pandas as pd\n",
    "from matplotlib import rcParams\n",
    "import seaborn as sns\n",
    "sns.set(font_scale=1.5)\n",
    "sns.set_style('white')"
   ]
  },
  {
   "cell_type": "code",
   "execution_count": null,
   "id": "c89201de-ecd6-47f1-bee1-2c3f708e1a4d",
   "metadata": {},
   "outputs": [],
   "source": [
    "rcParams.update({'figure.autolayout':True})\n",
    "rcParams.update({'figure.figsize':[15,8]})"
   ]
  },
  {
   "cell_type": "code",
   "execution_count": null,
   "id": "29df850c-291f-4f66-9a3b-fb89eae8214a",
   "metadata": {},
   "outputs": [],
   "source": [
    "# file='Example_Bi212_pos648.5_0_-1022.6_seed1.nEXOevents.root'\n",
    "# suffix=\":Event/Sim/SimEvent/SimEvent\"\n",
    "root='/home/thakur/slac_data/PX1M/'"
   ]
  },
  {
   "cell_type": "code",
   "execution_count": null,
   "id": "9d4adc5a-f083-45fc-99df-bea25d9c1a8b",
   "metadata": {},
   "outputs": [],
   "source": [
    "file='PX1M_Th228_pos648.5_0_-1022.6.root'+':tree'"
   ]
  },
  {
   "cell_type": "code",
   "execution_count": null,
   "id": "8b4c306e-0885-4bb5-b87c-173082550982",
   "metadata": {},
   "outputs": [],
   "source": [
    "file1=root+file\n",
    "file1"
   ]
  },
  {
   "cell_type": "code",
   "execution_count": null,
   "id": "a50e078f-588a-4fde-813b-237706eeb1ec",
   "metadata": {},
   "outputs": [],
   "source": [
    "f=uproot.open(file1)"
   ]
  },
  {
   "cell_type": "code",
   "execution_count": null,
   "id": "5d14a2a5-8601-4cdb-a4e6-d5fbb4bc3eb5",
   "metadata": {},
   "outputs": [],
   "source": [
    "f.values()"
   ]
  },
  {
   "cell_type": "code",
   "execution_count": null,
   "id": "817e3252-d786-48d8-a2c0-f38955f13810",
   "metadata": {},
   "outputs": [],
   "source": [
    "f.keys()"
   ]
  },
  {
   "cell_type": "code",
   "execution_count": null,
   "id": "80b4a14f-8f8d-4dce-999d-55549fcfd7df",
   "metadata": {},
   "outputs": [],
   "source": [
    "f.show()"
   ]
  },
  {
   "cell_type": "code",
   "execution_count": null,
   "id": "14e25ff1-f124-4ef8-8031-32ffb65e7187",
   "metadata": {},
   "outputs": [],
   "source": [
    "df=f.arrays(f.keys(),library='pd')"
   ]
  },
  {
   "cell_type": "code",
   "execution_count": null,
   "id": "0c185102-4bf9-46c7-abd8-652f573fa447",
   "metadata": {},
   "outputs": [],
   "source": [
    "df"
   ]
  },
  {
   "cell_type": "code",
   "execution_count": null,
   "id": "516d6178-030d-475f-8d69-c1ac393eb48b",
   "metadata": {},
   "outputs": [],
   "source": [
    "df.columns.values"
   ]
  },
  {
   "cell_type": "code",
   "execution_count": null,
   "id": "ac51e1c2-9457-4152-b97c-c31424b6c5da",
   "metadata": {},
   "outputs": [],
   "source": [
    "apply_filter='passed_z_thresh & passed_xy_thresh & (n_x_ch_abovenoise>0) & (n_y_ch_abovenoise>0) & (m_nOPCal< (1.064*m_nQ+703)) & (m_nOPCal> (0.644*m_nQ-2411)) & (~NESTBugFound) & (m_DNNvalue>0.85) & (standoff > 100)'\n",
    "app='(m_nOPCal< (1.064*m_nQ+703))'"
   ]
  },
  {
   "cell_type": "code",
   "execution_count": null,
   "id": "7985043d-335e-40e2-8c98-18981e1f6d9d",
   "metadata": {},
   "outputs": [],
   "source": [
    "df_filtered=df.query(apply_filter).reset_index(drop=True)"
   ]
  },
  {
   "cell_type": "code",
   "execution_count": null,
   "id": "e507daa8-38dd-401b-a0f7-c7673985a0fb",
   "metadata": {},
   "outputs": [],
   "source": [
    "df_filtered"
   ]
  },
  {
   "cell_type": "code",
   "execution_count": null,
   "id": "d4e3d416-ba33-471b-9e1a-5e7cf9945106",
   "metadata": {},
   "outputs": [],
   "source": [
    "ene, weight = df_filtered.energy,df_filtered.weight\n",
    "component='energy'\n",
    "isotope='Th228'\n",
    "location='PX'\n",
    "plt.hist(ene, bins=200, histtype=u'step', weights=weight, density=True, label=component)\n",
    "plt.yscale(\"log\")\n",
    "plt.ylabel(\"Counts\")\n",
    "plt.xlabel(\"Energy [keV]\")\n",
    "plt.title(f\"{isotope} [{location}] Energy PDF for SS events in the inner 2000 kg\")\n",
    "plt.legend()\n",
    "plt.show()"
   ]
  },
  {
   "cell_type": "code",
   "execution_count": null,
   "id": "c3e52e79-8fcb-4d3b-ad29-0e6c91db178f",
   "metadata": {},
   "outputs": [],
   "source": []
  },
  {
   "cell_type": "code",
   "execution_count": null,
   "id": "387ff4f4-715a-45ed-ad00-4760a7ba8e72",
   "metadata": {},
   "outputs": [],
   "source": [
    "# fil='sel_filter = (passed_xy_thresh & passed_z_thresh & (n_x_ch_abovenoise > 0) & (n_y_ch_abovenoise > 0)& (m_nOPCal < 1.064 * m_nQ + 703) & (m_nOPC\n",
    "# al > 0.644 * m_nQ - 2411) & (~NESTBugFound)\n",
    "# & (m_DNNvalue>0.85) & (standoff > 100))'"
   ]
  },
  {
   "cell_type": "code",
   "execution_count": null,
   "id": "88a3283c-5722-4f0e-ad93-78144dc0b5af",
   "metadata": {},
   "outputs": [],
   "source": [
    "en=df.energy.values\n",
    "en"
   ]
  },
  {
   "cell_type": "code",
   "execution_count": null,
   "id": "318416c2-045c-4f76-9449-d0b283aa0825",
   "metadata": {},
   "outputs": [],
   "source": [
    "# plt.hist(en,density=1,bins=500)\n",
    "# plt.show()"
   ]
  },
  {
   "cell_type": "code",
   "execution_count": null,
   "id": "3aef76c1-1ea5-4238-9933-254d28a385c8",
   "metadata": {},
   "outputs": [],
   "source": [
    "df.query('3000>energy>2000')['energy']"
   ]
  },
  {
   "cell_type": "code",
   "execution_count": null,
   "id": "2c1eab97-bc92-4354-a3df-f092972fe87f",
   "metadata": {},
   "outputs": [],
   "source": [
    "energy=f.arrays([\"energy\"],library='np')"
   ]
  },
  {
   "cell_type": "code",
   "execution_count": null,
   "id": "512af190-e1a2-4d06-8a65-650797ccaded",
   "metadata": {},
   "outputs": [],
   "source": [
    "energy"
   ]
  },
  {
   "cell_type": "code",
   "execution_count": null,
   "id": "2bf8fe23-8f63-421f-ab07-4c0c2845cd05",
   "metadata": {},
   "outputs": [],
   "source": [
    "fig = plt.figure(figsize=(20,15))\n",
    "ax = fig.add_subplot(projection='3d')\n",
    "ax.scatter(df['fGenX'],df['fGenY'],df['fGenZ'],color='r')\n",
    "ax.set_xlabel('fGenX');ax.set_ylabel('fGenY');ax.set_zlabel('fGenZ')\n",
    "plt.show()"
   ]
  },
  {
   "cell_type": "code",
   "execution_count": null,
   "id": "2bc11663-1f75-4096-b459-535a5d7106fe",
   "metadata": {},
   "outputs": [],
   "source": [
    "df['fGenParticleID'].value_counts()#.dropna().value_counts()"
   ]
  },
  {
   "cell_type": "code",
   "execution_count": null,
   "id": "356e006e-39f0-4394-903c-353aed08deee",
   "metadata": {},
   "outputs": [],
   "source": [
    "df['fGenParticleID'].to_list()"
   ]
  },
  {
   "cell_type": "code",
   "execution_count": null,
   "id": "5e83e220-e45c-4893-84a7-a01a2ff2d3c9",
   "metadata": {},
   "outputs": [],
   "source": [
    "df['fGenParticleID'].unique"
   ]
  },
  {
   "cell_type": "code",
   "execution_count": null,
   "id": "9e5ccdc2-8cd8-401a-b903-1498296d29cb",
   "metadata": {},
   "outputs": [],
   "source": [
    "from collections import Counter\n",
    "from  itertools import chain\n",
    "df_genparticle=pd.Series(Counter(chain(df.fGenParticleID)))\n",
    "dfgen=df_genparticle.to_frame()\n",
    "#dfgen=dfgen.rename(columns=['count'])\n",
    "#df_genparticle.rename(columns=['iso','count'])\n",
    "dfgen.columns=['num'];#dfgen.index='iso'"
   ]
  },
  {
   "cell_type": "code",
   "execution_count": null,
   "id": "2d8f6022-2635-4e7f-8e5e-e4c26b549695",
   "metadata": {},
   "outputs": [],
   "source": [
    "dfgen.plot(kind='bar')"
   ]
  },
  {
   "cell_type": "code",
   "execution_count": null,
   "id": "4f0fa438-b2c0-4af4-a1af-b72eeb8ecfc0",
   "metadata": {},
   "outputs": [],
   "source": []
  },
  {
   "cell_type": "code",
   "execution_count": null,
   "id": "c6caea3a-c96d-4649-a75c-e86828588c35",
   "metadata": {},
   "outputs": [],
   "source": [
    "selection='fXpos'\n",
    "x=df[selection]\n",
    "for y in x:\n",
    "    print(f\"length of y[0] {len(y[0])}\")\n",
    "    print(f\"y[0] values {y[0]}\")\n"
   ]
  },
  {
   "cell_type": "code",
   "execution_count": null,
   "id": "6808eabe-78d0-4e00-b5bb-9aee1316de49",
   "metadata": {},
   "outputs": [],
   "source": [
    "selection='fYpos'\n",
    "y=df[selection]\n",
    "y"
   ]
  },
  {
   "cell_type": "code",
   "execution_count": null,
   "id": "608426f2-fa86-4d20-b273-a60deab9471e",
   "metadata": {},
   "outputs": [],
   "source": [
    "selection='fZpos'\n",
    "z=df[selection]\n",
    "z"
   ]
  },
  {
   "cell_type": "code",
   "execution_count": null,
   "id": "3863bb44-9539-45c5-a86e-8857f654563b",
   "metadata": {},
   "outputs": [],
   "source": []
  },
  {
   "cell_type": "code",
   "execution_count": null,
   "id": "446da45f-1049-44b2-b7df-89d125f26f12",
   "metadata": {},
   "outputs": [],
   "source": []
  }
 ],
 "metadata": {
  "kernelspec": {
   "display_name": "Python 3 (ipykernel)",
   "language": "python",
   "name": "python3"
  },
  "language_info": {
   "codemirror_mode": {
    "name": "ipython",
    "version": 3
   },
   "file_extension": ".py",
   "mimetype": "text/x-python",
   "name": "python",
   "nbconvert_exporter": "python",
   "pygments_lexer": "ipython3",
   "version": "3.10.6"
  }
 },
 "nbformat": 4,
 "nbformat_minor": 5
}
