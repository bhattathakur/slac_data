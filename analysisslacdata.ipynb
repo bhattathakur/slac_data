{
 "cells": [
  {
   "cell_type": "code",
   "execution_count": null,
   "id": "3521780c-3b3e-4297-9255-ba1320abc8d3",
   "metadata": {},
   "outputs": [],
   "source": [
    "import uproot\n",
    "import matplotlib.pyplot as plt\n",
    "import pandas as pd\n",
    "from matplotlib import rcParams\n",
    "import seaborn as sns\n",
    "import scienceplots\n",
    "sns.set(font_scale=1.0)\n",
    "sns.set_style('white')\n",
    "#plt.style.use('fivethirtyeight') # fivethirtyeight is name of styl\n",
    "#plt.style.use(['science','no-latex'])"
   ]
  },
  {
   "cell_type": "code",
   "execution_count": null,
   "id": "c89201de-ecd6-47f1-bee1-2c3f708e1a4d",
   "metadata": {},
   "outputs": [],
   "source": [
    "rcParams.update({'figure.autolayout':True})\n",
    "rcParams.update({'figure.figsize':[20,12]})\n",
    "plt.rcParams['legend.fontsize'] = 12"
   ]
  },
  {
   "cell_type": "code",
   "execution_count": null,
   "id": "c3e52e79-8fcb-4d3b-ad29-0e6c91db178f",
   "metadata": {},
   "outputs": [],
   "source": [
    "def my_plotter(ax,ene,weight,label_value,yscale,xlabel='Energy [keV]',ylabel='Counts',iso=\"Th228\"):\n",
    "    \"\"\"\n",
    "    A helper function to make a graph\n",
    "\n",
    "    Parameters\n",
    "    ----------\n",
    "    ax : Axes\n",
    "        The axes to draw to\n",
    "\n",
    "    data1 : array\n",
    "       The x data\n",
    "\n",
    "    data2 : array\n",
    "       The y data\n",
    "\n",
    "    param_dict : dict\n",
    "       Dictionary of keyword arguments to pass to ax.plot\n",
    "\n",
    "    Returns\n",
    "    -------\n",
    "    out : list\n",
    "        list of artists added\n",
    "    \"\"\"\n",
    "    out=ax.hist(ene, bins=200, histtype=u'step', weights=weight, density=True, label=label_value)\n",
    "    ax.set_xlabel(xlabel)\n",
    "    ax.set_ylabel(ylabel)\n",
    "    ax.set_yscale(yscale)\n",
    "    ax.set_title(f\"Energy PDF for SS events in the inner 2000 kg for {iso}\")\n",
    "    ax.legend()\n",
    "    \n",
    "    return out"
   ]
  },
  {
   "cell_type": "code",
   "execution_count": null,
   "id": "09d00b1e-a662-4734-aaf9-529d468224c1",
   "metadata": {},
   "outputs": [],
   "source": [
    "#input the root file and ouput the filtered dataframe\n",
    "#apply_filter='passed_z_thresh & passed_xy_thresh & (n_x_ch_abovenoise>0) & (n_y_ch_abovenoise>0) & (m_nOPCal< (1.064*m_nQ+703)) & (m_nOPCal> (0.644*m_nQ-2411)) & (~NESTBugFound) & (m_DNNvalue>0.85) & (standoff > 100)'\n",
    "\n",
    "def get_filtered(file,apply_filter,use_filter=\"True\"):\n",
    "    f=uproot.open(file+':tree')\n",
    "    df=f.arrays(f.keys(),library='pd')\n",
    "    if use_filter:return df.query(apply_filter).reset_index(drop=True)\n",
    "    return df.query('energy<3000').reset_index(drop=True)\n",
    "    \n",
    "    \n"
   ]
  },
  {
   "cell_type": "code",
   "execution_count": null,
   "id": "be61f64e-0f99-438f-b839-680996335168",
   "metadata": {},
   "outputs": [],
   "source": [
    "# get the number of rows in the data frame\n",
    "def get_rows(df):\n",
    "    return df.shape[0]"
   ]
  },
  {
   "cell_type": "code",
   "execution_count": null,
   "id": "82aa8d04-eb5f-49e1-ae20-af0b427e43a5",
   "metadata": {},
   "outputs": [],
   "source": [
    "def plot_isotopes(df,df_label=\"test\",scale_kind=\"log\"):\n",
    "    bi212_df=df.query('isotope==1')\n",
    "    tl208_df=df.query('isotope==2')\n",
    "    bi212_energy,bi212_weight=bi212_df.energy,bi212_df.weight\n",
    "    tl208_energy,tl208_weight=tl208_df.energy,tl208_df.weight\n",
    "    \n",
    "    fig, ax = plt.subplots(1, 1,figsize=(6,4))\n",
    "    my_plotter(ax,bi212_energy,bi212_weight,df_label+\" Bi212\",scale_kind)\n",
    "    my_plotter(ax,tl208_energy,tl208_weight,df_label+\" Tl208\",scale_kind)\n",
    "    plt.show()\n",
    "    "
   ]
  },
  {
   "cell_type": "markdown",
   "id": "477e3eda-e0a5-482a-8022-7a8f61c37b93",
   "metadata": {},
   "source": [
    "# FILTER"
   ]
  },
  {
   "cell_type": "code",
   "execution_count": null,
   "id": "4929dd3a-e7a8-4f68-b02b-572d063be2a0",
   "metadata": {},
   "outputs": [],
   "source": [
    "#input the root file and ouput the filtered dataframe\n",
    "apply_filter='passed_z_thresh & passed_xy_thresh & (n_x_ch_abovenoise>0) & (n_y_ch_abovenoise>0) & (m_nOPCal< (1.064*m_nQ+703)) & (m_nOPCal> (0.644*m_nQ-2411)) & (~NESTBugFound) & (m_DNNvalue>0.85) & (standoff > 100)'\n",
    "\n",
    "dec102020_filter='(standoff>100) & passed_xy_thresh & passed_z_thresh & (n_x_ch_abovenoise > 0) & (n_y_ch_abovenoise > 0) & (m_nOPCal < (1.077 * m_nQ + 313)) & (m_nOPCal > (0.597 * m_nQ - 216)) & ~NESTBugFound & ~NearAnodeBugFound & m_DNNvalue>0.85'\n"
   ]
  },
  {
   "cell_type": "code",
   "execution_count": null,
   "id": "362f7a5a-ce66-4a8a-91d8-bbccd2c54656",
   "metadata": {},
   "outputs": [],
   "source": [
    "#give the name of rootfile\n",
    "th228_px='/home/thakur/slac_data/PX1M/PX1M_Th228_pos648.5_0_-1022.6.root'\n",
    "th228_nx='/home/thakur/slac_data/NX1M/NX1M_Th228_pos-648.5_0_-1022.6.root'\n",
    "th228_py='/home/thakur/slac_data/PY1M/PY1M_Th228_pos0_648.5_-1022.6.root'\n",
    "th228_ny='/home/thakur/slac_data/NY1M/NY1M_Th228_pos0_-648.5_-1022.6.root'\n",
    "th228_pz='/home/thakur/slac_data/PZ1M/PZ1M_Th228_pos0_0_-299.1245.root'\n",
    "th228_nz='/home/thakur/slac_data/NZ1M/NZ1M_Th228_pos0_0_-1746.0755.root'"
   ]
  },
  {
   "cell_type": "markdown",
   "id": "c17de0ad-d709-4a4d-a0fa-6245c1399b97",
   "metadata": {},
   "source": [
    "# WITHOUT FILTER"
   ]
  },
  {
   "cell_type": "code",
   "execution_count": null,
   "id": "2324ebc0-dd10-4d39-bd5e-994ec60bdb1a",
   "metadata": {},
   "outputs": [],
   "source": [
    "# f=uproot.open(file+':tree')\n",
    "#df=f.arrays(f.keys(),library='pd')"
   ]
  },
  {
   "cell_type": "code",
   "execution_count": null,
   "id": "4c66e51f-311e-4c61-a0a1-9c222303e097",
   "metadata": {},
   "outputs": [],
   "source": [
    "non_filtered_th228_px=get_filtered(th228_px,dec102020_filter,use_filter=False)\n",
    "non_filtered_th228_nx=get_filtered(th228_nx,dec102020_filter,use_filter=False)\n",
    "non_filtered_th228_py=get_filtered(th228_py,dec102020_filter,use_filter=False)\n",
    "non_filtered_th228_ny=get_filtered(th228_ny,dec102020_filter,use_filter=False)\n",
    "non_filtered_th228_pz=get_filtered(th228_pz,dec102020_filter,use_filter=False)\n",
    "non_filtered_th228_nz=get_filtered(th228_nz,dec102020_filter,use_filter=False)"
   ]
  },
  {
   "cell_type": "code",
   "execution_count": null,
   "id": "277d2459-d817-4ab9-a240-2619bbd7575d",
   "metadata": {},
   "outputs": [],
   "source": [
    "px_energy,px_weight=non_filtered_th228_px.energy,non_filtered_th228_px.weight\n",
    "nx_energy,nx_weight=non_filtered_th228_nx.energy,non_filtered_th228_nx.weight\n",
    "py_energy,py_weight=non_filtered_th228_py.energy,non_filtered_th228_py.weight\n",
    "ny_energy,ny_weight=non_filtered_th228_ny.energy,non_filtered_th228_ny.weight\n",
    "pz_energy,pz_weight=non_filtered_th228_pz.energy,non_filtered_th228_pz.weight\n",
    "nz_energy,nz_weight=non_filtered_th228_nz.energy,non_filtered_th228_nz.weight"
   ]
  },
  {
   "cell_type": "code",
   "execution_count": null,
   "id": "8037124f-78b1-4bdb-9171-107b8ad87352",
   "metadata": {},
   "outputs": [],
   "source": [
    "px_energy.min(),px_energy.max(),len(px_energy)"
   ]
  },
  {
   "cell_type": "code",
   "execution_count": null,
   "id": "0ba9239f-cc98-40a4-8e76-fc9a60ca45a0",
   "metadata": {},
   "outputs": [],
   "source": [
    "plt.hist(px_energy,len(px_energy)-200,density=False,histtype='step',facecolor='g',alpha=0.75)"
   ]
  },
  {
   "cell_type": "code",
   "execution_count": null,
   "id": "e9e8d5ab-ddde-450f-bc5f-f1945687d590",
   "metadata": {},
   "outputs": [],
   "source": [
    "total=10**6\n",
    "#fig, ax = plt.subplots(1, 1,figsize=(10,6))\n",
    "plt.plot(px_energy)\n",
    "#my_plotter(ax,px_energy,px_weight*total,\"PX\",\"log\")\n",
    "# my_plotter(ax,nx_energy,nx_weight,\"NX\",\"log\")\n",
    "# my_plotter(ax,py_energy,py_weight,\"PY\",\"log\")\n",
    "# my_plotter(ax,ny_energy,ny_weight,\"NY\",\"log\")\n",
    "# #plt.xlim(0,5000)\n",
    "plt.grid()\n",
    "#plt.savefig(\"rawlogxy.pdf\")\n",
    "plt.show()"
   ]
  },
  {
   "cell_type": "markdown",
   "id": "626f59cc-1ff9-4798-bca9-8a720448a68f",
   "metadata": {},
   "source": [
    "# WITH FILTER"
   ]
  },
  {
   "cell_type": "code",
   "execution_count": null,
   "id": "a46eb444-fa6f-4524-8224-3c003a40d1dd",
   "metadata": {},
   "outputs": [],
   "source": []
  },
  {
   "cell_type": "code",
   "execution_count": null,
   "id": "2826a60a-b620-4d84-96a9-baf69ebb7054",
   "metadata": {},
   "outputs": [],
   "source": []
  },
  {
   "cell_type": "code",
   "execution_count": null,
   "id": "a8899a0d-d158-449d-a1c5-5369735fdf50",
   "metadata": {},
   "outputs": [],
   "source": [
    "filtered_th228_px=get_filtered(th228_px,dec102020_filter)\n",
    "filtered_th228_nx=get_filtered(th228_nx,dec102020_filter)\n",
    "filtered_th228_py=get_filtered(th228_py,dec102020_filter)\n",
    "filtered_th228_ny=get_filtered(th228_ny,dec102020_filter)\n",
    "filtered_th228_pz=get_filtered(th228_pz,dec102020_filter)\n",
    "filtered_th228_nz=get_filtered(th228_nz,dec102020_filter)"
   ]
  },
  {
   "cell_type": "code",
   "execution_count": null,
   "id": "aeae1886-ced7-4f2e-9281-9dac364ffc62",
   "metadata": {},
   "outputs": [],
   "source": [
    "filtered_th228_px.head()"
   ]
  },
  {
   "cell_type": "code",
   "execution_count": null,
   "id": "2f98a0ac-299d-40f3-8454-12f0407f7624",
   "metadata": {},
   "outputs": [],
   "source": [
    "for i in [non_filtered_th228_px,non_filtered_th228_nx,non_filtered_th228_py,non_filtered_th228_ny,non_filtered_th228_pz,non_filtered_th228_nz]:\n",
    "    print(f\"{get_rows(i)}\")"
   ]
  },
  {
   "cell_type": "code",
   "execution_count": null,
   "id": "27b2d7a6-75e2-489a-979b-fea343fe4946",
   "metadata": {},
   "outputs": [],
   "source": [
    "for i in [filtered_th228_px,filtered_th228_nx,filtered_th228_py,filtered_th228_ny,filtered_th228_pz,filtered_th228_nz]:\n",
    "    print(f\"{get_rows(i)}\")"
   ]
  },
  {
   "cell_type": "code",
   "execution_count": null,
   "id": "bbdcbee0-593e-4de9-887c-2bad2c5f1f1e",
   "metadata": {},
   "outputs": [],
   "source": [
    "# for i in ['p','n']:\n",
    "#     for j in ['x','y']:\n",
    "#         df_name=f'filtered_th228_{i}{j}'\n",
    "#         print(f\"df name :{df_name}\")\n",
    "        \n",
    "# #filtered_th228_py.shape"
   ]
  },
  {
   "cell_type": "code",
   "execution_count": null,
   "id": "a8febd3d-d038-4d24-8744-b0589e44c5e9",
   "metadata": {},
   "outputs": [],
   "source": [
    "px_energy,px_weight=filtered_th228_px.energy,filtered_th228_px.weight\n",
    "nx_energy,nx_weight=filtered_th228_nx.energy,filtered_th228_nx.weight\n",
    "py_energy,py_weight=filtered_th228_py.energy,filtered_th228_py.weight\n",
    "ny_energy,ny_weight=filtered_th228_ny.energy,filtered_th228_ny.weight\n",
    "pz_energy,pz_weight=filtered_th228_pz.energy,filtered_th228_pz.weight\n",
    "nz_energy,nz_weight=filtered_th228_nz.energy,filtered_th228_nz.weight"
   ]
  },
  {
   "cell_type": "code",
   "execution_count": null,
   "id": "4ffe4adc-2d04-41b4-8feb-6b1e3549cfd2",
   "metadata": {},
   "outputs": [],
   "source": [
    "filtered_th228_pz.columns"
   ]
  },
  {
   "cell_type": "code",
   "execution_count": null,
   "id": "f52b1c9a-9a2f-4f8d-8b79-b48740c83fd7",
   "metadata": {},
   "outputs": [],
   "source": [
    "\n",
    "fig, ax = plt.subplots(1, 1,figsize=(10,6))\n",
    "my_plotter(ax,px_energy,px_weight,\"PX\",\"log\")\n",
    "my_plotter(ax,nx_energy,nx_weight,\"NX\",\"log\")\n",
    "my_plotter(ax,py_energy,py_weight,\"PY\",\"log\")\n",
    "my_plotter(ax,ny_energy,ny_weight,\"NY\",\"log\")\n",
    "plt.grid()\n",
    "plt.savefig(\"logxy.pdf\")\n",
    "plt.show()"
   ]
  },
  {
   "cell_type": "code",
   "execution_count": null,
   "id": "f1aa5ac2-96ab-4394-b453-d31e29388d35",
   "metadata": {},
   "outputs": [],
   "source": [
    "\n",
    "fig, ax = plt.subplots(1, 1,figsize=(10,6))\n",
    "my_plotter(ax,pz_energy,pz_weight,\"PZ\",\"log\")\n",
    "my_plotter(ax,nz_energy,nz_weight,\"NZ\",\"log\")\n",
    "plt.grid()\n",
    "plt.savefig(\"logz.pdf\")\n",
    "plt.show()"
   ]
  },
  {
   "cell_type": "code",
   "execution_count": null,
   "id": "e6cf8b98-ab2c-4e06-9dcf-2d932125b1c7",
   "metadata": {},
   "outputs": [],
   "source": [
    "\n",
    "fig, ax = plt.subplots(1, 1,figsize=(10,6))\n",
    "my_plotter(ax,px_energy,px_weight,\"PX\",\"log\")\n",
    "my_plotter(ax,nx_energy,nx_weight,\"NX\",\"log\")\n",
    "my_plotter(ax,py_energy,py_weight,\"PY\",\"log\")\n",
    "my_plotter(ax,ny_energy,ny_weight,\"NY\",\"log\")\n",
    "my_plotter(ax,pz_energy,pz_weight,\"PZ\",\"log\")\n",
    "my_plotter(ax,nz_energy,nz_weight,\"NZ\",\"log\")\n",
    "plt.grid()\n",
    "plt.savefig(\"logxyz.pdf\")\n",
    "plt.show()"
   ]
  },
  {
   "cell_type": "code",
   "execution_count": null,
   "id": "a12dc294-8ca0-472b-a26f-8dc287ec8afd",
   "metadata": {},
   "outputs": [],
   "source": [
    "\n",
    "fig, ax = plt.subplots(1, 1,figsize=(10,6))\n",
    "my_plotter(ax,px_energy,px_weight,\"PX\",\"linear\")\n",
    "my_plotter(ax,nx_energy,nx_weight,\"NX\",\"linear\")\n",
    "my_plotter(ax,py_energy,py_weight,\"PY\",\"linear\")\n",
    "my_plotter(ax,ny_energy,ny_weight,\"NY\",\"linear\")\n",
    "plt.grid()\n",
    "plt.savefig(\"linearxy.pdf\")\n",
    "plt.show()"
   ]
  },
  {
   "cell_type": "code",
   "execution_count": null,
   "id": "4ee84e7f-a165-4d55-8933-a3e21d389cbe",
   "metadata": {},
   "outputs": [],
   "source": [
    "\n",
    "fig, ax = plt.subplots(1, 1,figsize=(10,6))\n",
    "my_plotter(ax,pz_energy,pz_weight,\"PZ\",\"linear\")\n",
    "my_plotter(ax,nz_energy,nz_weight,\"NZ\",\"linear\")\n",
    "plt.grid()\n",
    "plt.savefig(\"linearz.pdf\")\n",
    "plt.show()"
   ]
  },
  {
   "cell_type": "code",
   "execution_count": null,
   "id": "c3d22d2d-9740-4968-aabc-9eef508738cc",
   "metadata": {},
   "outputs": [],
   "source": [
    "scale_kind='linear'\n",
    "fig, ax = plt.subplots(1, 1,figsize=(10,6))\n",
    "my_plotter(ax,px_energy,px_weight,\"PX\",scale_kind)\n",
    "my_plotter(ax,nx_energy,nx_weight,\"NX\",scale_kind)\n",
    "my_plotter(ax,py_energy,py_weight,\"PY\",scale_kind)\n",
    "my_plotter(ax,ny_energy,ny_weight,\"NY\",scale_kind)\n",
    "my_plotter(ax,pz_energy,pz_weight,\"PZ\",scale_kind)\n",
    "my_plotter(ax,nz_energy,nz_weight,\"NZ\",scale_kind)\n",
    "plt.grid()\n",
    "plt.savefig(\"linearxyz.pdf\")\n",
    "plt.show()"
   ]
  },
  {
   "cell_type": "markdown",
   "id": "7a9c727c-69b2-474d-b919-16a8f2d48f3c",
   "metadata": {},
   "source": [
    "# ISOTOPES"
   ]
  },
  {
   "cell_type": "code",
   "execution_count": null,
   "id": "9d331e83-f831-4f6b-b4e4-09aa02811efa",
   "metadata": {},
   "outputs": [],
   "source": [
    "#unique isotopes\n",
    "filtered_th228_px.isotope.nunique()"
   ]
  },
  {
   "cell_type": "code",
   "execution_count": null,
   "id": "85152bff-d5de-449d-91cb-96ddc54771a1",
   "metadata": {},
   "outputs": [],
   "source": [
    "#value counts\n",
    "filtered_th228_px.isotope.value_counts()"
   ]
  },
  {
   "cell_type": "code",
   "execution_count": null,
   "id": "beb791a5-03e8-40ee-a67f-b411a8f5b8cc",
   "metadata": {},
   "outputs": [],
   "source": [
    "#dataframe for isotopes\n",
    "filtered_th228_px_bi212=filtered_th228_px.query('isotope==1')\n",
    "filtered_th228_px_tl208=filtered_th228_px.query('isotope==2')"
   ]
  },
  {
   "cell_type": "code",
   "execution_count": null,
   "id": "3c1225b6-fd5c-4e6c-8ae2-cffa1f5c5c68",
   "metadata": {},
   "outputs": [],
   "source": [
    "px_energy_bi212,px_weight_bi212=filtered_th228_px_bi212.energy,filtered_th228_px_bi212.weight\n",
    "px_energy_tl208,px_weight_tl208=filtered_th228_px_tl208.energy,filtered_th228_px_tl208.weight\n",
    "# nx_energy,nx_weight=filtered_th228_nx.energy,filtered_th228_nx.weight\n",
    "# py_energy,py_weight=filtered_th228_py.energy,filtered_th228_py.weight\n",
    "# ny_energy,ny_weight=filtered_th228_ny.energy,filtered_th228_ny.weight"
   ]
  },
  {
   "cell_type": "code",
   "execution_count": null,
   "id": "ec3ff980-79d8-4db9-93ac-0fe5e0ce9e93",
   "metadata": {},
   "outputs": [],
   "source": [
    "\n",
    "fig, ax = plt.subplots(1, 1,figsize=(10,6))\n",
    "my_plotter(ax,px_energy_bi212,px_weight_bi212,\"PX-Bi212\",\"log\")\n",
    "my_plotter(ax,px_energy_tl208,px_weight_tl208,\"PX-Tl208\",\"log\")\n",
    "# my_plotter(ax,nx_energy,nx_weight,\"NX\",\"log\")\n",
    "# my_plotter(ax,py_energy,py_weight,\"PY\",\"log\")\n",
    "# my_plotter(ax,ny_energy,ny_weight,\"NY\",\"log\")\n",
    "plt.grid()\n",
    "#plt.savefig(\"log.pdf\")\n",
    "plt.show()"
   ]
  },
  {
   "cell_type": "code",
   "execution_count": null,
   "id": "9f05cf5a-373d-4e38-8c59-1fbcc9510c29",
   "metadata": {},
   "outputs": [],
   "source": [
    "sc='linear'\n",
    "fig, ax = plt.subplots(1, 1,figsize=(6,4))\n",
    "my_plotter(ax,px_energy_bi212,px_weight_bi212,\"PX-Bi212\",sc)\n",
    "my_plotter(ax,px_energy_tl208,px_weight_tl208,\"PX-Tl208\",sc)\n",
    "# my_plotter(ax,nx_energy,nx_weight,\"NX\",\"log\")\n",
    "# my_plotter(ax,py_energy,py_weight,\"PY\",\"log\")\n",
    "# my_plotter(ax,ny_energy,ny_weight,\"NY\",\"log\")\n",
    "plt.grid()\n",
    "#plt.savefig(\"log.pdf\")\n",
    "plt.show()"
   ]
  },
  {
   "cell_type": "code",
   "execution_count": null,
   "id": "205ce6bd-8948-4976-a491-c551ce283782",
   "metadata": {},
   "outputs": [],
   "source": [
    "plot_isotopes(filtered_th228_px,'PX')\n",
    "plot_isotopes(filtered_th228_nx,'NX')\n",
    "plot_isotopes(filtered_th228_py,'PY')\n",
    "plot_isotopes(filtered_th228_ny,'NY')"
   ]
  },
  {
   "cell_type": "code",
   "execution_count": null,
   "id": "29df850c-291f-4f66-9a3b-fb89eae8214a",
   "metadata": {},
   "outputs": [],
   "source": [
    "# file='Example_Bi212_pos648.5_0_-1022.6_seed1.nEXOevents.root'\n",
    "# suffix=\":Event/Sim/SimEvent/SimEvent\"\n",
    "root='/home/thakur/slac_data/PX1M/'"
   ]
  },
  {
   "cell_type": "code",
   "execution_count": null,
   "id": "9d4adc5a-f083-45fc-99df-bea25d9c1a8b",
   "metadata": {},
   "outputs": [],
   "source": [
    "file='PX1M_Th228_pos648.5_0_-1022.6.root'+':tree'"
   ]
  },
  {
   "cell_type": "code",
   "execution_count": null,
   "id": "8b4c306e-0885-4bb5-b87c-173082550982",
   "metadata": {},
   "outputs": [],
   "source": [
    "file1=root+file\n",
    "file1"
   ]
  },
  {
   "cell_type": "code",
   "execution_count": null,
   "id": "a50e078f-588a-4fde-813b-237706eeb1ec",
   "metadata": {},
   "outputs": [],
   "source": [
    "f=uproot.open(file1)"
   ]
  },
  {
   "cell_type": "code",
   "execution_count": null,
   "id": "5d14a2a5-8601-4cdb-a4e6-d5fbb4bc3eb5",
   "metadata": {},
   "outputs": [],
   "source": [
    "f.values()"
   ]
  },
  {
   "cell_type": "code",
   "execution_count": null,
   "id": "817e3252-d786-48d8-a2c0-f38955f13810",
   "metadata": {},
   "outputs": [],
   "source": [
    "f.keys()"
   ]
  },
  {
   "cell_type": "code",
   "execution_count": null,
   "id": "80b4a14f-8f8d-4dce-999d-55549fcfd7df",
   "metadata": {},
   "outputs": [],
   "source": [
    "f.show()"
   ]
  },
  {
   "cell_type": "code",
   "execution_count": null,
   "id": "14e25ff1-f124-4ef8-8031-32ffb65e7187",
   "metadata": {},
   "outputs": [],
   "source": [
    "df=f.arrays(f.keys(),library='pd')"
   ]
  },
  {
   "cell_type": "code",
   "execution_count": null,
   "id": "0c185102-4bf9-46c7-abd8-652f573fa447",
   "metadata": {},
   "outputs": [],
   "source": [
    "df"
   ]
  },
  {
   "cell_type": "code",
   "execution_count": null,
   "id": "516d6178-030d-475f-8d69-c1ac393eb48b",
   "metadata": {},
   "outputs": [],
   "source": [
    "df.columns.values"
   ]
  },
  {
   "cell_type": "code",
   "execution_count": null,
   "id": "ac51e1c2-9457-4152-b97c-c31424b6c5da",
   "metadata": {},
   "outputs": [],
   "source": [
    "apply_filter='passed_z_thresh & passed_xy_thresh & (n_x_ch_abovenoise>0) & (n_y_ch_abovenoise>0) & (m_nOPCal< (1.064*m_nQ+703)) & (m_nOPCal> (0.644*m_nQ-2411)) & (~NESTBugFound) & (m_DNNvalue>0.85) & (standoff > 100)'\n",
    "#app='(m_nOPCal< (1.064*m_nQ+703))'"
   ]
  },
  {
   "cell_type": "code",
   "execution_count": null,
   "id": "7985043d-335e-40e2-8c98-18981e1f6d9d",
   "metadata": {},
   "outputs": [],
   "source": [
    "df_filtered=df.query(apply_filter).reset_index(drop=True)"
   ]
  },
  {
   "cell_type": "code",
   "execution_count": null,
   "id": "e507daa8-38dd-401b-a0f7-c7673985a0fb",
   "metadata": {},
   "outputs": [],
   "source": [
    "df_filtered"
   ]
  },
  {
   "cell_type": "code",
   "execution_count": null,
   "id": "d4e3d416-ba33-471b-9e1a-5e7cf9945106",
   "metadata": {},
   "outputs": [],
   "source": [
    "ene, weight = df_filtered.energy,df_filtered.weight\n",
    "component='energy'\n",
    "isotope='Th228'\n",
    "location='PX'\n",
    "plt.hist(ene, bins=200, histtype=u'step', weights=weight, density=True, label=component)\n",
    "plt.yscale(\"log\")\n",
    "plt.ylabel(\"Counts\")\n",
    "plt.xlabel(\"Energy [keV]\")\n",
    "plt.title(f\"{isotope} [{location}] Energy PDF for SS events in the inner 2000 kg\")\n",
    "plt.legend()\n",
    "plt.show()"
   ]
  },
  {
   "cell_type": "code",
   "execution_count": null,
   "id": "7ffe4860-2968-4718-9f8e-6ff79df85e65",
   "metadata": {},
   "outputs": [],
   "source": [
    "ene, weight = df_filtered.energy,df_filtered.weight\n",
    "component='energy'\n",
    "isotope='Th228'\n",
    "location='PX'\n",
    "plt.hist(ene, bins=200, histtype=u'step', weights=weight, density=True, label=component)\n",
    "plt.yscale(\"log\")\n",
    "plt.ylabel(\"Counts\")\n",
    "plt.xlabel(\"Energy [keV]\")\n",
    "plt.title(f\"{isotope} [{location}] Energy PDF for SS events in the inner 2000 kg\")\n",
    "plt.legend()\n",
    "plt.show()"
   ]
  },
  {
   "cell_type": "code",
   "execution_count": null,
   "id": "c9edcfdc-38fa-48b7-a5bc-a21052511dc7",
   "metadata": {},
   "outputs": [],
   "source": [
    "ene, weight = df_filtered.energy,df_filtered.weight\n",
    "fig, ax = plt.subplots(1, 1,figsize=(10,6))\n",
    "my_plotter(ax,ene,weight,\"PX\")\n",
    "plt.show()"
   ]
  },
  {
   "cell_type": "code",
   "execution_count": null,
   "id": "387ff4f4-715a-45ed-ad00-4760a7ba8e72",
   "metadata": {},
   "outputs": [],
   "source": [
    "# fil='sel_filter = (passed_xy_thresh & passed_z_thresh & (n_x_ch_abovenoise > 0) & (n_y_ch_abovenoise > 0)& (m_nOPCal < 1.064 * m_nQ + 703) & (m_nOPC\n",
    "# al > 0.644 * m_nQ - 2411) & (~NESTBugFound)\n",
    "# & (m_DNNvalue>0.85) & (standoff > 100))'"
   ]
  },
  {
   "cell_type": "code",
   "execution_count": null,
   "id": "88a3283c-5722-4f0e-ad93-78144dc0b5af",
   "metadata": {},
   "outputs": [],
   "source": [
    "en=df.energy.values\n",
    "en"
   ]
  },
  {
   "cell_type": "code",
   "execution_count": null,
   "id": "318416c2-045c-4f76-9449-d0b283aa0825",
   "metadata": {},
   "outputs": [],
   "source": [
    "# plt.hist(en,density=1,bins=500)\n",
    "# plt.show()"
   ]
  },
  {
   "cell_type": "code",
   "execution_count": null,
   "id": "3aef76c1-1ea5-4238-9933-254d28a385c8",
   "metadata": {},
   "outputs": [],
   "source": [
    "df.query('3000>energy>2000')['energy']"
   ]
  },
  {
   "cell_type": "code",
   "execution_count": null,
   "id": "2c1eab97-bc92-4354-a3df-f092972fe87f",
   "metadata": {},
   "outputs": [],
   "source": [
    "energy=f.arrays([\"energy\"],library='np')"
   ]
  },
  {
   "cell_type": "code",
   "execution_count": null,
   "id": "512af190-e1a2-4d06-8a65-650797ccaded",
   "metadata": {},
   "outputs": [],
   "source": [
    "energy"
   ]
  },
  {
   "cell_type": "code",
   "execution_count": null,
   "id": "2bf8fe23-8f63-421f-ab07-4c0c2845cd05",
   "metadata": {},
   "outputs": [],
   "source": [
    "fig = plt.figure(figsize=(20,15))\n",
    "ax = fig.add_subplot(projection='3d')\n",
    "ax.scatter(df['fGenX'],df['fGenY'],df['fGenZ'],color='r')\n",
    "ax.set_xlabel('fGenX');ax.set_ylabel('fGenY');ax.set_zlabel('fGenZ')\n",
    "plt.show()"
   ]
  },
  {
   "cell_type": "code",
   "execution_count": null,
   "id": "2bc11663-1f75-4096-b459-535a5d7106fe",
   "metadata": {},
   "outputs": [],
   "source": [
    "df['fGenParticleID'].value_counts()#.dropna().value_counts()"
   ]
  },
  {
   "cell_type": "code",
   "execution_count": null,
   "id": "356e006e-39f0-4394-903c-353aed08deee",
   "metadata": {},
   "outputs": [],
   "source": [
    "df['fGenParticleID'].to_list()"
   ]
  },
  {
   "cell_type": "code",
   "execution_count": null,
   "id": "5e83e220-e45c-4893-84a7-a01a2ff2d3c9",
   "metadata": {},
   "outputs": [],
   "source": [
    "df['fGenParticleID'].unique"
   ]
  },
  {
   "cell_type": "code",
   "execution_count": null,
   "id": "9e5ccdc2-8cd8-401a-b903-1498296d29cb",
   "metadata": {},
   "outputs": [],
   "source": [
    "from collections import Counter\n",
    "from  itertools import chain\n",
    "df_genparticle=pd.Series(Counter(chain(df.fGenParticleID)))\n",
    "dfgen=df_genparticle.to_frame()\n",
    "#dfgen=dfgen.rename(columns=['count'])\n",
    "#df_genparticle.rename(columns=['iso','count'])\n",
    "dfgen.columns=['num'];#dfgen.index='iso'"
   ]
  },
  {
   "cell_type": "code",
   "execution_count": null,
   "id": "2d8f6022-2635-4e7f-8e5e-e4c26b549695",
   "metadata": {},
   "outputs": [],
   "source": [
    "dfgen.plot(kind='bar')"
   ]
  },
  {
   "cell_type": "code",
   "execution_count": null,
   "id": "4f0fa438-b2c0-4af4-a1af-b72eeb8ecfc0",
   "metadata": {},
   "outputs": [],
   "source": []
  },
  {
   "cell_type": "code",
   "execution_count": null,
   "id": "c6caea3a-c96d-4649-a75c-e86828588c35",
   "metadata": {},
   "outputs": [],
   "source": [
    "selection='fXpos'\n",
    "x=df[selection]\n",
    "for y in x:\n",
    "    print(f\"length of y[0] {len(y[0])}\")\n",
    "    print(f\"y[0] values {y[0]}\")\n"
   ]
  },
  {
   "cell_type": "code",
   "execution_count": null,
   "id": "6808eabe-78d0-4e00-b5bb-9aee1316de49",
   "metadata": {},
   "outputs": [],
   "source": [
    "selection='fYpos'\n",
    "y=df[selection]\n",
    "y"
   ]
  },
  {
   "cell_type": "code",
   "execution_count": null,
   "id": "608426f2-fa86-4d20-b273-a60deab9471e",
   "metadata": {},
   "outputs": [],
   "source": [
    "selection='fZpos'\n",
    "z=df[selection]\n",
    "z"
   ]
  },
  {
   "cell_type": "code",
   "execution_count": null,
   "id": "3863bb44-9539-45c5-a86e-8857f654563b",
   "metadata": {},
   "outputs": [],
   "source": []
  },
  {
   "cell_type": "code",
   "execution_count": null,
   "id": "446da45f-1049-44b2-b7df-89d125f26f12",
   "metadata": {},
   "outputs": [],
   "source": []
  }
 ],
 "metadata": {
  "kernelspec": {
   "display_name": "Python 3 (ipykernel)",
   "language": "python",
   "name": "python3"
  },
  "language_info": {
   "codemirror_mode": {
    "name": "ipython",
    "version": 3
   },
   "file_extension": ".py",
   "mimetype": "text/x-python",
   "name": "python",
   "nbconvert_exporter": "python",
   "pygments_lexer": "ipython3",
   "version": "3.10.6"
  }
 },
 "nbformat": 4,
 "nbformat_minor": 5
}
