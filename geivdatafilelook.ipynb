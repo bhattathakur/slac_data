{
 "cells": [
  {
   "cell_type": "code",
   "execution_count": null,
   "id": "1f0126f3-d2db-49eb-b4a1-c7643552229e",
   "metadata": {},
   "outputs": [],
   "source": [
    "import pandas as pd\n"
   ]
  },
  {
   "cell_type": "code",
   "execution_count": null,
   "id": "3a75925a-1689-4858-b9b7-cb8b0653c037",
   "metadata": {},
   "outputs": [],
   "source": [
    "file='/home/thakur/mylab/ryanfiles/geiv_door_data_0317/'+'pb210.dat'\n",
    "file='/home/thakur/mylab/ryanfiles/geiv_frontleft_data_0317/'+'co60.dat'\n",
    "file='/home/thakur/mylab/ryanfiles/multisimulation/frontleft-s-0.3-t-0.11-d-1.68/'+'pb210sim.dat'\n"
   ]
  },
  {
   "cell_type": "code",
   "execution_count": null,
   "id": "401d60d4-87e7-492b-aac6-4730d26eee97",
   "metadata": {},
   "outputs": [],
   "source": [
    "file"
   ]
  },
  {
   "cell_type": "code",
   "execution_count": null,
   "id": "c8cd8e37-ce15-406a-85e5-ebec0bbb819f",
   "metadata": {},
   "outputs": [],
   "source": [
    "skiprows=6\n",
    "skipfooter=2\n",
    "geiv_data=False\n",
    "\n",
    "# if geiv_data:\n",
    "#     df=pd.read_csv(file,skiprows=skiprows,skipfooter=skipfooter,engine='python',delim_whitespace=True,names=['chn_number','count_number'])\n",
    "# else:\n",
    "df=pd.read_csv(file,delim_whitespace=True,names=['chn_number','count_number'])"
   ]
  },
  {
   "cell_type": "code",
   "execution_count": null,
   "id": "4e29e364-a2eb-41a3-bc28-49f94e497dca",
   "metadata": {},
   "outputs": [],
   "source": [
    "df"
   ]
  },
  {
   "cell_type": "code",
   "execution_count": null,
   "id": "4b319664-68d6-449e-924b-0a85feae215c",
   "metadata": {},
   "outputs": [],
   "source": [
    "%matplotlib qt\n",
    "ax=df.plot(x='chn_number',y='count_number')\n",
    "ax.set_xlabel('energy [keV]')\n",
    "ax.set_ylabel('counts')"
   ]
  },
  {
   "cell_type": "code",
   "execution_count": null,
   "id": "41348b05-ca4f-4772-a6ae-b0c8d431f180",
   "metadata": {},
   "outputs": [],
   "source": [
    "kev_per_chn=2.34832e-01\n",
    "chn_0=-1.45885e+01\n",
    "df['energy']=kev_per_chn*df['chn_number']+chn_0"
   ]
  },
  {
   "cell_type": "code",
   "execution_count": null,
   "id": "036b1d49-dc5e-4e68-ab63-1c99ccbf1081",
   "metadata": {},
   "outputs": [],
   "source": [
    "df"
   ]
  },
  {
   "cell_type": "code",
   "execution_count": null,
   "id": "f26ade29-e9d0-463e-adfb-df774bf18241",
   "metadata": {},
   "outputs": [],
   "source": [
    "df.count_number.sum()"
   ]
  },
  {
   "cell_type": "code",
   "execution_count": null,
   "id": "1c7e3ff0-bd17-478e-92b1-9ae9ceeaf755",
   "metadata": {},
   "outputs": [],
   "source": [
    "df.query('count_number>0')"
   ]
  },
  {
   "cell_type": "code",
   "execution_count": null,
   "id": "956f1793-e3d6-4999-8030-490136c07972",
   "metadata": {},
   "outputs": [],
   "source": [
    "%matplotlib qt\n",
    "ax=df.plot(x='energy',y='count_number')\n",
    "ax.set_xlabel('energy [keV]')\n",
    "ax.set_ylabel('counts')\n"
   ]
  },
  {
   "cell_type": "code",
   "execution_count": null,
   "id": "93488c8c-7a81-4a09-93d7-5727b223df37",
   "metadata": {},
   "outputs": [],
   "source": []
  }
 ],
 "metadata": {
  "kernelspec": {
   "display_name": "Python 3 (ipykernel)",
   "language": "python",
   "name": "python3"
  },
  "language_info": {
   "codemirror_mode": {
    "name": "ipython",
    "version": 3
   },
   "file_extension": ".py",
   "mimetype": "text/x-python",
   "name": "python",
   "nbconvert_exporter": "python",
   "pygments_lexer": "ipython3",
   "version": "3.10.6"
  }
 },
 "nbformat": 4,
 "nbformat_minor": 5
}
