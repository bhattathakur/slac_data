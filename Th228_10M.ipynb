{
 "cells": [
  {
   "cell_type": "code",
   "execution_count": null,
   "id": "9c079f7f-7bf6-4e61-88a3-41500e4a6a0d",
   "metadata": {},
   "outputs": [],
   "source": [
    "#10 M events were generated at PX/NX/PY/NY/PZ/NZ positon including the isotopes 'Th228','Ra224','Rn220','Po216','Pb212','Bi212','Tl208'\n",
    "#skipEThreshold: 0.1\n",
    "#Each isotopes 40 seeds;each simulation: 250K events\n",
    "# 38 failed for Th228 and 27 failed for Po216\n",
    "#Total root files in g4 215 for PX , 215 for NX\n",
    "#Total root files in recon 211\n",
    "#comparing with the result in the 5 th slide\n",
    "#https://docs.google.com/viewer?url=https%3A%2F%2Fnexowiki.llnl.gov%2Fimages%2Fa%2Fa1%2FScott_Schwartz_Th228_Location_Reconstruction_Study.pdf"
   ]
  },
  {
   "cell_type": "code",
   "execution_count": null,
   "id": "1cde92af-d120-47b2-b913-16e062c2d64a",
   "metadata": {},
   "outputs": [],
   "source": [
    "#libraries\n",
    "import uproot\n",
    "import matplotlib.pyplot as plt\n",
    "import pandas as pd\n",
    "from matplotlib import rcParams\n",
    "import seaborn as sns\n",
    "import scienceplots\n",
    "plt.rcParams['figure.figsize'] = [30, 20]\n",
    "sns.set(rc={'figure.figsize':(30,20)})\n",
    "#sns.set(font_scale=1.0)\n",
    "sns.set_theme(style=\"darkgrid\")"
   ]
  },
  {
   "cell_type": "markdown",
   "id": "7451d3e1-b538-4586-93dc-1ec86cdc63b2",
   "metadata": {},
   "source": [
    "# DATA FILES"
   ]
  },
  {
   "cell_type": "code",
   "execution_count": null,
   "id": "897b95d5-e156-45f0-9cf2-e2568da3b48f",
   "metadata": {},
   "outputs": [],
   "source": [
    "file_px='/home/thakur/slac_data/10Mth228/10Mth228_Th228_pos648.5_0_-1022.6.root' #PX location\n",
    "file_nx='/home/thakur/slac_data/s1/s1_Th228_pos-648.5_0_-1022.6.root'            #NX location\n",
    "skipEThreshold=0.1"
   ]
  },
  {
   "cell_type": "markdown",
   "id": "1912481c-611f-4789-8323-cefc6745534f",
   "metadata": {},
   "source": [
    "# FILTERS"
   ]
  },
  {
   "cell_type": "code",
   "execution_count": null,
   "id": "d2cf5353-8dbe-4ec6-a99c-d6f39bbb502e",
   "metadata": {},
   "outputs": [],
   "source": [
    "#cuts\n",
    "apply_filter='passed_z_thresh & passed_xy_thresh & (n_x_ch_abovenoise>0) & (n_y_ch_abovenoise>0) & (m_nOPCal< (1.064*m_nQ+703)) & (m_nOPCal> (0.644*m_nQ-2411)) & (~NESTBugFound) & (m_DNNvalue>0.85) & (standoff > 100)'\n",
    "\n",
    "\n",
    "dec102020_filter='''\n",
    "standoff>100 &\\\n",
    "passed_xy_thresh &\\\n",
    "passed_z_thresh &\\\n",
    "(n_x_ch_abovenoise > 0) &\\\n",
    "(n_y_ch_abovenoise > 0) &\\\n",
    "(m_nOPCal < (1.077 * m_nQ + 313)) &\\\n",
    "(m_nOPCal > (0.597 * m_nQ - 216)) &\\\n",
    "~NESTBugFound &\\\n",
    "~NearAnodeBugFound &\\\n",
    "m_DNNvalue>0.85)\n",
    "'''\n",
    "ja_filter='(standoff>100) & m_DNNvalue>0.85 & passed_xy_thresh & passed_z_thresh & (n_x_ch_abovenoise > 0) & (n_y_ch_abovenoise > 0) & (m_nOPCal < (1.077 * m_nQ + 313)) & (m_nOPCal > (0.597 * m_nQ - 216))& (abs(energy-2614)<10)'# & ~NESTBugFound & ~NearAnodeBugFound' & (abs(energy-2614)<10)'\n",
    "s_filter='''\n",
    "standoff>20   &\\\n",
    "m_DNNvalue>0  &\\\n",
    "energy>0      &\\\n",
    "energy<3000   &\\\n",
    "passed_z_thresh &\\\n",
    "passed_xy_thresh &\\\n",
    "(n_x_ch_abovenoise>0) &\\\n",
    "(n_y_ch_abovenoise>0) &\\\n",
    "(m_nOPCal< (1.064*m_nQ+703))&\\\n",
    "(m_nOPCal> (0.644*m_nQ-2411))&\\\n",
    "~NESTBugFound &\\\n",
    "~NearAnodeBugFound       \n",
    "         '''"
   ]
  },
  {
   "cell_type": "code",
   "execution_count": null,
   "id": "89f08397-dd0c-4c9c-ab9b-38074a108bc9",
   "metadata": {},
   "outputs": [],
   "source": [
    "print(\"\\ns_filter:\\n\",s_filter.replace('&','&\\n'))"
   ]
  },
  {
   "cell_type": "code",
   "execution_count": null,
   "id": "6958a6b1-bfa6-45a6-956d-dbf3fe08c289",
   "metadata": {},
   "outputs": [],
   "source": [
    "print(\"\\ndec102020_filter:\\n\",dec102020_filter.replace('&','&\\n'))"
   ]
  },
  {
   "cell_type": "code",
   "execution_count": null,
   "id": "4a00d509-8371-4cb0-94a1-006f6e0f5c65",
   "metadata": {},
   "outputs": [],
   "source": [
    "#isotopes order in the simulation\n",
    "isotopes=['Th228','Ra224','Rn220','Po216','Pb212','Bi212','Tl208']"
   ]
  },
  {
   "cell_type": "code",
   "execution_count": null,
   "id": "d75cb02e-7731-4e0a-8b2b-15ad09bf5d5e",
   "metadata": {},
   "outputs": [],
   "source": [
    "#read data file and return the related dataframe\n",
    "def return_raw_df(file):\n",
    "    '''\n",
    "    returns the raw dataframe in the rootfile for the included tree\n",
    "    '''\n",
    "    f=uproot.open(file+':tree')\n",
    "    df=f.arrays(f.keys(),library='pd')\n",
    "    return df\n",
    "\n",
    "#apply the given cut and get the cut dataframe\n",
    "def return_cut_df(df,cut):\n",
    "    '''\n",
    "    Applies the `cut` with the `query` funciton in the provided `df` and returns a new dataframe\n",
    "    '''\n",
    "    return df.query(cut).reset_index(drop=True)\n",
    "\n",
    "\n",
    "#counts the isotopes in the given dataframe and returns the respective number\n",
    "def get_isotopes_counts(df,isotopes=isotopes):\n",
    "    '''\n",
    "    counts the number of respective `isotopes` in the given dataframe and returns a dataframe with `isotopes` and `counts'\n",
    "    '''\n",
    "    counts_df=pd.DataFrame(df.isotope.value_counts().reset_index().values,columns=['isonum','counts'])\\\n",
    "    .sort_values(by=['isonum'])\\\n",
    "    .reset_index(drop=True)\n",
    "\n",
    "    counts_df[\"isotopes\"]=counts_df.isonum.apply(lambda x:isotopes[x-1])\n",
    "    counts_df=counts_df[['isonum','isotopes','counts']]\n",
    "    #raw_counts.index=raw_counts.isotopes\n",
    "    #print(raw_counts.to_string())\n",
    "    return counts_df\n",
    "\n",
    "#return a single dataframe with the g4tree_counts and cut counts\n",
    "\n",
    "def get_both_counts(df_g4tree,df_cut):\n",
    "    '''\n",
    "    returns the single dataframe including the number of counts for `g4tree` as well as `cut` for provided `df_g4tree` and `df_cut' dataframes\n",
    "    '''\n",
    "    #pass\n",
    "    df_g4tree.rename(columns={\"counts\":\"g4tree_counts\"},inplace=True)\n",
    "    df_cut.rename(columns={\"counts\":\"cut_counts\"},inplace=True)\n",
    "    merged=df_g4tree.merge(df_cut,how='left')\n",
    "    merged=merged[['isotopes','g4tree_counts','cut_counts']]\n",
    "    merged=merged.set_index('isotopes')\n",
    "    merged.fillna(0,inplace=True)\n",
    "    return merged\n",
    "\n",
    "#returns the colum names in the given dataframe\n",
    "def get_column_names(df):\n",
    "    '''\n",
    "    returns the column names in the `df` dataframe\n",
    "    '''\n",
    "    return df.columns"
   ]
  },
  {
   "cell_type": "code",
   "execution_count": null,
   "id": "b5c3ddc7-1c3a-4188-8e55-9583dc5fd0fb",
   "metadata": {},
   "outputs": [],
   "source": [
    "#produces the energy spectrum\n",
    "def get_energy_spectrum(df,loc,bins=1000,weights=\"weights\"):\n",
    "    '''returns the energy spectrum including the weights of isotopes'''\n",
    "    \n",
    "    sns.set(rc={'figure.figsize':(20,10)})\n",
    "    \n",
    "    #adding the isotop name column in the df dataframe\n",
    "    df['iso_name']=df['isotope'].map({1:'Th228',2:'Ra224',3:'Rn220',4:'Po216',5:'Pb212',6:'Bi212',7:'Tl208'})\n",
    "    \n",
    "    \n",
    "    #sns.histplot(data=df_s, x=\"energy\",hue=\"isotope\",bins=200,element=\"step\",log_scale=True,fill=False)\n",
    "    g=sns.histplot(data=df, x=\"energy\",hue=\"iso_name\",weights=\"weight\",bins=bins,element=\"step\",fill=False)#,palette=['r','b','g','y','k'])\n",
    "    #plt.legend(labels=iso_names)\n",
    "    g.set_xlabel('Energy [keV]')\n",
    "    g.set_ylabel('Counts')\n",
    "    plt.yscale(\"log\")\n",
    "    plt.title(f'Energy specturm pdf for Th228 at {loc}')\n",
    "    plt.show()\n"
   ]
  },
  {
   "cell_type": "code",
   "execution_count": null,
   "id": "d376bd90-8f5a-4751-b17e-d1d14f9654ec",
   "metadata": {},
   "outputs": [],
   "source": [
    "#function to get the combined plot\n",
    "\n",
    "def get_combined_count_plot(df,loc,save_fig=False, skipThreshold=0.1):\n",
    "    '''\n",
    "    return the plot of counts vs isotope numbers for the given dataframe\n",
    "    '''\n",
    "    plt.rcParams[\"figure.figsize\"] = (16,12)\n",
    "    ax=df.plot.bar()\n",
    "    for c in ax.containers:\n",
    "        ax.bar_label(c, fmt='%.0f', label_type='edge',rotation=90,color='k',fontweight='bold',padding=1.)\n",
    "    plt.xlabel('ISOTOPES')\n",
    "    plt.title(f'Isotope counts for 10M Th228 at {loc} for skipEThreshold: {skipEThreshold} keV \\n')\n",
    "    plt.ylabel('COUNTS')\n",
    "    plt.yscale('log')\n",
    "    if save_fig:\n",
    "        fig_name=f'isotope_counts_{loc}.pdf'\n",
    "        print(f\"saving plot as: {fig_name}\")\n",
    "        plt.savefig(fig_name)\n",
    "    plt.show()"
   ]
  },
  {
   "cell_type": "code",
   "execution_count": null,
   "id": "bd35ae7c-c70c-4d8d-ada0-8e2ad8fdef80",
   "metadata": {},
   "outputs": [],
   "source": [
    "#function to return an energy spectrum and bar graph\n",
    "\n",
    "def get_spectrum_and_bar(df,merged,loc,bins=1000,save_fig=False):\n",
    "    '''\n",
    "    returns an energy pdf and bar graph for given dataframe `df` and combined count dataframe `merged`\n",
    "    '''\n",
    "    fig, axes = plt.subplots(1, 2,gridspec_kw={'width_ratios':[3,1]})\n",
    "    sns.set(rc={'figure.figsize':(20,10)})\n",
    "    \n",
    "    #mapping the isotope number to respective name\n",
    "    df['iso_name']=df['isotope'].map({1:'Th228',2:'Ra224',3:'Rn220',4:'Po216',5:'Pb212',6:'Bi212',7:'Tl208'})\n",
    "    #sns.histplot(data=df_s, x=\"energy\",hue=\"isotope\",bins=200,element=\"step\",log_scale=True,fill=False)\n",
    "    g=sns.histplot(data=df, x=\"energy\",hue=\"iso_name\",weights=\"weight\",bins=1000,element=\"step\",fill=False,ax=axes[0])#,palette=['r','b','g','y','k'])\n",
    "    #plt.legend(labels=iso_names)\n",
    "    g.set_xlabel('Energy [keV]')\n",
    "    g.set_ylabel('Counts')\n",
    "    g.set_yscale(\"log\")\n",
    "\n",
    "    #g1=sns.barplot(data=merged,x='\n",
    "    ax=merged[[\"g4tree_counts\",\"cut_counts\"]].plot.bar(ax=axes[1])\n",
    "    for c in ax.containers:\n",
    "        # set the bar label\n",
    "        ax.bar_label(c, fmt='%.0f', label_type='edge',fontweight='bold')\n",
    "    ax.set_xlabel('Isotopes')\n",
    "\n",
    "    ax.set_ylabel('Counts')\n",
    "    ax.set_yscale('log')\n",
    "\n",
    "    plt.suptitle(f'Energy spectrum and event counts for 10M Th228 at {loc} for skipEThreshold: {skipEThreshold} keV \\n')\n",
    "    if save_fig:\n",
    "        file_name='energyandisotopes.pdf'\n",
    "        print(f\"saving the graph to the file {file_name}\\n\")\n",
    "        plt.savefig(file_name)\n",
    "\n",
    "    plt.show()"
   ]
  },
  {
   "cell_type": "code",
   "execution_count": null,
   "id": "bfe59738-fb47-4ea7-ad30-aff74b28c4f1",
   "metadata": {},
   "outputs": [],
   "source": [
    "#g4tree dataframe\n",
    "df_g4tree=return_raw_df(file_nx)\n",
    "df_g4tree"
   ]
  },
  {
   "cell_type": "code",
   "execution_count": null,
   "id": "67f01a6b-146d-4e41-b950-f6f8224f9d20",
   "metadata": {},
   "outputs": [],
   "source": [
    "#column names\n",
    "get_column_names(df_g4tree)"
   ]
  },
  {
   "cell_type": "code",
   "execution_count": null,
   "id": "63161abe-768e-4d36-be01-f2ed7663f41d",
   "metadata": {},
   "outputs": [],
   "source": [
    "#cut dataframe\n",
    "cut=s_filter\n",
    "\n",
    "print(\"\\ncut-information:\\n\",cut.replace(\"&\",\"&\\n\"))\n",
    "df_cut=return_cut_df(df_g4tree,cut)\n",
    "df_cut"
   ]
  },
  {
   "cell_type": "code",
   "execution_count": null,
   "id": "3f8bb9f1-4ce6-4f0c-aea3-be7104bbcb8a",
   "metadata": {},
   "outputs": [],
   "source": [
    "#isotopes counts\n",
    "g4tree_counts=get_isotopes_counts(df_g4tree)  #g4tree counts\n",
    "\n",
    "cut_counts=get_isotopes_counts(df_cut)        #cut counts\n",
    "\n"
   ]
  },
  {
   "cell_type": "code",
   "execution_count": null,
   "id": "37a4f97d-063f-4d32-8f65-6b0826145493",
   "metadata": {},
   "outputs": [],
   "source": [
    "g4tree_counts"
   ]
  },
  {
   "cell_type": "code",
   "execution_count": null,
   "id": "8337ad5d-b0cc-4618-bd11-6871bbe1de30",
   "metadata": {},
   "outputs": [],
   "source": [
    "cut_counts\n"
   ]
  },
  {
   "cell_type": "code",
   "execution_count": null,
   "id": "bf8bb2c0-9697-460d-ba1e-2e56fd9322cb",
   "metadata": {},
   "outputs": [],
   "source": [
    "#both counts df\n",
    "combined_counts=get_both_counts(g4tree_counts,cut_counts)\n",
    "combined_counts"
   ]
  },
  {
   "cell_type": "code",
   "execution_count": null,
   "id": "d9daac53-9375-4f1d-b148-632e08e401a1",
   "metadata": {},
   "outputs": [],
   "source": [
    "pr_line='\\n'+30*'-'+'\\n'\n",
    "print(pr_line)\n",
    "br_list=[1,1,1,1,1,1,0.359] #branching ratio of the isotopes\n",
    "print(f\"\\nIsotopes and Branching order\\n\")\n",
    "for i,j in zip(isotopes,br_list):\n",
    "    print(f\"{i}\\t{j}\")\n",
    "print(pr_line)"
   ]
  },
  {
   "cell_type": "code",
   "execution_count": null,
   "id": "d526e6ea-a1ce-4663-89b0-2e4551643df5",
   "metadata": {},
   "outputs": [],
   "source": [
    "#resulting dataframe after applicaiton of br \n",
    "combined_counts['cut_counts']=combined_counts['cut_counts']*br_list\n",
    "combined_counts['cut_counts']=combined_counts['cut_counts'].astype(int)"
   ]
  },
  {
   "cell_type": "code",
   "execution_count": null,
   "id": "1ba717e6-5876-4011-96f3-68a1c699ae01",
   "metadata": {},
   "outputs": [],
   "source": [
    "#print(merged[['cut_counts','s_counts']].to_string())\n",
    "combined_counts"
   ]
  },
  {
   "cell_type": "code",
   "execution_count": null,
   "id": "3166e1ca-e84c-42dc-aa73-7c47adc4e9a9",
   "metadata": {},
   "outputs": [],
   "source": [
    "s_counts=[0,0,6,12,0,13570,234244]  #count based on scott's count for px position"
   ]
  },
  {
   "cell_type": "code",
   "execution_count": null,
   "id": "f3cef459-f65e-4bae-96e3-2e078d0ebc7d",
   "metadata": {},
   "outputs": [],
   "source": [
    "combined_counts[\"s_counts\"]=s_counts"
   ]
  },
  {
   "cell_type": "code",
   "execution_count": null,
   "id": "41193108-ad9f-4198-bc09-1a9c4620f3d8",
   "metadata": {},
   "outputs": [],
   "source": [
    "combined_counts"
   ]
  },
  {
   "cell_type": "markdown",
   "id": "31587b76-d875-4b3e-9f8f-48ecb6542067",
   "metadata": {},
   "source": [
    "# ISOTOPES COUNTS BAR DIAGRAM"
   ]
  },
  {
   "cell_type": "code",
   "execution_count": null,
   "id": "5780d3e9-4b5d-4773-8ddc-9530cf332f0c",
   "metadata": {},
   "outputs": [],
   "source": [
    "#give the name of the combined dataframe name and location\n",
    "loc='NX'\n",
    "save_fig=False\n",
    "df=combined_counts\n",
    "\n",
    "get_combined_count_plot(df,loc=loc,save_fig=save_fig)"
   ]
  },
  {
   "cell_type": "markdown",
   "id": "2f2183a1-1c5e-4b00-be82-ad2c6e9a1dee",
   "metadata": {},
   "source": [
    "# ENERGY PDF AND BAR GRAPHS"
   ]
  },
  {
   "cell_type": "code",
   "execution_count": null,
   "id": "51a8d07c-795a-4e07-9564-d93f02c59292",
   "metadata": {},
   "outputs": [],
   "source": [
    "loc='NX'\n",
    "save_fig=True\n",
    "get_spectrum_and_bar(df_cut,combined_counts,loc,save_fig=save_fig)"
   ]
  },
  {
   "cell_type": "code",
   "execution_count": null,
   "id": "938c1149-68fc-4517-aefd-19c0f97443b3",
   "metadata": {},
   "outputs": [],
   "source": [
    "iso=['Th228','Ra224','Rn220','Po216','pb212','bi212','tl208']\n",
    "col=['b','y','g','k','c','m','r']\n",
    "filtered_th228=df_cut.copy()\n",
    "print(f\"Total rows: {filtered_th228.shape[0]}\")\n",
    "for i in [1,2,3,4,5,6,7]:\n",
    "    #print(non_filtered_th228_px.head())\n",
    "    df_new=filtered_th228[filtered_th228.isotope==i]\n",
    "    if df_new.empty:continue\n",
    "    #print(df_new.head())\n",
    "    px_energy=df_new.energy;weight=df_new.weight\n",
    "    plt.hist(px_energy,2000,density=False,weights=weight,histtype='step',alpha=0.95,label=iso[i-1],color=col[i-1])\n",
    "    plt.yscale('log')\n",
    "    plt.xlabel('Energy [keV]')\n",
    "    plt.ylabel('Raw count ')\n",
    "    plt.legend()\n",
    "plt.title(\"SS Energy for Th228 at all positions\")\n",
    "plt.show()"
   ]
  },
  {
   "cell_type": "code",
   "execution_count": null,
   "id": "6e33e578-5b77-4932-91c7-4a0c904c8aaa",
   "metadata": {},
   "outputs": [],
   "source": [
    "# more bins testing\n",
    "# for i in [500,1000,1500,2000]:\n",
    "#     get_energy_spectrum(df_cut,loc='NX',bins=i)"
   ]
  },
  {
   "cell_type": "code",
   "execution_count": null,
   "id": "a01b616d-873e-4a86-bae5-b571f31fdede",
   "metadata": {},
   "outputs": [],
   "source": [
    "# #plot for combined\n",
    "# %matplotlib inline\n",
    "# skipEThreshold=0.1\n",
    "# # merged=merged[['isotopes','raw_counts','cut_counts']]\n",
    "# # merged=merged.set_index('isotopes')\n",
    "# ax=combined_counts.plot.bar()\n",
    "# for c in ax.containers:\n",
    "#     # set the bar label\n",
    "#     ax.bar_label(c, fmt='%.0f', label_type='edge')\n",
    "# plt.xlabel('''ISOTOPES''')\n",
    "# plt.title(f'Isotope counts in g4tree for 10M Th228 at PX for skipEThreshold: {skipEThreshold} keV \\n')\n",
    "# plt.ylabel('COUNTS')\n",
    "# plt.yscale('log')\n",
    "# txt='test'\n",
    "# #plt.savefig(f'g4tree_isotopes_bothskipEThreshold: {skipEThreshold}.pdf')\n",
    "# #plt.text(2.5, 10e4, 'cut: '+s_filter.strip().replace(\" \",\"\"), ha='center',fontsize='xx-small',color='r',fontweight='bold')\n",
    "\n",
    "# plt.show()"
   ]
  },
  {
   "cell_type": "code",
   "execution_count": null,
   "id": "1a106c99-7867-40a7-8e0e-3d038567aa6c",
   "metadata": {},
   "outputs": [],
   "source": [
    "# ax=merged.plot.bar(y='raw_counts')\n",
    "# plt.yscale('log')"
   ]
  },
  {
   "cell_type": "code",
   "execution_count": null,
   "id": "1325b039-da3c-4c04-8b45-20b95c884128",
   "metadata": {},
   "outputs": [],
   "source": [
    "# #plot for raw data\n",
    "# skipEThreshold=0.1\n",
    "# plt.figure(figsize=(16,10))\n",
    "# raw_counts=raw_counts.set_index('isotopes')\n",
    "# ax=raw_counts.plot.bar()\n",
    "# for c in ax.containers:\n",
    "#     # set the bar label\n",
    "#     ax.bar_label(c, fmt='%.0f', label_type='edge')\n",
    "# plt.xlabel('ISOTOPES')\n",
    "# plt.title(f'Isotope counts in g4tree for 10M Th228 at PX for skipEThreshold: {skipEThreshold} keV')\n",
    "# plt.ylabel('COUNTS')\n",
    "# plt.yscale('log')\n",
    "# plt.savefig(f'g4tree_isotopes_bothskipEThreshold: {skipEThreshold}.pdf')\n",
    "# plt.show()"
   ]
  },
  {
   "cell_type": "code",
   "execution_count": null,
   "id": "ec06d7fc-acdb-4219-a8a3-27c4be3a5eb2",
   "metadata": {},
   "outputs": [],
   "source": [
    "# #plot for cut data\n",
    "# skipEThreshold=0.1\n",
    "# plt.figure(figsize=(16,10))\n",
    "# cut_counts=cut_counts.set_index('isotopes')\n",
    "# ax=cut_counts.plot.bar()\n",
    "# for c in ax.containers:\n",
    "#     # set the bar label\n",
    "#     ax.bar_label(c, fmt='%.0f', label_type='edge')\n",
    "# plt.xlabel('ISOTOPES')\n",
    "# plt.title(f'Isotope counts in g4tree for 10M Th228 at PX for skipEThreshold: {skipEThreshold} keV')\n",
    "# plt.ylabel('COUNTS')\n",
    "# plt.yscale('log')\n",
    "# #plt.savefig(f'g4tree_isotopes_bothskipEThreshold: {skipEThreshold}.pdf')\n",
    "# plt.show()"
   ]
  },
  {
   "cell_type": "code",
   "execution_count": null,
   "id": "3939e424-920c-4aeb-b269-bb3ad4c3e79a",
   "metadata": {},
   "outputs": [],
   "source": [
    "#energy graph\n",
    "# df_iso=df_s.query(\"isotope==7\")`\n",
    "# df_iso.energy.plot()\n",
    "#df_iso.plot('energy','weight')\n",
    "# ene=df_iso.energy\n",
    "# weight=df_iso.weight\n",
    "# label_value=\"test\"\n",
    "#out=ax.hist(df_iso.energy, bins=200, histtype=u'step', weights=weight, density=True, label=label_value)\n",
    "# plt.show()\n",
    "#df_s.columns"
   ]
  },
  {
   "cell_type": "code",
   "execution_count": null,
   "id": "4cb61830-23b4-4f1b-9cfb-8a38ed1fae92",
   "metadata": {},
   "outputs": [],
   "source": [
    "#sns.relplot(data=df_s,x='energy',y='weight',hue='isotope')\n",
    "# px_energy=df_cut.energy\n",
    "# plt.hist(px_energy,200,density=False,histtype='step',facecolor='g',alpha=0.75)\n",
    "# plt.yscale('log')\n",
    "# plt.xlabel('Energy [keV]')\n",
    "# plt.ylabel('Filtered count ')\n",
    "# plt.show()"
   ]
  },
  {
   "cell_type": "code",
   "execution_count": null,
   "id": "b4188278-a36b-4cb7-961d-d36e25f7a6fa",
   "metadata": {},
   "outputs": [],
   "source": [
    "# iso_names=cut_counts.isonum.apply(lambda x:isotopes[x-1])\n",
    "# iso_names"
   ]
  },
  {
   "cell_type": "code",
   "execution_count": null,
   "id": "13e756af-7f25-4404-869a-3d8ae7eb3782",
   "metadata": {},
   "outputs": [],
   "source": [
    "# bins=int(merged.cut_counts.sum())\n",
    "# bins"
   ]
  },
  {
   "cell_type": "code",
   "execution_count": null,
   "id": "13f35aba-63d3-4df6-9191-e05afc7f1a61",
   "metadata": {},
   "outputs": [],
   "source": [
    "#iso_name=['Th228','Ra224','Rn220','Po216','pb212','bi212','tl208']"
   ]
  },
  {
   "cell_type": "code",
   "execution_count": null,
   "id": "80d0c367-7ddd-4545-905b-63dd57e5c3bf",
   "metadata": {},
   "outputs": [],
   "source": [
    "#df_cut['iso_name']=df_cut['isotope'].map({1:'Th228',2:'Ra224',3:'Rn220',4:'Po216',5:'Pb212',6:'Bi212',7:'Tl208'})"
   ]
  },
  {
   "cell_type": "code",
   "execution_count": null,
   "id": "ab1b4d86-7007-4916-98c8-2b0f7676443b",
   "metadata": {},
   "outputs": [],
   "source": [
    "#df_cut.head()"
   ]
  },
  {
   "cell_type": "code",
   "execution_count": null,
   "id": "e7853d69-3dae-460f-a391-9dd0f6457fae",
   "metadata": {},
   "outputs": [],
   "source": [
    "# #sns.histplot(data=df_s, x=\"energy\",hue=\"isotope\",bins=200,element=\"step\")\n",
    "# #bins=merged.cut_counts.sum().values\n",
    "# sns.set(rc={'figure.figsize':(20,10)})\n",
    "# #sns.histplot(data=df_s, x=\"energy\",hue=\"isotope\",bins=200,element=\"step\",log_scale=True,fill=False)\n",
    "# g=sns.histplot(data=df_cut, x=\"energy\",hue=\"iso_name\",weights=\"weight\",bins=1000,element=\"step\",fill=False)#,palette=['r','b','g','y','k'])\n",
    "# #plt.legend(labels=iso_names)\n",
    "# g.set_xlabel('Energy [keV]')\n",
    "# g.set_ylabel('Count')\n",
    "# plt.yscale(\"log\")\n"
   ]
  },
  {
   "cell_type": "code",
   "execution_count": null,
   "id": "5b08dd18-0e67-4ba1-b9f2-a0ec5d4b0010",
   "metadata": {},
   "outputs": [],
   "source": [
    "# df_s=df_cut.copy()\n",
    "# merged=combined_counts\n",
    "# loc='NX'\n",
    "# fig, axes = plt.subplots(1, 2,gridspec_kw={'width_ratios':[3,1]})\n",
    "# sns.set(rc={'figure.figsize':(20,10)})\n",
    "# #sns.histplot(data=df_s, x=\"energy\",hue=\"isotope\",bins=200,element=\"step\",log_scale=True,fill=False)\n",
    "# g=sns.histplot(data=df_s, x=\"energy\",hue=\"iso_name\",weights=\"weight\",bins=1000,element=\"step\",fill=False,ax=axes[0])#,palette=['r','b','g','y','k'])\n",
    "# #plt.legend(labels=iso_names)\n",
    "# g.set_xlabel('Energy [keV]')\n",
    "# g.set_ylabel('Counts')\n",
    "# g.set_yscale(\"log\")\n",
    "\n",
    "# #g1=sns.barplot(data=merged,x='\n",
    "# ax=merged[[\"g4tree_counts\",\"cut_counts\"]].plot.bar(ax=axes[1])\n",
    "# for c in ax.containers:\n",
    "#     # set the bar label\n",
    "#     ax.bar_label(c, fmt='%.0f', label_type='edge')\n",
    "# ax.set_xlabel('Isotopes')\n",
    "\n",
    "# ax.set_ylabel('Counts')\n",
    "# ax.set_yscale('log')\n",
    "\n",
    "# plt.suptitle(f'Energy spectrum and event counts for 10M Th228 at {loc} for skipEThreshold: {skipEThreshold} keV \\n')\n",
    "# plt.savefig('energyandisotopes.pdf')\n",
    "\n",
    "# plt.show()"
   ]
  },
  {
   "cell_type": "code",
   "execution_count": null,
   "id": "dc6a3bec-add3-43ab-9be6-f5c73fecd8e7",
   "metadata": {},
   "outputs": [],
   "source": []
  }
 ],
 "metadata": {
  "kernelspec": {
   "display_name": "Python 3 (ipykernel)",
   "language": "python",
   "name": "python3"
  },
  "language_info": {
   "codemirror_mode": {
    "name": "ipython",
    "version": 3
   },
   "file_extension": ".py",
   "mimetype": "text/x-python",
   "name": "python",
   "nbconvert_exporter": "python",
   "pygments_lexer": "ipython3",
   "version": "3.10.6"
  }
 },
 "nbformat": 4,
 "nbformat_minor": 5
}
