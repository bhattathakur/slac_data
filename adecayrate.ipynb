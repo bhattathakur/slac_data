{
 "cells": [
  {
   "cell_type": "markdown",
   "id": "921ec32e-5303-4a6d-b36f-18e5665a0525",
   "metadata": {},
   "source": [
    "# This program find the decay rate after n days for given activity and also calculates the time required to get number of events for the new rate"
   ]
  },
  {
   "cell_type": "markdown",
   "id": "95e53aff-1ae3-4c50-9157-7c5b22f52550",
   "metadata": {},
   "source": [
    "# DECAY Rate Equation\n",
    "# $ R(t)=R_{0}e^{-\\lambda t} $\n",
    "# $ t_{1/2}=\\frac{ln(2)}{\\lambda} $\n",
    "# $ R(t)=R_{0}e^{-\\frac{ln(2)\\cdot t}{t_{1/2}}} $\n",
    "- $ R_{0} $ (initial rate)\n",
    "- $ R(t)$ (rate after t seconds)\n",
    "- $ T_{1/2} $ (half life)\n",
    "\n"
   ]
  },
  {
   "cell_type": "markdown",
   "id": "5d635137-1616-4520-913a-f93873c4f82b",
   "metadata": {},
   "source": [
    "# Realistic rate approach\n",
    "# $$ R(A) = \\gamma A (1+\\alpha A t)e^{-\\alpha A t }$$\n"
   ]
  },
  {
   "cell_type": "markdown",
   "id": "62f32b99-2cf0-4e6f-8634-6a6b6757b0f3",
   "metadata": {},
   "source": [
    "# STEPS\n",
    "- get optimal rate $R_{0}$ from realistic rate equation (refer: th228rate.ipynb)\n",
    "- get the decay rate after particular time (t) with decay rate equation considering the half life \n",
    "- get R(A) for subsequent rate decay rate R(t) where A is the decay rate using the same $\\gamma$, $\\alpha$, & $t$ used for  optimal equation values"
   ]
  },
  {
   "cell_type": "code",
   "execution_count": null,
   "id": "51288554-a3ad-48ba-94c8-d89df796aae7",
   "metadata": {},
   "outputs": [],
   "source": [
    "import numpy as np\n",
    "import matplotlib.pyplot as plt\n",
    "import pandas as pd\n",
    "import math"
   ]
  },
  {
   "cell_type": "markdown",
   "id": "47388109-b731-41d9-adb2-6fa74b0cb810",
   "metadata": {},
   "source": [
    "# Results from optimal rate"
   ]
  },
  {
   "cell_type": "code",
   "execution_count": null,
   "id": "26b336e2-5892-4e67-a206-56bd25c505f3",
   "metadata": {},
   "outputs": [],
   "source": [
    "alpha  = 0.06819796206\n",
    "beta   = 0.0044755\n",
    "gamma  = 1.768248e-05\n",
    "t = 0.01 #drift time (10 ms)"
   ]
  },
  {
   "cell_type": "code",
   "execution_count": null,
   "id": "e390729d-5861-4173-b194-7fe1d9e50473",
   "metadata": {},
   "outputs": [],
   "source": [
    "th228_half_life= 1.9116*365            #1.9116 year into days\n",
    "th228_initial_activity=2137.32         #optimal activity from simulation of 5M events\n",
    "\n",
    "\n",
    "print(f\"\"\"\n",
    "Th228 half life       : {th228_half_life} d\n",
    "Th228 optimal activity: {th228_initial_activity} Bq\n",
    "\"\"\")\n",
    "\n"
   ]
  },
  {
   "cell_type": "code",
   "execution_count": null,
   "id": "d63f9e89-c89b-4bfd-a300-475932497642",
   "metadata": {},
   "outputs": [],
   "source": [
    "def get_rate_after(initial_activity,half_life,t):\n",
    "    '''\n",
    "    returns the rate after time t  for given initial activity and half life: half_life\n",
    "    Note: t and half_need to have the same unit\n",
    "    \n",
    "    '''\n",
    "    exp_part=np.exp(- np.log(2)*t/half_life)\n",
    "    return initial_activity*exp_part\n",
    "\n",
    "#function to find the realistic rate\n",
    "def get_realistic_rate(A,gamma,alpha,t):\n",
    "    '''\n",
    "    returns the realistic rate  for given A, alpha, gamma, and t\n",
    "    '''\n",
    "    com=alpha*A*t\n",
    "    exp_part=np.exp(-com)\n",
    "    # print(f\"\"\"\n",
    "    # common  : {com}\n",
    "    # exp_part: {exp_part}\n",
    "    # \"\"\")\n",
    "    #rate=gamma*A*(1+alpha*A*t)*math.exp(-alpha*A*t)\n",
    "    rate=gamma*A*(1+com)*exp_part\n",
    "    #print(f\"rate : {rate}\")\n",
    "    return rate\n",
    "    "
   ]
  },
  {
   "cell_type": "code",
   "execution_count": null,
   "id": "443473fa-1db8-49d2-bab8-1dcb197aabf5",
   "metadata": {},
   "outputs": [],
   "source": [
    "# def get_all_plot(df_1):\n",
    "#     \"\"\"\n",
    "#     returns three plots \n",
    "#     \"\"\"\n",
    "#     ax1=df_1['decay_rate(Bq)'].plot()\n",
    "#     ax1.set_xlabel('days')\n",
    "#     ax1.set_ylabel('decay_rate [Bq]')\n",
    "#     plt.plot()\n",
    "#     plt.show()\n",
    "\n",
    "#     ax2=df_1['optimal_rate(Hz)'].plot()\n",
    "#     ax2.set_xlabel('days')\n",
    "#     ax2.set_ylabel('Optimal_rate [Hz]')\n",
    "#     plt.plot()\n",
    "#     plt.show()\n",
    "    \n",
    "\n",
    "#     ax3=df_1['100_events_time(hr)'].plot()\n",
    "#     ax3.set_xlabel('days')\n",
    "#     ax3.set_ylabel('100_events_time [Hr]')\n",
    "#     plt.plot()\n",
    "#     plt.show()\n"
   ]
  },
  {
   "cell_type": "code",
   "execution_count": null,
   "id": "56dd2c02-4a0a-450a-b3ad-ce7ec99967b9",
   "metadata": {},
   "outputs": [],
   "source": [
    "def get_all_plot(df_1,da,yr,save_fig=False):\n",
    "    \"\"\"\n",
    "    returns three plots \n",
    "    \"\"\"\n",
    "    \n",
    "    fig, (ax0, ax1, ax2) = plt.subplots(nrows=1, ncols=3, sharex=True,\n",
    "                                    figsize=(18, 6))\n",
    "    days=df_1['days(d)']\n",
    "    \n",
    "    ax0.plot(days,df_1['decay_rate(Bq)'])\n",
    "    ax0.set_xlabel(\"days\")\n",
    "    ax0.set_ylabel('decay_rate [Bq]')\n",
    "    \n",
    "    ax1.plot(days,df_1['optimal_rate(Hz)'])\n",
    "    ax1.set_xlabel('days')\n",
    "    ax1.set_ylabel('Optimal_rate [Hz]')\n",
    "    ax2.plot(days,df_1['100_events_time(hr)'])\n",
    "    ax2.set_xlabel('days')\n",
    "    ax2.set_ylabel('100_events_time [Hr]')\n",
    "    \n",
    "    plt.suptitle(f\"\"\"\n",
    "    increment days: {da}\n",
    "    total time    :{yr} yrs\n",
    "    \"\"\")\n",
    "    plt.plot()\n",
    "    save_name=f'yr-{yr}-per-{da}.pdf'\n",
    "    if save_fig:\n",
    "        print(f\"saving the figure with name: {save_name}\")\n",
    "        plt.savefig(save_name)\n",
    "    plt.show()\n"
   ]
  },
  {
   "cell_type": "code",
   "execution_count": null,
   "id": "8f11487a-ada4-4c94-bd25-0866d6fc42f0",
   "metadata": {},
   "outputs": [],
   "source": [
    "#single function\n",
    "\n",
    "def get_all_single(increment_days=1,yrs=5):\n",
    "    \"\"\"\n",
    "    returns a dataframe with columns 'days(d)', 'decay_rate(Bq)', 'optimal_rate(Hz)', 'optimal_time(s)' and,\n",
    "       '100_events_time(hr)' for increment_days and years.\n",
    "    \"\"\"\n",
    "    days=[];rate=[];time=[]\n",
    "\n",
    "    # 5yrs increment by 1 day\n",
    "    print(f\"\"\"\n",
    "    ===================================================\n",
    "    Th228 half life       : {th228_half_life:10} d\n",
    "    Th228 optimal activity: {th228_initial_activity:10} Bq\n",
    "    ===================================================\n",
    "    \"\"\")\n",
    "\n",
    "    print(f\"\"\"\n",
    "    Total time: {yrs} yrs\n",
    "    increment : {increment_days} d\n",
    "\n",
    "    \"\"\")\n",
    "    for i in range(1,365*yrs,increment_days):\n",
    "        rate_realistic=get_rate_after(th228_initial_activity,th228_half_life,i)\n",
    "        days.append(i);rate.append(rate_realistic);\n",
    "        debug=False\n",
    "        if (i-1)%200==0 and debug==True:\n",
    "            print(f\"\"\"\n",
    "            day       : {i} day(s)\n",
    "            decay rate: {rate_realistic} Hz\n",
    "            time      : {t_realistic} hr\n",
    "            \"\"\")\n",
    "    #optimal rate\n",
    "    optimal_rate=np.array([get_realistic_rate(i,gamma,alpha,t) for i in rate])\n",
    "    \n",
    "    #dataframe\n",
    "    df_1=pd.DataFrame()\n",
    "    df_1['days(d)']=days\n",
    "    df_1['decay_rate(Bq)']=rate\n",
    "    df_1['optimal_rate(Hz)']=optimal_rate\n",
    "    df_1['optimal_time(s)']=1/df_1['optimal_rate(Hz)']\n",
    "    df_1['100_events_time(hr)']=100*df_1['optimal_time(s)']/(60*60)\n",
    "    \n",
    "    print(f\"                                    DATA FRAME:\\n{df_1.head().to_string()}\")\n",
    "    print(f\".........................................\")\n",
    "    print(f\"{df_1.tail().to_string()}\")\n",
    "\n",
    "    \n",
    "    get_all_plot(df_1,increment_days,yrs,save_fig=True)\n",
    "    \n",
    "    #return df_1"
   ]
  },
  {
   "cell_type": "code",
   "execution_count": null,
   "id": "f83377d5-7758-4642-9723-086bd1bcbbbf",
   "metadata": {},
   "outputs": [],
   "source": [
    "#[1]+list(range(15,5*365,15))"
   ]
  },
  {
   "cell_type": "code",
   "execution_count": null,
   "id": "f0886199-613e-43c2-a362-922629492b4a",
   "metadata": {},
   "outputs": [],
   "source": [
    "#single function to find total deployment time\n",
    "\n",
    "def get_total_deployment_time(increment_days=1,th228_initial_activity=2137.32,yrs=5):\n",
    "    \"\"\"\n",
    "    returns a dataframe with columns 'optimal_activity(Bq)','increment_days(d)', 'total_deployment_time(yr)','total_100_events_time(hr)'\n",
    "       \n",
    "    \"\"\"\n",
    "    days=[];rate=[];time=[]\n",
    "\n",
    "    # 5yrs increment by increment_days \n",
    "    print(f\"\"\"\n",
    "    ===================================================\n",
    "    Th228 half life       : {th228_half_life:10} d\n",
    "    Th228 optimal activity: {th228_initial_activity:10} Bq\n",
    "    ===================================================\n",
    "    \"\"\")\n",
    "    \n",
    "    print(f\"\"\"\n",
    "    Total time: {yrs} yrs\n",
    "    increment : {increment_days} d\n",
    "\n",
    "    \"\"\")\n",
    "\n",
    "   \n",
    "    for i in range(1,365*yrs,increment_days):\n",
    "        rate_realistic=get_rate_after(th228_initial_activity,th228_half_life,i)\n",
    "        days.append(i);rate.append(rate_realistic);\n",
    "        # debug=False\n",
    "        # if (i)%200==0 and debug==True:\n",
    "        #     print(f\"\"\"\n",
    "        #     day       : {i} day(s)\n",
    "        #     decay rate: {rate_realistic} Hz\n",
    "        #     time      : {t_realistic} hr\n",
    "        #     \"\"\")\n",
    "    #optimal rate\n",
    "    optimal_rate=np.array([get_realistic_rate(i,gamma,alpha,t) for i in rate])\n",
    "    \n",
    "    #dataframe\n",
    "    df_1=pd.DataFrame()\n",
    "    df_1['days(d)']=days\n",
    "    df_1['decay_rate(Bq)']=rate\n",
    "    df_1['optimal_rate(Hz)']=optimal_rate\n",
    "    df_1['optimal_time(s)']=1/df_1['optimal_rate(Hz)']\n",
    "    df_1['100_events_time(hr)']=100*df_1['optimal_time(s)']/(60*60)\n",
    "    \n",
    "    print(f\"                                    DATA FRAME:\\n{df_1.head().to_string()}\")\n",
    "    print(f\".........................................\")\n",
    "    print(f\"{df_1.tail().to_string()}\")\n",
    "    \n",
    "    total_100_events_time=df_1['100_events_time(hr)'].sum().round(2)\n",
    "    print(f\"\"\"\n",
    "    total_100_events_time:{total_100_events_time} hr\n",
    "\n",
    "    \"\"\")\n",
    "   \n",
    "\n",
    "    \n",
    "    #get_all_plot(df_1,increment_days,yrs,save_fig=True)\n",
    "    return_list=[th228_initial_activity,increment_days,yrs,total_100_events_time]\n",
    "    print(f\"Return List: {return_list}\")\n",
    "    return return_list\n",
    "    \n",
    "    #return df_1"
   ]
  },
  {
   "cell_type": "code",
   "execution_count": null,
   "id": "c5b6b4e0-8e19-439b-a1f5-cb13ea1c524e",
   "metadata": {},
   "outputs": [],
   "source": [
    "yrs=5 #total deployment yrs\n",
    "#days_list=[1]+list(range(15,365*yrs,15))\n",
    "days_list=[1,2,5,15,30]\n",
    "activity_list=list(range(500,10500,500))\n",
    "final_list=[]\n",
    "for act in activity_list:\n",
    "    for i in days_list:\n",
    "        final_list.append(get_total_deployment_time(increment_days=i,th228_initial_activity=act,yrs=yrs))"
   ]
  },
  {
   "cell_type": "code",
   "execution_count": null,
   "id": "8b1b88f6-6a4c-425d-b523-0a160a4dfb39",
   "metadata": {},
   "outputs": [],
   "source": [
    "df_f=pd.DataFrame(final_list,columns=['initial_activity(Bq)','increment_days(d)','total_deployment_time(yr)','total_100_events_time(hr)'])\n",
    "df_f"
   ]
  },
  {
   "cell_type": "code",
   "execution_count": null,
   "id": "888dfe61-9621-4763-abf4-4e6e8d4d1628",
   "metadata": {},
   "outputs": [],
   "source": [
    "min_val=df_f['total_100_events_time(hr)'].min()\n",
    "min_val"
   ]
  },
  {
   "cell_type": "code",
   "execution_count": null,
   "id": "9d2ea1c7-59c0-494a-9b91-547fed61ecf8",
   "metadata": {},
   "outputs": [],
   "source": [
    "min_idx=df_f['total_100_events_time(hr)'].argmin()\n",
    "min_idx"
   ]
  },
  {
   "cell_type": "code",
   "execution_count": null,
   "id": "58697a67-1c6a-4edf-a6cc-fe2496afd4ff",
   "metadata": {},
   "outputs": [],
   "source": [
    "min_activity=df_f.loc[min_idx]\n",
    "min_activity"
   ]
  },
  {
   "cell_type": "code",
   "execution_count": null,
   "id": "0cb0d166-650b-4c0a-9257-93346185d029",
   "metadata": {},
   "outputs": [],
   "source": [
    "#group by\n",
    "grouped=df_f.groupby('initial_activity(Bq)')"
   ]
  },
  {
   "cell_type": "code",
   "execution_count": null,
   "id": "57ae89df-fd5f-4b25-9a6a-d1040a34c02e",
   "metadata": {},
   "outputs": [],
   "source": [
    "group_list=list(grouped.groups)\n",
    "group_list"
   ]
  },
  {
   "cell_type": "code",
   "execution_count": null,
   "id": "dd41d0cc-1995-4b3f-b0b4-23ecdbf906de",
   "metadata": {},
   "outputs": [],
   "source": [
    "for i in group_list:\n",
    "    print(f\"with activity: {i}\")\n",
    "    g=grouped.get_group(i).plot(x='increment_days(d)',y='total_100_events_time(hr)',kind='scatter',figsize=(30,10),grid=True,legend=True,logy=True,title=f'initial_activity:{i} Bq')\n",
    "    plt.show()"
   ]
  },
  {
   "cell_type": "code",
   "execution_count": null,
   "id": "7412e118-cac0-459b-bac2-efc69990dcdd",
   "metadata": {},
   "outputs": [],
   "source": [
    "for i in group_list:\n",
    "    print(grouped.get_group(i).to_string())"
   ]
  },
  {
   "cell_type": "code",
   "execution_count": null,
   "id": "01c217fc-5224-4caa-941b-64b020f15734",
   "metadata": {},
   "outputs": [],
   "source": [
    "for i in [1,5,15,30,60,120]:\n",
    "    get_all_single(increment_days=i)"
   ]
  },
  {
   "cell_type": "markdown",
   "id": "58137c57-9671-411f-8637-b0c235dd417d",
   "metadata": {},
   "source": [
    "# STOP HERE"
   ]
  },
  {
   "cell_type": "code",
   "execution_count": null,
   "id": "630c3a82-df32-4bca-8684-c6077d4d8b13",
   "metadata": {},
   "outputs": [],
   "source": []
  },
  {
   "cell_type": "code",
   "execution_count": null,
   "id": "9a6021ee-d526-4af3-acfa-027c52d7aafc",
   "metadata": {},
   "outputs": [],
   "source": [
    "ax1=df_1['decay_rate(Bq)'].plot()\n",
    "ax1.set_xlabel('days')\n",
    "ax1.set_ylabel('decay_rate [Bq]')\n",
    "plt.plot()\n",
    "plt.show()\n",
    "\n",
    "ax2=df_1['optimal_rate(Hz)'].plot()\n",
    "ax2.set_xlabel('days')\n",
    "ax2.set_ylabel('Optimal_rate [Hz]')\n",
    "plt.plot()\n",
    "plt.show()\n",
    "\n",
    "\n",
    "ax3=df_1['100_events_time(hr)'].plot()\n",
    "ax3.set_xlabel('days')\n",
    "ax3.set_ylabel('100_events_time [Hr]')\n",
    "plt.plot()\n",
    "plt.show()\n"
   ]
  },
  {
   "cell_type": "code",
   "execution_count": null,
   "id": "17225aa4-cc3b-481a-9077-05cfb3078e76",
   "metadata": {},
   "outputs": [],
   "source": [
    "get_realistic_rate(200.0,gamma,alpha,t)"
   ]
  },
  {
   "cell_type": "code",
   "execution_count": null,
   "id": "a7887ebf-471e-4107-b5c4-e2d74de0ef89",
   "metadata": {},
   "outputs": [],
   "source": [
    "#lists\n",
    "\n",
    "yrs=5         #5 years\n",
    "increment_days=1  #increment days\n",
    "\n",
    "\n",
    "\n",
    "days=[];rate=[];time=[]\n",
    "\n",
    "# 5yrs increment by 1 day\n",
    "print(f\"\"\"\n",
    "===================================================\n",
    "Th228 half life       : {th228_half_life} d\n",
    "Th228 optimal activity: {th228_initial_activity} Bq\n",
    "===================================================\n",
    "\"\"\")\n",
    "\n",
    "print(f\"\"\"\n",
    "Total time: {yrs} yrs\n",
    "increment : {increment_days} d\n",
    "\n",
    "\"\"\")\n",
    "for i in range(1,365*yrs,increment_days):\n",
    "    #print(f\"working for {i} days\")\n",
    "    rate_realistic=get_rate_after(th228_initial_activity,th228_half_life,i)\n",
    "    N_events=1000\n",
    "    to_hrs=60*60\n",
    "    t_realistic=N_events/(rate_realistic*to_hrs)\n",
    "    days.append(i);rate.append(rate_realistic);time.append(t_realistic)\n",
    "    if (i-increment_days)/increment_days==0:\n",
    "        print(f\"\"\"\n",
    "        day       : {i} day(s)\n",
    "        decay rate: {rate_realistic} Hz\n",
    "        time      : {t_realistic} hr\n",
    "        \"\"\")"
   ]
  },
  {
   "cell_type": "code",
   "execution_count": null,
   "id": "c2b21331-e138-4a28-a392-25a4335f7c40",
   "metadata": {},
   "outputs": [],
   "source": [
    "print(df_1.columns)"
   ]
  },
  {
   "cell_type": "code",
   "execution_count": null,
   "id": "5e1561c8-6e89-4442-ae59-d5e5115e4635",
   "metadata": {},
   "outputs": [],
   "source": [
    "df_1.columns"
   ]
  },
  {
   "cell_type": "code",
   "execution_count": null,
   "id": "a2be249a-0423-4149-b83b-ac66077ca40e",
   "metadata": {},
   "outputs": [],
   "source": [
    "get_all_single()"
   ]
  },
  {
   "cell_type": "code",
   "execution_count": null,
   "id": "7b8c07fb-cfad-4eb1-9d24-db7b4475ba0a",
   "metadata": {},
   "outputs": [],
   "source": [
    "#optimal rate\n",
    "optimal_rate=np.array([get_realistic_rate(i,gamma,alpha,t) for i in rate])\n",
    "#optimal_rate=[get_realistic_rate(i,gamma,alpha,time) for i in rate]"
   ]
  },
  {
   "cell_type": "code",
   "execution_count": null,
   "id": "092e521e-7554-4ddf-aa55-afbfbde44bdd",
   "metadata": {},
   "outputs": [],
   "source": []
  },
  {
   "cell_type": "code",
   "execution_count": null,
   "id": "692c41f2-367a-4c0a-bb2b-3690ec9b0c9c",
   "metadata": {},
   "outputs": [],
   "source": [
    "optimal_rate"
   ]
  },
  {
   "cell_type": "code",
   "execution_count": null,
   "id": "c28b5c43-450c-4f68-9941-0d95ce00df1c",
   "metadata": {},
   "outputs": [],
   "source": [
    "df_1=pd.DataFrame()\n",
    "df_1['days(d)']=days\n",
    "df_1['decay_rate(Bq)']=rate\n",
    "df_1['optimal_rate(Hz)']=optimal_rate"
   ]
  },
  {
   "cell_type": "code",
   "execution_count": null,
   "id": "fa3fad49-ee6f-40df-8aa4-4d0ed090d04a",
   "metadata": {},
   "outputs": [],
   "source": [
    "df_1"
   ]
  },
  {
   "cell_type": "code",
   "execution_count": null,
   "id": "06c2c5f6-4531-4abe-8766-0d39e34c6ef0",
   "metadata": {},
   "outputs": [],
   "source": [
    "#df_1['optimal_rate(Hz)']=df_1['decay_rate(Bq)']*gamma*(1+alpha*df_1['decay_rate(Bq)']*A*time)*np.exp(-alpha*df_1['decay_rate(Bq)']*time)\n",
    "df_1['optimal_time(s)']=1/df_1['optimal_rate(Hz)']"
   ]
  },
  {
   "cell_type": "code",
   "execution_count": null,
   "id": "f742e9e3-3b22-45c6-b5f2-32eb585513f5",
   "metadata": {},
   "outputs": [],
   "source": [
    "df_1['100_events_time(hr)']=100*df_1['optimal_time(s)']/(60*60)"
   ]
  },
  {
   "cell_type": "code",
   "execution_count": null,
   "id": "6eb48179-71de-4e72-ae51-59de7f298851",
   "metadata": {},
   "outputs": [],
   "source": [
    "df_1"
   ]
  },
  {
   "cell_type": "code",
   "execution_count": null,
   "id": "0209c6ef-6a14-42d5-b911-9aac9cd3a17a",
   "metadata": {},
   "outputs": [],
   "source": [
    "df_1.head()"
   ]
  },
  {
   "cell_type": "code",
   "execution_count": null,
   "id": "bc0f1112-18a7-4b9a-8e0c-c0095a985300",
   "metadata": {},
   "outputs": [],
   "source": [
    "df_1.tail()"
   ]
  },
  {
   "cell_type": "code",
   "execution_count": null,
   "id": "64f2f075-fcc9-471d-aeca-f688d8e1522f",
   "metadata": {},
   "outputs": [],
   "source": [
    "df_1.columns"
   ]
  },
  {
   "cell_type": "code",
   "execution_count": null,
   "id": "d057123e-f548-45df-bcda-1c251a739a31",
   "metadata": {},
   "outputs": [],
   "source": [
    "%matplotlib inline\n",
    "ax1=df_1['decay_rate(Bq)'].plot()\n",
    "ax1.set_xlabel('days')\n",
    "ax1.set_ylabel('decay_rate [Bq]')\n",
    "plt.show()\n",
    "\n"
   ]
  },
  {
   "cell_type": "code",
   "execution_count": null,
   "id": "a1ed2c25-c6d7-4fe3-baff-27102df9e3dd",
   "metadata": {},
   "outputs": [],
   "source": [
    "ax2=df_1['optimal_rate(Hz)'].plot()\n",
    "ax2.set_xlabel('days')\n",
    "ax2.set_ylabel('Optimal_rate [Hz]')\n",
    "plt.show()"
   ]
  },
  {
   "cell_type": "code",
   "execution_count": null,
   "id": "96e1ecc2-f84c-463d-9114-26bb3e4f99a8",
   "metadata": {},
   "outputs": [],
   "source": [
    "#%matplotlib qt\n",
    "ax3=df_1['100_events_time(hr)'].plot()\n",
    "ax3.set_xlabel('days')\n",
    "ax3.set_ylabel('100_events_time [Hr]')\n",
    "plt.show()"
   ]
  }
 ],
 "metadata": {
  "kernelspec": {
   "display_name": "Python 3 (ipykernel)",
   "language": "python",
   "name": "python3"
  },
  "language_info": {
   "codemirror_mode": {
    "name": "ipython",
    "version": 3
   },
   "file_extension": ".py",
   "mimetype": "text/x-python",
   "name": "python",
   "nbconvert_exporter": "python",
   "pygments_lexer": "ipython3",
   "version": "3.10.12"
  }
 },
 "nbformat": 4,
 "nbformat_minor": 5
}
