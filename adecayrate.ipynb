{
 "cells": [
  {
   "cell_type": "markdown",
   "id": "921ec32e-5303-4a6d-b36f-18e5665a0525",
   "metadata": {},
   "source": [
    "# This program find the decay rate after n days for given activity and also calculates the time required to get number of events for the new rate"
   ]
  },
  {
   "cell_type": "markdown",
   "id": "95e53aff-1ae3-4c50-9157-7c5b22f52550",
   "metadata": {},
   "source": [
    "# DECAY Rate Equation\n",
    "# $ R(t)=R_{0}e^{-\\lambda t} $\n",
    "# $ t_{1/2}=\\frac{ln(2)}{\\lambda} $\n",
    "# $ R(t)=R_{0}e^{-\\frac{ln(2)\\cdot t}{t_{1/2}}} $\n",
    "- $ R_{0} $ (initial rate)\n",
    "- $ R(t)$ (rate after t seconds)\n",
    "- $ T_{1/2} $ (half life)\n",
    "\n"
   ]
  },
  {
   "cell_type": "markdown",
   "id": "5d635137-1616-4520-913a-f93873c4f82b",
   "metadata": {},
   "source": [
    "# Realistic rate approach\n",
    "# $$ R(A) = \\gamma A (1+\\alpha A t)e^{-\\alpha A t }$$\n"
   ]
  },
  {
   "cell_type": "markdown",
   "id": "62f32b99-2cf0-4e6f-8634-6a6b6757b0f3",
   "metadata": {},
   "source": [
    "# STEPS\n",
    "- get optimal rate $R_{0}$ from realistic rate equation (refer: th228rate.ipynb)\n",
    "- get the decay rate after particular time (t) with decay rate equation considering the half life \n",
    "- get R(A) for subsequent rate decay rate R(t) where A is the decay rate using the same $\\gamma$, $\\alpha$, & $t$ used for  optimal equation values"
   ]
  },
  {
   "cell_type": "code",
   "execution_count": null,
   "id": "51288554-a3ad-48ba-94c8-d89df796aae7",
   "metadata": {},
   "outputs": [],
   "source": [
    "import numpy as np\n",
    "import matplotlib.pyplot as plt\n",
    "import pandas as pd\n",
    "import math"
   ]
  },
  {
   "cell_type": "markdown",
   "id": "47388109-b731-41d9-adb2-6fa74b0cb810",
   "metadata": {},
   "source": [
    "# Results from optimal rate"
   ]
  },
  {
   "cell_type": "code",
   "execution_count": null,
   "id": "26b336e2-5892-4e67-a206-56bd25c505f3",
   "metadata": {},
   "outputs": [],
   "source": [
    "alpha  = 0.06819796206\n",
    "beta   = 0.0044755\n",
    "gamma  = 1.768248e-05\n",
    "t = 0.01 #drift time (10 ms)"
   ]
  },
  {
   "cell_type": "code",
   "execution_count": null,
   "id": "e390729d-5861-4173-b194-7fe1d9e50473",
   "metadata": {},
   "outputs": [],
   "source": [
    "th228_half_life= 1.9116*365            #1.9116 year into days\n",
    "th228_initial_activity=2137.32         #optimal activity from simulation of 5M events\n",
    "\n",
    "\n",
    "print(f\"\"\"\n",
    "Th228 half life       : {th228_half_life} d\n",
    "Th228 optimal activity: {th228_initial_activity} Bq\n",
    "\"\"\")\n",
    "\n"
   ]
  },
  {
   "cell_type": "code",
   "execution_count": null,
   "id": "d63f9e89-c89b-4bfd-a300-475932497642",
   "metadata": {},
   "outputs": [],
   "source": [
    "def get_rate_after(initial_activity,half_life,t):\n",
    "    '''\n",
    "    returns the rate after time t  for given initial activity and half life: half_life\n",
    "    Note: t and half_need to have the same unit\n",
    "    \n",
    "    '''\n",
    "    exp_part=np.exp(- np.log(2)*t/half_life)\n",
    "    return initial_activity*exp_part\n",
    "\n",
    "#function to find the realistic rate\n",
    "def get_realistic_rate(A,gamma,alpha,t):\n",
    "    '''\n",
    "    returns the realistic rate  for given A, alpha, gamma, and t\n",
    "    '''\n",
    "    com=alpha*A*t\n",
    "    exp_part=np.exp(-com)\n",
    "    # print(f\"\"\"\n",
    "    # common  : {com}\n",
    "    # exp_part: {exp_part}\n",
    "    # \"\"\")\n",
    "    #rate=gamma*A*(1+alpha*A*t)*math.exp(-alpha*A*t)\n",
    "    rate=gamma*A*(1+com)*exp_part\n",
    "    #print(f\"rate : {rate}\")\n",
    "    return rate\n",
    "    "
   ]
  },
  {
   "cell_type": "code",
   "execution_count": null,
   "id": "56dd2c02-4a0a-450a-b3ad-ce7ec99967b9",
   "metadata": {},
   "outputs": [],
   "source": [
    "def get_all_plot(df_1,da,yr,save_fig=False):\n",
    "    \"\"\"\n",
    "    returns three plots \n",
    "    \"\"\"\n",
    "    \n",
    "    fig, (ax0, ax1, ax2) = plt.subplots(nrows=1, ncols=3, sharex=True,\n",
    "                                    figsize=(18, 6))\n",
    "    days=df_1['days(d)']\n",
    "    \n",
    "    ax0.plot(days,df_1['decay_rate(Bq)'])\n",
    "    ax0.set_xlabel(\"days\")\n",
    "    ax0.set_ylabel('decay_rate [Bq]')\n",
    "    \n",
    "    ax1.plot(days,df_1['optimal_rate(Hz)'])\n",
    "    ax1.set_xlabel('days')\n",
    "    ax1.set_ylabel('Optimal_rate [Hz]')\n",
    "    ax2.plot(days,df_1['100_events_time(hr)'])\n",
    "    ax2.set_xlabel('days')\n",
    "    ax2.set_ylabel('100_events_time [Hr]')\n",
    "    \n",
    "    plt.suptitle(f\"\"\"\n",
    "    increment days: {da}\n",
    "    total time    :{yr} yrs\n",
    "    \"\"\")\n",
    "    plt.plot()\n",
    "    save_name=f'yr-{yr}-per-{da}.pdf'\n",
    "    if save_fig:\n",
    "        print(f\"saving the figure with name: {save_name}\")\n",
    "        plt.savefig(save_name)\n",
    "    plt.show()\n"
   ]
  },
  {
   "cell_type": "code",
   "execution_count": null,
   "id": "8f11487a-ada4-4c94-bd25-0866d6fc42f0",
   "metadata": {},
   "outputs": [],
   "source": [
    "#single function\n",
    "\n",
    "def get_all_single(increment_days=1,yrs=5,debug=False):\n",
    "    \"\"\"\n",
    "    returns a dataframe with columns 'days(d)', 'decay_rate(Bq)', 'optimal_rate(Hz)', 'optimal_time(s)' and,\n",
    "       '100_events_time(hr)' for increment_days and years.\n",
    "    \"\"\"\n",
    "    days=[];rate=[];time=[]\n",
    "\n",
    "    # 5yrs increment by 1 day\n",
    "    print(f\"\"\"\n",
    "    ===================================================\n",
    "    Th228 half life       : {th228_half_life:10} d\n",
    "    Th228 optimal activity: {th228_initial_activity:10} Bq\n",
    "    ===================================================\n",
    "    \"\"\")\n",
    "\n",
    "    print(f\"\"\"\n",
    "    Total time: {yrs} yrs\n",
    "    increment : {increment_days} d\n",
    "\n",
    "    \"\"\")\n",
    "    for i in range(1,365*yrs,increment_days):\n",
    "        rate_realistic=get_rate_after(th228_initial_activity,th228_half_life,i)\n",
    "        days.append(i);rate.append(rate_realistic);\n",
    "        debug=False\n",
    "        if (i-1)%200==0 and debug==True:\n",
    "            print(f\"\"\"\n",
    "            day       : {i} day(s)\n",
    "            decay rate: {rate_realistic} Hz\n",
    "            time      : {t_realistic} hr\n",
    "            \"\"\")\n",
    "    #optimal rate\n",
    "    optimal_rate=np.array([get_realistic_rate(i,gamma,alpha,t) for i in rate])\n",
    "    \n",
    "    #dataframe\n",
    "    df_1=pd.DataFrame()\n",
    "    df_1['days(d)']=days\n",
    "    df_1['decay_rate(Bq)']=rate\n",
    "    df_1['optimal_rate(Hz)']=optimal_rate\n",
    "    df_1['optimal_time(s)']=1/df_1['optimal_rate(Hz)']\n",
    "    df_1['100_events_time(hr)']=100*df_1['optimal_time(s)']/(60*60)\n",
    "    #debug True or False\n",
    "    if(debug):\n",
    "        print(f\"                                    DATA FRAME:\\n{df_1.head().to_string()}\")\n",
    "        print(f\".........................................\")\n",
    "        print(f\"{df_1.tail().to_string()}\")\n",
    "\n",
    "    \n",
    "    get_all_plot(df_1,increment_days,yrs,save_fig=True)\n",
    "    \n",
    "    #return df_1"
   ]
  },
  {
   "cell_type": "code",
   "execution_count": null,
   "id": "f83377d5-7758-4642-9723-086bd1bcbbbf",
   "metadata": {},
   "outputs": [],
   "source": [
    "#[1]+list(range(15,5*365,15))"
   ]
  },
  {
   "cell_type": "code",
   "execution_count": null,
   "id": "f0886199-613e-43c2-a362-922629492b4a",
   "metadata": {},
   "outputs": [],
   "source": [
    "#single function to find total deployment time\n",
    "\n",
    "def get_total_deployment_time(increment_days=1,th228_initial_activity=2137.32,yrs=5,debug=False):\n",
    "    \"\"\"\n",
    "    returns a dataframe with columns 'optimal_activity(Bq)','increment_days(d)', 'total_deployment_time(yr)','total_100_events_time(hr)'\n",
    "       \n",
    "    \"\"\"\n",
    "    days=[];rate=[];time=[]\n",
    "\n",
    "    # 5yrs increment by increment_days \n",
    "    if(debug):print(f\"\"\"\n",
    "    ===================================================\n",
    "    Th228 half life       : {th228_half_life:10} d\n",
    "    Th228 optimal activity: {th228_initial_activity:10} Bq\n",
    "    ===================================================\n",
    "    \"\"\")\n",
    "    \n",
    "    if debug:print(f\"\"\"\n",
    "    Total time: {yrs} yrs\n",
    "    increment : {increment_days} d\n",
    "\n",
    "    \"\"\")\n",
    "\n",
    "   \n",
    "    for i in range(1,365*yrs,increment_days):\n",
    "        rate_realistic=get_rate_after(th228_initial_activity,th228_half_life,i)\n",
    "        days.append(i);rate.append(rate_realistic);\n",
    "        # debug=False\n",
    "        # if (i)%200==0 and debug==True:\n",
    "        #     print(f\"\"\"\n",
    "        #     day       : {i} day(s)\n",
    "        #     decay rate: {rate_realistic} Hz\n",
    "        #     time      : {t_realistic} hr\n",
    "        #     \"\"\")\n",
    "    #optimal rate\n",
    "    optimal_rate=np.array([get_realistic_rate(i,gamma,alpha,t) for i in rate])\n",
    "    \n",
    "    #dataframe\n",
    "    df_1=pd.DataFrame()\n",
    "    df_1['days(d)']=days\n",
    "    df_1['decay_rate(Bq)']=rate\n",
    "    df_1['optimal_rate(Hz)']=optimal_rate\n",
    "    df_1['optimal_time(s)']=1/df_1['optimal_rate(Hz)']\n",
    "    df_1['100_events_time(hr)']=100*df_1['optimal_time(s)']/(60*60)\n",
    "    \n",
    "    if(debug):\n",
    "        print(f\"                                    DATA FRAME:\\n{df_1.head().to_string()}\")\n",
    "        print(f\".........................................\")\n",
    "        print(f\"{df_1.tail().to_string()}\")\n",
    "\n",
    "    total_100_events_time=df_1['100_events_time(hr)'].sum().round(2)\n",
    "    if(debug):print(f\"\"\"\n",
    "        total_100_events_time:{total_100_events_time} hr\n",
    "\n",
    "        \"\"\")\n",
    "   \n",
    "\n",
    "    \n",
    "    #get_all_plot(df_1,increment_days,yrs,save_fig=True)\n",
    "    return_list=[th228_initial_activity,increment_days,yrs,total_100_events_time]\n",
    "    print(f\"Return List: {return_list}\")\n",
    "    return return_list\n",
    "    \n",
    "    #return df_1"
   ]
  },
  {
   "cell_type": "code",
   "execution_count": null,
   "id": "c5b6b4e0-8e19-439b-a1f5-cb13ea1c524e",
   "metadata": {},
   "outputs": [],
   "source": [
    "# yrs=5 #total deployment yrs\n",
    "# #days_list=[1]+list(range(15,365*yrs,15))\n",
    "# days_list=[1,2,3,4,7,15,30]\n",
    "# activity_list=list(range(500,10500,500))\n",
    "# final_list=[]\n",
    "# for act in activity_list:\n",
    "#     for i in days_list:\n",
    "#         final_list.append(get_total_deployment_time(increment_days=i,th228_initial_activity=act,yrs=yrs))"
   ]
  },
  {
   "cell_type": "code",
   "execution_count": null,
   "id": "b513fee2-07fe-42cf-aa1f-2581884e41ab",
   "metadata": {},
   "outputs": [],
   "source": [
    "# MULTIPLE RESET OF SOURCE"
   ]
  },
  {
   "cell_type": "code",
   "execution_count": null,
   "id": "1766c1b8-6433-42da-9b7f-f47f5e9f9230",
   "metadata": {},
   "outputs": [],
   "source": []
  },
  {
   "cell_type": "code",
   "execution_count": null,
   "id": "04013127-d9d3-4049-9d33-eb22e846cf4c",
   "metadata": {},
   "outputs": [],
   "source": [
    "def multiple_reset_df(reset_yrs,days_list):\n",
    "    '''\n",
    "    returns the single dataframe for given reset_yrs and increment days list\n",
    "    '''\n",
    "    activity_list=list(range(500,5500,500))\n",
    "    final_list=[]\n",
    "    for act in activity_list:\n",
    "        for i in days_list:\n",
    "            final_list.append(get_total_deployment_time(increment_days=i,th228_initial_activity=act,yrs=reset_yrs))\n",
    "    df_f=pd.DataFrame(final_list,columns=['initial_activity(Bq)','increment_days(d)','reset_time(yr)','total_100_events_time(hr)'])\n",
    "    # df_d=df_f.groupby('increment_days(d)')\n",
    "    # for da in df_days:\n",
    "    #     temp_df=df_d.get_group(da)#['total_100_events_time(hr)']\n",
    "    #     min_val=temp_df['total_100_events_time(hr)'].min()\n",
    "    #     min_idx=temp_df['total_100_events_time(hr)'].argmin()\n",
    "    #     min_activity=temp_df['initial_activity(Bq)'].values[min_idx]\n",
    "    #     #print(f\"min_activity: {min_activity}\")\n",
    "    #     #min_\n",
    "    #     #print(f\"min_idx:{min_idx}\")\n",
    "    #     tit=f\"\"\"\n",
    "    #         increment          : {da:} day(s)\n",
    "    #         min_100_events_time: {min_val:} hr\n",
    "    #         min_activity       : {min_activity:} Bq'\n",
    "    #     \"\"\"\n",
    "    #     print(f\"===\\nINFO: {tit}\\n===\")\n",
    "    #     # temp_df.plot(x='initial_activity(Bq)',y='total_100_events_time(hr)',\\\n",
    "    #     #              title=tit,\n",
    "    #     #              style='r.',ylabel='100_events_time(hr)',figsize=(20,10))\n",
    "    #     # temp_df.plot(x='initial_activity(Bq)',y='total_100_events_time(hr)',title=f'\\\n",
    "    #     # increment:{da:>20} day(s) \\n          min_100_events_time: {min_val:>5} hr\\nmin_activity: {min_activity:>10} Bq',\\\n",
    "    #     #              style='b.',ylabel='100_events_time(hr)',figsize=(20,10))\n",
    "    #     plt.show()\n",
    "    #     print(f\"temp_df:\\n{temp_df.to_string()}\")\n",
    "    #     min_val=df_d.get_group(df_days[0])['total_100_events_time(hr)'].min()\n",
    "    return df_f\n",
    "    "
   ]
  },
  {
   "cell_type": "code",
   "execution_count": null,
   "id": "fab01541-ec62-4df2-a9c1-76d811ad2222",
   "metadata": {},
   "outputs": [],
   "source": [
    "#multiple_reset_df(1,days_list)"
   ]
  },
  {
   "cell_type": "code",
   "execution_count": null,
   "id": "10f6ce9c-8689-4b0e-b1e0-74004cf17162",
   "metadata": {},
   "outputs": [],
   "source": [
    "#dataframes with days_list and reset_yr\n",
    "days_list=[1,2,3,4,7,15,30]\n",
    "\n",
    "df_1=multiple_reset_df(1,days_list)  #reset year and days list\n",
    "df_2=multiple_reset_df(2,days_list)\n",
    "df_3=multiple_reset_df(3,days_list)\n",
    "df_4=multiple_reset_df(4,days_list)\n",
    "df_5=multiple_reset_df(5,days_list)"
   ]
  },
  {
   "cell_type": "markdown",
   "id": "40d6a1bd-5a42-453e-9679-7a1cb772e270",
   "metadata": {},
   "source": [
    "# RESET INFO FUNCTION"
   ]
  },
  {
   "cell_type": "code",
   "execution_count": null,
   "id": "a5d36557-5208-4dbf-a091-68b49a3549c5",
   "metadata": {},
   "outputs": [],
   "source": [
    "#for this consider the minimum of 1 year and multiply by 10\n",
    "\n",
    "def get_reset_info(df,reset_yr):\n",
    "    parameter='increment_days(d)'\n",
    "    #reset_yr=1\n",
    "    df_grouped=df.groupby(parameter)\n",
    "    main_list=[]\n",
    "    column_names=['reset_year(yr)','calibration_frequency(d)','min_activity(Bq)','min_100_events_time(hr)']\n",
    "    for day in days_list:\n",
    "        temp_df=df_grouped.get_group(day).reset_index(drop=True)\n",
    "        print(f'{temp_df.to_string()}') #print the df\n",
    "\n",
    "        min_val=temp_df['total_100_events_time(hr)'].min()\n",
    "        min_idx=temp_df['total_100_events_time(hr)'].argmin()\n",
    "        min_activity=temp_df['initial_activity(Bq)'].values[min_idx]\n",
    "        \n",
    "        d='day' if day<2 else 'days'\n",
    "\n",
    "        tit=f\"\"\"\n",
    "                reset_year           : {reset_yr}\n",
    "                calibration frequency: {day:} {d}\n",
    "                min_100_events_time  : {min_val:} hr\n",
    "                min_activity         : {min_activity:} Bq\n",
    "            \"\"\"\n",
    "        print(f\"===\\nINFO: {tit}\\n===\")\n",
    "        #reset_yr=1\n",
    "        tit=f\"Total_100_events_time at various initial activity for reset_year {reset_yr} and calibration frequecy {day} {d}\"\n",
    "        temp_df.plot(x='initial_activity(Bq)',y='total_100_events_time(hr)',\\\n",
    "                 title=tit,\n",
    "                 style='r.',ylabel='total_100_events_time(hr)',figsize=(20,10))\n",
    "        save_name=f'total_{day}_{reset_yr}.pdf'\n",
    "        print(f'save_name: {save_name}')\n",
    "        plt.show()\n",
    "        main_list.append([reset_yr,day,min_activity,min_val])\n",
    "    sum_df=pd.DataFrame(main_list,columns=column_names)\n",
    "    print(f'{sum_df.to_string()}')\n",
    "    return sum_df\n",
    "\n",
    "    #print(f'{temp_df.to_string()}')\n"
   ]
  },
  {
   "cell_type": "code",
   "execution_count": null,
   "id": "10b99b44-3c0c-4959-8089-2b4602613499",
   "metadata": {},
   "outputs": [],
   "source": [
    "#all reset_infos\n",
    "df_s=[df_1,df_2,df_3,df_4,df_5]\n",
    "reset_yrs=[1,2,3,4,5]\n",
    "\n",
    "reset_yr=1\n",
    "\n",
    "df_summary=[get_reset_info(df_s[i],reset_yrs[i]) for i in range(5)]\n"
   ]
  },
  {
   "cell_type": "markdown",
   "id": "06b2022e-fee1-4ac4-8f01-0b98b7a6607f",
   "metadata": {},
   "source": [
    "# RESET SUMMARY"
   ]
  },
  {
   "cell_type": "markdown",
   "id": "bc5c0870-0e8c-4fa8-8f61-aacdb98a29de",
   "metadata": {},
   "source": [
    "# 1 YEAR RESET"
   ]
  },
  {
   "cell_type": "code",
   "execution_count": null,
   "id": "577d8838-304b-4287-ac19-60c734f6a4c0",
   "metadata": {},
   "outputs": [],
   "source": [
    "sum_head=28*'=='+' {} YEAR SUMMARY '+28*'=='\n",
    "total_yrs=10\n",
    "ten_yr_hours=total_yrs*365*24\n",
    "print(f\"10_yrs_into_hours: {ten_yr_hours}\")"
   ]
  },
  {
   "cell_type": "code",
   "execution_count": null,
   "id": "1f8c5255-2241-4363-aa7a-4d99248e4a8f",
   "metadata": {},
   "outputs": [],
   "source": [
    "summary_1=df_summary[1-1].copy()\n",
    "print(sum_head.format('1')+\"\\n\")\n",
    "print(f\"{summary_1.to_string()}\\n\")\n",
    "summary_1_10=summary_1.copy(deep=True)\n",
    "summary_1_10['10yr_min_100_events_time(hr)']=summary_1_10['min_100_events_time(hr)']*10\n",
    "summary_1_10['10yr_fraction(%)']=round(summary_1_10['10yr_min_100_events_time(hr)']*100/ten_yr_hours,2)\n",
    "print(sum_head.format('10')+\"\\n\")\n",
    "print(f\"{summary_1_10.to_string()}\\n\")\n",
    "tit='10 year min 100 events time for various calibration days'\n",
    "summary_1_10.plot(x='calibration_frequency(d)',y='10yr_min_100_events_time(hr)',\\\n",
    "                 title=tit,\n",
    "                 style='r.',ylabel='10yr_min_100_events_time(hr)',figsize=(10,8))\n",
    "plt.show()"
   ]
  },
  {
   "cell_type": "markdown",
   "id": "158564cc-5c51-4f95-8a95-d29c7b0e7aa5",
   "metadata": {},
   "source": [
    "# 2 YEAR RESET"
   ]
  },
  {
   "cell_type": "code",
   "execution_count": null,
   "id": "7a729484-2ed0-476c-ada4-a9121f39dc79",
   "metadata": {},
   "outputs": [],
   "source": [
    "summary_2=df_summary[2-1].copy()\n",
    "print(sum_head.format('2')+\"\\n\")\n",
    "print(f\"{summary_2.to_string()}\\n\")\n",
    "summary_2_10=summary_2.copy()\n",
    "summary_2_10['10yr_min_100_events_time(hr)']=summary_2_10['min_100_events_time(hr)']*5\n",
    "summary_2_10['10yr_fraction(%)']=round(summary_2_10['10yr_min_100_events_time(hr)']*100/ten_yr_hours,2)\n",
    "print(sum_head.format('10')+\"\\n\")\n",
    "print(f\"{summary_2_10.to_string()}\\n\")"
   ]
  },
  {
   "cell_type": "markdown",
   "id": "0bf95be4-9d8c-4192-9049-2d9cefb1134b",
   "metadata": {},
   "source": [
    "# 3 YEAR RESET"
   ]
  },
  {
   "cell_type": "code",
   "execution_count": null,
   "id": "6d24883e-3df8-43d0-b6f6-75e45710d5b1",
   "metadata": {},
   "outputs": [],
   "source": [
    "summary_3=df_summary[3-1].copy()\n",
    "print(sum_head.format('3')+\"\\n\")\n",
    "print(f\"{summary_3.to_string()}\\n\")\n",
    "print(sum_head.format('1')+\"\\n\")\n",
    "print(f\"{summary_1.to_string()}\\n\")\n",
    "summary_3_10=summary_3.copy()\n",
    "summary_3_10['10yr_min_100_events_time(hr)']=3*summary_3['min_100_events_time(hr)']+summary_1['min_100_events_time(hr)']\n",
    "summary_3_10['10yr_fraction(%)']=round(summary_3_10['10yr_min_100_events_time(hr)']*100/ten_yr_hours,2)\n",
    "# summary_2_10['10yr_min_100_events_time(hr)']=summary_2_10['min_100_events_time(hr)']*5\n",
    "print(sum_head.format('10')+\"\\n\")\n",
    "print(f\"{summary_3_10.to_string()}\\n\")\n"
   ]
  },
  {
   "cell_type": "markdown",
   "id": "7b574545-f932-4470-b7b8-674865d32313",
   "metadata": {},
   "source": [
    "# 4 YEAR RESET"
   ]
  },
  {
   "cell_type": "code",
   "execution_count": null,
   "id": "bc1ce0bb-0d3a-4205-9f71-c32a7807a806",
   "metadata": {},
   "outputs": [],
   "source": [
    "summary_4=df_summary[4-1].copy()\n",
    "print(sum_head.format('4')+\"\\n\")\n",
    "print(f\"{summary_4.to_string()}\\n\")\n",
    "print(sum_head.format('2')+\"\\n\")\n",
    "print(f\"{summary_2.to_string()}\\n\")\n",
    "summary_4_10=summary_4.copy()\n",
    "summary_4_10['10yr_min_100_events_time(hr)']=2*summary_4['min_100_events_time(hr)']+summary_2['min_100_events_time(hr)']\n",
    "summary_4_10['10yr_fraction(%)']=round(summary_4_10['10yr_min_100_events_time(hr)']*100/ten_yr_hours,2)\n",
    "# # summary_2_10['10yr_min_100_events_time(hr)']=summary_2_10['min_100_events_time(hr)']*5\n",
    "print(sum_head.format('10')+\"\\n\")\n",
    "print(f\"{summary_4_10.to_string()}\\n\")"
   ]
  },
  {
   "cell_type": "markdown",
   "id": "c73f7bf7-d847-4193-bb0a-c04fe0956246",
   "metadata": {},
   "source": [
    "# 5 YEAR RESET"
   ]
  },
  {
   "cell_type": "code",
   "execution_count": null,
   "id": "cc704b59-24b2-43f0-bf4c-052171216709",
   "metadata": {},
   "outputs": [],
   "source": [
    "summary_5=df_summary[5-1].copy()\n",
    "print(sum_head.format('5')+\"\\n\")\n",
    "print(f\"{summary_5.to_string()}\\n\")\n",
    "\n",
    "summary_5_10=summary_5.copy()\n",
    "summary_5_10['10yr_min_100_events_time(hr)']=2*summary_5_10['min_100_events_time(hr)']\n",
    "summary_5_10['10yr_fraction(%)']=round(summary_5_10['10yr_min_100_events_time(hr)']*100/ten_yr_hours,2)\n",
    "# # summary_2_10['10yr_min_100_events_time(hr)']=summary_2_10['min_100_events_time(hr)']*5\n",
    "print(sum_head.format('10')+\"\\n\")\n",
    "print(f\"{summary_5_10.to_string()}\\n\")"
   ]
  },
  {
   "cell_type": "code",
   "execution_count": null,
   "id": "4a8a6807-4103-4ec5-b50c-36b056260163",
   "metadata": {},
   "outputs": [],
   "source": [
    "#creating the plot with different reset year and calibration frequency\n",
    "for i in [1,2,3,4,5,6,7]:\n",
    "    day=i\n",
    "    temp_df=pd.concat(\n",
    "    [summary_1_10.head(day).tail(1),\\\n",
    "    summary_2_10.head(day).tail(1),\\\n",
    "    summary_3_10.head(day).tail(1),\\\n",
    "    summary_4_10.head(day).tail(1),\\\n",
    "    summary_5_10.head(day).tail(1)]).reset_index(drop=True)\n",
    "    temp_df.drop(columns=['min_100_events_time(hr)'],inplace=True)\n",
    "    temp_st=37*'==='\n",
    "    \n",
    "    fig, ax = plt.subplots(figsize=(20,10))\n",
    "    \n",
    "\n",
    "    print(f\"{temp_st}\\n{temp_df.to_string()}\\n{temp_st}\\n\")\n",
    "    fname=str(temp_df.head(1)['calibration_frequency(d)'].values[0])\n",
    "    #print(f\"fname: {fname}\")\n",
    "    test='calibration frequency: '+fname\n",
    "    test=test+\" day\" if i==1 else test+\" days\"\n",
    "    ylabel='10yr_min_100_events_time(hr)'\n",
    "    sylabel='10yr_fraction(%)'\n",
    "    temp_df.plot('reset_year(yr)','10yr_min_100_events_time(hr)',\n",
    "                 style='rx',ylabel=ylabel,title=f\"{test}\",\n",
    "                 figsize=(16,12),ax=ax)\n",
    "    temp_df.plot('reset_year(yr)','10yr_fraction(%)',style='b.',ax=ax,secondary_y=True)\n",
    "    ax.right_ax.set_ylabel(sylabel)\n",
    "    ax.grid(linestyle=':',linewidth=1.5,alpha=0.5,which='both')\n",
    "    save_name=f'frequency-{fname}.pdf'\n",
    "    print(f\"saving the result to file: {save_name}\")\n",
    "    plt.savefig(save_name)\n",
    "\n",
    "    plt.show()"
   ]
  },
  {
   "cell_type": "code",
   "execution_count": null,
   "id": "75c135f1-d339-48c3-ac5f-f90898634ef9",
   "metadata": {},
   "outputs": [],
   "source": [
    "#reset year\n",
    "for i in [1,2,3,4,5,6,7]:\n",
    "    day=i\n",
    "    temp_df=pd.concat(\n",
    "    [summary_1_10.head(day).tail(1),\\\n",
    "    summary_2_10.head(day).tail(1),\\\n",
    "    summary_3_10.head(day).tail(1),\\\n",
    "    summary_4_10.head(day).tail(1),\\\n",
    "    summary_5_10.head(day).tail(1)])\n",
    "    temp_df.drop(columns=['min_100_events_time(hr)'],inplace=True)\n",
    "    temp_st=35*'==='\n",
    "    \n",
    "    fig, ax = plt.subplots(figsize=(20,10))\n",
    "    \n",
    "\n",
    "    print(f\"{temp_st}\\n{temp_df.to_string()}\\n{temp_st}\\n\")\n",
    "    fname=str(temp_df.head(1)['calibration_frequency(d)'].values[0])\n",
    "    #print(f\"fname: {fname}\")\n",
    "    test='calibration frequency: '+fname\n",
    "    test=test+\" day\" if i==1 else test+\" days\"\n",
    "    ylabel='10yr_min_100_events_time(hr)'\n",
    "    sylabel='10yr_fraction(%)'\n",
    "    temp_df.plot('reset_year(yr)','10yr_min_100_events_time(hr)',\n",
    "                 style='rx',ylabel=ylabel,title=f\"{test}\",\n",
    "                 figsize=(16,12),ax=ax)\n",
    "    temp_df.plot('reset_year(yr)','10yr_fraction(%)',style='b.',ax=ax,secondary_y=True)\n",
    "    ax.right_ax.set_ylabel(sylabel)\n",
    "    ax.grid(linestyle=':',linewidth=1.5,alpha=0.5,which='both')\n",
    "    save_name=f'frequency-{fname}.pdf'\n",
    "    print(f\"saving the result to file: {save_name}\")\n",
    "    plt.savefig(save_name)\n",
    "\n",
    "    plt.show()"
   ]
  },
  {
   "cell_type": "code",
   "execution_count": null,
   "id": "99be9190-82c8-44d1-9906-d5e2251cfd68",
   "metadata": {},
   "outputs": [],
   "source": [
    "#one day, hours in 10 yrs, fraction in terms of 10yrs"
   ]
  },
  {
   "cell_type": "code",
   "execution_count": null,
   "id": "cfbb4e1f-b5bb-44fc-890d-4afc5b1de735",
   "metadata": {},
   "outputs": [],
   "source": [
    "#for this consider the minimum of 1 year and multiply by 10\n",
    "# parameter='increment_days(d)'\n",
    "# reset_yr=1\n",
    "# df_1_grouped=df_1.groupby(parameter)\n",
    "# main_list=[]\n",
    "# column_names=['reset_year(yr)','increment_day','min_100_events_time(hr)','min_activity(Bq)']\n",
    "# for day in days_list:\n",
    "#     temp_df=df_1_grouped.get_group(day)\n",
    "#     print(f'{temp_df.to_string()}') #print the df\n",
    "    \n",
    "#     min_val=temp_df['total_100_events_time(hr)'].min()\n",
    "#     min_idx=temp_df['total_100_events_time(hr)'].argmin()\n",
    "#     min_activity=temp_df['initial_activity(Bq)'].values[min_idx]\n",
    "    \n",
    "#     tit=f\"\"\"\n",
    "#             increment          : {day:} day(s)\n",
    "#             min_100_events_time: {min_val:} hr\n",
    "#             min_idx            : {min_idx}\n",
    "#             min_activity       : {min_activity:} Bq\n",
    "#         \"\"\"\n",
    "#     print(f\"===\\nINFO: {tit}\\n===\")\n",
    "#     main_list.append([reset_yr,day,min_val,min_activity])\n",
    "# sum_df=pd.DataFrame(main_list,columns=column_names)\n",
    "# sum_df\n",
    "\n",
    "    #print(f'{temp_df.to_string()}')\n"
   ]
  },
  {
   "cell_type": "code",
   "execution_count": null,
   "id": "8b1b88f6-6a4c-425d-b523-0a160a4dfb39",
   "metadata": {},
   "outputs": [],
   "source": [
    "# df_f=pd.DataFrame(final_list,columns=['initial_activity(Bq)','increment_days(d)','total_deployment_time(yr)','total_100_events_time(hr)'])\n",
    "# df_f"
   ]
  },
  {
   "cell_type": "code",
   "execution_count": null,
   "id": "1cb1cea8-9f73-4f7d-8fd7-31bae7babb6f",
   "metadata": {},
   "outputs": [],
   "source": []
  },
  {
   "cell_type": "code",
   "execution_count": null,
   "id": "25de1380-0cce-4234-b3c5-4ac1ce7655ca",
   "metadata": {},
   "outputs": [],
   "source": [
    "# group by increment_days\n",
    "# df_days=list(df_f['increment_days(d)'].unique())\n",
    "# df_days"
   ]
  },
  {
   "cell_type": "code",
   "execution_count": null,
   "id": "3818bcf4-b320-4634-bc57-0eab1dc930ae",
   "metadata": {},
   "outputs": [],
   "source": [
    "# df_d=df_f.groupby('increment_days(d)')\n",
    "# for da in df_days:\n",
    "#     temp_df=df_d.get_group(da)#['total_100_events_time(hr)']\n",
    "#     min_val=temp_df['total_100_events_time(hr)'].min()\n",
    "#     min_idx=temp_df['total_100_events_time(hr)'].argmin()\n",
    "#     min_activity=temp_df['initial_activity(Bq)'].values[min_idx]\n",
    "#     #print(f\"min_activity: {min_activity}\")\n",
    "#     #min_\n",
    "#     #print(f\"min_idx:{min_idx}\")\n",
    "#     tit=f\"\"\"\n",
    "# increment          : {da:} day(s)\n",
    "# min_100_events_time: {min_val:} hr\n",
    "# min_activity       : {min_activity:} Bq'\n",
    "#     \"\"\"\n",
    "#     print(f\"===\\nINFO: {tit}\\n===\")\n",
    "#     temp_df.plot(x='initial_activity(Bq)',y='total_100_events_time(hr)',\\\n",
    "#                  title=tit,\n",
    "#                  style='r.',ylabel='100_events_time(hr)',figsize=(20,10))\n",
    "#     # temp_df.plot(x='initial_activity(Bq)',y='total_100_events_time(hr)',title=f'\\\n",
    "#     # increment:{da:>20} day(s) \\n          min_100_events_time: {min_val:>5} hr\\nmin_activity: {min_activity:>10} Bq',\\\n",
    "#     #              style='b.',ylabel='100_events_time(hr)',figsize=(20,10))\n",
    "#     plt.show()\n",
    "#     print(f\"temp_df:\\n{temp_df.to_string()}\")\n",
    "#     min_val=df_d.get_group(df_days[0])['total_100_events_time(hr)'].min()\n",
    "    "
   ]
  },
  {
   "cell_type": "code",
   "execution_count": null,
   "id": "888dfe61-9621-4763-abf4-4e6e8d4d1628",
   "metadata": {},
   "outputs": [],
   "source": [
    "# min_val=df_f['total_100_events_time(hr)'].min()\n",
    "# min_val"
   ]
  },
  {
   "cell_type": "code",
   "execution_count": null,
   "id": "9d2ea1c7-59c0-494a-9b91-547fed61ecf8",
   "metadata": {},
   "outputs": [],
   "source": [
    "# min_idx=df_f['total_100_events_time(hr)'].argmin()\n",
    "# min_idx"
   ]
  },
  {
   "cell_type": "code",
   "execution_count": null,
   "id": "58697a67-1c6a-4edf-a6cc-fe2496afd4ff",
   "metadata": {},
   "outputs": [],
   "source": [
    "# min_activity=df_f.loc[min_idx]\n",
    "# min_activity"
   ]
  },
  {
   "cell_type": "code",
   "execution_count": null,
   "id": "0cb0d166-650b-4c0a-9257-93346185d029",
   "metadata": {},
   "outputs": [],
   "source": [
    "#group by\n",
    "#grouped=df_f.groupby('initial_activity(Bq)')"
   ]
  },
  {
   "cell_type": "code",
   "execution_count": null,
   "id": "57ae89df-fd5f-4b25-9a6a-d1040a34c02e",
   "metadata": {},
   "outputs": [],
   "source": [
    "# group_list=list(grouped.groups)\n",
    "# group_list"
   ]
  },
  {
   "cell_type": "code",
   "execution_count": null,
   "id": "dd41d0cc-1995-4b3f-b0b4-23ecdbf906de",
   "metadata": {},
   "outputs": [],
   "source": [
    "for i in group_list:\n",
    "    print(f\"with activity: {i}\")\n",
    "    g=grouped.get_group(i).plot(x='increment_days(d)',y='total_100_events_time(hr)',kind='scatter',figsize=(30,10),grid=True,legend=True,logy=True,title=f'initial_activity:{i} Bq')\n",
    "    plt.show()"
   ]
  },
  {
   "cell_type": "code",
   "execution_count": null,
   "id": "7412e118-cac0-459b-bac2-efc69990dcdd",
   "metadata": {},
   "outputs": [],
   "source": [
    "# for i in group_list:\n",
    "#     print(grouped.get_group(i).to_string())"
   ]
  },
  {
   "cell_type": "code",
   "execution_count": null,
   "id": "842a54bc-7ac6-493c-b166-7cedc6933b92",
   "metadata": {},
   "outputs": [],
   "source": [
    "# for i in group_list:\n",
    "#     print(grouped.get_group(i).to_string())"
   ]
  },
  {
   "cell_type": "code",
   "execution_count": null,
   "id": "01c217fc-5224-4caa-941b-64b020f15734",
   "metadata": {},
   "outputs": [],
   "source": [
    "for i in [1,5,15,30,60,120]:\n",
    "    get_all_single(increment_days=i)"
   ]
  },
  {
   "cell_type": "markdown",
   "id": "58137c57-9671-411f-8637-b0c235dd417d",
   "metadata": {},
   "source": [
    "# STOP HERE"
   ]
  },
  {
   "cell_type": "code",
   "execution_count": null,
   "id": "630c3a82-df32-4bca-8684-c6077d4d8b13",
   "metadata": {},
   "outputs": [],
   "source": []
  },
  {
   "cell_type": "code",
   "execution_count": null,
   "id": "9a6021ee-d526-4af3-acfa-027c52d7aafc",
   "metadata": {},
   "outputs": [],
   "source": [
    "# ax1=df_1['decay_rate(Bq)'].plot()\n",
    "# ax1.set_xlabel('days')\n",
    "# ax1.set_ylabel('decay_rate [Bq]')\n",
    "# plt.plot()\n",
    "# plt.show()\n",
    "\n",
    "# ax2=df_1['optimal_rate(Hz)'].plot()\n",
    "# ax2.set_xlabel('days')\n",
    "# ax2.set_ylabel('Optimal_rate [Hz]')\n",
    "# plt.plot()\n",
    "# plt.show()\n",
    "\n",
    "\n",
    "# ax3=df_1['100_events_time(hr)'].plot()\n",
    "# ax3.set_xlabel('days')\n",
    "# ax3.set_ylabel('100_events_time [Hr]')\n",
    "# plt.plot()\n",
    "# plt.show()\n"
   ]
  },
  {
   "cell_type": "code",
   "execution_count": null,
   "id": "17225aa4-cc3b-481a-9077-05cfb3078e76",
   "metadata": {},
   "outputs": [],
   "source": [
    "#get_realistic_rate(200.0,gamma,alpha,t)"
   ]
  },
  {
   "cell_type": "code",
   "execution_count": null,
   "id": "a7887ebf-471e-4107-b5c4-e2d74de0ef89",
   "metadata": {},
   "outputs": [],
   "source": [
    "#lists\n",
    "\n",
    "# yrs=5         #5 years\n",
    "# increment_days=1  #increment days\n",
    "\n",
    "\n",
    "\n",
    "# days=[];rate=[];time=[]\n",
    "\n",
    "# # 5yrs increment by 1 day\n",
    "# print(f\"\"\"\n",
    "# ===================================================\n",
    "# Th228 half life       : {th228_half_life} d\n",
    "# Th228 optimal activity: {th228_initial_activity} Bq\n",
    "# ===================================================\n",
    "# \"\"\")\n",
    "\n",
    "# print(f\"\"\"\n",
    "# Total time: {yrs} yrs\n",
    "# increment : {increment_days} d\n",
    "\n",
    "# \"\"\")\n",
    "# for i in range(1,365*yrs,increment_days):\n",
    "#     #print(f\"working for {i} days\")\n",
    "#     rate_realistic=get_rate_after(th228_initial_activity,th228_half_life,i)\n",
    "#     N_events=1000\n",
    "#     to_hrs=60*60\n",
    "#     t_realistic=N_events/(rate_realistic*to_hrs)\n",
    "#     days.append(i);rate.append(rate_realistic);time.append(t_realistic)\n",
    "#     if (i-increment_days)/increment_days==0:\n",
    "#         print(f\"\"\"\n",
    "#         day       : {i} day(s)\n",
    "#         decay rate: {rate_realistic} Hz\n",
    "#         time      : {t_realistic} hr\n",
    "#         \"\"\")"
   ]
  }
 ],
 "metadata": {
  "kernelspec": {
   "display_name": "Python 3 (ipykernel)",
   "language": "python",
   "name": "python3"
  },
  "language_info": {
   "codemirror_mode": {
    "name": "ipython",
    "version": 3
   },
   "file_extension": ".py",
   "mimetype": "text/x-python",
   "name": "python",
   "nbconvert_exporter": "python",
   "pygments_lexer": "ipython3",
   "version": "3.10.12"
  }
 },
 "nbformat": 4,
 "nbformat_minor": 5
}
