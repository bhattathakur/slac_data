{
 "cells": [
  {
   "cell_type": "markdown",
   "id": "013fcc6a-f8c2-4efb-8346-a17603ffb00f",
   "metadata": {},
   "source": [
    "$ R(A)= \\gamma A (1+\\alpha A t ) e^{-\\alpha A t}$\n",
    "- $\\alpha $ ratio of good events\n",
    "- $\\gamma$ SS events\n",
    "- t electron life time ($10^3$)"
   ]
  },
  {
   "cell_type": "code",
   "execution_count": null,
   "id": "8d90a9cc-8cfb-4db8-bb14-a1f08d3454db",
   "metadata": {},
   "outputs": [],
   "source": [
    "# get the value of A which makes the above function maximum\n",
    "import numpy as np\n",
    "import matplotlib.pyplot as plt\n",
    "import uproot\n",
    "import math\n",
    "alpha=0.069\n",
    "gamma=1.29e-7\n",
    "t=10e-2"
   ]
  },
  {
   "cell_type": "code",
   "execution_count": null,
   "id": "26ad5e60-2b38-4a6f-a340-da0c8004512f",
   "metadata": {},
   "outputs": [],
   "source": [
    "file='/home/thakur/slac_data/PX5M/thfinal.root:Event/Recon/Energy/Energy'\n",
    "#file='/home/thakur/slac_data/PX5M/PX5M_Tl208_pos648.5_0_-1022.6_seed1.reconTree.root:Event/Recon/Energy/Energy'\n",
    "f=uproot.open(file)\n"
   ]
  },
  {
   "cell_type": "code",
   "execution_count": null,
   "id": "a109d4bf-b8ad-4026-b7c9-cd603a9024ca",
   "metadata": {},
   "outputs": [],
   "source": [
    "f.keys()"
   ]
  },
  {
   "cell_type": "code",
   "execution_count": null,
   "id": "ee458100-5ee9-400c-ac4e-b63b69b816ec",
   "metadata": {},
   "outputs": [],
   "source": [
    "f.values()"
   ]
  },
  {
   "cell_type": "code",
   "execution_count": null,
   "id": "6636780d-c8f3-40b2-8274-f87c59cfaea0",
   "metadata": {},
   "outputs": [],
   "source": [
    "energy=f['energy'].array(library='np')"
   ]
  },
  {
   "cell_type": "code",
   "execution_count": null,
   "id": "7024fec7-4377-4e96-88ca-7ae804f47081",
   "metadata": {},
   "outputs": [],
   "source": [
    "energy.min(),energy.max(),len(energy)"
   ]
  },
  {
   "cell_type": "code",
   "execution_count": null,
   "id": "768a13b4-91b3-415e-b8d1-f9ea692f91fe",
   "metadata": {},
   "outputs": [],
   "source": [
    "#plt.hist(energy, bins=200, histtype=u'step', weights=weight, density=True, label=label_value)"
   ]
  },
  {
   "cell_type": "code",
   "execution_count": null,
   "id": "b06c47c2-b0c7-4db5-bc28-3bea3d8ad40b",
   "metadata": {},
   "outputs": [],
   "source": [
    "plt.plot(energy)"
   ]
  },
  {
   "cell_type": "code",
   "execution_count": null,
   "id": "e4d1b969-b7fa-41ec-8d01-4f115408489b",
   "metadata": {},
   "outputs": [],
   "source": [
    "alpha=122210/10**6"
   ]
  },
  {
   "cell_type": "code",
   "execution_count": null,
   "id": "eb0d645b-68e3-4705-a106-ff4cb0279d7c",
   "metadata": {},
   "outputs": [],
   "source": [
    "fixed=(1+5**0.5)/(2*t)\n",
    "fixed"
   ]
  },
  {
   "cell_type": "code",
   "execution_count": null,
   "id": "ff5e38c2-b479-4008-9397-d8bf37eef7b1",
   "metadata": {},
   "outputs": [],
   "source": [
    "fixed/alpha"
   ]
  },
  {
   "cell_type": "code",
   "execution_count": null,
   "id": "f5597373-c5b7-40a8-8fad-10e67cc9584f",
   "metadata": {},
   "outputs": [],
   "source": [
    "def get_rate(x):\n",
    "    multiplier=alpha*x*t\n",
    "    val=gamma*x*(1+multiplier)*math.e**(-multiplier)\n",
    "    return multiplier, val\n",
    "    #return round(gamma*x*(1+alpha*x*t)*math.e**(-alpha*x*t),10)"
   ]
  },
  {
   "cell_type": "code",
   "execution_count": null,
   "id": "99194eda-f531-4b17-aaf3-5ba8b3ea02fa",
   "metadata": {},
   "outputs": [],
   "source": [
    "for i in range(-100,100,1):\n",
    "    print(f\"{i}: {get_rate(i)}\")"
   ]
  },
  {
   "cell_type": "code",
   "execution_count": null,
   "id": "366c48cd-4239-4709-8fd4-b27d6cc8e183",
   "metadata": {},
   "outputs": [],
   "source": [
    "#math.e**(-alpha*1.0*10*e^3)"
   ]
  },
  {
   "cell_type": "code",
   "execution_count": null,
   "id": "d3aa5dc7-cf02-459d-89bd-051c8f73f5b1",
   "metadata": {},
   "outputs": [],
   "source": [
    "location='pos_0_0_-299.1245'\n",
    "location"
   ]
  },
  {
   "cell_type": "code",
   "execution_count": null,
   "id": "f5c15883-003f-4c76-8cc7-69562c7810d8",
   "metadata": {},
   "outputs": [],
   "source": [
    "if 'pos' in location:\n",
    "    print(\"yes\")"
   ]
  },
  {
   "cell_type": "code",
   "execution_count": null,
   "id": "b31e0cd3-be0c-4019-867f-fa1ef495216b",
   "metadata": {},
   "outputs": [],
   "source": [
    "location.split('_')"
   ]
  },
  {
   "cell_type": "code",
   "execution_count": null,
   "id": "00ac03b6-5ba0-4020-b679-440d55b07848",
   "metadata": {},
   "outputs": [],
   "source": [
    "z_corr=['-299.1245','-1746.0755']"
   ]
  },
  {
   "cell_type": "code",
   "execution_count": null,
   "id": "776592fa-5b78-4292-9721-7dd653b1203e",
   "metadata": {},
   "outputs": [],
   "source": [
    "z_corr"
   ]
  },
  {
   "cell_type": "code",
   "execution_count": null,
   "id": "33c58e05-5bd2-44e4-8619-8a5220f7f49f",
   "metadata": {},
   "outputs": [],
   "source": [
    "location='pos648.5_0_-1022.6'\n",
    "location='pos0_0_-299.1245'\n",
    "if location.split('_')[-1] in z_corr:\n",
    "    print(\n",
    "     \"\"\"\n",
    "/gps/pos/centre %s mm\n",
    "/gps/source/intensity 0.1\n",
    "\"\"\" % (location[3:].replace('_',' '))\n",
    "    )\n",
    "else:\n",
    "    print(\n",
    "     \"\"\"\n",
    "/gps/pos/centre %s mm\n",
    "\"\"\" % (location[3:].replace('_',' '))\n",
    "    )\n",
    "\n",
    "    "
   ]
  },
  {
   "cell_type": "code",
   "execution_count": null,
   "id": "290f2bae-f6f5-4b24-a368-c47610241374",
   "metadata": {},
   "outputs": [],
   "source": [
    "location='pos648.5_0_-1022.6'\n",
    "if 'pos' in location: # if location == 'pos0_0_-1585.97', will return a point source at the centre of the cathode (/gps/pos/centre 0 0 -1585.97 mm)\n",
    "    if location.split('_')[-1] in z_corr:\n",
    "        print( \"\"\"\n",
    "/gps/pos/centre %s mm\n",
    "/gps/source/intensity 0.1\n",
    "\"\"\" % (location[3:].replace('_',' ')))\n",
    "    else:\n",
    "          print( \"\"\"\n",
    "/gps/pos/centre %s mm\n",
    "\"\"\" % (location[3:].replace('_',' ')))\n"
   ]
  },
  {
   "cell_type": "code",
   "execution_count": null,
   "id": "19fc9714-a9a2-49cb-b878-cd927f42dc55",
   "metadata": {},
   "outputs": [],
   "source": [
    "def check_str(Z,A):\n",
    "    ionBody = \"\"\"\n",
    "    /generator/setGenerator gps\n",
    "    /gps/particle ion\n",
    "    /gps/energy 0 keV\n",
    "    /gps/ion %d %d\n",
    "    /grdm/nucleusLimits %d %d %d %d\n",
    "    \"\"\" % (Z,A,A,A,Z,Z)\n",
    "    return ionBody\n"
   ]
  },
  {
   "cell_type": "code",
   "execution_count": null,
   "id": "3967ea4c-222a-46c0-8842-26720234c302",
   "metadata": {},
   "outputs": [],
   "source": [
    "print(check_str(3,6))"
   ]
  },
  {
   "cell_type": "code",
   "execution_count": null,
   "id": "88e7da47-b33e-42ab-af27-c4135bf7f371",
   "metadata": {},
   "outputs": [],
   "source": [
    "px=[648.5,0,-1022.6]\n",
    "nx=[-648.5,0,-1022.6]\n",
    "py=[0,648.5,-1022.6]\n",
    "ny=[0,-648.5,-1022.6]\n",
    "\n",
    "pz=[0,0,-299.1245]\n",
    "nz=[0,0,-1746.0755]\n"
   ]
  },
  {
   "cell_type": "code",
   "execution_count": null,
   "id": "4d8a010c-28f4-4872-9249-a0c703443c56",
   "metadata": {},
   "outputs": [],
   "source": [
    "p=[px,nx,py,ny,pz,nz]\n",
    "l=['PX','NX','PY','NY','PZ','NZ']"
   ]
  },
  {
   "cell_type": "code",
   "execution_count": null,
   "id": "1de7894a-26a2-4101-abee-916f398df71e",
   "metadata": {},
   "outputs": [],
   "source": [
    "p"
   ]
  },
  {
   "cell_type": "code",
   "execution_count": null,
   "id": "ad881f62-0e32-4d7e-b9c9-8a0d50691769",
   "metadata": {},
   "outputs": [],
   "source": [
    "test=\"\"\n",
    "intensity1=0.36;intensity2=0.036\n",
    "for k,i in enumerate(p):\n",
    "    #print(check_str(90,228))\n",
    "    test+=\"\"\"\n",
    "    # %s\n",
    "    \"\"\"%l[k]\n",
    "    if k==0:\n",
    "        test+=\"\"\"\n",
    "    /gps/source/intensity %0.2f\n",
    "        \"\"\"%(intensity1)\n",
    "    else:\n",
    "        test+=\"\"\"\n",
    "    /gps/source/add %0.2f\n",
    "        \"\"\"%(intensity2)\n",
    "    test+=check_str(90,228)\n",
    "    test+=(\"\"\"\n",
    "    /gps/position %d %d %d mm\n",
    "    \"\"\"%(i[0],i[1],i[2]))"
   ]
  },
  {
   "cell_type": "code",
   "execution_count": null,
   "id": "593231aa-e31d-4ab0-97c6-0a6b75f5d9ca",
   "metadata": {},
   "outputs": [],
   "source": [
    "print(test)\n"
   ]
  },
  {
   "cell_type": "code",
   "execution_count": null,
   "id": "72248f0a-3825-42c7-9ace-1026948e43f0",
   "metadata": {},
   "outputs": [],
   "source": []
  }
 ],
 "metadata": {
  "kernelspec": {
   "display_name": "Python 3 (ipykernel)",
   "language": "python",
   "name": "python3"
  },
  "language_info": {
   "codemirror_mode": {
    "name": "ipython",
    "version": 3
   },
   "file_extension": ".py",
   "mimetype": "text/x-python",
   "name": "python",
   "nbconvert_exporter": "python",
   "pygments_lexer": "ipython3",
   "version": "3.10.6"
  }
 },
 "nbformat": 4,
 "nbformat_minor": 5
}
