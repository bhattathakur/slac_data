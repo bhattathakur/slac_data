{
 "cells": [
  {
   "cell_type": "code",
   "execution_count": null,
   "id": "9c079f7f-7bf6-4e61-88a3-41500e4a6a0d",
   "metadata": {},
   "outputs": [],
   "source": [
    "#10 M events were generated at PX positon including the isotopes 'Th228','Ra224','Rn220','Po216','Pb212','Bi212','Tl208'\n",
    "#skipEThreshold: 0.1\n",
    "#Each isotopes 40 seeds;each simulation: 250K events\n",
    "# 38 failed for Th228 and 27 failed for Po216\n",
    "#Total root files in g4 215\n",
    "#Total root files in recon 211"
   ]
  },
  {
   "cell_type": "code",
   "execution_count": null,
   "id": "1cde92af-d120-47b2-b913-16e062c2d64a",
   "metadata": {},
   "outputs": [],
   "source": [
    "#libraries\n",
    "import uproot\n",
    "import matplotlib.pyplot as plt\n",
    "import pandas as pd\n",
    "from matplotlib import rcParams\n",
    "import seaborn as sns\n",
    "import scienceplots\n",
    "sns.set(font_scale=1.0)\n",
    "sns.set_style('white')"
   ]
  },
  {
   "cell_type": "markdown",
   "id": "7451d3e1-b538-4586-93dc-1ec86cdc63b2",
   "metadata": {},
   "source": [
    "# DATA FILES"
   ]
  },
  {
   "cell_type": "code",
   "execution_count": null,
   "id": "d2cf5353-8dbe-4ec6-a99c-d6f39bbb502e",
   "metadata": {},
   "outputs": [],
   "source": [
    "#cuts\n",
    "apply_filter='passed_z_thresh & passed_xy_thresh & (n_x_ch_abovenoise>0) & (n_y_ch_abovenoise>0) & (m_nOPCal< (1.064*m_nQ+703)) & (m_nOPCal> (0.644*m_nQ-2411)) & (~NESTBugFound) & (m_DNNvalue>0.85) & (standoff > 100)'\n",
    "\n",
    "\n",
    "dec102020_filter='(standoff>100) & passed_xy_thresh & passed_z_thresh & (n_x_ch_abovenoise > 0) & (n_y_ch_abovenoise > 0) & (m_nOPCal < (1.077 * m_nQ + 313)) & (m_nOPCal > (0.597 * m_nQ - 216)) & ~NESTBugFound & ~NearAnodeBugFound & m_DNNvalue>0.85)'\n",
    "ja_filter='(standoff>100) & m_DNNvalue>0.85 & passed_xy_thresh & passed_z_thresh & (n_x_ch_abovenoise > 0) & (n_y_ch_abovenoise > 0) & (m_nOPCal < (1.077 * m_nQ + 313)) & (m_nOPCal > (0.597 * m_nQ - 216))& (abs(energy-2614)<10)'# & ~NESTBugFound & ~NearAnodeBugFound' & (abs(energy-2614)<10)'\n",
    "s_filter='''\n",
    "            standoff>20   &\\\n",
    "            m_DNNvalue>0  &\\\n",
    "            energy>0      &\\\n",
    "            energy<3000   &\\\n",
    "            passed_z_thresh &\\\n",
    "            passed_xy_thresh &\\\n",
    "            (n_x_ch_abovenoise>0) &\\\n",
    "            (n_y_ch_abovenoise>0) &\\\n",
    "            (m_nOPCal< (1.064*m_nQ+703))&\\\n",
    "            (m_nOPCal> (0.644*m_nQ-2411))&\\\n",
    "            ~NESTBugFound &\\\n",
    "            ~NearAnodeBugFound       \n",
    "         '''"
   ]
  },
  {
   "cell_type": "code",
   "execution_count": null,
   "id": "897b95d5-e156-45f0-9cf2-e2568da3b48f",
   "metadata": {},
   "outputs": [],
   "source": [
    "file='/home/thakur/slac_data/10Mth228/10Mth228_Th228_pos648.5_0_-1022.6.root'"
   ]
  },
  {
   "cell_type": "code",
   "execution_count": null,
   "id": "d75cb02e-7731-4e0a-8b2b-15ad09bf5d5e",
   "metadata": {},
   "outputs": [],
   "source": [
    "#file dataframe\n",
    "f=uproot.open(file+':tree')\n",
    "df=f.arrays(f.keys(),library='pd')"
   ]
  },
  {
   "cell_type": "code",
   "execution_count": null,
   "id": "9bf19bde-e358-4610-97da-f77de1a85009",
   "metadata": {},
   "outputs": [],
   "source": [
    "df"
   ]
  },
  {
   "cell_type": "code",
   "execution_count": null,
   "id": "bcbbbda3-80c2-4325-bd17-d0ed20f0814d",
   "metadata": {},
   "outputs": [],
   "source": [
    "#columns\n",
    "df.columns"
   ]
  },
  {
   "cell_type": "code",
   "execution_count": null,
   "id": "c2c2ecf1-ba0d-4f78-9666-357bfc877505",
   "metadata": {},
   "outputs": [],
   "source": [
    "#application of s_filter\n",
    "df_s=df.query(s_filter)"
   ]
  },
  {
   "cell_type": "code",
   "execution_count": null,
   "id": "9546f13c-d44c-4935-ac1c-01e89f920159",
   "metadata": {},
   "outputs": [],
   "source": [
    "df_s"
   ]
  },
  {
   "cell_type": "code",
   "execution_count": null,
   "id": "c7cf3b29-eaa7-4c85-b353-631870703589",
   "metadata": {},
   "outputs": [],
   "source": [
    "#isotope coutns before the cut\n",
    "raw_counts=pd.DataFrame(df.isotope.value_counts().reset_index().values,columns=['isotopes','value'])\\\n",
    ".sort_values(by=['isotopes'])\\\n",
    ".reset_index(drop=True)\n",
    "raw_counts"
   ]
  },
  {
   "cell_type": "code",
   "execution_count": null,
   "id": "72b8aa4c-cae2-44ad-8dfb-c8204f471ef7",
   "metadata": {},
   "outputs": [],
   "source": [
    "#isotope couns after eh cut\n",
    "cut_counts=pd.DataFrame(df_s.isotope.value_counts().reset_index().values,columns=['isotopes','values'])\\\n",
    ".sort_values(by=['isotopes'])\\\n",
    ".reset_index(drop=True)\n",
    "\n",
    "cut_counts"
   ]
  },
  {
   "cell_type": "code",
   "execution_count": null,
   "id": "b580e29f-78a2-496a-be6a-a80795af9425",
   "metadata": {},
   "outputs": [],
   "source": []
  },
  {
   "cell_type": "code",
   "execution_count": null,
   "id": "3939e424-920c-4aeb-b269-bb3ad4c3e79a",
   "metadata": {},
   "outputs": [],
   "source": [
    "#isotopes counts\n",
    "df_s.isotope.value_counts()"
   ]
  },
  {
   "cell_type": "code",
   "execution_count": null,
   "id": "d8009398-2554-41e0-82bd-a973cce1b715",
   "metadata": {},
   "outputs": [],
   "source": [
    "isotopes=['Th228','Ra224','Rn220','Po216','Pb212','Bi212','Tl208']"
   ]
  },
  {
   "cell_type": "code",
   "execution_count": null,
   "id": "b5c3ddc7-1c3a-4188-8e55-9583dc5fd0fb",
   "metadata": {},
   "outputs": [],
   "source": [
    "positions\n"
   ]
  },
  {
   "cell_type": "code",
   "execution_count": null,
   "id": "893b30c2-5670-4f17-8b85-3d9c754b29f8",
   "metadata": {},
   "outputs": [],
   "source": [
    "files=['s38_'+iso+'_'+pos+'.root' for iso in isotopes for pos in positions]"
   ]
  },
  {
   "cell_type": "code",
   "execution_count": null,
   "id": "4799a799-355b-46fe-9335-f60453d6e852",
   "metadata": {},
   "outputs": [],
   "source": [
    "files"
   ]
  },
  {
   "cell_type": "code",
   "execution_count": null,
   "id": "9734c1b7-9dc4-4ef2-8cdf-ed2fee972b87",
   "metadata": {},
   "outputs": [],
   "source": [
    "file=files[0]\n",
    "iso_pos=file.split(\".\")[0].split(\"_\")[1:]\n",
    "iso_pos[0],iso_pos[1]"
   ]
  },
  {
   "cell_type": "code",
   "execution_count": null,
   "id": "f0547141-36eb-4e14-8ef1-b23485cd88e1",
   "metadata": {},
   "outputs": [],
   "source": [
    "file=files[7]\n",
    "\n",
    "def return_values(file,cut):\n",
    "    iso_pos=file.split(\".\")[0].split(\"_\")[1:]\n",
    "    iso=iso_pos[0];pos=iso_pos[1]\n",
    "\n",
    "# if 'Bi212' in file:\n",
    "#     print(\"It is Bi212\")\n",
    "# else:\n",
    "#     print(\"It is Tl208\")\n",
    "\n",
    "    f=uproot.open(file+':tree')\n",
    "    df=f.arrays(f.keys(),library='pd')\n",
    "    raw_counts=df.shape[0]\n",
    "    filtered_counts=df.query(cut).shape[0]\n",
    "#     print(f\"\"\"\n",
    "# filename       :       {file}\n",
    "# isotope        :       {iso}\n",
    "# position       :       {pos}\n",
    "# raw_counts     :       {raw_counts}\n",
    "# filtered_counts:       {filtered_counts}\n",
    "# \"\"\")\n",
    "    return [file,iso,pos,raw_counts,filtered_counts]"
   ]
  },
  {
   "cell_type": "code",
   "execution_count": null,
   "id": "2b34d0ad-7174-44dc-b3af-a76a8245d63e",
   "metadata": {},
   "outputs": [],
   "source": [
    "def get_df(cut):\n",
    "    print(f\"CUT:\\n{cut}\\n\")\n",
    "    all_info=[]\n",
    "    for file in files:\n",
    "        all_info.append(return_values(file,cut))\n",
    "    df_all=pd.DataFrame(all_info,columns=['file','isotope','position','g4tree_counts','cut_counts'])\n",
    "    print(35*'--')\n",
    "    print(f\"Complete DataFrame:\\n{df_all.to_string()}\")\n",
    "    print(35*'--')\n",
    "    print(\"raw and cut counts\\n\")\n",
    "    print(df_all[['g4tree_counts','cut_counts']].sum())\n",
    "    print(35*'--')\n",
    "    df_bi=df_all[df_all['isotope']=='Bi212'][['g4tree_counts','cut_counts']]\n",
    "    df_tl=df_all[df_all['isotope']=='Tl208'][['g4tree_counts','cut_counts']]\n",
    "    print(f\"\\nBi212 DataFrame:\\n{df_bi.to_string()}\")\n",
    "    print(\"\\nraw and cut counts for Bi212\\n\")\n",
    "    print(f\"{df_bi.sum()}\")\n",
    "    print(35*'--')\n",
    "    \n",
    "    print(f\"\\nTl208 DataFrame:\\n{df_tl.to_string()}\")\n",
    "    print(\"\\nraw and cut counts for Tl208\\n\")\n",
    "    print(f\"{df_tl.sum()}\")\n",
    "    print(35*'--')\n",
    "    #return df_all,df_bi,df_tl"
   ]
  },
  {
   "cell_type": "code",
   "execution_count": null,
   "id": "369e4a26-3cb3-48be-809f-384c3dd3e65d",
   "metadata": {},
   "outputs": [],
   "source": [
    "#filter 1\n",
    "j_df=get_df(jason_filter)\n",
    "j_df"
   ]
  },
  {
   "cell_type": "code",
   "execution_count": null,
   "id": "e06c2bb5-cf79-4009-980e-3f55a713b46c",
   "metadata": {},
   "outputs": [],
   "source": [
    "#filter 2\n",
    "d_df=get_df(dec102020_filter)\n",
    "d_df"
   ]
  },
  {
   "cell_type": "code",
   "execution_count": null,
   "id": "ab9d7f76-fbd7-4f7b-9372-471bb85585c1",
   "metadata": {},
   "outputs": [],
   "source": []
  },
  {
   "cell_type": "code",
   "execution_count": null,
   "id": "5e165431-b1f8-42aa-8ca6-9706c9d62238",
   "metadata": {},
   "outputs": [],
   "source": [
    "# dataframe\n",
    "df_all=pd.DataFrame(all_info,columns=['file','isotope','position','raw_counts','filtered_counts'])"
   ]
  },
  {
   "cell_type": "code",
   "execution_count": null,
   "id": "70ebc097-ef53-4b2d-b133-d386540c378c",
   "metadata": {},
   "outputs": [],
   "source": [
    "df_all"
   ]
  },
  {
   "cell_type": "code",
   "execution_count": null,
   "id": "270874b6-d32d-4084-a10e-3bf47958ff38",
   "metadata": {},
   "outputs": [],
   "source": [
    "#all counts\n",
    "df_all[['raw_counts','filtered_counts']].sum()"
   ]
  },
  {
   "cell_type": "code",
   "execution_count": null,
   "id": "3d0123ff-f9b3-4d05-9114-79dc7aa84a90",
   "metadata": {},
   "outputs": [],
   "source": [
    "# Bi212\n",
    "df_bi=df_all[df_all['isotope']=='Bi212'][['raw_counts','filtered_counts']]\n",
    "df_bi"
   ]
  },
  {
   "cell_type": "code",
   "execution_count": null,
   "id": "16da8eaf-235e-47bd-bba5-ba0b043f5910",
   "metadata": {},
   "outputs": [],
   "source": [
    "# Bi212 sum\n",
    "df_bi.sum()"
   ]
  },
  {
   "cell_type": "code",
   "execution_count": null,
   "id": "43f8e8d5-fed7-4dfc-9b3f-3db1035b65a1",
   "metadata": {},
   "outputs": [],
   "source": [
    "# Tl208\n",
    "df_tl=df_all[df_all['isotope']=='Tl208'][['raw_counts','filtered_counts']]\n",
    "df_tl"
   ]
  },
  {
   "cell_type": "code",
   "execution_count": null,
   "id": "be5f5850-b7db-471b-aa5a-db8130d5a42b",
   "metadata": {},
   "outputs": [],
   "source": [
    "#sum of counts\n",
    "df_tl.sum()"
   ]
  },
  {
   "cell_type": "code",
   "execution_count": null,
   "id": "0a1811cf-fe47-4d9f-843e-ddc204d33782",
   "metadata": {},
   "outputs": [],
   "source": [
    "df.isotope.value_counts"
   ]
  },
  {
   "cell_type": "code",
   "execution_count": null,
   "id": "8dbe1716-c7ca-4dd9-be04-085430798eca",
   "metadata": {},
   "outputs": [],
   "source": [
    "df_filtered=df.query(jason_filter)"
   ]
  },
  {
   "cell_type": "code",
   "execution_count": null,
   "id": "dde3bd61-59cf-4490-8bea-f036551af469",
   "metadata": {},
   "outputs": [],
   "source": [
    "df_filtered"
   ]
  },
  {
   "cell_type": "code",
   "execution_count": null,
   "id": "dc6a3bec-add3-43ab-9be6-f5c73fecd8e7",
   "metadata": {},
   "outputs": [],
   "source": []
  }
 ],
 "metadata": {
  "kernelspec": {
   "display_name": "Python 3 (ipykernel)",
   "language": "python",
   "name": "python3"
  },
  "language_info": {
   "codemirror_mode": {
    "name": "ipython",
    "version": 3
   },
   "file_extension": ".py",
   "mimetype": "text/x-python",
   "name": "python",
   "nbconvert_exporter": "python",
   "pygments_lexer": "ipython3",
   "version": "3.10.6"
  }
 },
 "nbformat": 4,
 "nbformat_minor": 5
}
