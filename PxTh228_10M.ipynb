{
 "cells": [
  {
   "cell_type": "code",
   "execution_count": null,
   "id": "9c079f7f-7bf6-4e61-88a3-41500e4a6a0d",
   "metadata": {},
   "outputs": [],
   "source": [
    "#10 M events were generated at PX positon including the isotopes 'Th228','Ra224','Rn220','Po216','Pb212','Bi212','Tl208'\n",
    "#skipEThreshold: 0.1\n",
    "#Each isotopes 40 seeds;each simulation: 250K events\n",
    "# 38 failed for Th228 and 27 failed for Po216\n",
    "#Total root files in g4 215\n",
    "#Total root files in recon 211\n",
    "#comparing with the result in the 5 th slide\n",
    "#https://docs.google.com/viewer?url=https%3A%2F%2Fnexowiki.llnl.gov%2Fimages%2Fa%2Fa1%2FScott_Schwartz_Th228_Location_Reconstruction_Study.pdf"
   ]
  },
  {
   "cell_type": "code",
   "execution_count": null,
   "id": "1cde92af-d120-47b2-b913-16e062c2d64a",
   "metadata": {},
   "outputs": [],
   "source": [
    "#libraries\n",
    "import uproot\n",
    "import matplotlib.pyplot as plt\n",
    "import pandas as pd\n",
    "from matplotlib import rcParams\n",
    "import seaborn as sns\n",
    "import scienceplots\n",
    "plt.rcParams['figure.figsize'] = [30, 20]\n",
    "sns.set(rc={'figure.figsize':(30,20)})\n",
    "#sns.set(font_scale=1.0)\n",
    "sns.set_theme(style=\"darkgrid\")"
   ]
  },
  {
   "cell_type": "markdown",
   "id": "7451d3e1-b538-4586-93dc-1ec86cdc63b2",
   "metadata": {},
   "source": [
    "# DATA FILES"
   ]
  },
  {
   "cell_type": "code",
   "execution_count": null,
   "id": "d2cf5353-8dbe-4ec6-a99c-d6f39bbb502e",
   "metadata": {},
   "outputs": [],
   "source": [
    "#cuts\n",
    "apply_filter='passed_z_thresh & passed_xy_thresh & (n_x_ch_abovenoise>0) & (n_y_ch_abovenoise>0) & (m_nOPCal< (1.064*m_nQ+703)) & (m_nOPCal> (0.644*m_nQ-2411)) & (~NESTBugFound) & (m_DNNvalue>0.85) & (standoff > 100)'\n",
    "\n",
    "\n",
    "dec102020_filter='(standoff>100) & passed_xy_thresh & passed_z_thresh & (n_x_ch_abovenoise > 0) & (n_y_ch_abovenoise > 0) & (m_nOPCal < (1.077 * m_nQ + 313)) & (m_nOPCal > (0.597 * m_nQ - 216)) & ~NESTBugFound & ~NearAnodeBugFound & m_DNNvalue>0.85)'\n",
    "ja_filter='(standoff>100) & m_DNNvalue>0.85 & passed_xy_thresh & passed_z_thresh & (n_x_ch_abovenoise > 0) & (n_y_ch_abovenoise > 0) & (m_nOPCal < (1.077 * m_nQ + 313)) & (m_nOPCal > (0.597 * m_nQ - 216))& (abs(energy-2614)<10)'# & ~NESTBugFound & ~NearAnodeBugFound' & (abs(energy-2614)<10)'\n",
    "s_filter='''\n",
    "            standoff>20   &\\\n",
    "            m_DNNvalue>0  &\\\n",
    "            energy>0      &\\\n",
    "            energy<3000   &\\\n",
    "            passed_z_thresh &\\\n",
    "            passed_xy_thresh &\\\n",
    "            (n_x_ch_abovenoise>0) &\\\n",
    "            (n_y_ch_abovenoise>0) &\\\n",
    "            (m_nOPCal< (1.064*m_nQ+703))&\\\n",
    "            (m_nOPCal> (0.644*m_nQ-2411))&\\\n",
    "            ~NESTBugFound &\\\n",
    "            ~NearAnodeBugFound       \n",
    "         '''"
   ]
  },
  {
   "cell_type": "code",
   "execution_count": null,
   "id": "897b95d5-e156-45f0-9cf2-e2568da3b48f",
   "metadata": {},
   "outputs": [],
   "source": [
    "file='/home/thakur/slac_data/10Mth228/10Mth228_Th228_pos648.5_0_-1022.6.root'"
   ]
  },
  {
   "cell_type": "code",
   "execution_count": null,
   "id": "d75cb02e-7731-4e0a-8b2b-15ad09bf5d5e",
   "metadata": {},
   "outputs": [],
   "source": [
    "#file dataframe\n",
    "f=uproot.open(file+':tree')\n",
    "df=f.arrays(f.keys(),library='pd')"
   ]
  },
  {
   "cell_type": "code",
   "execution_count": null,
   "id": "9bf19bde-e358-4610-97da-f77de1a85009",
   "metadata": {},
   "outputs": [],
   "source": [
    "df"
   ]
  },
  {
   "cell_type": "code",
   "execution_count": null,
   "id": "bcbbbda3-80c2-4325-bd17-d0ed20f0814d",
   "metadata": {},
   "outputs": [],
   "source": [
    "#columns\n",
    "df.columns"
   ]
  },
  {
   "cell_type": "code",
   "execution_count": null,
   "id": "c2c2ecf1-ba0d-4f78-9666-357bfc877505",
   "metadata": {},
   "outputs": [],
   "source": [
    "#application of s_filter\n",
    "df_s=df.query(s_filter)"
   ]
  },
  {
   "cell_type": "code",
   "execution_count": null,
   "id": "9546f13c-d44c-4935-ac1c-01e89f920159",
   "metadata": {},
   "outputs": [],
   "source": [
    "df_s"
   ]
  },
  {
   "cell_type": "code",
   "execution_count": null,
   "id": "d8009398-2554-41e0-82bd-a973cce1b715",
   "metadata": {},
   "outputs": [],
   "source": [
    "isotopes=['Th228','Ra224','Rn220','Po216','Pb212','Bi212','Tl208']"
   ]
  },
  {
   "cell_type": "code",
   "execution_count": null,
   "id": "c7cf3b29-eaa7-4c85-b353-631870703589",
   "metadata": {},
   "outputs": [],
   "source": [
    "#isotope coutns before the cut\n",
    "raw_counts=pd.DataFrame(df.isotope.value_counts().reset_index().values,columns=['isonum','raw_counts'])\\\n",
    ".sort_values(by=['isonum'])\\\n",
    ".reset_index(drop=True)\n",
    "\n",
    "raw_counts[\"isotopes\"]=raw_counts.isonum.apply(lambda x:isotopes[x-1])\n",
    "raw_counts=raw_counts[['isonum','isotopes','raw_counts']]\n",
    "#raw_counts.index=raw_counts.isotopes\n",
    "#print(raw_counts.to_string())\n",
    "raw_counts"
   ]
  },
  {
   "cell_type": "code",
   "execution_count": null,
   "id": "72b8aa4c-cae2-44ad-8dfb-c8204f471ef7",
   "metadata": {},
   "outputs": [],
   "source": [
    "#isotope couns after eh cut\n",
    "cut_counts=pd.DataFrame(df_s.isotope.value_counts().reset_index().values,columns=['isonum','cut_counts'])\\\n",
    ".sort_values(by=['isonum'])\\\n",
    ".reset_index(drop=True)\n",
    "#cut_counts.insert(1,\"isotopes\",isotopes)\n",
    "cut_counts[\"isotopes\"]=cut_counts.isonum.apply(lambda x:isotopes[x-1])\n",
    "cut_counts=cut_counts[['isonum','isotopes','cut_counts']]\n",
    "print(cut_counts.to_string())"
   ]
  },
  {
   "cell_type": "code",
   "execution_count": null,
   "id": "5b6d64bf-7931-4940-b7de-5b76d7e5bb8f",
   "metadata": {},
   "outputs": [],
   "source": [
    "merged=raw_counts.merge(cut_counts,how='left')\n",
    "merged=merged[['isotopes','raw_counts','cut_counts']]\n",
    "merged=merged.set_index('isotopes')\n",
    "print(merged.to_string())"
   ]
  },
  {
   "cell_type": "code",
   "execution_count": null,
   "id": "3166e1ca-e84c-42dc-aa73-7c47adc4e9a9",
   "metadata": {},
   "outputs": [],
   "source": [
    "s_counts=[0,0,6,12,0,13570,234244]"
   ]
  },
  {
   "cell_type": "code",
   "execution_count": null,
   "id": "d9daac53-9375-4f1d-b148-632e08e401a1",
   "metadata": {},
   "outputs": [],
   "source": [
    "br_list=[1,1,1,1,1,1,0.359]"
   ]
  },
  {
   "cell_type": "code",
   "execution_count": null,
   "id": "f3cef459-f65e-4bae-96e3-2e078d0ebc7d",
   "metadata": {},
   "outputs": [],
   "source": [
    "merged[\"s_counts\"]=s_counts"
   ]
  },
  {
   "cell_type": "code",
   "execution_count": null,
   "id": "1ba717e6-5876-4011-96f3-68a1c699ae01",
   "metadata": {},
   "outputs": [],
   "source": [
    "#print(merged[['cut_counts','s_counts']].to_string())\n",
    "merged"
   ]
  },
  {
   "cell_type": "code",
   "execution_count": null,
   "id": "d526e6ea-a1ce-4663-89b0-2e4551643df5",
   "metadata": {},
   "outputs": [],
   "source": [
    "#applicaiton of br \n",
    "merged['cut_counts']=merged['cut_counts']*br_list"
   ]
  },
  {
   "cell_type": "code",
   "execution_count": null,
   "id": "41193108-ad9f-4198-bc09-1a9c4620f3d8",
   "metadata": {},
   "outputs": [],
   "source": [
    "merged"
   ]
  },
  {
   "cell_type": "code",
   "execution_count": null,
   "id": "d07fef63-eb55-4527-959e-d7f55d964186",
   "metadata": {},
   "outputs": [],
   "source": [
    "br=0.3594\n",
    "br=0.36\n",
    "int(merged.loc['Tl208'][1]*br)"
   ]
  },
  {
   "cell_type": "code",
   "execution_count": null,
   "id": "d376bd90-8f5a-4751-b17e-d1d14f9654ec",
   "metadata": {},
   "outputs": [],
   "source": [
    "#plot for combined\n",
    "%matplotlib inline\n",
    "skipEThreshold=0.1\n",
    "# merged=merged[['isotopes','raw_counts','cut_counts']]\n",
    "# merged=merged.set_index('isotopes')\n",
    "ax=merged.plot.bar()\n",
    "for c in ax.containers:\n",
    "    # set the bar label\n",
    "    ax.bar_label(c, fmt='%.0f', label_type='edge')\n",
    "plt.xlabel('''ISOTOPES''')\n",
    "plt.title(f'Isotope counts in g4tree for 10M Th228 at PX for skipEThreshold: {skipEThreshold} keV \\n')\n",
    "plt.ylabel('COUNTS')\n",
    "plt.yscale('log')\n",
    "txt='test'\n",
    "#plt.savefig(f'g4tree_isotopes_bothskipEThreshold: {skipEThreshold}.pdf')\n",
    "#plt.text(2.5, 10e4, 'cut: '+s_filter.strip().replace(\" \",\"\"), ha='center',fontsize='xx-small',color='r',fontweight='bold')\n",
    "\n",
    "plt.show()"
   ]
  },
  {
   "cell_type": "code",
   "execution_count": null,
   "id": "1a106c99-7867-40a7-8e0e-3d038567aa6c",
   "metadata": {},
   "outputs": [],
   "source": [
    "ax=merged.plot.bar(y='raw_counts')\n",
    "plt.yscale('log')"
   ]
  },
  {
   "cell_type": "code",
   "execution_count": null,
   "id": "1325b039-da3c-4c04-8b45-20b95c884128",
   "metadata": {},
   "outputs": [],
   "source": [
    "#plot for raw data\n",
    "skipEThreshold=0.1\n",
    "plt.figure(figsize=(16,10))\n",
    "raw_counts=raw_counts.set_index('isotopes')\n",
    "ax=raw_counts.plot.bar()\n",
    "for c in ax.containers:\n",
    "    # set the bar label\n",
    "    ax.bar_label(c, fmt='%.0f', label_type='edge')\n",
    "plt.xlabel('ISOTOPES')\n",
    "plt.title(f'Isotope counts in g4tree for 10M Th228 at PX for skipEThreshold: {skipEThreshold} keV')\n",
    "plt.ylabel('COUNTS')\n",
    "plt.yscale('log')\n",
    "plt.savefig(f'g4tree_isotopes_bothskipEThreshold: {skipEThreshold}.pdf')\n",
    "plt.show()"
   ]
  },
  {
   "cell_type": "code",
   "execution_count": null,
   "id": "ec06d7fc-acdb-4219-a8a3-27c4be3a5eb2",
   "metadata": {},
   "outputs": [],
   "source": [
    "#plot for cut data\n",
    "skipEThreshold=0.1\n",
    "plt.figure(figsize=(16,10))\n",
    "cut_counts=cut_counts.set_index('isotopes')\n",
    "ax=cut_counts.plot.bar()\n",
    "for c in ax.containers:\n",
    "    # set the bar label\n",
    "    ax.bar_label(c, fmt='%.0f', label_type='edge')\n",
    "plt.xlabel('ISOTOPES')\n",
    "plt.title(f'Isotope counts in g4tree for 10M Th228 at PX for skipEThreshold: {skipEThreshold} keV')\n",
    "plt.ylabel('COUNTS')\n",
    "plt.yscale('log')\n",
    "#plt.savefig(f'g4tree_isotopes_bothskipEThreshold: {skipEThreshold}.pdf')\n",
    "plt.show()"
   ]
  },
  {
   "cell_type": "code",
   "execution_count": null,
   "id": "3939e424-920c-4aeb-b269-bb3ad4c3e79a",
   "metadata": {},
   "outputs": [],
   "source": [
    "#energy graph\n",
    "# df_iso=df_s.query(\"isotope==7\")`\n",
    "# df_iso.energy.plot()\n",
    "#df_iso.plot('energy','weight')\n",
    "# ene=df_iso.energy\n",
    "# weight=df_iso.weight\n",
    "# label_value=\"test\"\n",
    "#out=ax.hist(df_iso.energy, bins=200, histtype=u'step', weights=weight, density=True, label=label_value)\n",
    "# plt.show()\n",
    "df_s.columns"
   ]
  },
  {
   "cell_type": "code",
   "execution_count": null,
   "id": "4cb61830-23b4-4f1b-9cfb-8a38ed1fae92",
   "metadata": {},
   "outputs": [],
   "source": [
    "#sns.relplot(data=df_s,x='energy',y='weight',hue='isotope')\n",
    "px_energy=df_s.energy\n",
    "plt.hist(px_energy,200,density=False,histtype='step',facecolor='g',alpha=0.75)\n",
    "plt.yscale('log')\n",
    "plt.xlabel('Energy [keV]')\n",
    "plt.ylabel('Filtered count ')\n",
    "plt.show()"
   ]
  },
  {
   "cell_type": "code",
   "execution_count": null,
   "id": "b4188278-a36b-4cb7-961d-d36e25f7a6fa",
   "metadata": {},
   "outputs": [],
   "source": [
    "iso_names=cut_counts.isonum.apply(lambda x:isotopes[x-1])\n",
    "iso_names"
   ]
  },
  {
   "cell_type": "code",
   "execution_count": null,
   "id": "13e756af-7f25-4404-869a-3d8ae7eb3782",
   "metadata": {},
   "outputs": [],
   "source": [
    "bins=int(merged.cut_counts.sum())\n",
    "bins"
   ]
  },
  {
   "cell_type": "code",
   "execution_count": null,
   "id": "13f35aba-63d3-4df6-9191-e05afc7f1a61",
   "metadata": {},
   "outputs": [],
   "source": [
    "iso_name=['Th228','Ra224','Rn220','Po216','pb212','bi212','tl208']"
   ]
  },
  {
   "cell_type": "code",
   "execution_count": null,
   "id": "040fa465-faa1-4933-9fc4-7e513b53f248",
   "metadata": {},
   "outputs": [],
   "source": [
    "df_s.head()"
   ]
  },
  {
   "cell_type": "code",
   "execution_count": null,
   "id": "80d0c367-7ddd-4545-905b-63dd57e5c3bf",
   "metadata": {},
   "outputs": [],
   "source": [
    "df_s['iso_name']=df_s['isotope'].map({1:'Th228',2:'Ra224',3:'Rn220',4:'Po216',5:'Pb212',6:'Bi212',7:'Tl208'})"
   ]
  },
  {
   "cell_type": "code",
   "execution_count": null,
   "id": "ab1b4d86-7007-4916-98c8-2b0f7676443b",
   "metadata": {},
   "outputs": [],
   "source": [
    "df_s.head()"
   ]
  },
  {
   "cell_type": "code",
   "execution_count": null,
   "id": "b5c3ddc7-1c3a-4188-8e55-9583dc5fd0fb",
   "metadata": {},
   "outputs": [],
   "source": [
    "#sns.histplot(data=df_s, x=\"energy\",hue=\"isotope\",bins=200,element=\"step\")\n",
    "#bins=merged.cut_counts.sum().values\n",
    "sns.set(rc={'figure.figsize':(20,10)})\n",
    "#sns.histplot(data=df_s, x=\"energy\",hue=\"isotope\",bins=200,element=\"step\",log_scale=True,fill=False)\n",
    "g=sns.histplot(data=df_s, x=\"energy\",hue=\"iso_name\",weights=\"weight\",bins=1000,element=\"step\",fill=False)#,palette=['r','b','g','y','k'])\n",
    "#plt.legend(labels=iso_names)\n",
    "g.set_xlabel('Energy [keV]')\n",
    "g.set_ylabel('Count')\n",
    "plt.yscale(\"log\")\n"
   ]
  },
  {
   "cell_type": "code",
   "execution_count": null,
   "id": "bd35ae7c-c70c-4d8d-ada0-8e2ad8fdef80",
   "metadata": {},
   "outputs": [],
   "source": [
    "fig, axes = plt.subplots(1, 2,gridspec_kw={'width_ratios':[3,1]})\n",
    "sns.set(rc={'figure.figsize':(20,10)})\n",
    "#sns.histplot(data=df_s, x=\"energy\",hue=\"isotope\",bins=200,element=\"step\",log_scale=True,fill=False)\n",
    "g=sns.histplot(data=df_s, x=\"energy\",hue=\"iso_name\",weights=\"weight\",bins=1000,element=\"step\",fill=False,ax=axes[0])#,palette=['r','b','g','y','k'])\n",
    "#plt.legend(labels=iso_names)\n",
    "g.set_xlabel('Energy [keV]')\n",
    "g.set_ylabel('Counts')\n",
    "g.set_yscale(\"log\")\n",
    "\n",
    "#g1=sns.barplot(data=merged,x='\n",
    "ax=merged[[\"raw_counts\",\"cut_counts\"]].plot.bar(ax=axes[1])\n",
    "for c in ax.containers:\n",
    "    # set the bar label\n",
    "    ax.bar_label(c, fmt='%.0f', label_type='edge')\n",
    "ax.set_xlabel('Isotopes')\n",
    "\n",
    "ax.set_ylabel('Counts')\n",
    "ax.set_yscale('log')\n",
    "\n",
    "plt.suptitle(f'Isotope counts in g4tree for 10M Th228 at PX for skipEThreshold: {skipEThreshold} keV \\n')\n",
    "plt.savefig('energyandisotopes.pdf')\n",
    "\n",
    "plt.show()"
   ]
  },
  {
   "cell_type": "code",
   "execution_count": null,
   "id": "938c1149-68fc-4517-aefd-19c0f97443b3",
   "metadata": {},
   "outputs": [],
   "source": [
    "iso=['Th228','Ra224','Rn220','Po216','pb212','bi212','tl208']\n",
    "col=['m','y','g','k','c','m','b']\n",
    "filtered_th228=df_s.copy()\n",
    "print(f\"Total rows: {filtered_th228.shape[0]}\")\n",
    "for i in [1,2,3,4,5,6,7]:\n",
    "    #print(non_filtered_th228_px.head())\n",
    "    df_new=filtered_th228[filtered_th228.isotope==i]\n",
    "    if df_new.empty:continue\n",
    "    #print(df_new.head())\n",
    "    px_energy=df_new.energy;weight=df_new.weight\n",
    "    plt.hist(px_energy,2000,density=False,weights=weight,histtype='step',alpha=0.95,label=iso[i-1],color=col[i-1])\n",
    "    plt.yscale('log')\n",
    "    plt.xlabel('Energy [keV]')\n",
    "    plt.ylabel('Raw count ')\n",
    "    plt.legend()\n",
    "plt.title(\"SS Energy for Th228 at all positions\")\n",
    "plt.show()"
   ]
  },
  {
   "cell_type": "code",
   "execution_count": null,
   "id": "dc6a3bec-add3-43ab-9be6-f5c73fecd8e7",
   "metadata": {},
   "outputs": [],
   "source": []
  }
 ],
 "metadata": {
  "kernelspec": {
   "display_name": "Python 3 (ipykernel)",
   "language": "python",
   "name": "python3"
  },
  "language_info": {
   "codemirror_mode": {
    "name": "ipython",
    "version": 3
   },
   "file_extension": ".py",
   "mimetype": "text/x-python",
   "name": "python",
   "nbconvert_exporter": "python",
   "pygments_lexer": "ipython3",
   "version": "3.10.6"
  }
 },
 "nbformat": 4,
 "nbformat_minor": 5
}
