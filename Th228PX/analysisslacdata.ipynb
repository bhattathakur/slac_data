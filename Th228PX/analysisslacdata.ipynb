{
 "cells": [
  {
   "cell_type": "code",
   "execution_count": null,
   "id": "3521780c-3b3e-4297-9255-ba1320abc8d3",
   "metadata": {},
   "outputs": [],
   "source": [
    "import uproot"
   ]
  },
  {
   "cell_type": "code",
   "execution_count": null,
   "id": "29df850c-291f-4f66-9a3b-fb89eae8214a",
   "metadata": {},
   "outputs": [],
   "source": [
    "file='Example_Bi212_pos648.5_0_-1022.6_seed1.nEXOevents.root'\n",
    "suffix=\":Event/Sim/SimEvent/SimEvent\"\n"
   ]
  },
  {
   "cell_type": "code",
   "execution_count": null,
   "id": "8b4c306e-0885-4bb5-b87c-173082550982",
   "metadata": {},
   "outputs": [],
   "source": [
    "file1=f'{file}{suffix}'\n",
    "file1"
   ]
  },
  {
   "cell_type": "code",
   "execution_count": null,
   "id": "a50e078f-588a-4fde-813b-237706eeb1ec",
   "metadata": {},
   "outputs": [],
   "source": [
    "f=uproot.open(file1)"
   ]
  },
  {
   "cell_type": "code",
   "execution_count": null,
   "id": "5d14a2a5-8601-4cdb-a4e6-d5fbb4bc3eb5",
   "metadata": {},
   "outputs": [],
   "source": [
    "f.values()"
   ]
  },
  {
   "cell_type": "code",
   "execution_count": null,
   "id": "817e3252-d786-48d8-a2c0-f38955f13810",
   "metadata": {},
   "outputs": [],
   "source": [
    "f.keys()"
   ]
  },
  {
   "cell_type": "code",
   "execution_count": null,
   "id": "35c9f380-dc02-41f7-86a4-fbdfc033c668",
   "metadata": {},
   "outputs": [],
   "source": [
    "req_list=sim.keys()[4:]\n",
    "req_list"
   ]
  },
  {
   "cell_type": "code",
   "execution_count": null,
   "id": "6c884c01-2e2b-470f-986e-373209f14452",
   "metadata": {},
   "outputs": [],
   "source": [
    "test_df=sim.arrays(req_list,library='pd')\n",
    "test_df.head()"
   ]
  },
  {
   "cell_type": "code",
   "execution_count": null,
   "id": "c6caea3a-c96d-4649-a75c-e86828588c35",
   "metadata": {},
   "outputs": [],
   "source": []
  }
 ],
 "metadata": {
  "kernelspec": {
   "display_name": "Python 3 (ipykernel)",
   "language": "python",
   "name": "python3"
  },
  "language_info": {
   "codemirror_mode": {
    "name": "ipython",
    "version": 3
   },
   "file_extension": ".py",
   "mimetype": "text/x-python",
   "name": "python",
   "nbconvert_exporter": "python",
   "pygments_lexer": "ipython3",
   "version": "3.10.6"
  }
 },
 "nbformat": 4,
 "nbformat_minor": 5
}
