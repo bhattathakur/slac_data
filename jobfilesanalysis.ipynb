{
 "cells": [
  {
   "cell_type": "code",
   "execution_count": null,
   "id": "5d3ce486-a697-4ba4-b287-3832fd82ed41",
   "metadata": {},
   "outputs": [],
   "source": [
    "#read the text file to analyze the job files\n",
    "import pandas as pd\n",
    "import numpy as np\n",
    "pd.set_option(\"max_rows\", None)\n",
    "pd.set_option(\"max_columns\", None)"
   ]
  },
  {
   "cell_type": "code",
   "execution_count": null,
   "id": "08228e58-e88b-4cf2-838b-063c9f894407",
   "metadata": {},
   "outputs": [],
   "source": [
    "file_list=[]\n",
    "file_name='test.txt'\n",
    "file_name='infofile.txt'\n",
    "with open(file_name) as f:\n",
    "    all_lines=f.readlines()\n",
    "    for i,line in enumerate(all_lines,start=1):\n",
    "        if i==1:continue\n",
    "        file=line.split()[-1].strip()\n",
    "        file_list.append(file)\n",
    "        if (i-1)%70==0:\n",
    "            print(f\"line {i}:\\n {line}\")\n",
    "            print(f\"file    :   {file}\")\n",
    "        \n",
    "    "
   ]
  },
  {
   "cell_type": "code",
   "execution_count": null,
   "id": "c9f780e6-31b1-416e-bcc6-cb3333190c1b",
   "metadata": {},
   "outputs": [],
   "source": [
    "file_list[:10]"
   ]
  },
  {
   "cell_type": "code",
   "execution_count": null,
   "id": "499795ba-f57b-4e5e-9caf-5cc2e5109368",
   "metadata": {},
   "outputs": [],
   "source": [
    "Bi_list=[i for i in file_list if \"Bi212\" in i]\n",
    "Bi_list[:5]"
   ]
  },
  {
   "cell_type": "code",
   "execution_count": null,
   "id": "13c1a545-cc2b-4619-b522-ef8bb9dbc73e",
   "metadata": {},
   "outputs": [],
   "source": [
    "Po_list=[i for i in file_list if \"Po216\" in i]\n",
    "Po_list[:5]"
   ]
  },
  {
   "cell_type": "code",
   "execution_count": null,
   "id": "206fa735-a61e-4100-8f75-86096236fb93",
   "metadata": {},
   "outputs": [],
   "source": [
    "Bi_list[:10]"
   ]
  },
  {
   "cell_type": "code",
   "execution_count": null,
   "id": "570dc1f9-f54f-4186-a7ec-8f1480119d06",
   "metadata": {},
   "outputs": [],
   "source": [
    "all_list=[[i for i in file_list if k in i] for k in ['Th228','Ra224','Rn220','Po216','Pb212','Bi212','Tl208']] #all list\n"
   ]
  },
  {
   "cell_type": "code",
   "execution_count": null,
   "id": "88267e02-d811-41ee-b2b4-5ba3ae4e217c",
   "metadata": {},
   "outputs": [],
   "source": [
    "\n",
    "prefix='10Mth228'\n",
    "pos='pos648.5_0_-1022.6'\n",
    "\n",
    "#suffix\n",
    "mac='mac'\n",
    "out='nEXOevents.out'\n",
    "err='nEXOevents.err'\n",
    "root='nEXOevents.root'\n",
    "#ftm_str=f\"10Mth228_{}_pos648\\.5_0_-1022\\.6_seed{}\\.{}\"\n",
    "fmt_str=\"{}_{}_{}_seed{}.{}\"\n",
    "\n",
    "seed=40\n",
    "#10Mth228_Th228_pos648.5_0_-1022.6_seed11.nEXOevents.out\n",
    "#for i in all_list[0]:\n",
    "pos=\"pos648.5_0_-1022.6\" #replace the longer string\n",
    "input_list=all_list[0]\n",
    "def get_info_df(input_list):\n",
    "    iso=input_list[0].split('_')[1]\n",
    "    print(30*\"==\")\n",
    "    print(f\"WORKING FOR :{iso}\\n\")\n",
    "    print(f\"NOTE        :PX=>{pos}\")\n",
    "    print(30*\"==\")\n",
    "    #print(fmt_str.format(prefix,iso,pos,1,mac))\n",
    "    seed_list=[]\n",
    "    mac_list=[]\n",
    "    out_list=[]\n",
    "    err_list=[]\n",
    "    root_list=[]\n",
    "    for k in range(1,seed+1):\n",
    "        mac_file=fmt_str.format(prefix,iso,pos,k,mac)\n",
    "        out_file=fmt_str.format(prefix,iso,pos,k,out)\n",
    "        err_file=fmt_str.format(prefix,iso,pos,k,err)\n",
    "        root_file=fmt_str.format(prefix,iso,pos,k,root)\n",
    "        #print(f\"out_file:\\t{out_file}\")\n",
    "        # print(f\"err_file:\\t{err_file}\")\n",
    "        # print(f\"root_file:\\t{root_file}\")\n",
    "        # for f in [mac_file,out_file,err_file,root_file]:\n",
    "        #     print(f\"file; {f} exists\") if f in input_list else print(f\"file; {f} doesnot exist\")\n",
    "        seed_list.append(k)\n",
    "        mac_list.append(mac_file) if mac_file in input_list else mac_list.append(np.nan)\n",
    "        out_list.append(out_file) if out_file in input_list else out_list.append(np.nan)\n",
    "        err_list.append(err_file) if err_file in input_list else err_list.append(np.nan)\n",
    "        root_list.append(root_file) if root_file in input_list else root_list.append(np.nan)\n",
    "\n",
    "        df=pd.DataFrame({\"seed\":seed_list,\"mac_file\":mac_list,\"out_file\":out_list,\"err_file\":err_list,\"root_file\":root_list})\n",
    "        \n",
    "        df=df.replace(pos,\"PX\",regex=True)\n",
    "    # print(f\"COUNTS:\\n{df.count()}\\n\")\n",
    "    # print(30*\"==\")\n",
    "    # print()\n",
    "    return df\n",
    "    \n",
    "    #df=pd.DataFrame(np.vstack((seed_list,mac_list,out_list,err_list,root_list)),columns=[\"seed\",\"mac_file\",\"out_file\",\"err_file\",\"root_file\"])\n",
    "        \n",
    "    \n",
    "    #print(f\"mac_file; {mac_file} exists\") if mac_file in input_list else print(f\"mac_file; {mac_file} doesnot exist\")\n",
    "    #print(f\"out_file; {outc_file} exists\") if mac_file in input_list else print(f\"mac_file; {mac_file} doesnot exist\")\n",
    "    \n",
    "\n",
    "\n",
    "    #mac=fmt_str.format(\"Th228\",str(k),\"mac\")\n",
    "    "
   ]
  },
  {
   "cell_type": "code",
   "execution_count": null,
   "id": "87cb4577-70ff-4afe-bc04-117cfa0b24b1",
   "metadata": {},
   "outputs": [],
   "source": [
    "df_test=get_info_df(all_list[0])\n",
    "ct=df_test.count()\n",
    "ct\n"
   ]
  },
  {
   "cell_type": "code",
   "execution_count": null,
   "id": "d24d80c3-54d6-45d7-80c8-c39e69e6358d",
   "metadata": {},
   "outputs": [],
   "source": [
    "seed_count=0;mac_count=0;out_count=0;err_count=0;root_count=0\n",
    "combined_df=\n",
    "for k,i in enumerate(all_list,start=1):\n",
    "    print(f\"COUNT:{k}/{len(all_list)}\\n\")\n",
    "    my_df=get_info_df(i)\n",
    "    print(my_df.to_string())\n",
    "    ct=my_df.count()\n",
    "    seed_count+=ct.seed;mac_count+=ct.mac_file;out_count+=ct.out_file;root_count+=ct.root_file\n",
    "    print(\"\\n\"+30*'--'+\"\\n\")\n",
    "    print(ct)\n",
    "    print(\"\\n\"+30*'--'+\"\\n\")\n",
    "    #print(get_info_df(i).to_string())\n",
    "\n",
    "print(\"<===SUMMARY====>\")\n",
    "print(f\"\"\"\n",
    "Total Seeds: {seed_count}\n",
    "Total mac  : {mac_count}\n",
    "Total err  : {out_count}\n",
    "Total out  : {out_count}\n",
    "Total root : {root_count}\n",
    "\n",
    "\"\"\"\n",
    ")"
   ]
  },
  {
   "cell_type": "code",
   "execution_count": null,
   "id": "ba633909-a7db-4144-b055-ad18a3b37031",
   "metadata": {},
   "outputs": [],
   "source": [
    "frames=[get_info_df(i) for i in all_list]\n",
    "combined=pd.concat(frames)\n",
    "combined"
   ]
  },
  {
   "cell_type": "code",
   "execution_count": null,
   "id": "9bb785bd-4647-4275-8876-74c8c0f6c73e",
   "metadata": {},
   "outputs": [],
   "source": [
    "na_val=combined[combined.isna().any(axis=1)]"
   ]
  },
  {
   "cell_type": "code",
   "execution_count": null,
   "id": "d6d844ad-b1d8-41c1-8db7-f6aec8bed271",
   "metadata": {},
   "outputs": [],
   "source": [
    "na_val"
   ]
  },
  {
   "cell_type": "code",
   "execution_count": null,
   "id": "9cfc677f-bdb1-4d56-a203-52a629bd8582",
   "metadata": {},
   "outputs": [],
   "source": []
  }
 ],
 "metadata": {
  "kernelspec": {
   "display_name": "Python 3 (ipykernel)",
   "language": "python",
   "name": "python3"
  },
  "language_info": {
   "codemirror_mode": {
    "name": "ipython",
    "version": 3
   },
   "file_extension": ".py",
   "mimetype": "text/x-python",
   "name": "python",
   "nbconvert_exporter": "python",
   "pygments_lexer": "ipython3",
   "version": "3.10.6"
  }
 },
 "nbformat": 4,
 "nbformat_minor": 5
}
