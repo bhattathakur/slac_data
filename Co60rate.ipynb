{
 "cells": [
  {
   "cell_type": "code",
   "execution_count": null,
   "id": "3521780c-3b3e-4297-9255-ba1320abc8d3",
   "metadata": {},
   "outputs": [],
   "source": [
    "import uproot\n",
    "import matplotlib.pyplot as plt\n",
    "import pandas as pd\n",
    "import numpy as np\n",
    "from matplotlib import rcParams\n",
    "import seaborn as sns\n",
    "import scienceplots\n",
    "sns.set(font_scale=1.0)\n",
    "sns.set_style('white')\n",
    "from IPython.display import Image\n",
    "\n",
    "\n",
    "import matplotlib.font_manager as font_manager\n",
    "\n",
    "#legend_properties = {'weight':'bold'}\n",
    "\n",
    "#plt.style.use('fivethirtyeight') # fivethirtyeight is name of styl\n",
    "#plt.style.use(['science','no-latex'])\n",
    "#comparing the result in this presentation slide 4\n",
    "#https://docs.google.com/presentation/d/14KgpLBpJwNQH5tjEczl9tPkInSiKkJtjgqBPWSyoXok/edit#slide=id.g1b79411b324_0_80"
   ]
  },
  {
   "cell_type": "code",
   "execution_count": null,
   "id": "c89201de-ecd6-47f1-bee1-2c3f708e1a4d",
   "metadata": {},
   "outputs": [],
   "source": [
    "rcParams.update({'figure.autolayout':True})\n",
    "rcParams.update({'figure.figsize':[12,8]})\n",
    "plt.rcParams['legend.fontsize'] = 12\n",
    "plt.rcParams['lines.linewidth'] = 2.5\n",
    "plt.rcParams['grid.linewidth'] = 2.5\n",
    "plt.rcParams['grid.linestyle']=':'"
   ]
  },
  {
   "cell_type": "markdown",
   "id": "f11380ce-2c65-4399-ad69-101d7b9c7f09",
   "metadata": {},
   "source": [
    "# HELPER FUNCTION"
   ]
  },
  {
   "cell_type": "code",
   "execution_count": null,
   "id": "c3e52e79-8fcb-4d3b-ad29-0e6c91db178f",
   "metadata": {},
   "outputs": [],
   "source": [
    "def my_plotter(ax,ene,weight,label_value,yscale,xlabel='Energy [keV]',ylabel='Counts',iso=\"Th228\"):\n",
    "    \"\"\"\n",
    "    A helper function to make a graph\n",
    "\n",
    "    Parameters\n",
    "    ----------\n",
    "    ax : Axes\n",
    "        The axes to draw to\n",
    "\n",
    "    data1 : array\n",
    "       The x data\n",
    "\n",
    "    data2 : array\n",
    "       The y data\n",
    "\n",
    "    param_dict : dict\n",
    "       Dictionary of keyword arguments to pass to ax.plot\n",
    "\n",
    "    Returns\n",
    "    -------\n",
    "    out : list\n",
    "        list of artists added\n",
    "    \"\"\"\n",
    "    out=ax.hist(ene, bins=200, histtype=u'step', weights=weight, density=True, label=label_value)\n",
    "    ax.set_xlabel(xlabel)\n",
    "    ax.set_ylabel(ylabel)\n",
    "    ax.set_yscale(yscale)\n",
    "    ax.set_title(f\"Energy PDF for SS events  for {iso}\")\n",
    "    ax.legend()\n",
    "    \n",
    "    return out"
   ]
  },
  {
   "cell_type": "code",
   "execution_count": null,
   "id": "09d00b1e-a662-4734-aaf9-529d468224c1",
   "metadata": {},
   "outputs": [],
   "source": [
    "#input the root file and ouput the filtered dataframe\n",
    "\n",
    "def get_filtered(file,apply_filter,use_filter=False):\n",
    "    '''\n",
    "    returns the pandas dataframe for the given root file using the uproot library. If use_filter=True, indicated filter will be used.\n",
    "    '''\n",
    "    f=uproot.open(file+':tree')\n",
    "    df=f.arrays(f.keys(),library='pd')\n",
    "    if use_filter:return df.query(apply_filter).reset_index(drop=True)\n",
    "    return df#.query('energy<3000').reset_index(drop=True)\n",
    "    \n",
    "    \n"
   ]
  },
  {
   "cell_type": "code",
   "execution_count": null,
   "id": "82aa8d04-eb5f-49e1-ae20-af0b427e43a5",
   "metadata": {},
   "outputs": [],
   "source": [
    "# returns the plot for the isotopes in the given dataframe \n",
    "def plot_isotopes(df,df_label=\"PX\",scale_kind=\"log\"):\n",
    "    '''function to plot the isotopes based on the isotope number'''\n",
    "    #isotopes=df.isotope.unique()\n",
    "    ra224_df=df.query('isotope==1')\n",
    "    pb212_df=df.query('isotope==2')\n",
    "    bi212_df=df.query('isotope==3')\n",
    "    tl208_df=df.query('isotope==4')\n",
    "    \n",
    "    ra224_energy,ra224_weight=ra224_df.energy,ra224_df.weight\n",
    "    pb212_energy,pb212_weight=pb212_df.energy,pb212_df.weight\n",
    "    bi212_energy,bi212_weight=bi212_df.energy,bi212_df.weight\n",
    "    tl208_energy,tl208_weight=tl208_df.energy,tl208_df.weight\n",
    "    \n",
    "    fig, ax = plt.subplots(1, 1,figsize=(6,4))\n",
    "    my_plotter(ax,ra224_energy,ra224_weight,df_label+\" Ra224\",scale_kind)\n",
    "    my_plotter(ax,pb212_energy,pb212_weight,df_label+\" Pb212\",scale_kind)\n",
    "    my_plotter(ax,bi212_energy,bi212_weight,df_label+\" Bi212\",scale_kind)\n",
    "    my_plotter(ax,tl208_energy,tl208_weight,df_label+\" Tl208\",scale_kind)\n",
    "    plt.show()\n",
    "    "
   ]
  },
  {
   "cell_type": "code",
   "execution_count": null,
   "id": "a5f647ce-f1ee-4640-9cb0-46bd853b03ba",
   "metadata": {},
   "outputs": [],
   "source": [
    "def display_fractions(df,cut,total_simulations,greek_name,use_filter=True):\n",
    "    '''\n",
    "    displays the fraction in the cut dataframe w.r.t. total simulations\n",
    "    '''\n",
    "    df_temp=get_filtered(df,cut,use_filter=use_filter)\n",
    "    df_count=df_temp.shape[0]\n",
    "    greek=df_count/total_simulations\n",
    "    print(30*'--')\n",
    "    print(f\"\"\"\n",
    "    Shape of  dataframe                    : {df_temp.shape}\n",
    "    Number of rows (i.e. events count)     : {df_count}\n",
    "    {greek_name}                           : {greek}\n",
    "    {greek_name} %                         : {greek:.2%}\n",
    "\n",
    "    \"\"\")\n",
    "    print(30*'--')\n",
    "    return greek"
   ]
  },
  {
   "cell_type": "code",
   "execution_count": null,
   "id": "56851340-91ad-4c9d-974b-0c39cf14ceb0",
   "metadata": {},
   "outputs": [],
   "source": [
    "def print_isotopes(df,name,isotopes):\n",
    "    '''\n",
    "    reuturns the isotopes information for given df\n",
    "    '''\n",
    "    list_iso=df.isotope.unique()\n",
    "    non_iso=df.isotope.value_counts().to_list()[::-1]\n",
    "    #isotopes=['Th228','Ra224','Rn220','Po216','Pb212','Bi212','Tl208']\n",
    "    #isotope coutns before the cut\n",
    "    counts_df=pd.DataFrame(df.isotope.value_counts().reset_index().values,columns=['isonum','counts'])\\\n",
    "    .sort_values(by=['isonum'])\\\n",
    "    .reset_index(drop=True)\n",
    "\n",
    "    counts_df[\"isotopes\"]=counts_df.isonum.apply(lambda x:isotopes[x-1])\n",
    "    counts_df=counts_df[['isonum','isotopes','counts']]\n",
    "    # #raw_counts.index=raw_counts.isotopes\n",
    "    #print(raw_counts.to_string())\n",
    "    #print(f\"isotopes counts for {name}:\\n\\n{counts_df.to_string()}\\n\")\n",
    "    return counts_df\n"
   ]
  },
  {
   "cell_type": "code",
   "execution_count": null,
   "id": "d7e384d3-154b-48a7-9bb9-36ed0a88f1a1",
   "metadata": {},
   "outputs": [],
   "source": [
    "# bar graph plot\n",
    "def get_bar_plot(df,title=\"test\"):\n",
    "    #df_deposited=df[['isotopes','counts']]\n",
    "    skipEThreshold=0.1\n",
    "    plt.figure(figsize=(6,4))\n",
    "    if df.empty:print(f\"{df} is empty !\")\n",
    "    ax=df.plot.bar(x='isotopes',y='counts',title=title)\n",
    "    for c in ax.containers:\n",
    "        # set the bar label\n",
    "        ax.bar_label(c, fmt='%.0f', label_type='edge',rotation=30)\n",
    "    plt.xlabel('ISOTOPES')\n",
    "    #plt.title(f'Isotope counts in g4tree for 1M Th228 at all positions for skipEThreshold: {skipEThreshold} keV')\n",
    "    plt.ylabel('COUNTS')\n",
    "    plt.yscale('log')\n",
    "    plt.savefig(f\"{title}.pdf\")\n",
    "    #plt.savefig(f'g4tree_isotopes_bothskipEThreshold: {skipEThreshold}.pdf')\n",
    "    plt.show()"
   ]
  },
  {
   "cell_type": "code",
   "execution_count": null,
   "id": "3822a442-1ba5-4fb2-a1b8-f685c27b588a",
   "metadata": {},
   "outputs": [],
   "source": [
    "#produces the energy spectrum\n",
    "def get_energy_spectrum(df,loc,iso,isotopes,bins=1000,weights=\"weights\"):\n",
    "    '''returns the energy spectrum including the weights of isotopes'''\n",
    "    \n",
    "    sns.set(rc={'figure.figsize':(20,10)})\n",
    "    \n",
    "    #adding the isotop name column in the df dataframe\n",
    "    df=df[df.energy<3000]\n",
    "    iso_list=[i for i in range(1,len(isotopes))]\n",
    "    iso_dict=dict(zip(iso_list,isotopes))\n",
    "    df['iso_name']=df['isotope'].map(iso_dict)\n",
    "    \n",
    "    \n",
    "    #sns.histplot(data=df_s, x=\"energy\",hue=\"isotope\",bins=200,element=\"step\",log_scale=True,fill=False)\n",
    "    g=sns.histplot(data=df, x=\"energy\",hue=\"iso_name\",weights=\"weight\",bins=bins,element=\"step\",fill=False)#,palette=['r','b','g','y','k'])\n",
    "    #plt.legend(labels=iso_names)\n",
    "    g.set_xlabel('Energy [keV]')\n",
    "    g.set_ylabel('Counts')\n",
    "    plt.yscale(\"log\")\n",
    "    plt.title(f'Energy specturm pdf for {iso} at {loc}')\n",
    "    plt.show()"
   ]
  },
  {
   "cell_type": "code",
   "execution_count": null,
   "id": "a398288b-752f-4e67-a789-7535777e7ada",
   "metadata": {},
   "outputs": [],
   "source": [
    "def get_spec(df,bins=2000,iso='Co60',loc='TPC',isotopes=['Co60']):\n",
    "    '''returns the energy spectrum including the weights of isotopes'''\n",
    "    \n",
    "    sns.set(rc={'figure.figsize':(20,10)})\n",
    "    df_temp=df[df.energy<3000]\n",
    "    iso_dict=dict(zip(iso_list,isotopes))\n",
    "    df_temp['iso_name']=df_temp['isotope'].map(iso_dict)\n",
    "\n",
    "\n",
    "    #sns.histplot(data=df_s, x=\"energy\",hue=\"isotope\",bins=200,element=\"step\",log_scale=True,fill=False)\n",
    "    g=sns.histplot(data=df_temp, x=\"energy\",hue=\"iso_name\",weights=\"weight\",bins=bins,element=\"step\",fill=False)#,palette=['r','b','g','y','k'])\n",
    "    #plt.legend(labels=iso_names)\n",
    "    g.set_xlabel('Energy [keV]')\n",
    "    g.set_ylabel('Counts')\n",
    "    plt.yscale(\"log\")\n",
    "    plt.title(f'Energy specturm pdf for {iso} at {loc}')\n",
    "    plt.savefig(f\"{iso}-{loc}.pdf\")\n",
    "    plt.show()"
   ]
  },
  {
   "cell_type": "code",
   "execution_count": null,
   "id": "b883f9e6-507e-4545-91af-90e7a6ca05c5",
   "metadata": {},
   "outputs": [],
   "source": [
    "isotopes=['Ra226','Rn222','Po218','Pb214','Bi214','Po214','Pb210','Bi210','Po210','Po206']\n",
    "iso_list=[i for i in range(1,len(isotopes))]\n",
    "iso_dict=dict(zip(iso_list,isotopes))\n",
    "iso_dict"
   ]
  },
  {
   "cell_type": "markdown",
   "id": "6e329835-c6f5-4b9f-93fc-145f75f56545",
   "metadata": {},
   "source": [
    "# Co60"
   ]
  },
  {
   "cell_type": "code",
   "execution_count": null,
   "id": "66f05e34-799d-41ef-bc93-6327176f8485",
   "metadata": {},
   "outputs": [],
   "source": [
    "# 1173.228 3 \t     99.85 % 3 \t  1.1715 4 \n",
    "# 1332.492 4 \t     99.9826 % 6 \t  1.332260 9\n",
    "Image(filename='Co60.png') \n",
    "Image(filename='co60rate.jpg') \n"
   ]
  },
  {
   "cell_type": "code",
   "execution_count": null,
   "id": "f7dcc2f6-5dd6-4562-86b8-86217fb4338a",
   "metadata": {},
   "outputs": [],
   "source": [
    "# 1173.228 3 \t     99.85 % 3 \t  1.1715 4 \n",
    "# 1332.492 4 \t     99.9826 % 6 \t  1.332260 9\n",
    "Image(filename='Co60.png') \n",
    "\n"
   ]
  },
  {
   "cell_type": "code",
   "execution_count": null,
   "id": "0b5ab101-7963-4664-9b39-c43f0267a313",
   "metadata": {},
   "outputs": [],
   "source": [
    "Image(filename='srcpos.png',width=500) "
   ]
  },
  {
   "cell_type": "markdown",
   "id": "e87e8911-355b-46fb-94f2-c9cae2985c69",
   "metadata": {},
   "source": [
    "# ROOT DATA FILES"
   ]
  },
  {
   "cell_type": "markdown",
   "id": "c1f0178b-74a6-4c35-ab6e-7217b5e991a7",
   "metadata": {},
   "source": [
    "- s12 (intensity at PZ and NZ one-tenth of other positions)\n",
    "#- s15 (intensity same at all positions)\n"
   ]
  },
  {
   "cell_type": "code",
   "execution_count": null,
   "id": "362f7a5a-ce66-4a8a-91d8-bbccd2c54656",
   "metadata": {},
   "outputs": [],
   "source": [
    "#give the name of rootfile\n",
    "\n",
    "file='/home/thakur/slac_data/s12/s12_Co60_all.root'\n",
    "\n",
    "isotope='Co60'\n",
    "isotopes=['Co60']"
   ]
  },
  {
   "cell_type": "code",
   "execution_count": null,
   "id": "5bf6a9ca-35f7-40ae-9f07-d8f33bca87fa",
   "metadata": {},
   "outputs": [],
   "source": [
    "\n",
    "Image(filename='imagesteps.png') "
   ]
  },
  {
   "cell_type": "markdown",
   "id": "16973bfb-bc0a-46c9-a78b-e07bb7537d59",
   "metadata": {},
   "source": [
    "- $\\alpha = \\frac{\\text{number in g4tree}}{\\text{total simulations}} $\n",
    "\n",
    "\n",
    "- $\\beta = \\frac{\\text{number in inner 1 tonne}}{\\text{total simulations}} $\n",
    "- $\\gamma = \\frac{\\text{SS peak events in inner 1 tonne}}{\\text{total simulations}} $"
   ]
  },
  {
   "cell_type": "markdown",
   "id": "477e3eda-e0a5-482a-8022-7a8f61c37b93",
   "metadata": {},
   "source": [
    "# FILTERS"
   ]
  },
  {
   "cell_type": "code",
   "execution_count": null,
   "id": "4929dd3a-e7a8-4f68-b02b-572d063be2a0",
   "metadata": {},
   "outputs": [],
   "source": [
    "\n",
    "#this is beta filter\n",
    "#inner 1 tonne, ms, ss\n",
    "\n",
    "beta_filter='''\n",
    "(standoff>201.086) &\\\n",
    "passed_xy_thresh &\\\n",
    "passed_z_thresh &\\\n",
    "(n_x_ch_abovenoise > 0) &\\\n",
    "(n_y_ch_abovenoise > 0) &\\\n",
    "(m_nOPCal < (1.077 * m_nQ + 313)) &\\\n",
    "(m_nOPCal > (0.597 * m_nQ - 216)) &\\\n",
    "~NESTBugFound &\\\n",
    "~NearAnodeBugFound\n",
    "'''\n",
    "\n",
    "\n",
    "#this is gamma filter inner 1 tonne, ss, peak events (2610 to 2620)\n",
    "gamma_filter1='''\n",
    "(standoff>201.086) &\\\n",
    "m_DNNvalue>0.85&\\\n",
    "(abs(energy-1173)<10)&\\\n",
    "passed_xy_thresh &\\\n",
    "passed_z_thresh &\\\n",
    "(n_x_ch_abovenoise > 0) &\\\n",
    "(n_y_ch_abovenoise > 0) &\\\n",
    "(m_nOPCal < (1.077 * m_nQ + 313)) &\\\n",
    "(m_nOPCal > (0.597 * m_nQ - 216)) &\\\n",
    "~NESTBugFound &\\\n",
    "~NearAnodeBugFound\n",
    "'''\n",
    "\n",
    "gamma_filter2='''\n",
    "(standoff>201.086) &\\\n",
    "m_DNNvalue>0.85&\\\n",
    "(abs(energy-1332)<10)&\\\n",
    "passed_xy_thresh &\\\n",
    "passed_z_thresh &\\\n",
    "(n_x_ch_abovenoise > 0) &\\\n",
    "(n_y_ch_abovenoise > 0) &\\\n",
    "(m_nOPCal < (1.077 * m_nQ + 313)) &\\\n",
    "(m_nOPCal > (0.597 * m_nQ - 216)) &\\\n",
    "~NESTBugFound &\\\n",
    "~NearAnodeBugFound\n",
    "'''\n",
    "\n",
    "dec102020_filter='''\n",
    "(standoff>100) &\\\n",
    "passed_xy_thresh &\\\n",
    "passed_z_thresh &\\\n",
    "(n_x_ch_abovenoise > 0) &\\\n",
    "(n_y_ch_abovenoise > 0) &\\ \n",
    "(m_nOPCal < (1.077 * m_nQ + 313)) &\\\n",
    "(m_nOPCal > (0.597 * m_nQ - 216)) &\\\n",
    "~NESTBugFound &\\\n",
    "~NearAnodeBugFound &\\\n",
    "m_DNNvalue>0.85'''\n",
    "\n",
    "\n",
    "\n",
    "\n",
    "jason_filter='''\n",
    "(standoff>100) &\\\n",
    "m_DNNvalue>0.85 &\\\n",
    "passed_xy_thresh &\\\n",
    "passed_z_thresh &\\\n",
    "(n_x_ch_abovenoise > 0) &\\\n",
    "(n_y_ch_abovenoise > 0) &\\\n",
    "(m_nOPCal < (1.077 * m_nQ + 313)) &\\\n",
    "(m_nOPCal > (0.597 * m_nQ - 216))&\\\n",
    "(abs(energy-2614)<10)\n",
    "'''\n",
    "#~NESTBugFound &\\\n",
    "#~NearAnodeBugFound &\\\n",
    "# & ~NESTBugFound & ~NearAnodeBugFound' & (abs(energy-2614)<10)'''\n"
   ]
  },
  {
   "cell_type": "code",
   "execution_count": null,
   "id": "fc3a5ad2-d445-42b7-b29b-91fcafdc4ff0",
   "metadata": {},
   "outputs": [],
   "source": [
    "# beta filter\n",
    "print(20*'==')\n",
    "print(\"beta filter:\\n\", beta_filter.replace('&','\\n'))\n",
    "print(20*'==')\n",
    "print(\"gamma1 filter:\\n\", gamma_filter1.replace('&','\\n'))\n",
    "print(20*'==')\n",
    "print(\"gamma2 filter:\\n\", gamma_filter2.replace('&','\\n'))\n",
    "print(20*'==')\n",
    "# print(\"jason filter:\\n\", jason_filter.replace('&','\\n'))\n",
    "# print(20*'==')"
   ]
  },
  {
   "cell_type": "markdown",
   "id": "453a98ec-186d-43a0-8ef8-565e9023c09b",
   "metadata": {},
   "source": [
    "# Total Simulations"
   ]
  },
  {
   "cell_type": "code",
   "execution_count": null,
   "id": "500688e5-9668-4892-94b0-998aa5e7788f",
   "metadata": {},
   "outputs": [],
   "source": [
    "# Total simulations\n",
    "total_simulations= 1e7\n",
    "file_name=file\n",
    "\n",
    "print(f\"Total Simulations: {total_simulations:0.1e}\")\n"
   ]
  },
  {
   "cell_type": "markdown",
   "id": "ed7838d2-3639-40ab-9123-ec4b384ba59f",
   "metadata": {},
   "source": [
    "# $\\alpha$ (DEPOSITS IN TPC)"
   ]
  },
  {
   "cell_type": "code",
   "execution_count": null,
   "id": "7a48169d-f29a-43ec-873b-8742362c6a8c",
   "metadata": {},
   "outputs": [],
   "source": [
    "df_alpha=get_filtered(file_name,None,use_filter=False)\n",
    "g4tree_count=df_alpha.shape[0]\n",
    "raw_alpha=g4tree_count/total_simulations\n",
    "\n",
    "print(f\"\"\"\n",
    "Shape of  dataframe                        : {df_alpha.shape}\n",
    "Number of rows (total events in g4tree)    : {g4tree_count:e}\n",
    "raw_alpha                                  : {raw_alpha}\n",
    "raw_alpha %                                : {raw_alpha:.3%}\n",
    "\n",
    "\"\"\")"
   ]
  },
  {
   "cell_type": "code",
   "execution_count": null,
   "id": "63cebc4e-f26e-4a94-90b5-f8e05346df03",
   "metadata": {},
   "outputs": [],
   "source": [
    "df_alpha"
   ]
  },
  {
   "cell_type": "code",
   "execution_count": null,
   "id": "e3c4d46f-661a-447d-b21d-9973b2e7a22e",
   "metadata": {},
   "outputs": [],
   "source": [
    "# bins=2000\n",
    "# iso='Co60'\n",
    "# loc='TPC'\n",
    "# df_alpha=df_alpha[df_alpha.energy<3000]\n",
    "# iso_dict=dict(zip(iso_list,isotopes))\n",
    "# df_alpha['iso_name']=df_alpha['isotope'].map(iso_dict)\n",
    "\n",
    "\n",
    "# #sns.histplot(data=df_s, x=\"energy\",hue=\"isotope\",bins=200,element=\"step\",log_scale=True,fill=False)\n",
    "# g=sns.histplot(data=df_alpha, x=\"energy\",hue=\"iso_name\",weights=\"weight\",bins=bins,element=\"step\",fill=False)#,palette=['r','b','g','y','k'])\n",
    "# #plt.legend(labels=iso_names)\n",
    "# g.set_xlabel('Energy [keV]')\n",
    "# g.set_ylabel('Counts')\n",
    "# plt.yscale(\"log\")\n",
    "# plt.title(f'Energy specturm pdf for {iso} at {loc}')\n",
    "# plt.show()"
   ]
  },
  {
   "cell_type": "code",
   "execution_count": null,
   "id": "a18a7804-25e5-40b8-a03a-769fd85d9b20",
   "metadata": {},
   "outputs": [],
   "source": [
    "get_spec(df_alpha)"
   ]
  },
  {
   "cell_type": "code",
   "execution_count": null,
   "id": "b6ca8a1c-586d-4d16-b71e-f1e8bb98eec8",
   "metadata": {},
   "outputs": [],
   "source": [
    "#get_energy_spectrum(df_alpha,isotopes=isotopes,iso='co60',loc='TPC')"
   ]
  },
  {
   "cell_type": "code",
   "execution_count": null,
   "id": "2b9ef8b3-5e32-4fdc-80ac-de000a43edba",
   "metadata": {},
   "outputs": [],
   "source": [
    "df_alpha.isotope.value_counts()  #isotopes"
   ]
  },
  {
   "cell_type": "code",
   "execution_count": null,
   "id": "7eef4f32-f442-49f9-aec2-b96d2e92cb3f",
   "metadata": {},
   "outputs": [],
   "source": [
    "alpha_df=print_isotopes(df_alpha,\"df_alpha\",isotopes=isotopes)\n",
    "alpha_df"
   ]
  },
  {
   "cell_type": "code",
   "execution_count": null,
   "id": "8245cf71-2618-4866-9ab2-50530a05536a",
   "metadata": {},
   "outputs": [],
   "source": [
    "get_bar_plot(print_isotopes(df_alpha,\"df_alpha\",isotopes=isotopes),f\"Deposits in TPC for {total_simulations:0.1e} {isotope} primary events at all 6 positions\")\n"
   ]
  },
  {
   "cell_type": "code",
   "execution_count": null,
   "id": "bbc5aad8-71bb-47c0-85f1-accba4277a7e",
   "metadata": {},
   "outputs": [],
   "source": [
    "# list_iso=df_alpha.isotope.unique()\n",
    "# non_iso=df_alpha.isotope.value_counts().to_list()[::-1]\n",
    "# isotopes=['Th228','Ra224','Rn220','Po216','Pb212','Bi212','Tl208']\n",
    "# #isotope coutns before the cut\n",
    "# raw_counts_df=pd.DataFrame(df_alpha.isotope.value_counts().reset_index().values,columns=['isonum','raw_counts'])\\\n",
    "# .sort_values(by=['isonum'])\\\n",
    "# .reset_index(drop=True)\n",
    "\n",
    "# raw_counts_df[\"isotopes\"]=raw_counts_df.isonum.apply(lambda x:isotopes[x-1])\n",
    "# raw_counts_df=raw_counts_df[['isonum','isotopes','raw_counts']]\n",
    "# # #raw_counts.index=raw_counts.isotopes\n",
    "# #print(raw_counts.to_string())\n",
    "# raw_counts_df\n"
   ]
  },
  {
   "cell_type": "markdown",
   "id": "54bdd1a1-85d8-4b95-b842-fb1e4525b61b",
   "metadata": {},
   "source": [
    "# $\\beta$ (DEPOSITS IN INNER ONE TONNE)"
   ]
  },
  {
   "cell_type": "code",
   "execution_count": null,
   "id": "841972e9-5815-4dcb-844a-f64ba89b1014",
   "metadata": {},
   "outputs": [],
   "source": [
    "df_beta=get_filtered(file_name,beta_filter,use_filter=True)\n",
    "raw_beta_count=df_beta.shape[0]\n",
    "raw_beta=raw_beta_count/total_simulations\n",
    "\n",
    "print(f\"\"\"\n",
    "Shape of  dataframe                        : {df_beta.shape}\n",
    "Number of rows                             : {raw_beta_count:e}\n",
    "raw_beta                                   : {raw_beta_count}\n",
    "raw_beta  %                                : {raw_beta:.3%}\n",
    "\n",
    "\"\"\")"
   ]
  },
  {
   "cell_type": "code",
   "execution_count": null,
   "id": "339eb49e-6faf-4d88-bea6-289149ed31c9",
   "metadata": {},
   "outputs": [],
   "source": [
    "#get_energy_spectrum(df_beta,iso='Co60',isotopes=isotopes,loc='INNER 1 TON')"
   ]
  },
  {
   "cell_type": "code",
   "execution_count": null,
   "id": "5503f7b3-e216-421e-9042-482625f7dce2",
   "metadata": {},
   "outputs": [],
   "source": [
    "get_spec(df_beta,iso='Co60',isotopes=isotopes,loc='INNER 1 TON')"
   ]
  },
  {
   "cell_type": "code",
   "execution_count": null,
   "id": "1e2b5e45-e050-481b-943b-6d2161618dec",
   "metadata": {},
   "outputs": [],
   "source": [
    "beta_df=print_isotopes(df_beta,\"df_beta\",isotopes=isotopes)\n",
    "beta_df"
   ]
  },
  {
   "cell_type": "code",
   "execution_count": null,
   "id": "2fc8a01f-b163-433d-b8af-9e456f8bba5f",
   "metadata": {},
   "outputs": [],
   "source": [
    "get_bar_plot(print_isotopes(df_beta,\"df_beta\",isotopes=isotopes),f\"Deep trigger deposits for {total_simulations:0.1e} {isotope} primary events\")\n"
   ]
  },
  {
   "cell_type": "markdown",
   "id": "4a9ec039-15e7-4da3-8dd5-0c89c3058df4",
   "metadata": {},
   "source": [
    "# SS EVENTS IN INNER ONE TONNE"
   ]
  },
  {
   "cell_type": "code",
   "execution_count": null,
   "id": "2d903b70-12cb-472d-b6ba-1aae771c4647",
   "metadata": {},
   "outputs": [],
   "source": [
    "df_ss=df_beta.query('m_DNNvalue>0.85')\n",
    "df_ss"
   ]
  },
  {
   "cell_type": "code",
   "execution_count": null,
   "id": "22afb39d-45e3-4b55-9b2f-d159620f9e6f",
   "metadata": {},
   "outputs": [],
   "source": [
    "#df_beta=get_filtered(file_name,beta_filter,use_filter=True)\n",
    "raw_ss_count=df_ss.shape[0]\n",
    "raw_ss=raw_ss_count/total_simulations\n",
    "\n",
    "print(f\"\"\"\n",
    "Shape of  dataframe                        : {df_ss.shape}\n",
    "Number of rows                             : {raw_ss_count:e}\n",
    "raw_ss                                     : {raw_ss_count}\n",
    "raw_ss %                                   : {raw_ss:.3%}\n",
    "\n",
    "\"\"\")"
   ]
  },
  {
   "cell_type": "code",
   "execution_count": null,
   "id": "e2fa21d6-ca2b-4bec-acea-85118ca4d9c6",
   "metadata": {},
   "outputs": [],
   "source": [
    "get_bar_plot(print_isotopes(df_ss,\"df_ss\",isotopes=isotopes),f\"SS inner 1 tonne deposits for {total_simulations:0.1e} {isotope} primary events\")\n"
   ]
  },
  {
   "cell_type": "code",
   "execution_count": null,
   "id": "20ee6c72-e6de-4ba9-8be1-7f4e370e9d0d",
   "metadata": {},
   "outputs": [],
   "source": [
    "get_spec(df_ss,iso='Co60',isotopes=isotopes,loc='SS INNER 1 TON')"
   ]
  },
  {
   "cell_type": "markdown",
   "id": "08d0e59c-b83b-49e2-b71c-6ec137551357",
   "metadata": {},
   "source": [
    "# $\\gamma$ (SS, PEAKS EVENTS IN INNER ONE TONNE)"
   ]
  },
  {
   "cell_type": "markdown",
   "id": "48fa75e0-aa05-48a8-bbce-71a684920a09",
   "metadata": {},
   "source": [
    "# 1163 < Energy < 1183"
   ]
  },
  {
   "cell_type": "code",
   "execution_count": null,
   "id": "41d50738-27d1-4653-8bea-beb20230ff65",
   "metadata": {},
   "outputs": [],
   "source": [
    "df_gamma=get_filtered(file_name,gamma_filter1,use_filter=True)\n",
    "raw_gamma_count=df_gamma.shape[0]\n",
    "raw_gamma=raw_gamma_count/total_simulations\n",
    "\n",
    "print(f\"\"\"\n",
    "Shape of  dataframe                        : {df_gamma.shape}\n",
    "Number of rows                             : {raw_gamma_count:e}\n",
    "raw_gamma                                  : {raw_gamma_count}\n",
    "raw_gamma %                                : {raw_gamma:.5%}\n",
    "\n",
    "\"\"\")"
   ]
  },
  {
   "cell_type": "code",
   "execution_count": null,
   "id": "ae82a65a-70ab-4419-a3c7-add46d4e9db3",
   "metadata": {},
   "outputs": [],
   "source": [
    "df_gamma.energy"
   ]
  },
  {
   "cell_type": "code",
   "execution_count": null,
   "id": "991ac14e-9d5a-486a-8219-f8997c2b1165",
   "metadata": {},
   "outputs": [],
   "source": [
    "gamma_df=print_isotopes(df_gamma,\"df_gamma\",isotopes=isotopes)\n",
    "gamma_df"
   ]
  },
  {
   "cell_type": "code",
   "execution_count": null,
   "id": "8bd46b5e-fe6f-4c90-9789-399a2aed5d09",
   "metadata": {},
   "outputs": [],
   "source": [
    "#if not gamma_df.empty:get_bar_plot(print_isotopes(df_gamma,\"df_gamma\"),f\"Deep trigger peak deposits for {total_simulations:0.1e} {isotope} primary events at all positions\")"
   ]
  },
  {
   "cell_type": "code",
   "execution_count": null,
   "id": "dd6a7e19-ef7b-49a8-b1b3-488f6e5c88f3",
   "metadata": {},
   "outputs": [],
   "source": [
    "get_spec(df_gamma,iso='Co60',isotopes=isotopes,loc='INNER 1 TON, SS, PEAK (1173 keV)')"
   ]
  },
  {
   "cell_type": "markdown",
   "id": "90085a18-f6b5-44b0-acac-02f783f4967b",
   "metadata": {},
   "source": [
    "# 1322 < Energy < 1342"
   ]
  },
  {
   "cell_type": "code",
   "execution_count": null,
   "id": "69ba5bb6-e719-4064-b33b-6303b7461fbb",
   "metadata": {},
   "outputs": [],
   "source": [
    "df_gamma=get_filtered(file_name,gamma_filter2,use_filter=True) #gamma2 filter\n",
    "raw_gamma_count=df_gamma.shape[0]\n",
    "raw_gamma=raw_gamma_count/total_simulations\n",
    "\n",
    "print(f\"\"\"\n",
    "Shape of  dataframe                        : {df_gamma.shape}\n",
    "Number of rows                             : {raw_gamma_count:e}\n",
    "raw_gamma                                  : {raw_gamma_count}\n",
    "raw_gamma %                                : {raw_gamma:.5%}\n",
    "\n",
    "\"\"\")"
   ]
  },
  {
   "cell_type": "code",
   "execution_count": null,
   "id": "4d39ebc9-d00b-4196-8339-e947fca1061d",
   "metadata": {},
   "outputs": [],
   "source": [
    "df_gamma.energy"
   ]
  },
  {
   "cell_type": "code",
   "execution_count": null,
   "id": "f327df41-b41b-47a7-93d2-8a18a18b38b0",
   "metadata": {},
   "outputs": [],
   "source": [
    "gamma_df=print_isotopes(df_gamma,\"df_gamma\",isotopes=isotopes)\n",
    "gamma_df"
   ]
  },
  {
   "cell_type": "code",
   "execution_count": null,
   "id": "bd1ce0f9-0882-4ad2-ba28-7592746e4048",
   "metadata": {},
   "outputs": [],
   "source": [
    "get_spec(df_gamma,iso='Co60',isotopes=isotopes,loc='INNER 1 TON, SS, PEAK (1332 keV)')"
   ]
  },
  {
   "cell_type": "code",
   "execution_count": null,
   "id": "5fc79901-6f2d-4ce9-80af-9a4d3ebb74c3",
   "metadata": {},
   "outputs": [],
   "source": [
    "alpha_list=alpha_df['counts'];beta_list=beta_df['counts'];gamma_list=gamma_df['counts'];index_name=alpha_df['isotopes']\n",
    "\n",
    "alpha_list,beta_list,gamma_list,index_name\n"
   ]
  },
  {
   "cell_type": "code",
   "execution_count": null,
   "id": "8a31a570-7785-49a6-9ceb-8b7249700681",
   "metadata": {},
   "outputs": [],
   "source": [
    "index_name"
   ]
  },
  {
   "cell_type": "code",
   "execution_count": null,
   "id": "b9050893-492c-48a7-9efd-6db6432752e7",
   "metadata": {},
   "outputs": [],
   "source": [
    "alpha_beta_gamma=pd.DataFrame({\"isotopes\":index_name,\"tpc_deposits\":alpha_list})#,\"ss_deep_deposits\":beta_list})#,\"tpc_deposits\":alpha_list,\"ss_deep_deposits\":beta_list,\"ss_deep_peak_deposits\":gamma_list})#,index=index_name)\n",
    "# alpha_beta_gamma['\n",
    "# alpha_beta_gamma\n",
    "alpha_beta_gamma"
   ]
  },
  {
   "cell_type": "code",
   "execution_count": null,
   "id": "f394ff1d-c8dd-4168-98c6-5672fc604489",
   "metadata": {},
   "outputs": [],
   "source": [
    "col_name=alpha_df.columns[1:]\n",
    "col_name"
   ]
  },
  {
   "cell_type": "code",
   "execution_count": null,
   "id": "587e470f-0764-4dc9-a104-66dc2ff0fc8f",
   "metadata": {},
   "outputs": [],
   "source": [
    "#net_df=pd.concat([alpha_df[col_name].rename(columns={\"counts\":\"tpc_deposits\"}),beta_df[col_name].rename(columns={\"counts\":\"deep_ss_deposits\"}),gamma_df[col_name].rename(columns={\"counts\":\"deep_ss_peak_deposits\"})])\n",
    "#net_df"
   ]
  },
  {
   "cell_type": "markdown",
   "id": "b6204409-83b8-46ea-bd14-a87147f3332a",
   "metadata": {},
   "source": [
    "# ISOTOPES INFORMATION"
   ]
  },
  {
   "cell_type": "code",
   "execution_count": null,
   "id": "b192bb2e-eff7-4292-976f-6a16f44c51a1",
   "metadata": {},
   "outputs": [],
   "source": [
    "# iso_br=[1]#,1,1,1,1,0.3594] #branching ratios of Th228 to other isotopes\n",
    "\n",
    "# combined_counts_df=alpha_df.rename(columns={'counts':'deposited'}).merge(gamma_df.rename(columns={'counts':'good'}),how='left').fillna(0)\n",
    "# combined_counts_df.insert(loc=2,column=\"sim_events\",value=6*[total_simulations])\n",
    "# combined_counts_df['alpha']=combined_counts_df['deposited']/combined_counts_df['sim_events']\n",
    "# combined_counts_df['gamma']=combined_counts_df['good']/combined_counts_df['sim_events']\n",
    "# combined_counts_df['branching_ratio']=iso_br\n",
    "# raw_br=sum([a*b for a,b in zip(combined_counts_df.deposited,combined_counts_df.branching_ratio)])\n",
    "# good_br=sum([a*b for a,b in zip(combined_counts_df.good,combined_counts_df.branching_ratio)])\n",
    "# alpha_br=sum([a*b for a,b in zip(combined_counts_df.alpha,combined_counts_df.branching_ratio)])\n",
    "# gamma_br=sum([a*b for a,b in zip(combined_counts_df.gamma,combined_counts_df.branching_ratio)])\n",
    "\n",
    "# # #adding a row\n",
    "# combined_counts_df.loc[len(combined_counts_df.index)]=['-','Th228_Chain',total_simulations,raw_br,good_br,alpha_br,gamma_br,1]\n",
    "# combined_counts_df\n",
    "\n"
   ]
  },
  {
   "cell_type": "markdown",
   "id": "60b0c925-2ff3-44ac-bd89-71a412dfcc49",
   "metadata": {},
   "source": [
    "# comparable results to:\n",
    "[jason's result](https://docs.google.com/presentation/d/14KgpLBpJwNQH5tjEczl9tPkInSiKkJtjgqBPWSyoXok/edit#slide=id.g1b79411b324_0_9])"
   ]
  },
  {
   "cell_type": "code",
   "execution_count": null,
   "id": "3f00a755-cdf7-4443-81e2-c53582336fad",
   "metadata": {},
   "outputs": [],
   "source": [
    "# alpha and gamma including the branching ratios\n",
    "alpha=raw_alpha;gamma=raw_gamma;beta=raw_beta"
   ]
  },
  {
   "cell_type": "code",
   "execution_count": null,
   "id": "616f6d63-dc72-4efc-a531-0d5f17c4aa81",
   "metadata": {},
   "outputs": [],
   "source": [
    "print(f\"\"\"\n",
    "alpha  : {alpha}\n",
    "beta   : {beta}\n",
    "gamma  : {gamma}\n",
    "\"\"\")"
   ]
  },
  {
   "cell_type": "code",
   "execution_count": null,
   "id": "4805ba29-2788-4ac4-ab80-0af196d49c2d",
   "metadata": {},
   "outputs": [],
   "source": [
    "\n",
    "#get_energy_spectrum(df_alpha,'TPC')\n",
    "#df_alpha.energy.plot()"
   ]
  },
  {
   "cell_type": "code",
   "execution_count": null,
   "id": "f901f39e-5d3d-4cdd-82c8-0c7c229b2e04",
   "metadata": {},
   "outputs": [],
   "source": [
    "\n",
    "#get_energy_spectrum(df_beta,'INNER 1 TON')\n",
    "#df_alpha.energy.plot()"
   ]
  },
  {
   "cell_type": "code",
   "execution_count": null,
   "id": "b3953dc7-62ee-40e0-b55a-798d8eba8b80",
   "metadata": {},
   "outputs": [],
   "source": [
    "\n",
    "#get_energy_spectrum(df_gamma,'INNER 1 TON (SS, PEAK)')\n"
   ]
  },
  {
   "cell_type": "code",
   "execution_count": null,
   "id": "f3c28302-878d-4a39-b3c9-dd5345630582",
   "metadata": {},
   "outputs": [],
   "source": [
    "# iso=['Th228','Ra224','Rn220','Pb212','Bi212','Tl208']\n",
    "# col=['r','y','b','k','c','m']\n",
    "# for i in range(1,len(iso)+1):\n",
    "#     #print(non_filtered_th228_px.head())\n",
    "#     df_new=df_alpha[df_alpha.isotope==i]\n",
    "#     if df_new.empty:continue\n",
    "#     #print(df_new.head())\n",
    "#     px_energy=df_new.energy;\n",
    "#     plt.hist(px_energy,200,density=False,histtype='step',weights=df_new.weight,alpha=0.95,label=iso[i-1],color=col[i-1])\n",
    "#     plt.yscale('log')\n",
    "#     plt.xlabel('Energy [keV]')\n",
    "#     plt.ylabel('G4tree counts ')\n",
    "#     plt.legend()\n",
    "# plt.title(\"Deposited Counts vs Energy for Th228 at all positions (B.R. consideration)\")\n",
    "# plt.show()"
   ]
  },
  {
   "cell_type": "code",
   "execution_count": null,
   "id": "54b3553b-8886-4a8f-aa44-0f2bc545d453",
   "metadata": {},
   "outputs": [],
   "source": [
    "#df_alpha['energy'].plot()"
   ]
  },
  {
   "cell_type": "code",
   "execution_count": null,
   "id": "aeef7d70-03e0-4dea-a2af-2f4937043dd8",
   "metadata": {},
   "outputs": [],
   "source": [
    "# combined_counts_df.loc[len(combined_counts_df)]=new_row\n",
    "# combined_counts_df"
   ]
  },
  {
   "cell_type": "code",
   "execution_count": null,
   "id": "1c768d24-f6b7-4af3-b097-878eefd432fb",
   "metadata": {},
   "outputs": [],
   "source": [
    "Image(filename='rate.png') "
   ]
  },
  {
   "cell_type": "code",
   "execution_count": null,
   "id": "160d62cf-dc1f-4b51-9075-9ae1eec9fc20",
   "metadata": {},
   "outputs": [],
   "source": [
    "#time\n",
    "t=10e-3 # 10 ms in the simulation \n",
    "\n",
    "print(f\"Drift time: {t} s\")\n",
    "#t=1e-3"
   ]
  },
  {
   "cell_type": "code",
   "execution_count": null,
   "id": "d2dc16b0-1ade-49b5-9ae8-db0c8f38bd80",
   "metadata": {},
   "outputs": [],
   "source": [
    "#jason's values\n",
    "#alpha=0.0767;gamma=3.3e-5;t=1e-3\n",
    "#alpha=4.63e-1;gamma=1.99e-5;t=1e-3 #raymond\n",
    "#alpha=0.069;gamma=1.29e-7;t=1e-3"
   ]
  },
  {
   "cell_type": "code",
   "execution_count": null,
   "id": "c380319f-52d1-4f87-b5da-b32c49eb7946",
   "metadata": {},
   "outputs": [],
   "source": [
    "# alpha and gamma\n",
    "print(f\"\"\"\n",
    "alpha  : {alpha}\n",
    "beta   : {beta}\n",
    "gamma  : {gamma}\n",
    "time   : {t} s\n",
    "\"\"\")"
   ]
  },
  {
   "cell_type": "markdown",
   "id": "3b738e13-f15c-4bb4-8bd9-c0c19626ef32",
   "metadata": {},
   "source": [
    "# $A_{\\text{optimal}}=\\frac{1+\\sqrt{5}}{2\\alpha t} $ \n",
    "# ${\\text{t}}=\\frac{1+\\sqrt{5}}{2\\alpha A_{\\text{optimal}}} $ "
   ]
  },
  {
   "cell_type": "code",
   "execution_count": null,
   "id": "5c9624c7-d8f7-4dce-aa9e-69dbd680345a",
   "metadata": {},
   "outputs": [],
   "source": [
    "#plotting activity vs rate and activity vs time in the same graph\n",
    "#source activity\n",
    "#sns.set_style('whitegrid')\n",
    "sns.set(style='ticks')\n",
    "# source_activity=3750     #850x4+85x2\n",
    "# deployment_time=2*60*60  #2 hrs\n",
    "#txt=str(source_activity)+\" Bq\"\n",
    "x_range_max=2500\n",
    "x=np.linspace(1,x_range_max,5000)                              #defination of x\n",
    "\n",
    "y_best=np.array([gamma*A*np.exp(-beta*A*t) for A in x])                        #best\n",
    "y_realistic=np.array([gamma*A*(1+alpha*A*t)*np.exp(-alpha*A*t) for A in x])    #realistic\n",
    "y_worst=np.array([gamma*A*np.exp(-alpha*A*t) for A in x])                      #worst\n",
    "\n",
    "\n",
    "#time sequence for N events\n",
    "N_events=1000\n",
    "to_hrs=60*60\n",
    "t_best=N_events/(y_best*to_hrs)\n",
    "t_realistic=N_events/(y_realistic*to_hrs)\n",
    "t_worst=N_events/(y_worst*to_hrs)\n",
    "\n",
    "arg_y_max=np.argmax(y_realistic)\n",
    "arg_y_min=np.argmin(y_realistic)\n",
    "\n",
    "y_max=y_realistic[arg_y_max]\n",
    "y_min=y_realistic[arg_y_min]\n",
    "\n",
    "A_max=x[arg_y_max]\n",
    "\n",
    "#time for A_optimal\n",
    "#t_min=(1+np.sqrt(5))/(2*alpha*A_max)\n",
    "t_min=N_events/y_max\n",
    "\n",
    "# # print(f\"A_min                   : {A_min:0.2f}\")\n",
    "# # print(f\"A_max_index             : {arg_max:0.2f}\")\n",
    "# # print(f\"A_max                   : {y_max:0.2f}\")\n",
    "# # print(f\"Min_rate                : {y[arg_y_min]:0.2f} Hz ({y[arg_max]*60:0.2f} Evetns/min)\")\n",
    "# #print(f\"Activity for Max Rate   : {x[arg_max]:0.2f} kBq\\n\")\n",
    "print(f\"Max_rate                : {y_max:0.5f} Hz ({y_max*60:0.5f} Events/min)\")\n",
    "print(f\"Min_time                : {t_min:0.5f} s or {t_min/60:0.5f} mins or {t_min/(60*60):0.5f} hrs\")\n",
    "print(f\"Activity for Max Rate   : {A_max:0.5f} Bq\\n\")\n",
    "\n",
    "#labels\n",
    "label_best=r' [ $\\gamma A e^{-\\beta A t}$ ]'\n",
    "label_real=r' [ $\\gamma A (1+\\alpha A t)e^{-\\alpha A t}$ ]'\n",
    "label_worst=r' [ $\\gamma A e^{-\\alpha A t}$ ]'\n",
    "colors=['b','g','r']\n",
    "\n",
    "fig,axs=plt.subplots(2,figsize=(12,12))\n",
    "font = font_manager.FontProperties(family='monospace',\n",
    "                                   weight='bold',\n",
    "                                   style='normal', size=15)\n",
    "\n",
    "font1 = {'family':'monospace','color':'k','size':15} #font for labels\n",
    "\n",
    "legends=[fr'best',fr'realistic',fr'worst']\n",
    "axs[0].plot(x,y_best,colors[0],label=legends[0]+label_best)\n",
    "axs[0].plot(x,y_realistic,colors[1],label=legends[1]+label_real)\n",
    "axs[0].plot(x,y_worst,colors[2],label=legends[2]+label_worst)\n",
    "#axs[0].axvline(x=source_activity,color='m',linestyle='--')\n",
    "#axs[0].text(source_activity+150,0.3,txt,fontsize=20,rotation='vertical')\n",
    "# axs[0].plot(x,y2,'r',label=legends[1])\n",
    "# axs[0].plot(x,y3,'pink',label=legends[2])\n",
    "axs[0].set_xlabel('Activity [Bq]',fontdict=font1)\n",
    "axs[0].set_ylabel('Rate [Hz]',fontdict=font1)\n",
    "axs[0].set_title(f'Rate of accumulation of SS Deep Peak Events for {isotope}',fontdict=font1)\n",
    "axs[0].grid()\n",
    "axs[0].tick_params(direction='out', \n",
    "                   labelsize=15,\n",
    "                   #length=6, \n",
    "                   #width=3, \n",
    "                   colors='k',\n",
    "               grid_color='k', \n",
    "                   grid_alpha=0.75,\n",
    "                  grid_linestyle=':')\n",
    "axs[0].legend(prop=font)\n",
    "\n",
    "#time\n",
    "\n",
    "# axs[1].plot(x,1/y_best*1/60,colors[0],label=legends[0])\n",
    "# axs[1].plot(x,1/y_realistic*1/60,colors[1],label=legends[1])\n",
    "# axs[1].plot(x,1/y_worst*1/60,colors[2],label=legends[2])\n",
    "\n",
    "axs[1].plot(x,t_best,colors[0],label=legends[0])\n",
    "axs[1].plot(x,t_realistic,colors[1],label=legends[1])\n",
    "axs[1].plot(x,t_worst,colors[2],label=legends[2])\n",
    "#axs[1].axvline(x=source_activity,color='m',linestyle='--')\n",
    "#axs[1].text(source_activity+10,10,txt,fontsize=20)\n",
    "# axs[1].plot(x,1/y2*1/60,'r',label=legends[1])\n",
    "# axs[1].plot(x,1/y3*1/60,'pink',label=legends[2])\n",
    "axs[1].set_xlabel('Activity [Bq]',fontdict=font1)\n",
    "axs[1].set_ylabel('Time [hr]',fontdict=font1)\n",
    "axs[1].set_title(f'Time to accumulate {N_events} SS Deep Peak Events for {isotope}',fontdict=font1)\n",
    "axs[1].set_yscale('log')\n",
    "axs[1].grid()\n",
    "axs[1].tick_params(direction='out', \n",
    "                   labelsize=15,\n",
    "                   #length=6, \n",
    "                   #width=3, \n",
    "                   colors='k',\n",
    "               grid_color='k', \n",
    "                   grid_alpha=0.75,\n",
    "                  grid_linestyle=':')\n",
    "axs[1].legend(prop=font)\n",
    "fig.tight_layout(pad=10.0)\n",
    "#deployment time vs count for realistic\n",
    "# dep_time=np.arange(deployment_time+500)\n",
    "# N_best=np.array([(gamma*source_activity*np.exp(-beta*source_activity*t))*time for time in dep_time])  \n",
    "# N_realistic=np.array([(gamma*source_activity*(1+alpha*source_activity*t)*np.exp(-alpha*source_activity*t))*time for time in dep_time])  \n",
    "# N_worst=np.array([(gamma*source_activity*np.exp(-alpha*source_activity*t))*time for time in dep_time])\n",
    "# axs[2].plot(dep_time,N_best,colors[0],label=legends[0])\n",
    "# axs[2].plot(dep_time,N_realistic,colors[1],label=legends[1])\n",
    "# axs[2].plot(dep_time,N_worst,colors[2],label=legends[2])\n",
    "# axs[2].axvline(x=deployment_time,color='b',linestyle=':')\n",
    "\n",
    "# axs[2].set_xlabel('Deployment time [s]')\n",
    "# axs[2].set_ylabel('Expected Counts')\n",
    "# axs[2].text(deployment_time+20,1000,'2 hrs',rotation='vertical',fontsize=20)\n",
    "# axs[2].grid()\n",
    "# axs[2].legend()\n",
    "save_fig=True\n",
    "if save_fig:plt.savefig(f'{isotope}rateestimateion.pdf',dpi=600)\n",
    "\n",
    "plt.show()\n",
    "\n",
    "#print(t_best)"
   ]
  },
  {
   "cell_type": "code",
   "execution_count": null,
   "id": "a0a909d0-a934-4a40-8881-395cafc8963a",
   "metadata": {},
   "outputs": [],
   "source": [
    "#optimal rates for different circumstances\n",
    "arg_y_max_realistic=np.argmax(y_realistic)\n",
    "#arg_y_min=np.argmin(y_realistic)\n",
    "\n",
    "# y_max_realistic=y_realistic[arg_y_max_realistic]\n",
    "# #y_min=y_realistic[arg_y_min]\n",
    "\n",
    "# A_max=x[y_max_realistic]\n",
    "# A_max\n",
    "arg_y_max_realistic\n",
    "\n",
    "y_realistic[arg_y_max_realistic],x[arg_y_max_realistic]"
   ]
  },
  {
   "cell_type": "code",
   "execution_count": null,
   "id": "a78d1e42-45d8-430e-9179-eb92e1b7fa3a",
   "metadata": {},
   "outputs": [],
   "source": []
  },
  {
   "cell_type": "code",
   "execution_count": null,
   "id": "b59db803-2f07-45a2-9d0e-a0040db0212c",
   "metadata": {},
   "outputs": [],
   "source": [
    "#optimal rates for different circumstances\n",
    "def get_y_max_x_opt(kind,y,N=1000):\n",
    "    '''\n",
    "    returns the maximum value of the rate as well as corresponding optimal activity of a `kind' of rate\n",
    "    '''\n",
    "    arg_y_max=np.argmax(y)\n",
    "\n",
    "    return [kind,y[arg_y_max],x[arg_y_max],N/(60*60*y[arg_y_max])]"
   ]
  },
  {
   "cell_type": "code",
   "execution_count": null,
   "id": "72337244-ce5b-405a-8f38-c7a3f190d9ef",
   "metadata": {},
   "outputs": [],
   "source": [
    "R_best=get_y_max_x_opt('best',y_best)                      #best_rate\n",
    "R_realistic=get_y_max_x_opt('realistic',y_realistic)       #ralistic_rate\n",
    "R_worst=get_y_max_x_opt('worst',y_worst)                   #worst_rate\n",
    "df_summary=pd.DataFrame([R_best,R_realistic,R_worst],columns=['case','max_rate(Hz)','optimal_activity(Bq)','1000_events_time[hr]'])\n",
    "df_summary['2hrs_counts']=2000/df_summary['1000_events_time[hr]']\n",
    "df_summary.round(2)"
   ]
  },
  {
   "cell_type": "code",
   "execution_count": null,
   "id": "c8fa879b-8e5b-4294-b3e5-aa06a85354d4",
   "metadata": {},
   "outputs": [],
   "source": [
    "reall=R_realistic[2]\n",
    "reall"
   ]
  },
  {
   "cell_type": "code",
   "execution_count": null,
   "id": "4f4688e7-6d3b-4efb-809a-33455c3fc83a",
   "metadata": {},
   "outputs": [],
   "source": [
    "for i,j in enumerate(range(1,1000),start=1):\n",
    "    total=j*4+(j*2)/10\n",
    "    if total>(reall-20):print(f\"{i}  =>    {total}\")\n",
    "    if total>(reall+20):break\n",
    "    "
   ]
  },
  {
   "cell_type": "code",
   "execution_count": null,
   "id": "c2084a66-766c-4bda-93b4-c81f552825e6",
   "metadata": {},
   "outputs": [],
   "source": [
    "#usable deep events with realistic approach\n",
    "# A=source_activity\n",
    "# N=deployment_time*gamma*A*(1+alpha*A*t)*np.exp(-alpha*A*t)\n",
    "# print(f\"Counts with 2 hrs deployment {N:0.2f}\")\n",
    "A_opt=200\n",
    "A_opt*4+(A_opt/10)*2\n"
   ]
  },
  {
   "cell_type": "markdown",
   "id": "22eb40c3-6e86-4b1e-add0-ecb0ef15c98e",
   "metadata": {},
   "source": [
    "# Electron Lifetime Determination\n",
    "- slice the data into 20 bins along z-axis\n",
    "- fit 2.6 MeV peak in each z-slice\n",
    "- fitted peaks are fitted with an exponential function to get electron lifetime ($\\tau$)"
   ]
  },
  {
   "cell_type": "code",
   "execution_count": null,
   "id": "8285f382-2f62-4a96-9ccf-18f68039f531",
   "metadata": {},
   "outputs": [],
   "source": [
    "#raw data\n",
    "df_alpha.head()"
   ]
  },
  {
   "cell_type": "code",
   "execution_count": null,
   "id": "84de6fc0-0e68-4477-9266-6dffa1fae70a",
   "metadata": {},
   "outputs": [],
   "source": [
    "#raw data\n",
    "df_alpha.head().columns"
   ]
  },
  {
   "cell_type": "code",
   "execution_count": null,
   "id": "f7b84145-7fe2-4d86-8984-4a0583116128",
   "metadata": {},
   "outputs": [],
   "source": [
    "y_best1=np.array([gamma*A*np.exp(-gamma*A*t) for A in x])  \n",
    "y_best2=np.array([gamma*A*np.exp(-beta*A*t) for A in x])  \n",
    "\n",
    "label1=r'$\\gamma A e^{-\\gamma A t}$'\n",
    "label2=r'$\\gamma A e^{-\\beta A t}$'\n",
    "#plt.plot(x,y_best1,label=rf'$\\gamma$')\n",
    "plt.plot(x,y_best1,label=label1)\n",
    "plt.plot(x,y_best2,label=label2)\n",
    "plt.axvline(x=source_activity,color='m',linestyle='--')\n",
    "plt.legend()\n",
    "plt.show()\n"
   ]
  },
  {
   "cell_type": "code",
   "execution_count": null,
   "id": "873527f2-fbc1-4d3e-9ab4-93cdc1bc42ca",
   "metadata": {},
   "outputs": [],
   "source": []
  }
 ],
 "metadata": {
  "kernelspec": {
   "display_name": "Python 3 (ipykernel)",
   "language": "python",
   "name": "python3"
  },
  "language_info": {
   "codemirror_mode": {
    "name": "ipython",
    "version": 3
   },
   "file_extension": ".py",
   "mimetype": "text/x-python",
   "name": "python",
   "nbconvert_exporter": "python",
   "pygments_lexer": "ipython3",
   "version": "3.10.6"
  }
 },
 "nbformat": 4,
 "nbformat_minor": 5
}
