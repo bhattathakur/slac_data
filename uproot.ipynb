{
 "cells": [
  {
   "cell_type": "code",
   "execution_count": null,
   "id": "03ac8675-b212-47ad-9511-3fd90937fe20",
   "metadata": {},
   "outputs": [],
   "source": [
    "import uproot\n",
    "import pandas as pd"
   ]
  },
  {
   "cell_type": "code",
   "execution_count": null,
   "id": "919864fc-31c7-4192-8f68-3aee2c2957ee",
   "metadata": {},
   "outputs": [],
   "source": [
    "file=uproot.open('test.root')"
   ]
  },
  {
   "cell_type": "code",
   "execution_count": null,
   "id": "070d0463-8a7c-4100-981e-9371d8d3481d",
   "metadata": {},
   "outputs": [],
   "source": [
    "file"
   ]
  },
  {
   "cell_type": "code",
   "execution_count": null,
   "id": "baddcb17-0e77-49ad-9030-aff64168e547",
   "metadata": {},
   "outputs": [],
   "source": [
    "file.keys()"
   ]
  },
  {
   "cell_type": "code",
   "execution_count": null,
   "id": "df35cebf-c18d-4d9c-94a7-d7a3f3f024ad",
   "metadata": {},
   "outputs": [],
   "source": [
    "file['Event']"
   ]
  },
  {
   "cell_type": "code",
   "execution_count": null,
   "id": "49eb24cd-617a-42e5-8fd8-66e49bd880f3",
   "metadata": {},
   "outputs": [],
   "source": [
    "file['Event']['Sim']['SimHeader']"
   ]
  },
  {
   "cell_type": "code",
   "execution_count": null,
   "id": "01015259-971e-4180-aff6-bf511daf70b5",
   "metadata": {},
   "outputs": [],
   "source": [
    "file.classnames()"
   ]
  },
  {
   "cell_type": "code",
   "execution_count": null,
   "id": "6c90869e-12ca-4744-a53b-189a5885ff55",
   "metadata": {},
   "outputs": [],
   "source": [
    "sim=uproot.open('test.root:Event/Sim/SimEvent/SimEvent')\n"
   ]
  },
  {
   "cell_type": "code",
   "execution_count": null,
   "id": "d9b21f38-a06b-499e-871a-21b475e9d98c",
   "metadata": {},
   "outputs": [],
   "source": [
    "sim"
   ]
  },
  {
   "cell_type": "code",
   "execution_count": null,
   "id": "034d4c82-a116-4151-a3e9-2cbd8363afea",
   "metadata": {},
   "outputs": [],
   "source": [
    "sim.keys()"
   ]
  },
  {
   "cell_type": "code",
   "execution_count": null,
   "id": "00074e70-f6a5-452a-bc97-9e4d150931cf",
   "metadata": {},
   "outputs": [],
   "source": [
    "sim.values()"
   ]
  },
  {
   "cell_type": "code",
   "execution_count": null,
   "id": "263e943c-216e-4f2b-8f82-42dbd8a7ae5b",
   "metadata": {},
   "outputs": [],
   "source": [
    "#sim_df=sim.arrays(sim.keys(),library='pd')"
   ]
  },
  {
   "cell_type": "code",
   "execution_count": null,
   "id": "ee4eeac9-6396-480f-86c5-195951e0c46e",
   "metadata": {},
   "outputs": [],
   "source": [
    "req_list=sim.keys()[4:]\n",
    "#df_sim=sim.arrays('*',library='pd')"
   ]
  },
  {
   "cell_type": "code",
   "execution_count": null,
   "id": "3d2a4b1e-f76d-4b6c-8dfb-7ee436c6f6cb",
   "metadata": {},
   "outputs": [],
   "source": [
    "req_list"
   ]
  },
  {
   "cell_type": "code",
   "execution_count": null,
   "id": "753bce51-231c-46bb-a39c-da6ed229adf5",
   "metadata": {},
   "outputs": [],
   "source": [
    "test_df=sim.arrays(req_list,library='pd')"
   ]
  },
  {
   "cell_type": "code",
   "execution_count": null,
   "id": "604f2d2c-cc62-4401-b31b-e6334713e2b0",
   "metadata": {},
   "outputs": [],
   "source": [
    "total_energy=test_df['fTotalEventEnergy']"
   ]
  },
  {
   "cell_type": "code",
   "execution_count": null,
   "id": "1aef2d87-3e81-4b88-b67f-3972c4bac049",
   "metadata": {},
   "outputs": [],
   "source": [
    "total_energy"
   ]
  },
  {
   "cell_type": "code",
   "execution_count": null,
   "id": "c0fcc87d-54af-46a8-9396-e6b04bc6a780",
   "metadata": {},
   "outputs": [],
   "source": [
    "test_df['fTotalEventEnergy'].plot(kind='bar')"
   ]
  },
  {
   "cell_type": "code",
   "execution_count": null,
   "id": "b5ac995f-0d37-4cca-81c8-1e77f83b6198",
   "metadata": {},
   "outputs": [],
   "source": []
  }
 ],
 "metadata": {
  "kernelspec": {
   "display_name": "Python 3 (ipykernel)",
   "language": "python",
   "name": "python3"
  },
  "language_info": {
   "codemirror_mode": {
    "name": "ipython",
    "version": 3
   },
   "file_extension": ".py",
   "mimetype": "text/x-python",
   "name": "python",
   "nbconvert_exporter": "python",
   "pygments_lexer": "ipython3",
   "version": "3.10.6"
  }
 },
 "nbformat": 4,
 "nbformat_minor": 5
}
