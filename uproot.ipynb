{
 "cells": [
  {
   "cell_type": "code",
   "execution_count": 24,
   "id": "03ac8675-b212-47ad-9511-3fd90937fe20",
   "metadata": {},
   "outputs": [],
   "source": [
    "import uproot\n",
    "import pandas as pd"
   ]
  },
  {
   "cell_type": "code",
   "execution_count": 2,
   "id": "919864fc-31c7-4192-8f68-3aee2c2957ee",
   "metadata": {},
   "outputs": [],
   "source": [
    "file=uproot.open('test.root')"
   ]
  },
  {
   "cell_type": "code",
   "execution_count": 3,
   "id": "070d0463-8a7c-4100-981e-9371d8d3481d",
   "metadata": {},
   "outputs": [
    {
     "data": {
      "text/plain": [
       "<ReadOnlyDirectory '/' at 0x7effd04cdb10>"
      ]
     },
     "execution_count": 3,
     "metadata": {},
     "output_type": "execute_result"
    }
   ],
   "source": [
    "file"
   ]
  },
  {
   "cell_type": "code",
   "execution_count": 4,
   "id": "baddcb17-0e77-49ad-9030-aff64168e547",
   "metadata": {},
   "outputs": [
    {
     "data": {
      "text/plain": [
       "['Event;1',\n",
       " 'Event/Sim;1',\n",
       " 'Event/Sim/SimHeader;1',\n",
       " 'Event/Sim/SimEvent;1',\n",
       " 'Event/Elec;1',\n",
       " 'Event/Elec/ElecHeader;1',\n",
       " 'Event/Elec/ElecEvent;1',\n",
       " 'Event/Elec/ElecSettings;1',\n",
       " 'ProcessID0;1',\n",
       " 'Meta;1',\n",
       " 'Meta/JobInfo;1',\n",
       " 'Meta/navigator;1',\n",
       " 'Meta/FileMetaData;1',\n",
       " 'Meta/UniqueIDTable;1',\n",
       " 'nEXOGeometry;1']"
      ]
     },
     "execution_count": 4,
     "metadata": {},
     "output_type": "execute_result"
    }
   ],
   "source": [
    "file.keys()"
   ]
  },
  {
   "cell_type": "code",
   "execution_count": 5,
   "id": "df35cebf-c18d-4d9c-94a7-d7a3f3f024ad",
   "metadata": {},
   "outputs": [
    {
     "data": {
      "text/plain": [
       "<ReadOnlyDirectory '/Event' at 0x7eff6700e560>"
      ]
     },
     "execution_count": 5,
     "metadata": {},
     "output_type": "execute_result"
    }
   ],
   "source": [
    "file['Event']"
   ]
  },
  {
   "cell_type": "code",
   "execution_count": 6,
   "id": "49eb24cd-617a-42e5-8fd8-66e49bd880f3",
   "metadata": {},
   "outputs": [
    {
     "data": {
      "text/plain": [
       "<TTree 'SimHeader' (1 branches) at 0x7eff6700f100>"
      ]
     },
     "execution_count": 6,
     "metadata": {},
     "output_type": "execute_result"
    }
   ],
   "source": [
    "file['Event']['Sim']['SimHeader']"
   ]
  },
  {
   "cell_type": "code",
   "execution_count": 7,
   "id": "01015259-971e-4180-aff6-bf511daf70b5",
   "metadata": {},
   "outputs": [
    {
     "data": {
      "text/plain": [
       "{'Event;1': 'TDirectory',\n",
       " 'Event/Sim;1': 'TDirectory',\n",
       " 'Event/Sim/SimHeader;1': 'TTree',\n",
       " 'Event/Sim/SimEvent;1': 'TTree',\n",
       " 'Event/Elec;1': 'TDirectory',\n",
       " 'Event/Elec/ElecHeader;1': 'TTree',\n",
       " 'Event/Elec/ElecEvent;1': 'TTree',\n",
       " 'Event/Elec/ElecSettings;1': 'TTree',\n",
       " 'ProcessID0;1': 'TProcessID',\n",
       " 'Meta;1': 'TDirectory',\n",
       " 'Meta/JobInfo;1': 'JobInfo',\n",
       " 'Meta/navigator;1': 'TTree',\n",
       " 'Meta/FileMetaData;1': 'nEXO::FileMetaData',\n",
       " 'Meta/UniqueIDTable;1': 'nEXO::UniqueIDTable',\n",
       " 'nEXOGeometry;1': 'TGeoManager'}"
      ]
     },
     "execution_count": 7,
     "metadata": {},
     "output_type": "execute_result"
    }
   ],
   "source": [
    "file.classnames()"
   ]
  },
  {
   "cell_type": "code",
   "execution_count": 60,
   "id": "6c90869e-12ca-4744-a53b-189a5885ff55",
   "metadata": {},
   "outputs": [],
   "source": [
    "sim=uproot.open('test.root:Event/Sim/SimEvent/SimEvent')\n"
   ]
  },
  {
   "cell_type": "code",
   "execution_count": 61,
   "id": "d9b21f38-a06b-499e-871a-21b475e9d98c",
   "metadata": {},
   "outputs": [
    {
     "data": {
      "text/plain": [
       "<TBranchElement 'SimEvent' (69 subbranches) at 0x7eff603dc910>"
      ]
     },
     "execution_count": 61,
     "metadata": {},
     "output_type": "execute_result"
    }
   ],
   "source": [
    "sim"
   ]
  },
  {
   "cell_type": "code",
   "execution_count": 62,
   "id": "034d4c82-a116-4151-a3e9-2cbd8363afea",
   "metadata": {},
   "outputs": [
    {
     "data": {
      "text/plain": [
       "['nEXO::EventObject',\n",
       " 'nEXO::EventObject/TObject',\n",
       " 'nEXO::EventObject/TObject/fUniqueID',\n",
       " 'nEXO::EventObject/TObject/fBits',\n",
       " 'fGenTheta_p',\n",
       " 'fGenPhi_p',\n",
       " 'fGenE',\n",
       " 'fParentTrackID',\n",
       " 'fNeutronCount',\n",
       " 'fXe137Count',\n",
       " 'fInitNeutronEnergy',\n",
       " 'fPMT_Hits',\n",
       " 'fPMTID',\n",
       " 'fPMTs_fired',\n",
       " 'fmu_Impact_parameter',\n",
       " 'fn_Impact_parameter',\n",
       " 'fTotalEventEnergy_WT',\n",
       " 'fEnergyDeposit_WT',\n",
       " 'fLengthDeposit_WT',\n",
       " 'fNumDeposits_WT',\n",
       " 'fEventNumber',\n",
       " 'fGenX',\n",
       " 'fGenY',\n",
       " 'fGenZ',\n",
       " 'fGenParticleID',\n",
       " 'fGenKineticE',\n",
       " 'fTotalEventEnergy',\n",
       " 'fNumDeposits',\n",
       " 'fLengthDeposit',\n",
       " 'fEnergyDeposit',\n",
       " 'fPreEnergyDeposit',\n",
       " 'fPostEnergyDeposit',\n",
       " 'fTrackNumber',\n",
       " 'fXpos',\n",
       " 'fYpos',\n",
       " 'fZpos',\n",
       " 'fTglob',\n",
       " 'fTloc',\n",
       " 'fNOP',\n",
       " 'fInitNOP',\n",
       " 'fInitCherenkovOP',\n",
       " 'fNReflections',\n",
       " 'fOPEnergy',\n",
       " 'fSiPMID',\n",
       " 'fOPTime',\n",
       " 'fOPType',\n",
       " 'fOPStopVolume',\n",
       " 'fAOI',\n",
       " 'fOPX',\n",
       " 'fOPY',\n",
       " 'fOPZ',\n",
       " 'fNESTLineageX',\n",
       " 'fNESTLineageY',\n",
       " 'fNESTLineageZ',\n",
       " 'fNESTLineageXwidth',\n",
       " 'fNESTLineageYwidth',\n",
       " 'fNESTLineageZwidth',\n",
       " 'fNESTLineageNOP',\n",
       " 'fNESTLineageNTE',\n",
       " 'fNESTLineageE',\n",
       " 'fNESTLineageT',\n",
       " 'fNESTLineageTwidth',\n",
       " 'fNESTLineageType',\n",
       " 'fNESTHitX',\n",
       " 'fNESTHitY',\n",
       " 'fNESTHitZ',\n",
       " 'fNESTHitNOP',\n",
       " 'fNESTHitNTE',\n",
       " 'fNESTHitE',\n",
       " 'fNESTHitT',\n",
       " 'fNESTHitType',\n",
       " 'fNTE']"
      ]
     },
     "execution_count": 62,
     "metadata": {},
     "output_type": "execute_result"
    }
   ],
   "source": [
    "sim.keys()"
   ]
  },
  {
   "cell_type": "code",
   "execution_count": 63,
   "id": "00074e70-f6a5-452a-bc97-9e4d150931cf",
   "metadata": {},
   "outputs": [
    {
     "data": {
      "text/plain": [
       "[<TBranchElement 'nEXO::EventObject' (1 subbranches) at 0x7eff603dce50>,\n",
       " <TBranchElement 'TObject' (2 subbranches) at 0x7eff603dd390>,\n",
       " <TBranchElement 'fUniqueID' at 0x7eff603dd8d0>,\n",
       " <TBranchElement 'fBits' at 0x7eff603de260>,\n",
       " <TBranchElement 'fGenTheta_p' at 0x7eff603deec0>,\n",
       " <TBranchElement 'fGenPhi_p' at 0x7eff603df820>,\n",
       " <TBranchElement 'fGenE' at 0x7eff603f0160>,\n",
       " <TBranchElement 'fParentTrackID' at 0x7eff603f0ac0>,\n",
       " <TBranchElement 'fNeutronCount' at 0x7eff603f1420>,\n",
       " <TBranchElement 'fXe137Count' at 0x7eff603f1d80>,\n",
       " <TBranchElement 'fInitNeutronEnergy' at 0x7eff603f26e0>,\n",
       " <TBranchElement 'fPMT_Hits' at 0x7eff603f2f20>,\n",
       " <TBranchElement 'fPMTID' at 0x7eff603f3880>,\n",
       " <TBranchElement 'fPMTs_fired' at 0x7eff6040c220>,\n",
       " <TBranchElement 'fmu_Impact_parameter' at 0x7eff6040cb80>,\n",
       " <TBranchElement 'fn_Impact_parameter' at 0x7eff6040d4e0>,\n",
       " <TBranchElement 'fTotalEventEnergy_WT' at 0x7eff6040de40>,\n",
       " <TBranchElement 'fEnergyDeposit_WT' at 0x7eff6040e7a0>,\n",
       " <TBranchElement 'fLengthDeposit_WT' at 0x7eff6040f100>,\n",
       " <TBranchElement 'fNumDeposits_WT' at 0x7eff6040fa60>,\n",
       " <TBranchElement 'fEventNumber' at 0x7eff60420400>,\n",
       " <TBranchElement 'fGenX' at 0x7eff60420d60>,\n",
       " <TBranchElement 'fGenY' at 0x7eff604216c0>,\n",
       " <TBranchElement 'fGenZ' at 0x7eff60422020>,\n",
       " <TBranchElement 'fGenParticleID' at 0x7eff60422980>,\n",
       " <TBranchElement 'fGenKineticE' at 0x7eff604232e0>,\n",
       " <TBranchElement 'fTotalEventEnergy' at 0x7eff60423c40>,\n",
       " <TBranchElement 'fNumDeposits' at 0x7eff604385e0>,\n",
       " <TBranchElement 'fLengthDeposit' at 0x7eff60438f40>,\n",
       " <TBranchElement 'fEnergyDeposit' at 0x7eff604398a0>,\n",
       " <TBranchElement 'fPreEnergyDeposit' at 0x7eff6043a200>,\n",
       " <TBranchElement 'fPostEnergyDeposit' at 0x7eff6043ab60>,\n",
       " <TBranchElement 'fTrackNumber' at 0x7eff6043b4c0>,\n",
       " <TBranchElement 'fXpos' at 0x7eff6043be20>,\n",
       " <TBranchElement 'fYpos' at 0x7eff602547c0>,\n",
       " <TBranchElement 'fZpos' at 0x7eff60255120>,\n",
       " <TBranchElement 'fTglob' at 0x7eff60255a80>,\n",
       " <TBranchElement 'fTloc' at 0x7eff602563e0>,\n",
       " <TBranchElement 'fNOP' at 0x7eff60256d40>,\n",
       " <TBranchElement 'fInitNOP' at 0x7eff602576a0>,\n",
       " <TBranchElement 'fInitCherenkovOP' at 0x7eff6026c040>,\n",
       " <TBranchElement 'fNReflections' at 0x7eff6026c9a0>,\n",
       " <TBranchElement 'fOPEnergy' at 0x7eff6026d300>,\n",
       " <TBranchElement 'fSiPMID' at 0x7eff6026dc60>,\n",
       " <TBranchElement 'fOPTime' at 0x7eff6026e5c0>,\n",
       " <TBranchElement 'fOPType' at 0x7eff6026ef20>,\n",
       " <TBranchElement 'fOPStopVolume' at 0x7eff6026f880>,\n",
       " <TBranchElement 'fAOI' at 0x7eff60280220>,\n",
       " <TBranchElement 'fOPX' at 0x7eff60280b80>,\n",
       " <TBranchElement 'fOPY' at 0x7eff602814e0>,\n",
       " <TBranchElement 'fOPZ' at 0x7eff60281e40>,\n",
       " <TBranchElement 'fNESTLineageX' at 0x7eff602827a0>,\n",
       " <TBranchElement 'fNESTLineageY' at 0x7eff60283100>,\n",
       " <TBranchElement 'fNESTLineageZ' at 0x7eff60283a60>,\n",
       " <TBranchElement 'fNESTLineageXwidth' at 0x7eff602a0400>,\n",
       " <TBranchElement 'fNESTLineageYwidth' at 0x7eff602a0d60>,\n",
       " <TBranchElement 'fNESTLineageZwidth' at 0x7eff602a16c0>,\n",
       " <TBranchElement 'fNESTLineageNOP' at 0x7eff602a2020>,\n",
       " <TBranchElement 'fNESTLineageNTE' at 0x7eff602a2980>,\n",
       " <TBranchElement 'fNESTLineageE' at 0x7eff602a32e0>,\n",
       " <TBranchElement 'fNESTLineageT' at 0x7eff602a3c40>,\n",
       " <TBranchElement 'fNESTLineageTwidth' at 0x7eff602b85e0>,\n",
       " <TBranchElement 'fNESTLineageType' at 0x7eff602b8f40>,\n",
       " <TBranchElement 'fNESTHitX' at 0x7eff602b98a0>,\n",
       " <TBranchElement 'fNESTHitY' at 0x7eff602ba200>,\n",
       " <TBranchElement 'fNESTHitZ' at 0x7eff602bab60>,\n",
       " <TBranchElement 'fNESTHitNOP' at 0x7eff602bb4c0>,\n",
       " <TBranchElement 'fNESTHitNTE' at 0x7eff602bbe20>,\n",
       " <TBranchElement 'fNESTHitE' at 0x7eff602d07c0>,\n",
       " <TBranchElement 'fNESTHitT' at 0x7eff602d1120>,\n",
       " <TBranchElement 'fNESTHitType' at 0x7eff602d1a80>,\n",
       " <TBranchElement 'fNTE' at 0x7eff602d23e0>]"
      ]
     },
     "execution_count": 63,
     "metadata": {},
     "output_type": "execute_result"
    }
   ],
   "source": [
    "sim.values()"
   ]
  },
  {
   "cell_type": "code",
   "execution_count": 64,
   "id": "263e943c-216e-4f2b-8f82-42dbd8a7ae5b",
   "metadata": {},
   "outputs": [],
   "source": [
    "#sim_df=sim.arrays(sim.keys(),library='pd')"
   ]
  },
  {
   "cell_type": "code",
   "execution_count": 65,
   "id": "ee4eeac9-6396-480f-86c5-195951e0c46e",
   "metadata": {},
   "outputs": [],
   "source": [
    "req_list=sim.keys()[10:20]\n",
    "#df_sim=sim.arrays('*',library='pd')"
   ]
  },
  {
   "cell_type": "code",
   "execution_count": 66,
   "id": "3d2a4b1e-f76d-4b6c-8dfb-7ee436c6f6cb",
   "metadata": {},
   "outputs": [
    {
     "data": {
      "text/plain": [
       "['fInitNeutronEnergy',\n",
       " 'fPMT_Hits',\n",
       " 'fPMTID',\n",
       " 'fPMTs_fired',\n",
       " 'fmu_Impact_parameter',\n",
       " 'fn_Impact_parameter',\n",
       " 'fTotalEventEnergy_WT',\n",
       " 'fEnergyDeposit_WT',\n",
       " 'fLengthDeposit_WT',\n",
       " 'fNumDeposits_WT']"
      ]
     },
     "execution_count": 66,
     "metadata": {},
     "output_type": "execute_result"
    }
   ],
   "source": [
    "req_list"
   ]
  },
  {
   "cell_type": "code",
   "execution_count": 69,
   "id": "753bce51-231c-46bb-a39c-da6ed229adf5",
   "metadata": {},
   "outputs": [],
   "source": [
    "test_df=sim.arrays(req_list,library='pd')"
   ]
  },
  {
   "cell_type": "code",
   "execution_count": 70,
   "id": "604f2d2c-cc62-4401-b31b-e6334713e2b0",
   "metadata": {},
   "outputs": [
    {
     "data": {
      "text/html": [
       "<div>\n",
       "<style scoped>\n",
       "    .dataframe tbody tr th:only-of-type {\n",
       "        vertical-align: middle;\n",
       "    }\n",
       "\n",
       "    .dataframe tbody tr th {\n",
       "        vertical-align: top;\n",
       "    }\n",
       "\n",
       "    .dataframe thead th {\n",
       "        text-align: right;\n",
       "    }\n",
       "</style>\n",
       "<table border=\"1\" class=\"dataframe\">\n",
       "  <thead>\n",
       "    <tr style=\"text-align: right;\">\n",
       "      <th></th>\n",
       "      <th>fInitNeutronEnergy</th>\n",
       "      <th>fPMT_Hits</th>\n",
       "      <th>fPMTID</th>\n",
       "      <th>fPMTs_fired</th>\n",
       "      <th>fmu_Impact_parameter</th>\n",
       "      <th>fn_Impact_parameter</th>\n",
       "      <th>fTotalEventEnergy_WT</th>\n",
       "      <th>fEnergyDeposit_WT</th>\n",
       "      <th>fLengthDeposit_WT</th>\n",
       "      <th>fNumDeposits_WT</th>\n",
       "    </tr>\n",
       "  </thead>\n",
       "  <tbody>\n",
       "    <tr>\n",
       "      <th>0</th>\n",
       "      <td>0.0</td>\n",
       "      <td>0</td>\n",
       "      <td>[]</td>\n",
       "      <td>0</td>\n",
       "      <td>0.0</td>\n",
       "      <td>0.0</td>\n",
       "      <td>0.0</td>\n",
       "      <td>[]</td>\n",
       "      <td>[]</td>\n",
       "      <td>0</td>\n",
       "    </tr>\n",
       "    <tr>\n",
       "      <th>1</th>\n",
       "      <td>0.0</td>\n",
       "      <td>0</td>\n",
       "      <td>[]</td>\n",
       "      <td>0</td>\n",
       "      <td>0.0</td>\n",
       "      <td>0.0</td>\n",
       "      <td>0.0</td>\n",
       "      <td>[]</td>\n",
       "      <td>[]</td>\n",
       "      <td>0</td>\n",
       "    </tr>\n",
       "  </tbody>\n",
       "</table>\n",
       "</div>"
      ],
      "text/plain": [
       "   fInitNeutronEnergy  fPMT_Hits fPMTID  fPMTs_fired  fmu_Impact_parameter  \\\n",
       "0                 0.0          0     []            0                   0.0   \n",
       "1                 0.0          0     []            0                   0.0   \n",
       "\n",
       "   fn_Impact_parameter  fTotalEventEnergy_WT fEnergyDeposit_WT  \\\n",
       "0                  0.0                   0.0                []   \n",
       "1                  0.0                   0.0                []   \n",
       "\n",
       "  fLengthDeposit_WT  fNumDeposits_WT  \n",
       "0                []                0  \n",
       "1                []                0  "
      ]
     },
     "execution_count": 70,
     "metadata": {},
     "output_type": "execute_result"
    }
   ],
   "source": [
    "test_df"
   ]
  },
  {
   "cell_type": "code",
   "execution_count": null,
   "id": "1aef2d87-3e81-4b88-b67f-3972c4bac049",
   "metadata": {},
   "outputs": [],
   "source": []
  }
 ],
 "metadata": {
  "kernelspec": {
   "display_name": "Python 3 (ipykernel)",
   "language": "python",
   "name": "python3"
  },
  "language_info": {
   "codemirror_mode": {
    "name": "ipython",
    "version": 3
   },
   "file_extension": ".py",
   "mimetype": "text/x-python",
   "name": "python",
   "nbconvert_exporter": "python",
   "pygments_lexer": "ipython3",
   "version": "3.10.6"
  }
 },
 "nbformat": 4,
 "nbformat_minor": 5
}
