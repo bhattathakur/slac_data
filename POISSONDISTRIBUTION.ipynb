{
 "cells": [
  {
   "cell_type": "code",
   "execution_count": null,
   "id": "391706bb-36a7-4e89-be61-d51b16025c2d",
   "metadata": {},
   "outputs": [],
   "source": [
    "import numpy as np\n",
    "import matplotlib.pyplot as plt"
   ]
  },
  {
   "cell_type": "markdown",
   "id": "d14a41d1-24ee-4df5-9185-50038b5e4d03",
   "metadata": {},
   "source": [
    "reference: \n",
    "[wiki](https://en.wikipedia.org/wiki/Poisson_distribution)\n",
    "\n",
    "\n"
   ]
  },
  {
   "cell_type": "markdown",
   "id": "76679304-09ba-40a1-887f-2d56ccd1882e",
   "metadata": {},
   "source": [
    "- **Posson distribution** is a discrete probabality distribution that expresses the probability of a given number of events occuring in a fixed interval of time or space if these events occur with a known constant mean rate and independently of the time since the last event.\n",
    "- This distribution can be applied to systems with a large number of possible events, each of which is rare."
   ]
  },
  {
   "cell_type": "markdown",
   "id": "392d9548-47e9-4ce1-88dd-dfe540b8b531",
   "metadata": {},
   "source": [
    "$$ f(k;\\lambda) = Pr(X=k)=\\frac{\\lambda^{k}e^{-\\lambda}}{k!} $$\n",
    "where:\n",
    "- $k$ is the number of occurance ($k$ = 0, 1, 2, ...)\n",
    "- $e$ is the Euler's number ($e$=2.71828..)\n",
    "- $!$ is the factorial function\n",
    "\n",
    "$$ \\lambda = E(X) = Var (X) $$\n",
    "The equation can be adapted if, instead of the average number of events $\\lambda$\n",
    "{\\displaystyle \\lambda ,} we are given the average rate $r$ at which events occur. Then \n",
    "$\\lambda=rt$\n",
    "\n",
    "$$ f(\\text{k events in interval t}) = \\frac{(rt)^{k}e^{-rt}}{k!} $$"
   ]
  },
  {
   "cell_type": "code",
   "execution_count": null,
   "id": "cc08f4cc-c5df-44ae-ac65-7f1951cd1978",
   "metadata": {},
   "outputs": [],
   "source": [
    "def poisson_pdf(k,l):\n",
    "    '''\n",
    "    returns the poisson's probabality mass function. \n",
    "\n",
    "    l=> lambda (>0) [mean and variance of distribution]\n",
    "    k=> variable\n",
    "    '''\n",
    "    return (l**k)*(np.e**(-l))/(np.math.factorial(k))"
   ]
  },
  {
   "cell_type": "code",
   "execution_count": null,
   "id": "8e0c125d-5a92-4bbf-b82b-30bfd16a5c08",
   "metadata": {},
   "outputs": [],
   "source": [
    "x=np.arange(0,20,1)"
   ]
  },
  {
   "cell_type": "code",
   "execution_count": null,
   "id": "03665324-265c-4186-ac0f-06f80b1f6572",
   "metadata": {},
   "outputs": [],
   "source": [
    "#lambda=1\n",
    "l=1\n",
    "y=[poisson_pdf(k,l) for k in x]\n",
    "l=4\n",
    "y1=[poisson_pdf(k,l) for k in x]\n",
    "l=10\n",
    "y2=[poisson_pdf(k,l) for k in x]"
   ]
  },
  {
   "cell_type": "code",
   "execution_count": null,
   "id": "02b04f4c-9b53-43bf-9a5a-fcbfc41e1938",
   "metadata": {},
   "outputs": [],
   "source": [
    "plt.plot(x,y,'k.',label=r'$\\lambda$=1')\n",
    "plt.plot(x,y1,'r.',label=r'$\\lambda$=4')\n",
    "plt.plot(x,y2,'b.',label=r'$\\lambda$=10')\n",
    "plt.legend()\n",
    "plt.show()"
   ]
  },
  {
   "cell_type": "code",
   "execution_count": null,
   "id": "12081129-73f8-4c27-ba42-2cdf2f2574bf",
   "metadata": {},
   "outputs": [],
   "source": []
  }
 ],
 "metadata": {
  "kernelspec": {
   "display_name": "Python 3 (ipykernel)",
   "language": "python",
   "name": "python3"
  },
  "language_info": {
   "codemirror_mode": {
    "name": "ipython",
    "version": 3
   },
   "file_extension": ".py",
   "mimetype": "text/x-python",
   "name": "python",
   "nbconvert_exporter": "python",
   "pygments_lexer": "ipython3",
   "version": "3.10.6"
  }
 },
 "nbformat": 4,
 "nbformat_minor": 5
}
