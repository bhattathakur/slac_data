{
 "cells": [
  {
   "cell_type": "code",
   "execution_count": null,
   "id": "8bf6384b-40e1-4cdd-b25f-bc5519e8eb4c",
   "metadata": {},
   "outputs": [],
   "source": [
    "import uproot\n",
    "import matplotlib.pyplot as plt\n",
    "import pandas as pd\n",
    "import numpy as np\n",
    "from matplotlib import rcParams\n",
    "import seaborn as sns\n",
    "import scienceplots\n",
    "sns.set(font_scale=1.0)\n",
    "sns.set_style('white')\n",
    "from IPython.display import Image\n"
   ]
  },
  {
   "cell_type": "code",
   "execution_count": null,
   "id": "a5724e16-189e-4f3f-9af7-9b3967557d53",
   "metadata": {},
   "outputs": [],
   "source": [
    "def get_filtered(file):\n",
    "    '''\n",
    "    returns the pandas dataframe for the given root file using the uproot library. If use_filter=True, indicated filter will be used.\n",
    "    '''\n",
    "    f=uproot.open(file+':tree')\n",
    "    df=f.arrays(f.keys(),library='pd')\n",
    "    #if use_filter:return df.query(apply_filter).reset_index(drop=True)\n",
    "    return df#.query('energy<3000').reset_index(drop=True)"
   ]
  },
  {
   "cell_type": "code",
   "execution_count": null,
   "id": "5ae91e5a-37c8-4fa2-abf9-e2b265c8d4ef",
   "metadata": {},
   "outputs": [],
   "source": [
    "root1='/home/thakur/slac_data/s10all/recon/'\n",
    "file1='s10_Tl208_all_seed32.reconTree.root'\n",
    "\n",
    "root2='/home/thakur/slac_data/s10all/g4/'\n",
    "file2='s10_Tl208_all_seed9.nEXOevents.root'\n"
   ]
  },
  {
   "cell_type": "code",
   "execution_count": null,
   "id": "e8f7d187-8680-4f87-8795-81d9f2492815",
   "metadata": {},
   "outputs": [],
   "source": [
    "f=uproot.open(root2+file2)"
   ]
  },
  {
   "cell_type": "code",
   "execution_count": null,
   "id": "49eadf75-5e61-4c7a-8759-bf299e8810ba",
   "metadata": {},
   "outputs": [],
   "source": [
    "f.keys()"
   ]
  },
  {
   "cell_type": "code",
   "execution_count": null,
   "id": "eec624ad-bf25-40d1-be0a-7f0dea134d91",
   "metadata": {},
   "outputs": [],
   "source": [
    "f=uproot.open(root1+file1)\n",
    "f.keys()"
   ]
  },
  {
   "cell_type": "code",
   "execution_count": null,
   "id": "ba3a2e2b-559e-49f2-a6b2-11142fe2e149",
   "metadata": {},
   "outputs": [],
   "source": []
  }
 ],
 "metadata": {
  "kernelspec": {
   "display_name": "Python 3 (ipykernel)",
   "language": "python",
   "name": "python3"
  },
  "language_info": {
   "codemirror_mode": {
    "name": "ipython",
    "version": 3
   },
   "file_extension": ".py",
   "mimetype": "text/x-python",
   "name": "python",
   "nbconvert_exporter": "python",
   "pygments_lexer": "ipython3",
   "version": "3.10.6"
  }
 },
 "nbformat": 4,
 "nbformat_minor": 5
}
