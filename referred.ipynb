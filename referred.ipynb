{
 "cells": [
  {
   "cell_type": "code",
   "execution_count": null,
   "id": "d32cea57-b203-4c37-8513-a1a3baf1ddf5",
   "metadata": {},
   "outputs": [],
   "source": [
    "import uproot as up\n",
    "import numpy as np\n",
    "import pandas as pd\n",
    "import math\n",
    "import matplotlib.pyplot as plt\n",
    "from matplotlib import rcParams\n",
    "import seaborn as sns\n",
    "sns.set(font_scale=1.5)\n",
    "sns.set_style('white')"
   ]
  },
  {
   "cell_type": "code",
   "execution_count": null,
   "id": "03837167-7cbb-46f9-9f7a-2ed95326150a",
   "metadata": {},
   "outputs": [],
   "source": [
    "rcParams.update({'figure.autolayout':True})\n",
    "rcParams.update({'figure.figsize':[15,8]})"
   ]
  },
  {
   "cell_type": "code",
   "execution_count": null,
   "id": "539e48cb-e829-4b6d-865d-dc7307b08190",
   "metadata": {},
   "outputs": [],
   "source": [
    "input_dir=\"./PXE05M/\"\n",
    "# PX1M_Th228_pos648.5_0_-1022.6.root"
   ]
  },
  {
   "cell_type": "code",
   "execution_count": null,
   "id": "7fb1e1bf-7957-450b-a3e0-cbf5621c4d58",
   "metadata": {},
   "outputs": [],
   "source": [
    "def get_filtered_tuple_from_root(filename):\n",
    "    file=up.open(filename)\n",
    "    tree=file['tree']\n",
    "    energy,passed_xy_thresh,passed_z_thresh,n_x_ch_abovenoise,\\\n",
    "    n_y_ch_abovenoise,m_nOPCal,m_nQ,NESTBugFound,m_DNNvalue,standoff,weight=\\\n",
    "    tree.arrays(['energy','passed_xy_thresh','passed_z_thresh','n_x_ch_abovenoise',\\\n",
    "                 'n_y_ch_abovenoise','m_nOPCal','m_nQ','NESTBugFound','m_DNNvalue','standoff','weight'],outputtype=tuple)\n",
    "    sel_filter=(passed_xy_thresh & passed_z_thresh & (n_x_ch_abovenoise>0) & (n_y_ch_abovenoise > 0) & (m_nOPCal < 1.064 * m_nQ+703) & \\\n",
    "                (m_nOPCal>0.644 * m_nQ - 2411) & (~NESTBugFound) & (m_DNNvalue>0.85) & (standoff>100))\n",
    "    return energy[sel_filter],weight[sel_filter]"
   ]
  },
  {
   "cell_type": "code",
   "execution_count": null,
   "id": "a2730f20-7694-4362-a27d-cda2c3c71c0f",
   "metadata": {},
   "outputs": [],
   "source": [
    "#root_file='PX1M_Th228_pos648.5_0_-1022.6.root'\n",
    "root_file='PXE05M_Th228_pos648.5_0_-1022.6.root'\n"
   ]
  },
  {
   "cell_type": "code",
   "execution_count": null,
   "id": "3068a855-b2b9-44e2-b7dc-6217f9021f7a",
   "metadata": {},
   "outputs": [],
   "source": [
    "ene,weight=get_filtered_tuple_from_root(input_dir+root_file)"
   ]
  },
  {
   "cell_type": "code",
   "execution_count": null,
   "id": "a168cf93-26df-4e50-8e06-b35bc72ca16c",
   "metadata": {},
   "outputs": [],
   "source": [
    "component_lists = [\n",
    "['TPCVessel', 'SiPMSubstrate', 'SiPMStave', 'SiPMModule'],\n",
    "['HVTube', 'HVPlunger', 'HVFeedthruCore', 'HVFeedthruBox', 'HVCable'],\n",
    "['ChargeModuleSupport', 'ChargeModuleBacking', 'Cathode', ],\n",
    "['FieldRing', 'SupportRodsAndSpacers', 'Bulge'],\n",
    "['HFE','CalibrationGuideTube1', 'CalibrationGuideTube2','TPCSupport'],\n",
    "['RepeaterBoxShell', 'InnerCryostat', 'InnerCryostatSupport', 'InnerCryostatLiner']\n",
    "]"
   ]
  },
  {
   "cell_type": "code",
   "execution_count": null,
   "id": "ead5211d-e22e-417e-a1d0-f69502a2d00a",
   "metadata": {},
   "outputs": [],
   "source": [
    "isotpes=['Th228']\n",
    "for isotope in ['U238', 'Th232']:\n",
    "    for c_list in component_lists:\n",
    "        for component in c_list:\n",
    "            filename = f\"{input_dir}Baseline2019_{isotope}_{component}.root\"\n",
    "            ene, weight = get_filtered_tuple_from_root(filename)\n",
    "            plt.hist(ene, bins=200, histtype=u'step', weights=weight, density=True, label=component)\n",
    "        plt.yscale(\"log\")\n",
    "        plt.ylabel(\"Counts\")\n",
    "        plt.xlabel(\"Energy [keV]\")\n",
    "        plt.title(f\"{isotope} Energy PDF for SS events in the inner 2000kg\")\n",
    "        plt.legend()\n",
    "        plt.show()"
   ]
  },
  {
   "cell_type": "code",
   "execution_count": null,
   "id": "4065848c-aba5-4337-befe-e9be04982175",
   "metadata": {},
   "outputs": [],
   "source": []
  }
 ],
 "metadata": {
  "kernelspec": {
   "display_name": "Python 3 (ipykernel)",
   "language": "python",
   "name": "python3"
  },
  "language_info": {
   "codemirror_mode": {
    "name": "ipython",
    "version": 3
   },
   "file_extension": ".py",
   "mimetype": "text/x-python",
   "name": "python",
   "nbconvert_exporter": "python",
   "pygments_lexer": "ipython3",
   "version": "3.10.6"
  }
 },
 "nbformat": 4,
 "nbformat_minor": 5
}
