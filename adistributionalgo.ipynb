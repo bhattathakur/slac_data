{
 "cells": [
  {
   "cell_type": "code",
   "execution_count": null,
   "id": "3521780c-3b3e-4297-9255-ba1320abc8d3",
   "metadata": {},
   "outputs": [],
   "source": [
    "import uproot\n",
    "import matplotlib.pyplot as plt\n",
    "import pandas as pd\n",
    "import numpy as np\n",
    "from matplotlib import rcParams\n",
    "import seaborn as sns\n",
    "import scienceplots\n",
    "from IPython.display import Image\n",
    "\n",
    "\n",
    "import matplotlib.font_manager as font_manager\n"
   ]
  },
  {
   "cell_type": "code",
   "execution_count": null,
   "id": "c89201de-ecd6-47f1-bee1-2c3f708e1a4d",
   "metadata": {},
   "outputs": [],
   "source": [
    "rcParams.update({'figure.autolayout':True})\n",
    "rcParams.update({'figure.figsize':[12,8]})\n",
    "plt.rcParams['legend.fontsize'] = 15\n",
    "plt.rcParams['font.family']='serif'\n",
    "plt.rcParams['font.size'] = 20\n",
    "plt.rcParams['xtick.labelsize'] = 20  # Change 16 to the desired font size\n",
    "\n",
    "# Increase the font size for y-axis labels\n",
    "plt.rcParams['ytick.labelsize'] = 20  # Change 16 to the desired font size\n",
    "plt.rcParams['lines.linewidth'] = 2.5\n",
    "plt.rcParams['grid.linewidth'] = 2.5\n",
    "plt.rcParams['axes.labelsize']=15\n",
    "\n",
    "plt.rcParams[\"font.weight\"] = \"bold\"\n",
    "plt.rcParams[\"axes.labelweight\"] = \"bold\"\n",
    "\n",
    "plt.rcParams['grid.linestyle']=':'\n",
    "plt.rcParams['grid.alpha'] = 0.50\n"
   ]
  },
  {
   "cell_type": "code",
   "execution_count": null,
   "id": "6fd3528c-4425-4e1e-96ed-a86e7bfb3720",
   "metadata": {},
   "outputs": [],
   "source": [
    "# want to get the title of the plot or not \n",
    "keep_title=True"
   ]
  },
  {
   "cell_type": "markdown",
   "id": "f11380ce-2c65-4399-ad69-101d7b9c7f09",
   "metadata": {},
   "source": [
    "# HELPER FUNCTION"
   ]
  },
  {
   "cell_type": "code",
   "execution_count": null,
   "id": "c3e52e79-8fcb-4d3b-ad29-0e6c91db178f",
   "metadata": {},
   "outputs": [],
   "source": [
    "def my_plotter(ax,ene,weight,label_value,yscale,xlabel='Energy [keV]',ylabel='Counts',iso=\"Th228\"):\n",
    "    \"\"\"\n",
    "    A helper function to make a graph\n",
    "\n",
    "    Parameters\n",
    "    ----------\n",
    "    ax : Axes\n",
    "        The axes to draw to\n",
    "\n",
    "    data1 : array\n",
    "       The x data\n",
    "\n",
    "    data2 : array\n",
    "       The y data\n",
    "\n",
    "    param_dict : dict\n",
    "       Dictionary of keyword arguments to pass to ax.plot\n",
    "\n",
    "    Returns\n",
    "    -------\n",
    "    out : list\n",
    "        list of artists added\n",
    "    \"\"\"\n",
    "    out=ax.hist(ene, bins=200, histtype=u'step', weights=weight, density=True, label=label_value)\n",
    "    ax.set_xlabel(xlabel)\n",
    "    ax.set_ylabel(ylabel)\n",
    "    ax.set_yscale(yscale)\n",
    "    ax.set_title(f\"Energy PDF for SS events  for {iso}\")\n",
    "    ax.legend()\n",
    "    \n",
    "    return out"
   ]
  },
  {
   "cell_type": "code",
   "execution_count": null,
   "id": "09d00b1e-a662-4734-aaf9-529d468224c1",
   "metadata": {},
   "outputs": [],
   "source": [
    "#input the root file and ouput the filtered dataframe\n",
    "#apply_filter='passed_z_thresh & passed_xy_thresh & (n_x_ch_abovenoise>0) & (n_y_ch_abovenoise>0) & (m_nOPCal< (1.064*m_nQ+703)) & (m_nOPCal> (0.644*m_nQ-2411)) & (~NESTBugFound) & (m_DNNvalue>0.85) & (standoff > 100)'\n",
    "\n",
    "def get_filtered(file,apply_filter,use_filter=False):\n",
    "    '''\n",
    "    returns the pandas dataframe for the given root file using the uproot library. If use_filter=True, indicated filter will be used.\n",
    "    '''\n",
    "    f=uproot.open(file+':tree')\n",
    "    df=f.arrays(f.keys(),library='pd')\n",
    "    if use_filter:return df.query(apply_filter).reset_index(drop=True)\n",
    "    return df#.query('energy<3000').reset_index(drop=True)\n",
    "    \n",
    "    \n"
   ]
  },
  {
   "cell_type": "code",
   "execution_count": null,
   "id": "82aa8d04-eb5f-49e1-ae20-af0b427e43a5",
   "metadata": {},
   "outputs": [],
   "source": [
    "# returns the plot for the isotopes in the given dataframe \n",
    "def plot_isotopes(df,df_label=\"PX\",scale_kind=\"log\"):\n",
    "    '''function to plot the isotopes based on the isotope number'''\n",
    "    #isotopes=df.isotope.unique()\n",
    "    ra224_df=df.query('isotope==1')\n",
    "    pb212_df=df.query('isotope==2')\n",
    "    bi212_df=df.query('isotope==3')\n",
    "    tl208_df=df.query('isotope==4')\n",
    "    \n",
    "    ra224_energy,ra224_weight=ra224_df.energy,ra224_df.weight\n",
    "    pb212_energy,pb212_weight=pb212_df.energy,pb212_df.weight\n",
    "    bi212_energy,bi212_weight=bi212_df.energy,bi212_df.weight\n",
    "    tl208_energy,tl208_weight=tl208_df.energy,tl208_df.weight\n",
    "    \n",
    "    fig, ax = plt.subplots(1, 1,figsize=(6,4))\n",
    "    my_plotter(ax,ra224_energy,ra224_weight,df_label+\" Ra224\",scale_kind)\n",
    "    my_plotter(ax,pb212_energy,pb212_weight,df_label+\" Pb212\",scale_kind)\n",
    "    my_plotter(ax,bi212_energy,bi212_weight,df_label+\" Bi212\",scale_kind)\n",
    "    my_plotter(ax,tl208_energy,tl208_weight,df_label+\" Tl208\",scale_kind)\n",
    "    plt.show()\n",
    "    "
   ]
  },
  {
   "cell_type": "code",
   "execution_count": null,
   "id": "a5f647ce-f1ee-4640-9cb0-46bd853b03ba",
   "metadata": {},
   "outputs": [],
   "source": [
    "def display_fractions(df,cut,total_simulations,greek_name,use_filter=True):\n",
    "    '''\n",
    "    displays the fraction in the cut dataframe w.r.t. total simulations\n",
    "    '''\n",
    "    df_temp=get_filtered(df,cut,use_filter=use_filter)\n",
    "    df_count=df_temp.shape[0]\n",
    "    greek=df_count/total_simulations\n",
    "    print(30*'--')\n",
    "    print(f\"\"\"\n",
    "    Shape of  dataframe                    : {df_temp.shape}\n",
    "    Number of rows (i.e. events count)     : {df_count}\n",
    "    {greek_name}                           : {greek}\n",
    "    {greek_name} %                         : {greek:.2%}\n",
    "\n",
    "    \"\"\")\n",
    "    print(30*'--')\n",
    "    return greek"
   ]
  },
  {
   "cell_type": "code",
   "execution_count": null,
   "id": "56851340-91ad-4c9d-974b-0c39cf14ceb0",
   "metadata": {},
   "outputs": [],
   "source": [
    "def print_isotopes(df,name):\n",
    "    '''\n",
    "    reuturns the isotopes information for given df\n",
    "    '''\n",
    "    list_iso=df.isotope.unique()\n",
    "    non_iso=df.isotope.value_counts().to_list()[::-1]\n",
    "    isotopes=['Th228','Ra224','Rn220','Po216','Pb212','Bi212','Tl208']\n",
    "    #isotope coutns before the cut\n",
    "    counts_df=pd.DataFrame(df.isotope.value_counts().reset_index().values,columns=['isonum','counts'])\\\n",
    "    .sort_values(by=['isonum'])\\\n",
    "    .reset_index(drop=True)\n",
    "\n",
    "    counts_df[\"isotopes\"]=counts_df.isonum.apply(lambda x:isotopes[x-1])\n",
    "    counts_df=counts_df[['isonum','isotopes','counts']]\n",
    "    # #raw_counts.index=raw_counts.isotopes\n",
    "    #print(raw_counts.to_string())\n",
    "    #print(f\"isotopes counts for {name}:\\n\\n{counts_df.to_string()}\\n\")\n",
    "    return counts_df\n"
   ]
  },
  {
   "cell_type": "code",
   "execution_count": null,
   "id": "d7e384d3-154b-48a7-9bb9-36ed0a88f1a1",
   "metadata": {},
   "outputs": [],
   "source": [
    "# bar graph plot\n",
    "def get_bar_plot(df,title=\"test\",save_name=\"test\"):\n",
    "    #df_deposited=df[['isotopes','counts']]\n",
    "    # title_split=title.split()\n",
    "    # save_name=title_split[6]+\"_\"+title_split[1]+\"_\"+title_split[2]+\"_\"+title_split[3]\n",
    "    df_rows=df.shape[0] #for length\n",
    "    print(f\"save_name: {prefix}{save_name}\")\n",
    "    skipEThreshold=0.1\n",
    "    plt.figure(figsize=(10,6))\n",
    "    ax=df.plot.bar(x='isotopes',y='counts')\n",
    "    # ,width=min(1-1/(df_rows+1), 0.8))\n",
    "    # ax.set_xlim(-0.5, df_rows-0.5)\n",
    "    for c in ax.containers:\n",
    "        # set the bar label\n",
    "        ax.bar_label(c, fmt='%.0f', label_type='edge',rotation=30,fontsize=15,fontweight='bold')\n",
    "        \n",
    "    plt.xlabel('ISOTOPES',fontsize=15,fontweight='bold')\n",
    "    #turns the title on/off\n",
    "    if (keep_title):plt.gcf().suptitle(title,fontsize=20,fontweight='bold')\n",
    "    #plt.title(f'Isotope counts in g4tree for 1M Th228 at all positions for skipEThreshold: {skipEThreshold} keV')\n",
    "    \n",
    "    plt.tick_params(bottom=True, top=True, left=True, right=True,direction='in')\n",
    "    plt.ylabel('COUNTS',fontsize=15,fontweight='bold')\n",
    "    plt.xticks(fontsize=15, fontweight='bold')\n",
    "    plt.yticks(fontsize=15, fontweight='bold')\n",
    "    plt.yscale('log')\n",
    "    plt.grid()\n",
    "    plt.tight_layout()\n",
    "    plt.savefig(f'{prefix}{save_name}.pdf',dpi=600,bbox_inches='tight')\n",
    "    \n",
    "    plt.show()"
   ]
  },
  {
   "cell_type": "code",
   "execution_count": null,
   "id": "3822a442-1ba5-4fb2-a1b8-f685c27b588a",
   "metadata": {},
   "outputs": [],
   "source": [
    "#produces the energy spectrum\n",
    "def get_energy_spectrum(df,loc,bins=1000,weights=\"weights\",iso=\"test\"):\n",
    "    '''returns the energy spectrum including the weights of isotopes'''\n",
    "    \n",
    "    sns.set(rc={'figure.figsize':(20,10)})\n",
    "    locc=\"\".join(loc.split()[0:3]).replace(\" \",\"_\")\n",
    "    save_name=f\"{prefix}{locc}{iso}.pdf\"\n",
    "    print(f\"save_name: {save_name}\")\n",
    "    #adding the isotop name column in the df dataframe\n",
    "    df=df[df.energy<3000]\n",
    "    df['iso_name']=df['isotope'].map({1:'Th228',2:'Ra224',3:'Rn220',4:'Po216',5:'Pb212',6:'Bi212',7:'Tl208'})\n",
    "    \n",
    "    \n",
    "    #sns.histplot(data=df_s, x=\"energy\",hue=\"isotope\",bins=200,element=\"step\",log_scale=True,fill=False)\n",
    "    g=sns.histplot(data=df, x=\"energy\",hue=\"iso_name\",weights=\"weight\",bins=bins,element=\"step\",fill=False,linewidth=2.5)#,palette=['r','b','g','y','k'])\n",
    "    #plt.legend(labels=iso_names)\n",
    "    sns.set(font_scale=1.5)\n",
    "    g.set_xlabel('Energy [keV]',fontsize=20,fontweight='bold')\n",
    "    g.set_ylabel('Counts',fontsize=20,fontweight='bold')\n",
    "    # g.set_xlabel('Energy [keV]')\n",
    "    # g.set_ylabel('Counts')\n",
    "    plt.yscale(\"log\")\n",
    "    plt.setp(g.get_legend().get_texts(), fontsize='22') # for legend text\n",
    "    plt.setp(g.get_legend().get_title(), fontsize='22') # for legend title\n",
    "    # plt.xticks(fontsize=15, fontweight='bold')\n",
    "    # plt.yticks(fontsize=15, fontweight='bold')\n",
    "    plt.xticks(fontsize=15, fontweight='bold')\n",
    "    plt.yticks(fontsize=15, fontweight='bold')\n",
    "    plt.tick_params(bottom=True, top=True, left=True, right=True,direction='in')\n",
    "    plt.grid()\n",
    "    if (keep_title):plt.title(f'Energy specturm pdf for {iso} at {loc}')\n",
    "    plt.savefig(save_name,dpi=600)\n",
    "    plt.show()"
   ]
  },
  {
   "cell_type": "code",
   "execution_count": null,
   "id": "fc0d5882-59e1-40d4-9039-8b3a4d4e3033",
   "metadata": {},
   "outputs": [],
   "source": [
    "loc=\"test\"\n",
    "loc.replace(\" \",\"_\")"
   ]
  },
  {
   "cell_type": "markdown",
   "id": "e87e8911-355b-46fb-94f2-c9cae2985c69",
   "metadata": {},
   "source": [
    "# ROOT DATA FILES"
   ]
  },
  {
   "cell_type": "code",
   "execution_count": null,
   "id": "362f7a5a-ce66-4a8a-91d8-bbccd2c54656",
   "metadata": {},
   "outputs": [],
   "source": [
    "\n",
    "th228_all='/home/thakur/slac_data/s17/s17_Th228_all.root'\n",
    "isotope='Th228'\n",
    "\n",
    "#dirprefix\n",
    "prefix='s17'"
   ]
  },
  {
   "cell_type": "code",
   "execution_count": null,
   "id": "a28d0170-7f0c-441a-a103-0295e31f73ba",
   "metadata": {},
   "outputs": [],
   "source": [
    "print(f\"\"\"\n",
    "root file: {th228_all}\n",
    "isotope  : {isotope}\n",
    "prefix   : {prefix}\n",
    "\"\"\")"
   ]
  },
  {
   "cell_type": "markdown",
   "id": "3f9b769a-8dc8-43fa-ac0b-16ee9ec598b3",
   "metadata": {},
   "source": [
    "# SIMULATION"
   ]
  },
  {
   "cell_type": "code",
   "execution_count": null,
   "id": "4929dd3a-e7a8-4f68-b02b-572d063be2a0",
   "metadata": {},
   "outputs": [],
   "source": [
    "\n",
    "#this is beta filter\n",
    "#inner 1 tonne, ms, ss\n",
    "\n",
    "beta_filter='''\n",
    "(standoff>201.086) &\\\n",
    "passed_xy_thresh &\\\n",
    "passed_z_thresh &\\\n",
    "(n_x_ch_abovenoise > 0) &\\\n",
    "(n_y_ch_abovenoise > 0) &\\\n",
    "(m_nOPCal < (1.077 * m_nQ + 313)) &\\\n",
    "(m_nOPCal > (0.597 * m_nQ - 216)) &\\\n",
    "~NESTBugFound &\\\n",
    "~NearAnodeBugFound\n",
    "'''\n",
    "\n",
    "\n",
    "#this is gamma filter inner 1 tonne, ss, peak events (2610 to 2620)\n",
    "gamma_filter='''\n",
    "(standoff>201.086) &\\\n",
    "m_DNNvalue>0.85&\\\n",
    "(abs(energy-2615)<5)&\\\n",
    "passed_xy_thresh &\\\n",
    "passed_z_thresh &\\\n",
    "(n_x_ch_abovenoise > 0) &\\\n",
    "(n_y_ch_abovenoise > 0) &\\\n",
    "(m_nOPCal < (1.077 * m_nQ + 313)) &\\\n",
    "(m_nOPCal > (0.597 * m_nQ - 216)) &\\\n",
    "~NESTBugFound &\\\n",
    "~NearAnodeBugFound\n",
    "'''\n",
    "\n",
    "#this is gamma filter1 inner 1 tonne, ss, peak events close to 583 (578 to 588)\n",
    "#583.187 2 \t     85.0 % 3 \n",
    "gamma_filter1='''\n",
    "(standoff>201.086) &\\\n",
    "m_DNNvalue>0.85&\\\n",
    "(abs(energy-583)<5)&\\\n",
    "passed_xy_thresh &\\\n",
    "passed_z_thresh &\\\n",
    "(n_x_ch_abovenoise > 0) &\\\n",
    "(n_y_ch_abovenoise > 0) &\\\n",
    "(m_nOPCal < (1.077 * m_nQ + 313)) &\\\n",
    "(m_nOPCal > (0.597 * m_nQ - 216)) &\\\n",
    "~NESTBugFound &\\\n",
    "~NearAnodeBugFound\n",
    "'''\n",
    "\n",
    "dec102020_filter='''\n",
    "(standoff>100) &\\\n",
    "passed_xy_thresh &\\\n",
    "passed_z_thresh &\\\n",
    "(n_x_ch_abovenoise > 0) &\\\n",
    "(n_y_ch_abovenoise > 0) &\\ \n",
    "(m_nOPCal < (1.077 * m_nQ + 313)) &\\\n",
    "(m_nOPCal > (0.597 * m_nQ - 216)) &\\\n",
    "~NESTBugFound &\\\n",
    "~NearAnodeBugFound &\\\n",
    "m_DNNvalue>0.85'''\n",
    "\n",
    "\n",
    "\n",
    "\n",
    "jason_filter='''\n",
    "(standoff>100) &\\\n",
    "m_DNNvalue>0.85 &\\\n",
    "passed_xy_thresh &\\\n",
    "passed_z_thresh &\\\n",
    "(n_x_ch_abovenoise > 0) &\\\n",
    "(n_y_ch_abovenoise > 0) &\\\n",
    "(m_nOPCal < (1.077 * m_nQ + 313)) &\\\n",
    "(m_nOPCal > (0.597 * m_nQ - 216))&\\\n",
    "(abs(energy-2614)<10)\n",
    "'''\n",
    "#~NESTBugFound &\\\n",
    "#~NearAnodeBugFound &\\\n",
    "# & ~NESTBugFound & ~NearAnodeBugFound' & (abs(energy-2614)<10)'''\n"
   ]
  },
  {
   "cell_type": "code",
   "execution_count": null,
   "id": "fc3a5ad2-d445-42b7-b29b-91fcafdc4ff0",
   "metadata": {},
   "outputs": [],
   "source": [
    "# beta filter\n",
    "print(20*'==')\n",
    "print(\"beta filter:\\n\", beta_filter.replace('&','\\n'))\n",
    "print(20*'==')\n",
    "print(\"gamma filter:\\n\", gamma_filter.replace('&','\\n'))\n",
    "print(20*'==')\n",
    "print(\"gamma filter1:\\n\", gamma_filter1.replace('&','\\n'))\n",
    "print(20*'==')\n",
    "# print(\"jason filter:\\n\", jason_filter.replace('&','\\n'))\n",
    "# print(20*'==')"
   ]
  },
  {
   "cell_type": "markdown",
   "id": "453a98ec-186d-43a0-8ef8-565e9023c09b",
   "metadata": {},
   "source": [
    "# Total Simulations"
   ]
  },
  {
   "cell_type": "code",
   "execution_count": null,
   "id": "500688e5-9668-4892-94b0-998aa5e7788f",
   "metadata": {},
   "outputs": [],
   "source": [
    "# Total simulations\n",
    "total_simulations= 25e6\n",
    "file_name=th228_all\n",
    "\n",
    "print(f\"Total Simulations: {total_simulations:0.1e}\")\n"
   ]
  },
  {
   "cell_type": "markdown",
   "id": "ed7838d2-3639-40ab-9123-ec4b384ba59f",
   "metadata": {},
   "source": [
    "# $\\alpha$ (Any deposits in LXe)"
   ]
  },
  {
   "cell_type": "code",
   "execution_count": null,
   "id": "7a48169d-f29a-43ec-873b-8742362c6a8c",
   "metadata": {},
   "outputs": [],
   "source": [
    "df_alpha=get_filtered(file_name,None,use_filter=False)\n",
    "g4tree_count=df_alpha.shape[0]\n",
    "raw_alpha=g4tree_count/total_simulations\n",
    "\n",
    "print(f\"\"\"\n",
    "Shape of  dataframe                        : {df_alpha.shape}\n",
    "Number of rows (total events in g4tree)    : {g4tree_count:e}\n",
    "raw_alpha                                  : {raw_alpha}\n",
    "raw_alpha %                                : {raw_alpha:.3%}\n",
    "\n",
    "\"\"\")"
   ]
  },
  {
   "cell_type": "code",
   "execution_count": null,
   "id": "f91c931c-e2c1-42c9-8d63-f8cc1fc3b6f9",
   "metadata": {},
   "outputs": [],
   "source": [
    "df_alpha.head()"
   ]
  },
  {
   "cell_type": "code",
   "execution_count": null,
   "id": "dd83110e-4f3a-45c4-90f4-85132092942c",
   "metadata": {},
   "outputs": [],
   "source": [
    "#columns\n",
    "df_alpha.columns"
   ]
  },
  {
   "cell_type": "code",
   "execution_count": null,
   "id": "187872c9-449e-4775-b8e6-198f784d5679",
   "metadata": {},
   "outputs": [],
   "source": [
    "#n_y_ch_abovenoise\n",
    "df_alpha['n_x_ch_abovenoise'].value_counts().to_frame() #plot(kind='bar')"
   ]
  },
  {
   "cell_type": "code",
   "execution_count": null,
   "id": "189217b2",
   "metadata": {},
   "outputs": [],
   "source": [
    "#n_y_ch_abovenoise\n",
    "df_alpha['n_y_ch_abovenoise'].value_counts().to_frame() #plot(kind='bar')"
   ]
  },
  {
   "cell_type": "code",
   "execution_count": null,
   "id": "53d33361-2799-48ae-8890-deb4d03d1f21",
   "metadata": {},
   "outputs": [],
   "source": [
    "#plt.plot(df_alpha['n_x_ch_abovenoise'],df_alpha['n_y_ch_abovenoise'])"
   ]
  },
  {
   "cell_type": "code",
   "execution_count": null,
   "id": "dd6bea38-6d4f-41f1-8d8a-62d3633df356",
   "metadata": {},
   "outputs": [],
   "source": [
    "df_alpha_dnn=df_alpha.copy()#query('m_DNNvalue>0.80')\n",
    "df_alpha_dnn.head()"
   ]
  },
  {
   "cell_type": "code",
   "execution_count": null,
   "id": "1ce22f37-9eca-4b86-ae9c-54fc1cbdba2e",
   "metadata": {},
   "outputs": [],
   "source": [
    "#see the infinity\n",
    "df_alpha_dnn[df_alpha_dnn['lower_z']==np.inf]"
   ]
  },
  {
   "cell_type": "code",
   "execution_count": null,
   "id": "dcf829c0-0983-48dd-b2db-52235dfadd9d",
   "metadata": {},
   "outputs": [],
   "source": [
    "#difference of lower and upper z\n",
    "z_diff=df_alpha_dnn['lower_z']-df_alpha_dnn['upper_z']\n",
    "z_diff"
   ]
  },
  {
   "cell_type": "code",
   "execution_count": null,
   "id": "7a9d70b2-d4a5-4739-89e6-c758e0afa342",
   "metadata": {},
   "outputs": [],
   "source": [
    "#include z_diff in df_alpha\n",
    "df_alpha_dnn['z_diff']=z_diff"
   ]
  },
  {
   "cell_type": "code",
   "execution_count": null,
   "id": "daffd6e7-0e78-4589-92d5-6702f2084fea",
   "metadata": {},
   "outputs": [],
   "source": [
    "df_alpha_dnn"
   ]
  },
  {
   "cell_type": "code",
   "execution_count": null,
   "id": "84a8e74d-53e1-49b9-95d8-0cdd9f0d582f",
   "metadata": {},
   "outputs": [],
   "source": [
    "#plot z_diff vs DNN\n",
    "dnn=df_alpha_dnn['m_DNNvalue']\n",
    "dnn"
   ]
  },
  {
   "cell_type": "code",
   "execution_count": null,
   "id": "1d6994c2-2f6f-442b-b08e-80c37e735910",
   "metadata": {},
   "outputs": [],
   "source": [
    "#plot dnn vs z_diff\n",
    "ylabel_name=fr'z_diff= [lower_z-upper_z]'\n",
    "total=4918023\n",
    "#ax=plt.plot(dnn.head(total),z_diff.head(total),'bo')\n",
    "ax=plt.plot(dnn,z_diff,'bo')\n",
    "plt.xlabel('DNN');plt.ylabel(ylabel_name)\n",
    "#plt.tick_params(axis='both',which='both')\n",
    "plt.tick_params(bottom=True, top=True, left=True, right=True,direction='in')\n",
    "plt.grid()\n",
    "plt.show()"
   ]
  },
  {
   "cell_type": "code",
   "execution_count": null,
   "id": "35b95dd8-424c-4146-8391-7bde043bf100",
   "metadata": {},
   "outputs": [],
   "source": [
    "# only considering the peak energies\n",
    "df_peak_energy=df_alpha_dnn.query('2610 < energy < 2620')\n",
    "df_peak_energy"
   ]
  },
  {
   "cell_type": "code",
   "execution_count": null,
   "id": "b29d098d-8e07-4d14-81cb-bdeb4492eadd",
   "metadata": {},
   "outputs": [],
   "source": [
    "df_peak_energy.shape[0]"
   ]
  },
  {
   "cell_type": "code",
   "execution_count": null,
   "id": "982c2575-4cae-4306-b046-5ac1b2c386a7",
   "metadata": {},
   "outputs": [],
   "source": [
    "#plot dnn vs z_diff\n",
    "ylabel_name=fr'z_diff= [lower_z-upper_z]'\n",
    "ax=plt.plot(df_peak_energy.m_DNNvalue,df_peak_energy.z_diff,'ro')\n",
    "plt.xlabel('DNN');plt.ylabel(ylabel_name)\n",
    "plt.tick_params(bottom=True, top=True, left=True, right=True,direction='in')\n",
    "plt.grid()\n",
    "plt.show()"
   ]
  },
  {
   "cell_type": "code",
   "execution_count": null,
   "id": "2d48dc06-62dd-4d14-92bc-ad3013916bfa",
   "metadata": {},
   "outputs": [],
   "source": [
    "import matplotlib.pyplot as plt\n",
    "import seaborn as sns\n",
    "sns.set(rc={'figure.figsize':(30,20)})\n",
    "\n",
    "# Sample data\n",
    "import numpy as np\n",
    "np.random.seed(42)\n",
    "x = np.random.randn(100)\n",
    "y = 2 * x + np.random.randn(100)\n",
    "\n",
    "x=df_peak_energy.m_DNNvalue\n",
    "y=df_peak_energy.z_diff\n",
    "\n",
    "# Create scatter plot with density representation\n",
    "sns.set(style=\"white\")\n",
    "sns.scatterplot(x=x, y=y, s=10, color=\"blue\", alpha=0.6)\n",
    "sns.kdeplot(x=x, y=y, cmap=\"Blues\", levels=5, fill=True)\n",
    "\n",
    "# Add labels and title\n",
    "plt.xlabel(\"X-axis\")\n",
    "plt.ylabel(\"Y-axis\")\n",
    "plt.title(\"Scatter Plot with Density Representation\")\n",
    "\n",
    "# Show the plot\n",
    "plt.show()\n",
    "\n"
   ]
  },
  {
   "cell_type": "code",
   "execution_count": null,
   "id": "0a9fe0fa-d417-486b-9084-da1c11da0a04",
   "metadata": {},
   "outputs": [],
   "source": [
    "#\n",
    "sns.set(rc={'figure.figsize':(30,20)})\n",
    "sns.displot(df_peak_energy,x='m_DNNvalue',y='z_diff')\n"
   ]
  },
  {
   "cell_type": "code",
   "execution_count": null,
   "id": "7a0ea7c2-2bf9-4d78-868a-0a942261aa2f",
   "metadata": {},
   "outputs": [],
   "source": [
    "#\n",
    "sns.displot(df_peak_energy,x='m_DNNvalue',y='z_diff',binwidth=(.5,.5),cbar=True)\n"
   ]
  },
  {
   "cell_type": "code",
   "execution_count": null,
   "id": "861b9ab8-7e5d-441a-9655-2f6019a40710",
   "metadata": {},
   "outputs": [],
   "source": [
    "#\n",
    "plt.figure(figsize=(30,20))\n",
    "ax=sns.jointplot(df_peak_energy,x='m_DNNvalue',y='z_diff')\n",
    "plt.savefig('compare.pdf')"
   ]
  },
  {
   "cell_type": "code",
   "execution_count": null,
   "id": "e033c1b5-70cd-4d90-a1c1-2964a546cc0f",
   "metadata": {},
   "outputs": [],
   "source": [
    "#\n",
    "sns.displot(df_peak_energy,x='m_DNNvalue',y='z_diff',kind='kde')\n"
   ]
  },
  {
   "cell_type": "code",
   "execution_count": null,
   "id": "df805fb1-e9c6-429a-8381-3d692fa4f5a7",
   "metadata": {},
   "outputs": [],
   "source": [
    "#n_x_ch_abovenoise & n_y_ch_abovenoise\n",
    "a=2\n",
    "above_noise=df_alpha_dnn.query('(n_x_ch_abovenoise<@a) & (n_y_ch_abovenoise<@a)')\n",
    "selected_columns=['m_DNNvalue','n_x_ch_abovenoise','n_y_ch_abovenoise']\n",
    "above_noise_temp=above_noise.loc[:,selected_columns]\n",
    "above_noise_temp.set_index('m_DNNvalue',inplace=True)\n",
    "#above_noise_temp.set_index('m_DNNvalue').plot()"
   ]
  },
  {
   "cell_type": "code",
   "execution_count": null,
   "id": "08563ab8-1362-4b28-a225-946ad36d2720",
   "metadata": {},
   "outputs": [],
   "source": [
    "# i=0;step=-200\n",
    "# temp_df=df_alpha_dnn[(z_diff<i) & (z_diff>i+step)]\n",
    "temp_df=df_alpha_dnn.copy()\n",
    "data=temp_df[['m_DNNvalue','z_diff']].to_numpy()#.round(2).set_index('z_diff')\n",
    "data\n",
    "# print(f'shape: {temp_df.shape}')\n",
    "# dnn=temp_df['m_DNNvalue']\n",
    "# z_dif=temp_df['z_diff']\n",
    "# data=[dnn,z_dif]\n",
    "ax=sns.heatmap(data)"
   ]
  },
  {
   "cell_type": "code",
   "execution_count": null,
   "id": "a23faa76-0459-4a15-a25f-f269d810f7c1",
   "metadata": {},
   "outputs": [],
   "source": [
    "#plot dnn vs z_diff\n",
    "#different parts\n",
    "# ylabel_name=fr'z_diff= [lower_z-upper_z]'\n",
    "# for i in range(0,-800,-200):\n",
    "#     ax=plt.plot(dnn,z_diff,'bo')\n",
    "#     plt.xlabel('DNN');plt.ylabel(ylabel_name)\n",
    "# #plt.tick_params(axis='both',which='both')\n",
    "#     plt.tick_params(bottom=True, top=True, left=True, right=True,direction='in')\n",
    "#     plt.grid()\n",
    "#     plt.show()"
   ]
  },
  {
   "cell_type": "code",
   "execution_count": null,
   "id": "002ae326-8bcc-4983-849e-983ba5fa26ff",
   "metadata": {},
   "outputs": [],
   "source": [
    "step=-200\n",
    "for i in range(0,-800,step):\n",
    "    temp_df=df_alpha_dnn[(z_diff<i) & (z_diff>i+step)]\n",
    "    print(f'shape: {temp_df.shape}')\n",
    "    dnn=temp_df['m_DNNvalue']\n",
    "    z_dif=temp_df['z_diff']\n",
    "    #print(z_dif,dnn)\n",
    "    ax=plt.plot(dnn,z_dif,'bo')\n",
    "    plt.xlabel('DNN');plt.ylabel(ylabel_name)\n",
    "#plt.tick_params(axis='both',which='both')\n",
    "    plt.tick_params(bottom=True, top=True, left=True, right=True,direction='in')\n",
    "    plt.grid()\n",
    "    plt.show()"
   ]
  },
  {
   "cell_type": "code",
   "execution_count": null,
   "id": "21a0f816-3489-44e7-a99f-43652c4509f9",
   "metadata": {},
   "outputs": [],
   "source": [
    "z_diff[(z_diff<0) & (z_diff>-200)]\n"
   ]
  },
  {
   "cell_type": "markdown",
   "id": "5853e9f6-a875-44ac-baf3-e83efe127759",
   "metadata": {},
   "source": [
    "# Deposits outside field cage"
   ]
  },
  {
   "cell_type": "code",
   "execution_count": null,
   "id": "35a11f9e-6f04-432a-9d6f-27a3eee52a1d",
   "metadata": {},
   "outputs": [],
   "source": [
    "df_out=df_alpha[df_alpha.standoff<0]\n",
    "df_out"
   ]
  },
  {
   "cell_type": "code",
   "execution_count": null,
   "id": "8aa7669f-ed22-450b-ae3c-4a5770df4d69",
   "metadata": {},
   "outputs": [],
   "source": [
    "print(f\"Total counts outside field cage: {df_out[df_out.standoff<0].shape[0]}\")"
   ]
  },
  {
   "cell_type": "markdown",
   "id": "f5b823bb-0e2f-4139-a633-1a8c2d93c7e1",
   "metadata": {},
   "source": [
    "# Deposits inside field cage"
   ]
  },
  {
   "cell_type": "code",
   "execution_count": null,
   "id": "62bbb274-b323-4ae8-af65-8895566b37f5",
   "metadata": {},
   "outputs": [],
   "source": [
    "df_in=df_alpha[df_alpha.standoff>0]\n",
    "df_in"
   ]
  },
  {
   "cell_type": "markdown",
   "id": "54bdd1a1-85d8-4b95-b842-fb1e4525b61b",
   "metadata": {},
   "source": [
    "# $\\beta$ (inner 1 TONNE, SS & MS)"
   ]
  },
  {
   "cell_type": "code",
   "execution_count": null,
   "id": "841972e9-5815-4dcb-844a-f64ba89b1014",
   "metadata": {},
   "outputs": [],
   "source": [
    "df_beta=get_filtered(file_name,beta_filter,use_filter=True)\n",
    "raw_beta_count=df_beta.shape[0]\n",
    "raw_beta=raw_beta_count/total_simulations\n",
    "\n",
    "print(f\"\"\"\n",
    "Shape of  dataframe                        : {df_beta.shape}\n",
    "Number of rows                             : {raw_beta_count:e}\n",
    "raw_beta                                   : {raw_beta_count}\n",
    "raw_beta                                   : {raw_beta:.3}\n",
    "raw_beta  %                                : {raw_beta:.3%}\n",
    "\n",
    "\"\"\")"
   ]
  },
  {
   "cell_type": "code",
   "execution_count": null,
   "id": "1e2b5e45-e050-481b-943b-6d2161618dec",
   "metadata": {},
   "outputs": [],
   "source": [
    "beta_df=print_isotopes(df_beta,\"df_beta\")\n",
    "beta_df"
   ]
  },
  {
   "cell_type": "markdown",
   "id": "8e9dcf73-a003-493f-b47a-9f6d6a29d554",
   "metadata": {},
   "source": [
    "# $\\gamma$ (INNER 1 TONNE, SS, PEAK ENERGY [2615 keV])"
   ]
  },
  {
   "cell_type": "code",
   "execution_count": null,
   "id": "41d50738-27d1-4653-8bea-beb20230ff65",
   "metadata": {},
   "outputs": [],
   "source": [
    "df_gamma=get_filtered(file_name,gamma_filter,use_filter=True)\n",
    "raw_gamma_count=df_gamma.shape[0]\n",
    "raw_gamma=raw_gamma_count/total_simulations\n",
    "\n",
    "print(f\"\"\"\n",
    "Shape of  dataframe                        : {df_gamma.shape}\n",
    "Number of rows                             : {raw_gamma_count:e}\n",
    "raw_gamma count                            : {raw_gamma_count}\n",
    "raw_gamma ratio                            : {raw_gamma}\n",
    "raw_gamma %                                : {raw_gamma:.5%}\n",
    "\n",
    "\"\"\")"
   ]
  },
  {
   "cell_type": "code",
   "execution_count": null,
   "id": "991ac14e-9d5a-486a-8219-f8997c2b1165",
   "metadata": {},
   "outputs": [],
   "source": [
    "gamma_df=print_isotopes(df_gamma,\"df_gammaa\")\n",
    "gamma_df"
   ]
  }
 ],
 "metadata": {
  "kernelspec": {
   "display_name": "Python 3 (ipykernel)",
   "language": "python",
   "name": "python3"
  },
  "language_info": {
   "codemirror_mode": {
    "name": "ipython",
    "version": 3
   },
   "file_extension": ".py",
   "mimetype": "text/x-python",
   "name": "python",
   "nbconvert_exporter": "python",
   "pygments_lexer": "ipython3",
   "version": "3.10.12"
  }
 },
 "nbformat": 4,
 "nbformat_minor": 5
}
