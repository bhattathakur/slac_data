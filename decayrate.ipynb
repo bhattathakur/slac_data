{
 "cells": [
  {
   "cell_type": "code",
   "execution_count": null,
   "id": "2b2cc67c-2e60-4b60-a4b9-b31feb1797fa",
   "metadata": {},
   "outputs": [],
   "source": [
    "#This program find the decay rate after n days for given activity and also calculates the time required to get number of events for the new rate"
   ]
  },
  {
   "cell_type": "markdown",
   "id": "95e53aff-1ae3-4c50-9157-7c5b22f52550",
   "metadata": {},
   "source": [
    "# Rate Equation\n",
    "# $ R(t)=R_{0}e^{-\\lambda t} $\n",
    "# $ t_{1/2}=\\frac{ln(2)}{\\lambda} $\n",
    "# $ R(t)=R_{0}e^{-\\frac{ln(2)\\cdot t}{t_{1/2}}} $\n",
    "- $ R_{0} $ (initial rate)\n",
    "- $ R(t)$ (rate after t seconds)\n",
    "- $ T_{1/2} $ (half life)"
   ]
  },
  {
   "cell_type": "code",
   "execution_count": null,
   "id": "51288554-a3ad-48ba-94c8-d89df796aae7",
   "metadata": {},
   "outputs": [],
   "source": [
    "import numpy as np\n",
    "import matplotlib.pyplot as plt"
   ]
  },
  {
   "cell_type": "code",
   "execution_count": null,
   "id": "d63f9e89-c89b-4bfd-a300-475932497642",
   "metadata": {},
   "outputs": [],
   "source": [
    "def get_rate_after(initial_activity,half_life,t):\n",
    "    '''\n",
    "    returns the rate after time t  for given initial activity and half life: half_life\n",
    "    Note: t and half_need to be have the same unit\n",
    "    \n",
    "    '''\n",
    "    exp_part=np.exp(- np.log(2)*t/half_life)\n",
    "    return initial_activity*exp_part\n",
    "    "
   ]
  },
  {
   "cell_type": "code",
   "execution_count": null,
   "id": "e390729d-5861-4173-b194-7fe1d9e50473",
   "metadata": {},
   "outputs": [],
   "source": [
    "th228_half_life= 1.9116*365            #1.9116 year into days\n",
    "t=1*24*60*60                          #1 day into seconds\n",
    "\n",
    "th228_initial_activity=2137.32 #optimal activity from simulation\n",
    "\n",
    "print(f\"\"\"\n",
    "Th228 half life       : {th228_half_life} s\n",
    "Th228 optimal activity: {th228_initial_activity} Bq\n",
    "time                  : {t} s\n",
    "\"\"\")\n",
    "\n"
   ]
  },
  {
   "cell_type": "code",
   "execution_count": null,
   "id": "db8fdbad-bbab-401a-9ec0-e3d7343f5d32",
   "metadata": {},
   "outputs": [],
   "source": [
    "get_rate_after(th228_initial_activity,th228_half_life,1)"
   ]
  },
  {
   "cell_type": "code",
   "execution_count": null,
   "id": "cdbdd0dd-8c55-4678-81ed-db4b9775bd36",
   "metadata": {},
   "outputs": [],
   "source": [
    "get_rate_after(th228_initial_activity,th228_half_life,th228_half_life/2)"
   ]
  },
  {
   "cell_type": "code",
   "execution_count": null,
   "id": "a7887ebf-471e-4107-b5c4-e2d74de0ef89",
   "metadata": {},
   "outputs": [],
   "source": [
    "#lists\n",
    "days=[];rate=[];time=[]\n",
    "for i in range(1,365*5):\n",
    "    rate_realistic=get_rate_after(th228_initial_activity,th228_half_life,i)\n",
    "    N_events=1000\n",
    "    to_hrs=60*60\n",
    "    t_realistic=N_events/(rate_realistic*to_hrs)\n",
    "    days.append(i);rate.append(rate_realistic);time.append(t_realistic)\n",
    "    if i%100==0:\n",
    "        print(f\"\"\"\n",
    "        day : {i} day(s)\n",
    "        rate: {rate_realistic} Hz\n",
    "        time: {t_realistic} hr\n",
    "        \"\"\")"
   ]
  },
  {
   "cell_type": "code",
   "execution_count": null,
   "id": "c28b5c43-450c-4f68-9941-0d95ce00df1c",
   "metadata": {},
   "outputs": [],
   "source": [
    "#days,rate,time"
   ]
  },
  {
   "cell_type": "code",
   "execution_count": null,
   "id": "727e8c9d-f531-4827-af36-b19c3c049b45",
   "metadata": {},
   "outputs": [],
   "source": [
    "#time sequence for N events\n",
    "\n",
    "plt.plot(days,rate)"
   ]
  },
  {
   "cell_type": "code",
   "execution_count": null,
   "id": "fe595096-f169-4aa5-92c7-48bb800d1341",
   "metadata": {},
   "outputs": [],
   "source": [
    "plt.plot(days,time)"
   ]
  },
  {
   "cell_type": "code",
   "execution_count": null,
   "id": "f7c96c10-7c93-46a9-b6de-2d797588a4e2",
   "metadata": {},
   "outputs": [],
   "source": []
  }
 ],
 "metadata": {
  "kernelspec": {
   "display_name": "Python 3 (ipykernel)",
   "language": "python",
   "name": "python3"
  },
  "language_info": {
   "codemirror_mode": {
    "name": "ipython",
    "version": 3
   },
   "file_extension": ".py",
   "mimetype": "text/x-python",
   "name": "python",
   "nbconvert_exporter": "python",
   "pygments_lexer": "ipython3",
   "version": "3.10.6"
  }
 },
 "nbformat": 4,
 "nbformat_minor": 5
}
