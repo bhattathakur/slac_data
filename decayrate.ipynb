{
 "cells": [
  {
   "cell_type": "code",
   "execution_count": null,
   "id": "2b2cc67c-2e60-4b60-a4b9-b31feb1797fa",
   "metadata": {},
   "outputs": [],
   "source": [
    "#This program find the decay rate after n days for given activity and also calculates the time required to get number of events for the new rate"
   ]
  },
  {
   "cell_type": "markdown",
   "id": "95e53aff-1ae3-4c50-9157-7c5b22f52550",
   "metadata": {},
   "source": [
    "# DECAY Rate Equation\n",
    "# $ R(t)=R_{0}e^{-\\lambda t} $\n",
    "# $ t_{1/2}=\\frac{ln(2)}{\\lambda} $\n",
    "# $ R(t)=R_{0}e^{-\\frac{ln(2)\\cdot t}{t_{1/2}}} $\n",
    "- $ R_{0} $ (initial rate)\n",
    "- $ R(t)$ (rate after t seconds)\n",
    "- $ T_{1/2} $ (half life)\n",
    "\n"
   ]
  },
  {
   "cell_type": "markdown",
   "id": "5d635137-1616-4520-913a-f93873c4f82b",
   "metadata": {},
   "source": [
    "# Realistic rate approach\n",
    "# $$ R(A) = \\gamma A (1+\\alpha A t)e^{-\\alpha A t }$$\n"
   ]
  },
  {
   "cell_type": "markdown",
   "id": "62f32b99-2cf0-4e6f-8634-6a6b6757b0f3",
   "metadata": {},
   "source": [
    "# STEPS\n",
    "- get optimal rate $R_{0}$ from realistic rate equation (refer: th228rate.ipynb)\n",
    "- get the decay rate after particular time (t) with decay rate equation considering the half life \n",
    "- get R(A) for subsequent rate decay rate R(t) where A is the decay rate using the same $\\gamma$, $\\alpha$, & $t$ used for  optimal equation values"
   ]
  },
  {
   "cell_type": "code",
   "execution_count": null,
   "id": "51288554-a3ad-48ba-94c8-d89df796aae7",
   "metadata": {},
   "outputs": [],
   "source": [
    "import numpy as np\n",
    "import matplotlib.pyplot as plt\n",
    "import pandas as pd\n",
    "import math"
   ]
  },
  {
   "cell_type": "markdown",
   "id": "47388109-b731-41d9-adb2-6fa74b0cb810",
   "metadata": {},
   "source": [
    "# Results from optimal rate"
   ]
  },
  {
   "cell_type": "code",
   "execution_count": null,
   "id": "26b336e2-5892-4e67-a206-56bd25c505f3",
   "metadata": {},
   "outputs": [],
   "source": [
    "alpha  = 0.06819796206\n",
    "beta   = 0.0044755\n",
    "gamma  = 1.768248e-05\n",
    "t = 0.01 #drift time"
   ]
  },
  {
   "cell_type": "code",
   "execution_count": null,
   "id": "c7b64464-32f8-4603-90b5-3454cf3bce61",
   "metadata": {},
   "outputs": [],
   "source": [
    "type(t)"
   ]
  },
  {
   "cell_type": "code",
   "execution_count": null,
   "id": "d63f9e89-c89b-4bfd-a300-475932497642",
   "metadata": {},
   "outputs": [],
   "source": [
    "def get_rate_after(initial_activity,half_life,t):\n",
    "    '''\n",
    "    returns the rate after time t  for given initial activity and half life: half_life\n",
    "    Note: t and half_need to have the same unit\n",
    "    \n",
    "    '''\n",
    "    exp_part=np.exp(- np.log(2)*t/half_life)\n",
    "    return initial_activity*exp_part\n",
    "\n",
    "#function to find the realistic rate\n",
    "def get_realistic_rate(A,gamma,alpha,t):\n",
    "    '''\n",
    "    returns the realistic rate  for given A, alpha, gamma, and t\n",
    "    '''\n",
    "    com=alpha*A*t\n",
    "    exp_part=np.exp(-com)\n",
    "    # print(f\"\"\"\n",
    "    # common  : {com}\n",
    "    # exp_part: {exp_part}\n",
    "    # \"\"\")\n",
    "    #rate=gamma*A*(1+alpha*A*t)*math.exp(-alpha*A*t)\n",
    "    rate=gamma*A*(1+com)*exp_part\n",
    "    #print(f\"rate : {rate}\")\n",
    "    return rate\n",
    "    "
   ]
  },
  {
   "cell_type": "code",
   "execution_count": null,
   "id": "17225aa4-cc3b-481a-9077-05cfb3078e76",
   "metadata": {},
   "outputs": [],
   "source": [
    "get_realistic_rate(200.0,gamma,alpha,t)"
   ]
  },
  {
   "cell_type": "code",
   "execution_count": null,
   "id": "e390729d-5861-4173-b194-7fe1d9e50473",
   "metadata": {},
   "outputs": [],
   "source": [
    "th228_half_life= 1.9116*365            #1.9116 year into days\n",
    "th228_initial_activity=2137.32         #optimal activity from simulation of 5M events\n",
    "\n",
    "\n",
    "print(f\"\"\"\n",
    "Th228 half life       : {th228_half_life} d\n",
    "Th228 optimal activity: {th228_initial_activity} Bq\n",
    "\"\"\")\n",
    "\n"
   ]
  },
  {
   "cell_type": "code",
   "execution_count": null,
   "id": "a7887ebf-471e-4107-b5c4-e2d74de0ef89",
   "metadata": {},
   "outputs": [],
   "source": [
    "#lists\n",
    "\n",
    "yrs=5         #5 years\n",
    "increment_days=1  #increment days\n",
    "\n",
    "\n",
    "\n",
    "days=[];rate=[];time=[]\n",
    "\n",
    "# 5yrs increment by 1 day\n",
    "print(f\"\"\"\n",
    "===================================================\n",
    "Th228 half life       : {th228_half_life} d\n",
    "Th228 optimal activity: {th228_initial_activity} Bq\n",
    "===================================================\n",
    "\"\"\")\n",
    "\n",
    "print(f\"\"\"\n",
    "Total time: {yrs} yrs\n",
    "increment : {increment_days} d\n",
    "\n",
    "\"\"\")\n",
    "for i in range(1,365*yrs,increment_days):\n",
    "    #print(f\"working for {i} days\")\n",
    "    rate_realistic=get_rate_after(th228_initial_activity,th228_half_life,i)\n",
    "    N_events=1000\n",
    "    to_hrs=60*60\n",
    "    t_realistic=N_events/(rate_realistic*to_hrs)\n",
    "    days.append(i);rate.append(rate_realistic);time.append(t_realistic)\n",
    "    if (i-increment_days)/increment_days==0:\n",
    "        print(f\"\"\"\n",
    "        day       : {i} day(s)\n",
    "        decay rate: {rate_realistic} Hz\n",
    "        time      : {t_realistic} hr\n",
    "        \"\"\")"
   ]
  },
  {
   "cell_type": "code",
   "execution_count": null,
   "id": "7b8c07fb-cfad-4eb1-9d24-db7b4475ba0a",
   "metadata": {},
   "outputs": [],
   "source": [
    "#optimal rate\n",
    "optimal_rate=np.array([get_realistic_rate(i,gamma,alpha,t) for i in rate])\n",
    "#optimal_rate=[get_realistic_rate(i,gamma,alpha,time) for i in rate]"
   ]
  },
  {
   "cell_type": "code",
   "execution_count": null,
   "id": "092e521e-7554-4ddf-aa55-afbfbde44bdd",
   "metadata": {},
   "outputs": [],
   "source": []
  },
  {
   "cell_type": "code",
   "execution_count": null,
   "id": "692c41f2-367a-4c0a-bb2b-3690ec9b0c9c",
   "metadata": {},
   "outputs": [],
   "source": [
    "optimal_rate"
   ]
  },
  {
   "cell_type": "code",
   "execution_count": null,
   "id": "c28b5c43-450c-4f68-9941-0d95ce00df1c",
   "metadata": {},
   "outputs": [],
   "source": [
    "df_1=pd.DataFrame()\n",
    "df_1['days(d)']=days\n",
    "df_1['decay_rate(Bq)']=rate\n",
    "df_1['optimal_rate(Hz)']=optimal_rate"
   ]
  },
  {
   "cell_type": "code",
   "execution_count": null,
   "id": "fa3fad49-ee6f-40df-8aa4-4d0ed090d04a",
   "metadata": {},
   "outputs": [],
   "source": [
    "df_1"
   ]
  },
  {
   "cell_type": "code",
   "execution_count": null,
   "id": "06c2c5f6-4531-4abe-8766-0d39e34c6ef0",
   "metadata": {},
   "outputs": [],
   "source": [
    "#df_1['optimal_rate(Hz)']=df_1['decay_rate(Bq)']*gamma*(1+alpha*df_1['decay_rate(Bq)']*A*time)*np.exp(-alpha*df_1['decay_rate(Bq)']*time)\n",
    "df_1['optimal_time(s)']=1/df_1['optimal_rate(Hz)']"
   ]
  },
  {
   "cell_type": "code",
   "execution_count": null,
   "id": "f742e9e3-3b22-45c6-b5f2-32eb585513f5",
   "metadata": {},
   "outputs": [],
   "source": [
    "df_1['100_events_time(hr)']=100*df_1['optimal_time(s)']/(60*60)"
   ]
  },
  {
   "cell_type": "code",
   "execution_count": null,
   "id": "6eb48179-71de-4e72-ae51-59de7f298851",
   "metadata": {},
   "outputs": [],
   "source": [
    "df_1"
   ]
  },
  {
   "cell_type": "code",
   "execution_count": null,
   "id": "0209c6ef-6a14-42d5-b911-9aac9cd3a17a",
   "metadata": {},
   "outputs": [],
   "source": [
    "df_1.head()"
   ]
  },
  {
   "cell_type": "code",
   "execution_count": null,
   "id": "bc0f1112-18a7-4b9a-8e0c-c0095a985300",
   "metadata": {},
   "outputs": [],
   "source": [
    "df_1.tail()"
   ]
  },
  {
   "cell_type": "code",
   "execution_count": null,
   "id": "d057123e-f548-45df-bcda-1c251a739a31",
   "metadata": {},
   "outputs": [],
   "source": [
    "%matplotlib inline\n",
    "df_1['decay_rate(Bq)'].plot()\n"
   ]
  },
  {
   "cell_type": "code",
   "execution_count": null,
   "id": "a1ed2c25-c6d7-4fe3-baff-27102df9e3dd",
   "metadata": {},
   "outputs": [],
   "source": [
    "df_1['optimal_rate(Hz)'].plot()"
   ]
  },
  {
   "cell_type": "code",
   "execution_count": null,
   "id": "96e1ecc2-f84c-463d-9114-26bb3e4f99a8",
   "metadata": {},
   "outputs": [],
   "source": [
    "#%matplotlib qt\n",
    "df_1['100_events_time(hr)'].plot()"
   ]
  },
  {
   "cell_type": "code",
   "execution_count": null,
   "id": "443473fa-1db8-49d2-bab8-1dcb197aabf5",
   "metadata": {},
   "outputs": [],
   "source": []
  }
 ],
 "metadata": {
  "kernelspec": {
   "display_name": "Python 3 (ipykernel)",
   "language": "python",
   "name": "python3"
  },
  "language_info": {
   "codemirror_mode": {
    "name": "ipython",
    "version": 3
   },
   "file_extension": ".py",
   "mimetype": "text/x-python",
   "name": "python",
   "nbconvert_exporter": "python",
   "pygments_lexer": "ipython3",
   "version": "3.10.6"
  }
 },
 "nbformat": 4,
 "nbformat_minor": 5
}
